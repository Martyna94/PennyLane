{
 "cells": [
  {
   "cell_type": "markdown",
   "metadata": {
    "collapsed": true,
    "pycharm": {
     "name": "#%% md\n"
    }
   },
   "source": [
    "## Desperate Measures\n",
    "\n",
    "**Backstory**\n",
    "\n",
    "With the resources available to them, Zenda and Reece decide that one single method is not enough to interfere with the correct functioning of Sqynet, since it can repair itself too quickly. It's time to resort to brute force methods. By firing missiles at the outer shell, they will introduce a considerable amount of depolarizing noise into Sqynet's hardware.\n",
    "\n",
    "**Trotterization of the Heisenberg model**\n",
    "An approximate way to model Sqynet is by considering it as a closed spin chain of length $N$. A spin chain contains particles of spin $1/2$ in each of its $N$ sites. We make this model more realistic by assuming that the spins may be pointing in any direction, and we consider that there may be an external magnetic field acting on the system.\n",
    "When we model a closed spin chain of length $N$ in which spins can point in any direction, we need to use the Heisenberg Hamiltonian. In the presence of an external magnetic field of intensity $h$, the Hamiltonian is given by\n",
    "$$H = - \\sum_{i=1}^{N}(J_xX_i \\otimes X_{i+1} + J_yY_i \\otimes Y_{i+1} + J_zZ_i \\otimes Z_{i+1}) - h\\sum_{i=1}^{N}X_i.$$\n",
    "The subindices $i$ indicate the spin site where the operators act. In a closed spin chain, we identify site $N+1$ with the first site. The coefficients $J_x$,$J_y$  and $J_z$ are known as coupling constants and they measure the strength of the interaction between neighbouring spins.\n",
    "\n",
    "Sqynet's correct functioning relies on it being completely isolated from the environment, to avoid decoherence. Zenda and Reece think that, to tamper with Sqynet's correct functioning, the old way is the best way, so they'll shoot missiles at the tail of the spaceship, where the quantum device is. This will introduce noise into the gates that Sqynet executes.\n",
    "\n",
    "Zenda and Reece need to estimate how the noise affects Hamiltonian evolution. Your task is to build a Trotterization circuit that simulates $U = exp(-iHt)$. This circuit must only contain $RX$,$RY$ ,$RZ$ , and $CNOT$ gates. The missiles will introduce noise on the target qubit of every execution of a CNOT gate. We model this via a Depolarizing Channel with parameter $p$. To quantify the effects of noise, you are asked to find the fidelity between this noisy Trotterization and the noiseless one."
   ]
  },
  {
   "cell_type": "markdown",
   "source": [
    "**Challenge code**\n",
    "You must complete the heisenberg_trotter that implements the Trotterization of the Heisenberg Hamiltonian for $N=4$ using only the following PennyLane gates: qml.RX qml.RY, qml.RZ, qml.CNOT, and qml.DepolarizingChannel. This function will return a quantum state. You should also minimize the number of CNOT gates as much as you can, in order to avoid noise. To verify that the that the Trotterization that you proposed is not excessively noisy, we will calculate for you the fidelity of your output state with respect to the noiseless case using the calculate_fidelity function.\n",
    "\n",
    "**Input**\n",
    "\n",
    "As input to this problem, you are given:\n",
    "\n",
    "* couplings (list(float)): An array of length 4 that contains the coupling constants and the magnetic field strength, in the order $[J_x,J_y,J_z,h]$.\n",
    "* p (float): The depolarization probability on the target qubit after each CNOT gate.\n",
    "* depth (int): The Trotterization depth.\n",
    "* time (float): Time during which the state evolves.\n",
    "\n",
    "**Output**\n",
    "This code will output a float corresponding to the fidelity between the output states of the noisy and noiseless trotterizations, calculated from the output of heisenberg_trotter. The outputs in the test cases correspond to the minimal fidelity that you should achieve if you used a small enough amount of CNOT gates.\n",
    "\n",
    "If your fidelity is larger, up to a tolerance of 0.005, of that specified in the output cases, your solution will be judged as \"Correct!\" Otherwise, you will receive a \"Wrong answer\" prompt."
   ],
   "metadata": {
    "collapsed": false
   }
  },
  {
   "cell_type": "code",
   "source": [
    "import json\n",
    "import pennylane as qml\n",
    "import pennylane.numpy as np\n",
    "\n",
    "num_wires = 4\n",
    "dev = qml.device(\"default.mixed\", wires=num_wires)\n",
    "\n",
    "@qml.qnode(dev)\n",
    "def heisenberg_trotter(couplings, p, time, depth):\n",
    "    \"\"\"This QNode returns the final state of the spin chain after evolution for a time t,\n",
    "    under the Trotter approximation of the exponential of the Heisenberg Hamiltonian.\n",
    "\n",
    "    Args:\n",
    "        couplings (list(float)):\n",
    "            An array of length 4 that contains the coupling constants and the magnetic field\n",
    "            strength, in the order [J_x, J_y, J_z, h].\n",
    "        p (float): The depolarization probability after each CNOT gate.\n",
    "        depth (int): The Trotterization depth.\n",
    "        time (float): Time during which the state evolves\n",
    "\n",
    "    Returns:\n",
    "        (numpy.tensor): The evolved quantum state.\n",
    "    \"\"\"\n",
    "\n",
    "\n",
    "    # Put your code here #\n",
    "    return qml.state()\n",
    "\n",
    "\n",
    "def calculate_fidelity(couplings, p, time, depth):\n",
    "    \"\"\"This function returns the fidelity between the final states of the noisy and\n",
    "    noiseless Trotterizations of the Heisenberg models, using only CNOT and rotation gates\n",
    "\n",
    "    Args:\n",
    "        couplings (list(float)):\n",
    "            A list with the J_x, J_y, J_z and h parameters in the Heisenberg Hamiltonian, as\n",
    "            defined in the problem statement.\n",
    "        p (float): The depolarization probability of the depolarization gate that acts on the\n",
    "                   target qubit of each CNOT gate.\n",
    "        time (float): The period of time evolution simulated by the Trotterization.\n",
    "        depth (int): The Trotterization depth.\n",
    "\n",
    "    Returns:\n",
    "        (float): Fidelity between final states of the noisy and noiseless Trotterizations\n",
    "    \"\"\"\n",
    "    return qml.math.fidelity(heisenberg_trotter(couplings,0,time, depth),heisenberg_trotter(couplings,p,time,depth))\n",
    "\n",
    "\n",
    "# These functions are responsible for testing the solution.\n",
    "def run(test_case_input: str) -> str:\n",
    "\n",
    "    ins = json.loads(test_case_input)\n",
    "    output =calculate_fidelity(*ins)\n",
    "\n",
    "    return str(output)\n",
    "\n",
    "def check(solution_output: str, expected_output: str) -> None:\n",
    "    \"\"\"\n",
    "    Compare solution with expected.\n",
    "\n",
    "    Args:\n",
    "            solution_output: The output from an evaluated solution. Will be\n",
    "            the same type as returned.\n",
    "            expected_output: The correct result for the test case.\n",
    "\n",
    "    Raises:\n",
    "            ``AssertionError`` if the solution output is incorrect in any way.\n",
    "\n",
    "    \"\"\"\n",
    "    def create_hamiltonian(params):\n",
    "\n",
    "        couplings = [-params[-1]]\n",
    "        ops = [qml.PauliX(3)]\n",
    "\n",
    "        for i in range(3):\n",
    "\n",
    "            couplings = [-params[-1]] + couplings\n",
    "            ops = [qml.PauliX(i)] + ops\n",
    "\n",
    "        for i in range(4):\n",
    "\n",
    "            couplings = [-params[-2]] + couplings\n",
    "            ops = [qml.PauliZ(i)@qml.PauliZ((i+1)%4)] + ops\n",
    "\n",
    "        for i in range(4):\n",
    "\n",
    "            couplings = [-params[-3]] + couplings\n",
    "            ops = [qml.PauliY(i)@qml.PauliY((i+1)%4)] + ops\n",
    "\n",
    "        for i in range(4):\n",
    "\n",
    "            couplings = [-params[0]] + couplings\n",
    "            ops = [qml.PauliX(i)@qml.PauliX((i+1)%4)] + ops\n",
    "\n",
    "        return qml.Hamiltonian(couplings,ops)\n",
    "\n",
    "    @qml.qnode(dev)\n",
    "    def evolve(params, time, depth):\n",
    "\n",
    "        qml.ApproxTimeEvolution(create_hamiltonian(params), time, depth)\n",
    "\n",
    "        return qml.state()\n",
    "\n",
    "    solution_output = json.loads(solution_output)\n",
    "    expected_output = json.loads(expected_output)\n",
    "\n",
    "    tape = heisenberg_trotter.qtape\n",
    "    names = [op.name for op in tape.operations]\n",
    "\n",
    "    random_params = np.random.uniform(low = 0.8, high = 3.0, size = (4,) )\n",
    "\n",
    "    assert qml.math.fidelity(heisenberg_trotter(random_params,0,1,2),evolve(random_params,1,2)) >= 1, \"Your circuit does not Trotterize the Heisenberg Model\"\n",
    "\n",
    "    assert names.count('ApproxTimeEvolution') == 0, \"Your circuit must not use the built-in PennyLane Trotterization\"\n",
    "\n",
    "    assert set(names) == {'DepolarizingChannel', 'RX', 'RY', 'RZ', 'CNOT'}, \"Your circuit must only use RX, RY, RZ, CNOT, and depolarizing gates (don't use qml.Rot or Paulis)\"\n",
    "\n",
    "    assert solution_output >= expected_output-0.005, \"Your fidelity is not high enough. You may be using more CNOT gates than needed\"\n",
    "\n",
    "\n",
    "test_cases = [['[[1,2,1,0.3],0.05,2.5,1]', '0.33723981123369573'], ['[[1,3,2,0.3],0.05,2.5,2]', '0.15411351752086694']]\n",
    "\n",
    "for i, (input_, expected_output) in enumerate(test_cases):\n",
    "    print(f\"Running test case {i} with input '{input_}'...\")\n",
    "\n",
    "    try:\n",
    "        output = run(input_)\n",
    "\n",
    "    except Exception as exc:\n",
    "        print(f\"Runtime Error. {exc}\")\n",
    "\n",
    "    else:\n",
    "        if message := check(output, expected_output):\n",
    "            print(f\"Wrong Answer. Have: '{output}'. Want: '{expected_output}'.\")\n",
    "\n",
    "        else:\n",
    "            print(\"Correct!\")"
   ],
   "metadata": {
    "collapsed": false,
    "pycharm": {
     "name": "#%%\n"
    }
   },
   "execution_count": 1,
   "outputs": [
    {
     "name": "stdout",
     "output_type": "stream",
     "text": [
      "Running test case 0 with input '[[1,2,1,0.3],0.05,2.5,1]'...\n"
     ]
    },
    {
     "ename": "AssertionError",
     "evalue": "Your circuit does not Trotterize the Heisenberg Model",
     "output_type": "error",
     "traceback": [
      "\u001B[1;31m---------------------------------------------------------------------------\u001B[0m",
      "\u001B[1;31mAssertionError\u001B[0m                            Traceback (most recent call last)",
      "Input \u001B[1;32mIn [1]\u001B[0m, in \u001B[0;36m<cell line: 123>\u001B[1;34m()\u001B[0m\n\u001B[0;32m    130\u001B[0m     \u001B[38;5;28mprint\u001B[39m(\u001B[38;5;124mf\u001B[39m\u001B[38;5;124m\"\u001B[39m\u001B[38;5;124mRuntime Error. \u001B[39m\u001B[38;5;132;01m{\u001B[39;00mexc\u001B[38;5;132;01m}\u001B[39;00m\u001B[38;5;124m\"\u001B[39m)\n\u001B[0;32m    132\u001B[0m \u001B[38;5;28;01melse\u001B[39;00m:\n\u001B[1;32m--> 133\u001B[0m     \u001B[38;5;28;01mif\u001B[39;00m message \u001B[38;5;241m:=\u001B[39m \u001B[43mcheck\u001B[49m\u001B[43m(\u001B[49m\u001B[43moutput\u001B[49m\u001B[43m,\u001B[49m\u001B[43m \u001B[49m\u001B[43mexpected_output\u001B[49m\u001B[43m)\u001B[49m:\n\u001B[0;32m    134\u001B[0m         \u001B[38;5;28mprint\u001B[39m(\u001B[38;5;124mf\u001B[39m\u001B[38;5;124m\"\u001B[39m\u001B[38;5;124mWrong Answer. Have: \u001B[39m\u001B[38;5;124m'\u001B[39m\u001B[38;5;132;01m{\u001B[39;00moutput\u001B[38;5;132;01m}\u001B[39;00m\u001B[38;5;124m'\u001B[39m\u001B[38;5;124m. Want: \u001B[39m\u001B[38;5;124m'\u001B[39m\u001B[38;5;132;01m{\u001B[39;00mexpected_output\u001B[38;5;132;01m}\u001B[39;00m\u001B[38;5;124m'\u001B[39m\u001B[38;5;124m.\u001B[39m\u001B[38;5;124m\"\u001B[39m)\n\u001B[0;32m    136\u001B[0m     \u001B[38;5;28;01melse\u001B[39;00m:\n",
      "Input \u001B[1;32mIn [1]\u001B[0m, in \u001B[0;36mcheck\u001B[1;34m(solution_output, expected_output)\u001B[0m\n\u001B[0;32m    108\u001B[0m names \u001B[38;5;241m=\u001B[39m [op\u001B[38;5;241m.\u001B[39mname \u001B[38;5;28;01mfor\u001B[39;00m op \u001B[38;5;129;01min\u001B[39;00m tape\u001B[38;5;241m.\u001B[39moperations]\n\u001B[0;32m    110\u001B[0m random_params \u001B[38;5;241m=\u001B[39m np\u001B[38;5;241m.\u001B[39mrandom\u001B[38;5;241m.\u001B[39muniform(low \u001B[38;5;241m=\u001B[39m \u001B[38;5;241m0.8\u001B[39m, high \u001B[38;5;241m=\u001B[39m \u001B[38;5;241m3.0\u001B[39m, size \u001B[38;5;241m=\u001B[39m (\u001B[38;5;241m4\u001B[39m,) )\n\u001B[1;32m--> 112\u001B[0m \u001B[38;5;28;01massert\u001B[39;00m qml\u001B[38;5;241m.\u001B[39mmath\u001B[38;5;241m.\u001B[39mfidelity(heisenberg_trotter(random_params,\u001B[38;5;241m0\u001B[39m,\u001B[38;5;241m1\u001B[39m,\u001B[38;5;241m2\u001B[39m),evolve(random_params,\u001B[38;5;241m1\u001B[39m,\u001B[38;5;241m2\u001B[39m)) \u001B[38;5;241m>\u001B[39m\u001B[38;5;241m=\u001B[39m \u001B[38;5;241m1\u001B[39m, \u001B[38;5;124m\"\u001B[39m\u001B[38;5;124mYour circuit does not Trotterize the Heisenberg Model\u001B[39m\u001B[38;5;124m\"\u001B[39m\n\u001B[0;32m    114\u001B[0m \u001B[38;5;28;01massert\u001B[39;00m names\u001B[38;5;241m.\u001B[39mcount(\u001B[38;5;124m'\u001B[39m\u001B[38;5;124mApproxTimeEvolution\u001B[39m\u001B[38;5;124m'\u001B[39m) \u001B[38;5;241m==\u001B[39m \u001B[38;5;241m0\u001B[39m, \u001B[38;5;124m\"\u001B[39m\u001B[38;5;124mYour circuit must not use the built-in PennyLane Trotterization\u001B[39m\u001B[38;5;124m\"\u001B[39m\n\u001B[0;32m    116\u001B[0m \u001B[38;5;28;01massert\u001B[39;00m \u001B[38;5;28mset\u001B[39m(names) \u001B[38;5;241m==\u001B[39m {\u001B[38;5;124m'\u001B[39m\u001B[38;5;124mDepolarizingChannel\u001B[39m\u001B[38;5;124m'\u001B[39m, \u001B[38;5;124m'\u001B[39m\u001B[38;5;124mRX\u001B[39m\u001B[38;5;124m'\u001B[39m, \u001B[38;5;124m'\u001B[39m\u001B[38;5;124mRY\u001B[39m\u001B[38;5;124m'\u001B[39m, \u001B[38;5;124m'\u001B[39m\u001B[38;5;124mRZ\u001B[39m\u001B[38;5;124m'\u001B[39m, \u001B[38;5;124m'\u001B[39m\u001B[38;5;124mCNOT\u001B[39m\u001B[38;5;124m'\u001B[39m}, \u001B[38;5;124m\"\u001B[39m\u001B[38;5;124mYour circuit must only use RX, RY, RZ, CNOT, and depolarizing gates (don\u001B[39m\u001B[38;5;124m'\u001B[39m\u001B[38;5;124mt use qml.Rot or Paulis)\u001B[39m\u001B[38;5;124m\"\u001B[39m\n",
      "\u001B[1;31mAssertionError\u001B[0m: Your circuit does not Trotterize the Heisenberg Model"
     ]
    }
   ]
  },
  {
   "cell_type": "code",
   "execution_count": null,
   "outputs": [],
   "source": [],
   "metadata": {
    "collapsed": false,
    "pycharm": {
     "name": "#%%\n"
    }
   }
  }
 ],
 "metadata": {
  "kernelspec": {
   "display_name": "Python 3",
   "language": "python",
   "name": "python3"
  },
  "language_info": {
   "codemirror_mode": {
    "name": "ipython",
    "version": 2
   },
   "file_extension": ".py",
   "mimetype": "text/x-python",
   "name": "python",
   "nbconvert_exporter": "python",
   "pygments_lexer": "ipython2",
   "version": "2.7.6"
  }
 },
 "nbformat": 4,
 "nbformat_minor": 0
}