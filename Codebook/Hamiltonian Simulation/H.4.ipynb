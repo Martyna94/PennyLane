{
 "cells": [
  {
   "cell_type": "code",
   "execution_count": 2,
   "outputs": [],
   "source": [
    "import numpy as np\n",
    "import pennylane as qml"
   ],
   "metadata": {
    "collapsed": false,
    "pycharm": {
     "name": "#%%\n"
    }
   }
  },
  {
   "cell_type": "markdown",
   "source": [
    "![circuit](./images/H.4.1.1.png)"
   ],
   "metadata": {
    "collapsed": false
   }
  },
  {
   "cell_type": "markdown",
   "source": [
    "**Codercise H.4.1.** Implement the circuit drawn above, allowing for the specification of an initial computational basis state.\n",
    "\n",
    "Tip. Try using [qml.BasisState](https://docs.pennylane.ai/en/stable/code/api/pennylane.BasisState.html) to prepare the basis state."
   ],
   "metadata": {
    "collapsed": false
   }
  },
  {
   "cell_type": "code",
   "execution_count": 3,
   "outputs": [],
   "source": [
    "n_bits = 2\n",
    "dev = qml.device(\"default.qubit\", wires=n_bits)\n",
    "\n",
    "@qml.qnode(dev)\n",
    "def zz_circuit(alpha, time, init):\n",
    "    \"\"\"Circuit for evolving two electrons with a ZZ interaction.\n",
    "\n",
    "    Args:\n",
    "        alpha (float): The strength of the interaction.\n",
    "        time (float): The time we evolve the electron wavefunction for.\n",
    "        init (numpy.array(int)): An initial state specified by two bits [x, y]. Prepare the\n",
    "            system in this state prior to applying the time evolution circuit.\n",
    "\n",
    "    Returns:\n",
    "        array[float]: Probabilities for observing different outcomes.\n",
    "    \"\"\"\n",
    "    hbar = 1e-34\n",
    "\n",
    "    qml.BasisState(init, wires=range(n_bits))\n",
    "    qml.CNOT([0,1])\n",
    "    qml.RZ(2*alpha*time/hbar, wires=1)\n",
    "    qml.CNOT([0,1])\n",
    "\n",
    "    return qml.probs(wires=range(n_bits))"
   ],
   "metadata": {
    "collapsed": false,
    "pycharm": {
     "name": "#%%\n"
    }
   }
  },
  {
   "cell_type": "markdown",
   "source": [
    "Physically speaking, this setup naturally arises if we have a lattice of electrons which interact only with each other and not with a background magnetic field. Sometimes, the interaction means they want to anti-align, i.e., the energy will be lowered when adjacent electrons have spins in opposite directions. Thus, the graph problem is a natural generalization of a single tiny bar magnet!"
   ],
   "metadata": {
    "collapsed": false
   }
  },
  {
   "cell_type": "markdown",
   "source": [],
   "metadata": {
    "collapsed": false
   }
  },
  {
   "cell_type": "markdown",
   "source": [
    "**Codercise H.4.2.**\n",
    "(a) Complete the following code to construct the Hamiltonian. The remaining code defines a circuit `energy(init)` which gives the energy expectation in a basis state `init`."
   ],
   "metadata": {
    "collapsed": false,
    "pycharm": {
     "name": "#%% md\n"
    }
   }
  },
  {
   "cell_type": "code",
   "execution_count": 5,
   "outputs": [],
   "source": [
    "n_bits = 5\n",
    "dev = qml.device(\"default.qubit\", wires=n_bits)\n",
    "\n",
    "obs = [qml.PauliZ(0) @ qml.PauliZ(1), qml.PauliZ(1) @ qml.PauliZ(2), qml.PauliZ(1)@qml.PauliZ(3), qml.PauliZ(3) @ qml.PauliZ(4)]\n",
    "coeffs = [1 for _ in obs]\n",
    "H = qml.Hamiltonian(coeffs, obs)\n",
    "\n",
    "\n",
    "@qml.qnode(dev)\n",
    "def energy(init):\n",
    "    \"\"\"Circuit for measuring expectation value of Hamiltonian in a given state.\n",
    "\n",
    "    Args:\n",
    "        init (numpy.array(int)): An initial computational basis state, specified by five bits.\n",
    "\n",
    "    Returns:\n",
    "        float: Expectation value of the Hamiltonian H.\n",
    "    \"\"\"\n",
    "    qml.BasisState(init, wires=range(n_bits))\n",
    "    return qml.expval(H)"
   ],
   "metadata": {
    "collapsed": false,
    "pycharm": {
     "name": "#%%\n"
    }
   }
  },
  {
   "cell_type": "markdown",
   "source": [
    "The ground state minimizes the energy. If the graph is bipartite, then we can \"colour\" the nodes with states $\\Ket{0}$ and $\\Ket{1}$ so that any pair has distinct states on either end and the edge contributes $-1$ to the energy. Thus, the ground state energy will be $-4$ just in case the graph is bipartite, and higher otherwise.\n",
    "\n",
    "(b) Determine the two ground states and check they give the expected energy."
   ],
   "metadata": {
    "collapsed": false
   }
  },
  {
   "cell_type": "code",
   "execution_count": 9,
   "outputs": [
    {
     "name": "stdout",
     "output_type": "stream",
     "text": [
      "The expected energy for [0 1 0 0 1] is -4.0 .\n",
      "The expected energy for [1 0 1 1 0] is -4.0 .\n"
     ]
    }
   ],
   "source": [
    "my_guess1 = np.array([0,1,0,0,1])\n",
    "my_guess2 = np.array([1,0,1,1,0])\n",
    "\n",
    "print(\"The expected energy for\", my_guess1, \"is\", energy(my_guess1), \".\")\n",
    "print(\"The expected energy for\", my_guess2, \"is\", energy(my_guess2), \".\")"
   ],
   "metadata": {
    "collapsed": false,
    "pycharm": {
     "name": "#%%\n"
    }
   }
  },
  {
   "cell_type": "code",
   "execution_count": null,
   "outputs": [],
   "source": [],
   "metadata": {
    "collapsed": false,
    "pycharm": {
     "name": "#%%\n"
    }
   }
  }
 ],
 "metadata": {
  "kernelspec": {
   "display_name": "Python 3",
   "language": "python",
   "name": "python3"
  },
  "language_info": {
   "codemirror_mode": {
    "name": "ipython",
    "version": 2
   },
   "file_extension": ".py",
   "mimetype": "text/x-python",
   "name": "python",
   "nbconvert_exporter": "python",
   "pygments_lexer": "ipython2",
   "version": "2.7.6"
  }
 },
 "nbformat": 4,
 "nbformat_minor": 0
}