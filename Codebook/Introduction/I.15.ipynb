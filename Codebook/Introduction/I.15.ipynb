{
 "cells": [
  {
   "cell_type": "markdown",
   "metadata": {
    "collapsed": true,
    "pycharm": {
     "name": "#%% md\n"
    }
   },
   "source": [
    "**Learning outcomes**\n",
    "\n",
    "* Prove why we cannot design a quantum circuit that can clone arbitrary states.\n",
    "* Describe the quantum teleportation protocol."
   ]
  },
  {
   "cell_type": "code",
   "execution_count": 4,
   "outputs": [],
   "source": [
    "import numpy as np\n",
    "import pennylane as qml"
   ],
   "metadata": {
    "collapsed": false,
    "pycharm": {
     "name": "#%%\n"
    }
   }
  },
  {
   "cell_type": "markdown",
   "source": [
    "**Codercise I.15.1.** (a) Prepare your favourite single-qubit quantum state on the first qubit in the `state_preparation` function below. It can be anything, as long as it's a single qubit state (you can even leave the function as-is, or make it parametrized!).\n",
    "\n",
    "Note that this quantum function will be used as a subroutine; therefore you do not need to return a measurement or create a QNode."
   ],
   "metadata": {
    "collapsed": false
   }
  },
  {
   "cell_type": "code",
   "execution_count": null,
   "outputs": [],
   "source": [
    "def state_preparation(phi, theta, omega):\n",
    "\n",
    "    # OPTIONALLY UPDATE THIS STATE PREPARATION ROUTINE\n",
    "\n",
    "    qml.Hadamard(wires=0)\n",
    "    qml.Rot(phi,theta,omega, wires = 0)"
   ],
   "metadata": {
    "collapsed": false,
    "pycharm": {
     "name": "#%%\n"
    }
   }
  },
  {
   "cell_type": "markdown",
   "source": [
    "(b) Run your circuit below to see the state you will teleport. If you made a custom state preparation function, please copy it down from the cell above and use it as a replacement for the `state_preparation` function below."
   ],
   "metadata": {
    "collapsed": false
   }
  },
  {
   "cell_type": "code",
   "execution_count": 3,
   "outputs": [
    {
     "name": "stdout",
     "output_type": "stream",
     "text": [
      "[0.61930934-0.13273109j 0.75978977+0.14682614j]\n"
     ]
    }
   ],
   "source": [
    "dev = qml.device(\"default.qubit\", wires=1)\n",
    "\n",
    "# OPTIONALLY REPLACE THIS STATE PREPARATION ROUTINE WITH\n",
    "# THE ONE FROM THE PREVIOUS EXERCISE\n",
    "\n",
    "def state_preparation(phi, theta, omega):\n",
    "\n",
    "    # OPTIONALLY UPDATE THIS STATE PREPARATION ROUTINE\n",
    "\n",
    "    qml.Hadamard(wires=0)\n",
    "    qml.Rot(phi,theta,omega, wires = 0)\n",
    "\n",
    "\n",
    "@qml.qnode(dev)\n",
    "def state_prep_only():\n",
    "    state_preparation(phi = 0.1, theta=0.2, omega=0.3)\n",
    "    return qml.state()\n",
    "\n",
    "print(state_prep_only())"
   ],
   "metadata": {
    "collapsed": false,
    "pycharm": {
     "name": "#%%\n"
    }
   }
  },
  {
   "cell_type": "markdown",
   "source": [
    "**Codercise I.15.2.**\n",
    "Write a quantum function that prepares a shared entangled state on the second and third qubits.\n",
    "\n",
    "Recall the teleportation circuit looks like this:\n",
    "![circuit](./images/I.15.2.1.png)\n",
    "This function will also be used as a subroutine, so you do not need to return any measurements."
   ],
   "metadata": {
    "collapsed": false,
    "pycharm": {
     "name": "#%% md\n"
    }
   }
  },
  {
   "cell_type": "code",
   "execution_count": 5,
   "outputs": [],
   "source": [
    "def entangle_qubits():\n",
    "    #ENTANGLE THE SECOND QUBIT (WIRES=1) AND THE THIRD QUBIT\n",
    "    qml.Hadamard(wires=1)\n",
    "    qml.CNOT(wires=[1,2])"
   ],
   "metadata": {
    "collapsed": false,
    "pycharm": {
     "name": "#%%\n"
    }
   }
  },
  {
   "cell_type": "markdown",
   "source": [
    "**Codercise I.15.3.**\n",
    "Implement a quantum function, `rotate_and_controls`, that performs both a change of basis, and the controlled gates at the end circuit.\n",
    "![circuit](./images/I.15.2.1.png)\n",
    "\n",
    "NOte that the `rotate_and_controls` function does not a return a measurement here; this is because when we put all the subroutines together in the full teleportation protocol, we will need that quantum function to return a measurement in order to be bound into a QNode.\n"
   ],
   "metadata": {
    "collapsed": false
   }
  },
  {
   "cell_type": "code",
   "execution_count": 6,
   "outputs": [],
   "source": [
    "def rotate_and_controls():\n",
    "    # PERFORM THE BASIS ROTATION\n",
    "    qml.CNOT(wires=[0,1])\n",
    "    qml.Hadamard(wires=0)\n",
    "\n",
    "    # PERFORM THE CONTROLLED OPERATIONS\n",
    "    qml.CNOT(wires=[1,2])\n",
    "    qml.CZ(wires=[0,2])"
   ],
   "metadata": {
    "collapsed": false,
    "pycharm": {
     "name": "#%%\n"
    }
   }
  },
  {
   "cell_type": "markdown",
   "source": [
    "**Codercise I.15.4**\n",
    "Put everything together: create a QNode that will execute your teleportation procedure, and return the quantum state!\n",
    "All three of the quantum functions you wrote in the previous exercises are available here to use: `state_preparation`, `entangle_qubits`, and `rotate_and_controls`. Feel free though to use your modified version of `state_preparation`, if you prefer."
   ],
   "metadata": {
    "collapsed": false
   }
  },
  {
   "cell_type": "code",
   "execution_count": 7,
   "outputs": [
    {
     "name": "stdout",
     "output_type": "stream",
     "text": [
      "[0.30965467-0.06636554j 0.37989488+0.07341307j 0.30965467-0.06636554j\n",
      " 0.37989488+0.07341307j 0.30965467-0.06636554j 0.37989488+0.07341307j\n",
      " 0.30965467-0.06636554j 0.37989488+0.07341307j]\n"
     ]
    }
   ],
   "source": [
    "dev = qml.device(\"default.qubit\", wires=3)\n",
    "\n",
    "@qml.qnode(dev)\n",
    "def teleportation():\n",
    "\n",
    "    # USE YOUR QUANTUM FUNCTIONS TO IMPLEMENT QUANTUM TELEPORTATION\n",
    "    state_preparation(0.1,0.2,0.3)\n",
    "    entangle_qubits()\n",
    "    rotate_and_controls()\n",
    "    # RETURN THE STATE\n",
    "    return qml.state()\n",
    "\n",
    "\n",
    "print(teleportation())"
   ],
   "metadata": {
    "collapsed": false,
    "pycharm": {
     "name": "#%%\n"
    }
   }
  },
  {
   "cell_type": "markdown",
   "source": [
    "Something looks funny here - the output state we see here is a 3-qubit state. How can we determine the state of the third qubit to check whether it was correctly teleported?"
   ],
   "metadata": {
    "collapsed": false
   }
  },
  {
   "cell_type": "markdown",
   "source": [
    "**Codercise.I.15.5**\n",
    "By working through the theoretical action of the circuit (see the accompanying text node for details), you can show that the combined state of the three qubits together after the procedure is\n",
    "![circuit](./images/I.15.5.1.png)\n",
    "\n",
    "With this knowledge, write a function that takes a state vector as input, and outputs the state of the third qubit as a two-element vector. Does it match the original state above?"
   ],
   "metadata": {
    "collapsed": false
   }
  },
  {
   "cell_type": "code",
   "execution_count": 8,
   "outputs": [
    {
     "name": "stdout",
     "output_type": "stream",
     "text": [
      "[tensor(0.61930934-0.13273109j, requires_grad=True), tensor(0.75978977+0.14682614j, requires_grad=True)]\n"
     ]
    }
   ],
   "source": [
    "def extract_qubit_state(input_state):\n",
    "    \"\"\"Extract the state of the third qubit from the combined state after teleportation.\n",
    "\n",
    "    Args:\n",
    "        input_state (array[complex]): A 3-qubit state of the form\n",
    "            (1/2)(|00> + |01> + |10> + |11>) (a|0> + b|1>)\n",
    "            obtained from the teleportation protocol.\n",
    "\n",
    "    Returns:\n",
    "        array[complex]: The state vector np.array([a, b]) of the third qubit.\n",
    "    \"\"\"\n",
    "    # DETERMINE THE STATE OF THE THIRD QUBIT\n",
    "    third_qubit = [input_state[0],input_state[1]]\n",
    "    third_qubit = [2 * i for i in third_qubit]\n",
    "\n",
    "    return third_qubit\n",
    "\n",
    "\n",
    "# Here is the teleportation routine for you\n",
    "dev = qml.device(\"default.qubit\", wires=3)\n",
    "\n",
    "\n",
    "# OPTIONALLY UPDATE THIS STATE PREPARATION ROUTINE\n",
    "def state_preparation():\n",
    "    qml.Hadamard(wires=0)\n",
    "    qml.Rot(0.1, 0.2, 0.3, wires=0)\n",
    "\n",
    "\n",
    "@qml.qnode(dev)\n",
    "def teleportation():\n",
    "    state_preparation()\n",
    "    entangle_qubits()\n",
    "    rotate_and_controls()\n",
    "    return qml.state()\n",
    "\n",
    "# Print the extracted state after teleportation\n",
    "full_state = teleportation()\n",
    "print(extract_qubit_state(full_state))"
   ],
   "metadata": {
    "collapsed": false,
    "pycharm": {
     "name": "#%%\n"
    }
   }
  },
  {
   "cell_type": "code",
   "execution_count": null,
   "outputs": [],
   "source": [],
   "metadata": {
    "collapsed": false,
    "pycharm": {
     "name": "#%%\n"
    }
   }
  }
 ],
 "metadata": {
  "kernelspec": {
   "display_name": "Python 3",
   "language": "python",
   "name": "python3"
  },
  "language_info": {
   "codemirror_mode": {
    "name": "ipython",
    "version": 2
   },
   "file_extension": ".py",
   "mimetype": "text/x-python",
   "name": "python",
   "nbconvert_exporter": "python",
   "pygments_lexer": "ipython2",
   "version": "2.7.6"
  }
 },
 "nbformat": 4,
 "nbformat_minor": 0
}