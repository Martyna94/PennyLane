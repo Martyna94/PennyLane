{
 "cells": [
  {
   "cell_type": "markdown",
   "metadata": {
    "collapsed": true,
    "pycharm": {
     "name": "#%% md\n"
    }
   },
   "source": [
    "## Tutorial #3 - Shor's 9-qubit-code"
   ]
  },
  {
   "cell_type": "markdown",
   "source": [
    "Quantum computational advantage — the ability of quantum computers to perform certain tasks faster than the best classical computers — has now been demonstrated in a number of cases. Arguably, the next big milestone in quantum computing is fault-tolerance for large-scale devices, allowing them to correct errors that crop up as a result of noisy interactions with the environment or between parts of the computer.\n",
    "\n",
    "The early years of quantum error correction yielded several ground-breaking protocols, none more famous than Peter Shor's 9-qubit-code, pictured below.\n",
    "![Peter Shor's 9-qubit](./images/3.%20Shor's%209-qubit-code_1.png)\n",
    "In this challenge, you will implement Shor's code for an arbitrary initial state $\\Ket{\\psi}$ that is subject to an error."
   ],
   "metadata": {
    "collapsed": false,
    "pycharm": {
     "name": "#%% md\n"
    }
   }
  },
  {
   "cell_type": "markdown",
   "source": [
    "**Challenge code**\n",
    "In the code below, you are given a couple functions:\n",
    "* `shor`: a QNode that contains the operations required to define Shor's code given an initial `state` and an `error` occuring in the middle of the circuit. It must output the expectation value of the Pauli Z operator on each qubit. You must complete this function.\n",
    "* `error`: this function contains the error operator that will be introduced into the circuit you create with `shor`. The possible errors are Pauli X, Y, and Z errors (see error_dict). To call this within shor, simply write error(error_key, qubit) and it will apply the error!\n",
    "\n",
    "Here are some helpful resources:\n",
    "* [Shor code](https://en.wikipedia.org/wiki/Quantum_error_correction#Shor_code)\n",
    "* [Quantum error correction](https://en.wikipedia.org/wiki/Quantum_error_correction)\n",
    "\n",
    "**Input**\n",
    "As input to this problem, you are given:\n",
    "* `state` (`list(float)`): defines the initial one-qubit state $\\Ket{\\psi}$. The remaining 8 qubits are initialized in the $\\Ket{0}$ state.\n",
    "* error_key (int): an integer corresponding to a Pauli X, Y, or Z error. See error_dict.\n",
    "* qubit (int): an integer corresponding to which qubit the error will occur on.\n",
    "\n",
    "**Output**\n",
    "This code must output a list(float) corresponding to the expectation values of the Pauli Z operator on every qubit.\n",
    "\n",
    "If your solution matches the correct one within the given tolerance specified in check (in this case it's a 1e-4 relative error tolerance), the output will be \"Correct!\" Otherwise, you will receive a \"Wrong answer\" prompt.\n",
    "\n",
    "Good luck!"
   ],
   "metadata": {
    "collapsed": false
   }
  },
  {
   "cell_type": "code",
   "execution_count": 1,
   "outputs": [],
   "source": [
    "import json\n",
    "import pennylane as qml\n",
    "import pennylane.numpy as np"
   ],
   "metadata": {
    "collapsed": false,
    "pycharm": {
     "name": "#%%\n"
    }
   }
  },
  {
   "cell_type": "code",
   "execution_count": 27,
   "outputs": [],
   "source": [
    "n_qubits = 9\n",
    "dev = qml.device(\"default.qubit\", wires=n_qubits)\n",
    "error_dict = {0: 'PauliX', 1: 'PauliY', 2: 'PauliZ'}\n",
    "\n",
    "def error(error_key, qubit):\n",
    "    \"\"\"Defines the error that is induced in the circuit.\n",
    "\n",
    "    Args:\n",
    "        error_key (int): An integer associated to the type of error (Pauli X, Y, or Z)\n",
    "        qubit (int): The qubit that the error occurs on.\n",
    "    \"\"\"\n",
    "    getattr(qml, error_dict[error_key])(qubit)\n",
    "\n",
    "@qml.qnode(dev)\n",
    "def shor(state, error_key, qubit):\n",
    "    \"\"\"A circuit defining Shor's code for error correction.\n",
    "\n",
    "    Args:\n",
    "        state (list(float)): The quantum state of the first qubit in the circuit.\n",
    "        error_key (int): An integer associated to the type of error (Pauli X, Y, or Z)\n",
    "        qubit (int): The qubit that the error occurs on.\n",
    "\n",
    "    Returns:\n",
    "        (list(float)): The expectation value of the Pauli Z operator on every qubit.\n",
    "    \"\"\"\n",
    "    qml.QubitStateVector(np.array(state), wires=0)\n",
    "\n",
    "    # circuit\n",
    "    qml.CNOT(wires=[0,3])\n",
    "    qml.CNOT(wires=[0,6])\n",
    "    qml.broadcast(qml.Hadamard,wires=[0,3,6],pattern='single')\n",
    "    qml.broadcast(qml.CNOT, wires=[0,1,3,4,6,7], pattern='double')\n",
    "    qml.broadcast(qml.CNOT, wires=[0,2,3,5,6,8], pattern='double')\n",
    "\n",
    "    error(error_key,qubit)\n",
    "\n",
    "    qml.broadcast(qml.CNOT, wires=[0,1,3,4,6,7], pattern='double')\n",
    "    qml.broadcast(qml.CNOT, wires=[0,2,3,5,6,8], pattern='double')\n",
    "    qml.Toffoli(wires=[2,1,0])\n",
    "    qml.Toffoli(wires=[5,4,3])\n",
    "    qml.Toffoli(wires=[8,7,6])\n",
    "    qml.broadcast(qml.Hadamard,wires=[0,3,6], pattern='single')\n",
    "    qml.CNOT(wires=[0,3])\n",
    "    qml.CNOT(wires=[0,6])\n",
    "    qml.Toffoli(wires=[6,3,0])\n",
    "\n",
    "    return [qml.expval(qml.PauliZ(wire)) for wire in range(n_qubits)]"
   ],
   "metadata": {
    "collapsed": false,
    "pycharm": {
     "name": "#%%\n"
    }
   }
  },
  {
   "cell_type": "code",
   "execution_count": 28,
   "outputs": [
    {
     "name": "stdout",
     "output_type": "stream",
     "text": [
      "0: ──QubitStateVector(M0)─╭●─╭●──H─╭●─╭●─╭●─╭●─╭X──H────╭●─╭●─╭X─┤  <Z>\n",
      "1: ───────────────────────│──│─────╰X─│──╰X─│──├●───────│──│──│──┤  <Z>\n",
      "2: ───────────────────────│──│────────╰X────╰X─╰●───────│──│──│──┤  <Z>\n",
      "3: ───────────────────────╰X─│───H─╭●─╭●──X─╭●─╭●─╭X──H─╰X─│──├●─┤  <Z>\n",
      "4: ──────────────────────────│─────╰X─│─────╰X─│──├●───────│──│──┤  <Z>\n",
      "5: ──────────────────────────│────────╰X───────╰X─╰●───────│──│──┤  <Z>\n",
      "6: ──────────────────────────╰X──H─╭●─╭●─╭●─╭●─╭X──H───────╰X─╰●─┤  <Z>\n",
      "7: ────────────────────────────────╰X─│──╰X─│──├●────────────────┤  <Z>\n",
      "8: ───────────────────────────────────╰X────╰X─╰●────────────────┤  <Z> \n",
      "\n",
      "[-1.  1.  1.  1. -1. -1.  1.  1.  1.]\n"
     ]
    }
   ],
   "source": [
    "state = [0,1]\n",
    "error_key = 0\n",
    "qubit = 3\n",
    "print(qml.draw(shor)(state, error_key, qubit),'\\n')\n",
    "print(shor(state, error_key, qubit))"
   ],
   "metadata": {
    "collapsed": false,
    "pycharm": {
     "name": "#%%\n"
    }
   }
  },
  {
   "cell_type": "code",
   "execution_count": 29,
   "outputs": [],
   "source": [
    "# These functions are responsible for testing the solution.\n",
    "def run(test_case_input: str) -> str:\n",
    "    state, error_key, qubit = json.loads(test_case_input)\n",
    "    output = shor(state, error_key, qubit).tolist()\n",
    "\n",
    "    return str(output)\n",
    "\n",
    "def check(solution_output: str, expected_output: str) -> None:\n",
    "    solution_output = json.loads(solution_output)\n",
    "    expected_output = json.loads(expected_output)\n",
    "\n",
    "    assert np.allclose(solution_output, expected_output, rtol=1e-4)"
   ],
   "metadata": {
    "collapsed": false,
    "pycharm": {
     "name": "#%%\n"
    }
   }
  },
  {
   "cell_type": "code",
   "execution_count": 30,
   "outputs": [],
   "source": [
    "test_cases = [['[[0, 1], 0, 3]', '[-1.0,  1.0,  1.0,  1.0, -1.0, -1.0,  1.0,  1.0,  1.0]']]"
   ],
   "metadata": {
    "collapsed": false,
    "pycharm": {
     "name": "#%%\n"
    }
   }
  },
  {
   "cell_type": "code",
   "execution_count": 31,
   "outputs": [
    {
     "name": "stdout",
     "output_type": "stream",
     "text": [
      "Running test case 0 with input '[[0, 1], 0, 3]'...\n",
      "Correct!\n"
     ]
    }
   ],
   "source": [
    "for i, (input_, expected_output) in enumerate(test_cases):\n",
    "    print(f\"Running test case {i} with input '{input_}'...\")\n",
    "\n",
    "    try:\n",
    "        output = run(input_)\n",
    "\n",
    "    except Exception as exc:\n",
    "        print(f\"Runtime Error. {exc}\")\n",
    "\n",
    "    else:\n",
    "        if message := check(output, expected_output):\n",
    "            print(f\"Wrong Answer. Have: '{output}'. Want: '{expected_output}'.\")\n",
    "\n",
    "        else:\n",
    "            print(\"Correct!\")"
   ],
   "metadata": {
    "collapsed": false,
    "pycharm": {
     "name": "#%%\n"
    }
   }
  },
  {
   "cell_type": "code",
   "execution_count": null,
   "outputs": [],
   "source": [],
   "metadata": {
    "collapsed": false,
    "pycharm": {
     "name": "#%%\n"
    }
   }
  }
 ],
 "metadata": {
  "kernelspec": {
   "display_name": "Python 3",
   "language": "python",
   "name": "python3"
  },
  "language_info": {
   "codemirror_mode": {
    "name": "ipython",
    "version": 2
   },
   "file_extension": ".py",
   "mimetype": "text/x-python",
   "name": "python",
   "nbconvert_exporter": "python",
   "pygments_lexer": "ipython2",
   "version": "2.7.6"
  }
 },
 "nbformat": 4,
 "nbformat_minor": 0
}