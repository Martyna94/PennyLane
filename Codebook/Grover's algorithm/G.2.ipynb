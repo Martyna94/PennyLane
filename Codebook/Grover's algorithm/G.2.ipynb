{
 "cells": [
  {
   "cell_type": "markdown",
   "metadata": {
    "collapsed": true,
    "pycharm": {
     "name": "#%% md\n"
    }
   },
   "source": [
    "**Learning outcomes**\n",
    "\n",
    "* Describe and manipulate the geometry of Grover search."
   ]
  },
  {
   "cell_type": "code",
   "execution_count": 2,
   "outputs": [],
   "source": [
    "import numpy as np\n",
    "import pennylane as qml"
   ],
   "metadata": {
    "collapsed": false,
    "pycharm": {
     "name": "#%%\n"
    }
   }
  },
  {
   "cell_type": "markdown",
   "source": [
    "Recall that a single Grover step consists in applying the oracle and then the diffusion operator:\n",
    "`grover_op_matrix = np.dot(diffusion_matrix(), oracle_matrix(combo))`"
   ],
   "metadata": {
    "collapsed": false
   }
  },
  {
   "cell_type": "markdown",
   "source": [
    "**Codercise G.2.1.** Create a circuit which runs $G=DU_f$ some specified number of times, and manually set the step number my_steps. The results in the two-dimensional geometry will be displayed for combo = [0, 0, 0, 0, 0]. The oracle and diffusion matrices are defined below, and available by calling oracle_matrix(combo) and diffusion_matrix(). From the plots, confirm that applying the Grover operator rotates the state vector, and determine the optimal number of Grover steps for $n=5$."
   ],
   "metadata": {
    "collapsed": false
   }
  },
  {
   "cell_type": "code",
   "execution_count": 3,
   "outputs": [],
   "source": [
    "n_bits = 5\n",
    "dev = qml.device(\"default.qubit\", wires=n_bits)\n",
    "\n",
    "def oracle_matrix(combo):\n",
    "    \"\"\"Return the oracle matrix for a secret combination.\n",
    "\n",
    "    Args:\n",
    "        combo (list[int]): A list of bits representing a secret combination.\n",
    "\n",
    "    Returns:\n",
    "        array[float]: The matrix representation of the oracle.\n",
    "    \"\"\"\n",
    "    index = np.ravel_multi_index(combo, [2]*len(combo)) # Index of solution\n",
    "    my_array = np.identity(2**len(combo)) # Create the identity matrix\n",
    "    my_array[index, index] = -1\n",
    "    return my_array\n",
    "\n",
    "def diffusion_matrix():\n",
    "    \"\"\"Return the diffusion matrix.\n",
    "\n",
    "    Returns:\n",
    "        array[float]: The matrix representation of the diffusion operator.\n",
    "    \"\"\"\n",
    "    psi_piece = (1/2**n_bits)*np.ones(2**n_bits)\n",
    "    ident_piece = np.eye(2**n_bits)\n",
    "    return (2*psi_piece - ident_piece)\n",
    "\n",
    "@qml.qnode(dev)\n",
    "def grover_circuit(combo, num_steps):\n",
    "    \"\"\"Apply the Grover operator num_steps times to the uniform superposition\n",
    "       and return the state.\n",
    "\n",
    "    Args:\n",
    "        combo (list[int]): A list of bits representing the secret combination.\n",
    "        num_steps (int): The number of iterations of the Grover operator\n",
    "            our circuit is to perform.\n",
    "\n",
    "    Returns:\n",
    "        array[complex]: The quantum state (amplitudes) after repeated Grover\n",
    "        iterations.\n",
    "    \"\"\"\n",
    "    oracle = oracle_matrix(combo)\n",
    "    diffusion = diffusion_matrix()\n",
    "\n",
    "    qml.broadcast(qml.Hadamard, wires=[i for i in range(n_bits)], pattern=\"single\")\n",
    "\n",
    "    for step in range(num_steps):\n",
    "        qml.QubitUnitary(oracle,wires=[i for i in range(n_bits)])\n",
    "        qml.QubitUnitary(diffusion,wires=[i for i in range(n_bits)])\n",
    "\n",
    "    return qml.state()\n",
    "\n",
    "my_steps = 4 # YOUR STEP NUMBER HERE"
   ],
   "metadata": {
    "collapsed": false,
    "pycharm": {
     "name": "#%%\n"
    }
   }
  },
  {
   "cell_type": "code",
   "execution_count": null,
   "outputs": [],
   "source": [],
   "metadata": {
    "collapsed": false,
    "pycharm": {
     "name": "#%%\n"
    }
   }
  }
 ],
 "metadata": {
  "kernelspec": {
   "display_name": "Python 3",
   "language": "python",
   "name": "python3"
  },
  "language_info": {
   "codemirror_mode": {
    "name": "ipython",
    "version": 2
   },
   "file_extension": ".py",
   "mimetype": "text/x-python",
   "name": "python",
   "nbconvert_exporter": "python",
   "pygments_lexer": "ipython2",
   "version": "2.7.6"
  }
 },
 "nbformat": 4,
 "nbformat_minor": 0
}