{
 "cells": [
  {
   "cell_type": "markdown",
   "source": [
    "Challenge statement\n",
    "-----------------------\n",
    "We are located in the Femto forest retreat, an ideal place to be in contact with nature. Normally we organize excursions in the surroundings, but on rainy days we play games in the warmth of the cottage. One of these games is very simple, it consists of counting forests that we observe through the window.\n",
    "\n",
    "We define a forest as a set of trees that are consecutive without any obstacle between them. In the example below, we can find 3 forests separated by stones.\n",
    "![forest_1](./images/RainyDaysAttheForestRetreat_1.png)\n",
    "In this second example, we can only find 2 forests.\n",
    "![forest_2](./images/RainyDaysAtTheForestRetreat_2.png)\n",
    "Our goal will be to use a quantum computer to count the forests!\n",
    "We represent the positions that have a tree with ∣1⟩ and the positions that do not with ∣0⟩. Thus, the first image would correspond to the state ∣ϕ⟩=∣11010010⟩ and the second image corresponds to ∣ϕ⟩=∣00111101⟩. We always have 8 qubits representing the landscape.\n",
    "In this challenge, your goal will be to create an operator U that outputs the parity of the number of forests in an auxiliary register. The output will be ∣0⟩ if it's even and ∣1⟩ if it's odd.\n",
    "![circuit](./images/RainyDaysAtTheForestRetreat_3.png)\n",
    "\n",
    "Challenge code\n",
    "-------------------------\n",
    "Complete the quantum function U so that the output behaves as described in the statement. The function will not return anything, it will simply define the necessary gates. You must return the parity of the forests in the last qubit Note that the total number of qubits in the circuit, including the auxiliary qubit, is 9.\n",
    "\n",
    "Input\n",
    "-------------------\n",
    "List of 1s and 0s (list(int)) representing the forest configuration.\n",
    "\n",
    "Output\n",
    "-------------------\n",
    "1 or 0 (int) corresponding to the parity of the number of forests in the input."
   ],
   "metadata": {
    "collapsed": false
   }
  },
  {
   "cell_type": "code",
   "execution_count": 6,
   "metadata": {
    "collapsed": true
   },
   "outputs": [
    {
     "name": "stdout",
     "output_type": "stream",
     "text": [
      "Running test case 0 with input '[1,0,1,1,0,1,1,1]'...\n",
      "have : 1.0 want: 1\n",
      "Correct!\n",
      "Running test case 1 with input '[0,0,0,0,0,1,0,1]'...\n",
      "have : 0.0 want: 0\n",
      "Correct!\n",
      "Running test case 2 with input '[0,1,1,1,0,1,0,1]'...\n",
      "have : 1.0 want: 1\n",
      "Correct!\n",
      "Running test case 3 with input '[1,1,1,1,1,1,1,1]'...\n",
      "have : 1.0 want: 1\n",
      "Correct!\n"
     ]
    }
   ],
   "source": [
    "import json\n",
    "import pennylane as qml\n",
    "import pennylane.numpy as np\n",
    "\n",
    "def U():\n",
    "    \"\"\"\n",
    "    Creates the gate that checks the parity of the number of forests.\n",
    "    It should not return anything, you simply need to add the gates.\n",
    "    \"\"\"\n",
    "    # Assuming qubits[0] to qubits[7] represent the landscape\n",
    "    # and qubits[8] is the auxiliary qubit for storing the parity of the forest count\n",
    "\n",
    "    # Step 1: Initialize the parity qubit based on the first qubit of the sequence\n",
    "    qml.CNOT(wires=[0, 8])\n",
    "\n",
    "    # Step 2: Loop through the sequence to find transitions indicating a new forest\n",
    "    for i in range(7):\n",
    "        # Identify transition from |0> to |1> or a |1> at the start\n",
    "        # Apply a sequence of gates that flips the auxiliary qubit if a new forest is detected\n",
    "        qml.PauliX(wires=i)\n",
    "        qml.Toffoli(wires=[i, i+1, 8])\n",
    "        qml.PauliX(wires=i)\n",
    "\n",
    "# These functions are responsible for testing the solution.\n",
    "\n",
    "\n",
    "def run(test_case_input: str) -> str:\n",
    "\n",
    "    input = json.loads(test_case_input)\n",
    "    wires_input = [0,1,2,3,4,5,6,7]\n",
    "\n",
    "    dev = qml.device(\"default.qubit\", wires = 10, shots = 10)\n",
    "\n",
    "    @qml.qnode(dev)\n",
    "    def circuit():\n",
    "        qml.BasisEmbedding(input, wires = wires_input)\n",
    "\n",
    "        U()\n",
    "\n",
    "        return qml.probs(wires = 8)\n",
    "\n",
    "    return str(float(circuit()[1]))\n",
    "\n",
    "\n",
    "def check(have: str, want: str) -> None:\n",
    "    print(f\"have : {have} want: {want}\")\n",
    "    assert np.isclose(float(have), float(want)), \"Wrong answer!\"\n",
    "\n",
    "\n",
    "# These are the public test cases\n",
    "test_cases = [\n",
    "    ('[1,0,1,1,0,1,1,1]', '1'),\n",
    "    ('[0,0,0,0,0,1,0,1]', '0'),\n",
    "    ('[0,1,1,1,0,1,0,1]', '1'),\n",
    "    ('[1,1,1,1,1,1,1,1]', '1')\n",
    "]\n",
    "\n",
    "# This will run the public test cases locally\n",
    "for i, (input_, expected_output) in enumerate(test_cases):\n",
    "    print(f\"Running test case {i} with input '{input_}'...\")\n",
    "\n",
    "    try:\n",
    "        output = run(input_)\n",
    "\n",
    "    except Exception as exc:\n",
    "        print(f\"Runtime Error. {exc}\")\n",
    "\n",
    "    else:\n",
    "        if message := check(output, expected_output):\n",
    "            print(f\"Wrong Answer. Have: '{output}'. Want: '{expected_output}'.\")\n",
    "\n",
    "        else:\n",
    "            print(\"Correct!\")"
   ]
  },
  {
   "cell_type": "code",
   "execution_count": null,
   "outputs": [],
   "source": [],
   "metadata": {
    "collapsed": false,
    "pycharm": {
     "name": "#%%\n"
    }
   }
  }
 ],
 "metadata": {
  "kernelspec": {
   "display_name": "Python 3",
   "language": "python",
   "name": "python3"
  },
  "language_info": {
   "codemirror_mode": {
    "name": "ipython",
    "version": 2
   },
   "file_extension": ".py",
   "mimetype": "text/x-python",
   "name": "python",
   "nbconvert_exporter": "python",
   "pygments_lexer": "ipython2",
   "version": "2.7.6"
  }
 },
 "nbformat": 4,
 "nbformat_minor": 0
}