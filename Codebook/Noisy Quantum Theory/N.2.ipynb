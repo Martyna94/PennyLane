{
 "cells": [
  {
   "cell_type": "markdown",
   "source": [
    "Learning outcomes\n",
    "\n",
    "* Explain the effect of applying gates to mixed states.\n",
    "* Determine the measurement probabilities and post-measurement states when measuring a mixed state.\n",
    "* Calculate expectation values for observables on a given mixed state."
   ],
   "metadata": {
    "collapsed": false
   }
  },
  {
   "cell_type": "code",
   "execution_count": 1,
   "outputs": [],
   "source": [
    "import pennylane as qml\n",
    "import pennylane.numpy as np"
   ],
   "metadata": {
    "collapsed": false,
    "pycharm": {
     "name": "#%%\n"
    }
   }
  },
  {
   "cell_type": "markdown",
   "metadata": {
    "collapsed": true,
    "pycharm": {
     "name": "#%% md\n"
    }
   },
   "source": [
    "**Cordercise N.2.1a** The code below intends to calculate the effect of a quantum gate U on a quantum state with density operator rho. Complete the missing lines to compute the resulting density operator after applying U on rho."
   ]
  },
  {
   "cell_type": "code",
   "execution_count": 4,
   "outputs": [
    {
     "name": "stdout",
     "output_type": "stream",
     "text": [
      "A pi/3 RX rotation applied on [[3/4,1/4],[1/4,1/4]] gives:\n",
      "[[0.62+0.j   0.25+0.22j]\n",
      " [0.25-0.22j 0.38+0.j  ]]\n"
     ]
    }
   ],
   "source": [
    "def apply_gate_mixed(rho,U):\n",
    "\n",
    "    \"\"\"\n",
    "    Args:\n",
    "        rho: (np.array(array[complex]): The density matrix of the input state\n",
    "        U (np.array(array[complex])): A matrix representing the unitary gate U to be applied.\n",
    "\n",
    "    Returns:\n",
    "        (np.array([array[complex]])): The density matrix of the output state.\n",
    "    \"\"\"\n",
    "    U_adjoint = np.transpose(np.conjugate(U))\n",
    "    return np.dot(U,np.dot(rho,U_adjoint))\n",
    "\n",
    "U = qml.matrix(qml.RX(np.pi/3,0))\n",
    "rho = np.array([[3/4,1/4],[1/4,1/4]])\n",
    "\n",
    "print(\"A pi/3 RX rotation applied on [[3/4,1/4],[1/4,1/4]] gives:\")\n",
    "print(apply_gate_mixed(rho,U).round(2))\n"
   ],
   "metadata": {
    "collapsed": false,
    "pycharm": {
     "name": "#%%\n"
    }
   }
  },
  {
   "cell_type": "markdown",
   "source": [
    "Cordercise N.2.1b Use PennyLane to complete the circuit apply_gate_circuit below, which does the following:\n",
    "\n",
    "* Prepares a mixed qubit rho. To this end, you can use qml.QubitDensityMatrix.\n",
    "* Applies an arbitrary unitary. You can still use qml.QubitUnitary when working with mixed qubits.\n",
    "* Outputs the density matrix of the resulting quantum state. Since we are use the default.mixed device, qml.state() will do this for us."
   ],
   "metadata": {
    "collapsed": false
   }
  },
  {
   "cell_type": "code",
   "execution_count": 5,
   "outputs": [
    {
     "name": "stdout",
     "output_type": "stream",
     "text": [
      "A pi/3 RX rotation applied on [[3/4,1/4],[1/4,1/4]] gives:\n",
      "[[0.62+0.j   0.25+0.22j]\n",
      " [0.25-0.22j 0.38+0.j  ]]\n"
     ]
    }
   ],
   "source": [
    "dev = qml.device(\"default.mixed\", wires=1)\n",
    "\n",
    "@qml.qnode(dev)\n",
    "def apply_gate_circuit(rho,U):\n",
    "\n",
    "    \"\"\"\n",
    "    Args:\n",
    "        rho: (np.array(array[complex]): The density matrix of the input state.\n",
    "        U (np.array(array[complex])): A matrix representing the unitary gate U to be applied.\n",
    "\n",
    "    Returns:\n",
    "        (np.array([array[complex]])): The density matrix of the output state.\n",
    "    \"\"\"\n",
    "\n",
    "    # Prepare a state with density operator rho\n",
    "    qml.QubitDensityMatrix(rho,wires=0)\n",
    "    # Apply the unitary U\n",
    "    qml.QubitUnitary(U, wires=0)\n",
    "\n",
    "    return qml.state()\n",
    "\n",
    "U = qml.matrix(qml.RX(np.pi/3,0))\n",
    "rho = np.array([[3/4,1/4],[1/4,1/4]])\n",
    "\n",
    "print(\"A pi/3 RX rotation applied on [[3/4,1/4],[1/4,1/4]] gives:\")\n",
    "print(apply_gate_circuit(rho,U).round(2))\n"
   ],
   "metadata": {
    "collapsed": false,
    "pycharm": {
     "name": "#%%\n"
    }
   }
  },
  {
   "cell_type": "markdown",
   "source": [
    "**Cordercise N.2.2a** As we can see in formula $p(k) = tr(\\rho \\pi_k)$, some key ingredients in calculating the probability of getting an eigenvalue  for an observable  are the eigenprojectors . Fill in the eigenprojectors function below which, given an observable obs, calculates its eigenprojectors."
   ],
   "metadata": {
    "collapsed": false
   }
  },
  {
   "cell_type": "markdown",
   "source": [],
   "metadata": {
    "collapsed": false
   }
  },
  {
   "cell_type": "code",
   "execution_count": 11,
   "outputs": [],
   "source": [
    "def eigenprojectors(obs):\n",
    "\n",
    "    \"\"\"\n",
    "    Args:\n",
    "        obs (np.array([array[complex]])): A Hermitian operator representing a quantum observable.\n",
    "\n",
    "    Returns:\n",
    "        (np.array(array[array[complex]])): An array containing the eigenprojectors of the observable.\n",
    "        Therefore, it is an array that contains matrices.\n",
    "    \"\"\"\n",
    "\n",
    "    eigenvalues,eigenvectors = np.linalg.eigh(obs)\n",
    "    projectors = [np.outer(v,np.conj(v).T) for v in eigenvectors]\n",
    "\n",
    "    return projectors"
   ],
   "metadata": {
    "collapsed": false,
    "pycharm": {
     "name": "#%%\n"
    }
   }
  },
  {
   "cell_type": "code",
   "execution_count": 12,
   "outputs": [
    {
     "name": "stdout",
     "output_type": "stream",
     "text": [
      "A pi/3 RX rotation applied on [[3/4,1/4],[1/4,1/4]] gives:\n",
      "[-0.5  0.5]\n",
      "--------\n",
      "[[0. 1.]\n",
      " [1. 0.]]\n",
      "--------\n",
      "[tensor([[0., 0.],\n",
      "        [0., 1.]], requires_grad=True), tensor([[1., 0.],\n",
      "        [0., 0.]], requires_grad=True)]\n"
     ]
    }
   ],
   "source": [
    "U = qml.matrix(qml.RX(np.pi/3,0))\n",
    "rho = np.array([[3/4,1/4],[1/4,1/4]])\n",
    "obs = np.array([[1/2,0],[0,-1/2]])\n",
    "\n",
    "print(eigenprojectors(obs))"
   ],
   "metadata": {
    "collapsed": false,
    "pycharm": {
     "name": "#%%\n"
    }
   }
  },
  {
   "cell_type": "code",
   "execution_count": 14,
   "outputs": [
    {
     "name": "stdout",
     "output_type": "stream",
     "text": [
      "[tensor([[0., 0.],\n",
      "        [0., 1.]], requires_grad=True), tensor([[1., 0.],\n",
      "        [0., 0.]], requires_grad=True)]\n"
     ]
    }
   ],
   "source": [
    "def eigenprojectors(obs):\n",
    "\n",
    "    \"\"\"\n",
    "    Args:\n",
    "        obs (np.array([array[complex]])): A Hermitian operator representing a quantum observable.\n",
    "\n",
    "    Returns:\n",
    "        (np.array(array[array[complex]])): An array containing the eigenprojectors of the observable.\n",
    "        Therefore, it is an array that contains matrices.\n",
    "    \"\"\"\n",
    "\n",
    "    eigenvalues,eigenvectors = np.linalg.eigh(obs)\n",
    "    projectors = [np.outer(v, v.conj()) for v in eigenvectors.T]\n",
    "\n",
    "    return projectors\n",
    "U = qml.matrix(qml.RX(np.pi/3,0))\n",
    "rho = np.array([[3/4,1/4],[1/4,1/4]])\n",
    "obs = np.array([[1/2,0],[0,-1/2]])\n",
    "\n",
    "print(eigenprojectors(obs))"
   ],
   "metadata": {
    "collapsed": false,
    "pycharm": {
     "name": "#%%\n"
    }
   }
  },
  {
   "cell_type": "markdown",
   "source": [
    "**Cordercise N.2.2b** Now it's time to calculate the probabilities. Given a density operator rho and an observable B, complete the outcome_probs function below to return a list probabilities for each eigenprojector. The eigenprojectors function that you defined in Codercise N.2.2a is available for you to use"
   ],
   "metadata": {
    "collapsed": false,
    "pycharm": {
     "name": "#%% md\n"
    }
   }
  },
  {
   "cell_type": "code",
   "execution_count": 20,
   "outputs": [
    {
     "name": "stdout",
     "output_type": "stream",
     "text": [
      "State: [[3/4,0],[0,1/4]], Observable: [[ 0.+0.j -0.-1.j]\n",
      " [ 0.+1.j  0.+0.j]]\n",
      "Measurement probabilities [0.5+0.j 0.5+0.j]\n"
     ]
    }
   ],
   "source": [
    "def outcome_probs(rho, B):\n",
    "\n",
    "    \"\"\"\n",
    "    Args:\n",
    "        rho (np.array([array[complex]])): The density matrix of the state before measurement\n",
    "        B (np.array([array[complex]])): Matrix representation of the measured observable\n",
    "    Returns:\n",
    "        (np.array(float)): List of measurement probabilities, in no particular order.\n",
    "    \"\"\"\n",
    "\n",
    "    eigen_projectors = eigenprojectors(B)\n",
    "\n",
    "    prob_list = np.array([np.trace(rho @ p) for p in eigen_projectors])# Use list comprehension and the relevant formula to find the probabilities\n",
    "\n",
    "    return prob_list\n",
    "\n",
    "rho = np.array([[3/4,0],[0,1/4]])\n",
    "B = qml.matrix(qml.PauliY(0))\n",
    "\n",
    "print(\"State: [[3/4,0],[0,1/4]], Observable: {}\".format(B))\n",
    "print(\"Measurement probabilities {}\".format(outcome_probs(rho,B).round(2)))\n",
    "\n"
   ],
   "metadata": {
    "collapsed": false,
    "pycharm": {
     "name": "#%%\n"
    }
   }
  },
  {
   "cell_type": "markdown",
   "source": [
    "**Codercise N.2.2c** Now that we've got the gist of how the calculation of outcome probabilities works for mixed states, let's simplify our lives by using PennyLane. The circuit mixed_probs_circuit below is intended to carry out the following operations.\n",
    "\n",
    "* Prepare a quantum state with density matrix rho.\n",
    "* Return the probabilities of the measurement outcomes of some observable obs.\n",
    "Note that PennyLane's qml.probs has an optional argument op, which allows you to specify the observable whose probabilities you want to calculate."
   ],
   "metadata": {
    "collapsed": false
   }
  },
  {
   "cell_type": "code",
   "execution_count": 2,
   "outputs": [
    {
     "name": "stdout",
     "output_type": "stream",
     "text": [
      "State: [[3/4,0],[0,1/4]], Observable: [[ 0.+0.j -0.-1.j]\n",
      " [ 0.+1.j  0.+0.j]]\n",
      "Measurement probabilities [0.5 0.5]\n"
     ]
    }
   ],
   "source": [
    "dev = qml.device('default.mixed', wires = 1)\n",
    "\n",
    "@qml.qnode(dev)\n",
    "def mixed_probs_circuit(rho, obs):\n",
    "    \"\"\"\n",
    "    Prepares a state with density matrix rho and returns measurement\n",
    "    probabilities associated to the observable obs.\n",
    "\n",
    "    Args:\n",
    "        rho (np.array[array[complex]]): The density matrix we need to prepare\n",
    "        obs: (pennylane.operation): A PennyLane hermitian operator\n",
    "\n",
    "    Returns:\n",
    "        np.array(float): The measurement probabilities as required\n",
    "    \"\"\"\n",
    "\n",
    "    qml.QubitDensityMatrix(rho,wires=0)\n",
    "\n",
    "    return qml.probs(op=obs)# Return the probabilities associated to obs\n",
    "\n",
    "rho = np.array([[3/4,0],[0,1/4]])\n",
    "B = qml.PauliY(0)\n",
    "\n",
    "print(\"State: [[3/4,0],[0,1/4]], Observable: {}\".format(qml.matrix(B)))\n",
    "print(\"Measurement probabilities {}\".format(mixed_probs_circuit(rho,B)))\n",
    "\n"
   ],
   "metadata": {
    "collapsed": false,
    "pycharm": {
     "name": "#%%\n"
    }
   }
  },
  {
   "cell_type": "code",
   "execution_count": 3,
   "outputs": [],
   "source": [
    "from qiskit.visualization import array_to_latex\n",
    "import qiskit.quantum_info as qi"
   ],
   "metadata": {
    "collapsed": false,
    "pycharm": {
     "name": "#%%\n"
    }
   }
  },
  {
   "cell_type": "code",
   "execution_count": 4,
   "outputs": [
    {
     "data": {
      "text/plain": "<IPython.core.display.Latex object>",
      "text/latex": "$$\n\\rho = \n\\begin{bmatrix}\n\\frac{3}{4} & 0  \\\\\n 0 & \\frac{1}{4}  \\\\\n \\end{bmatrix}\n$$"
     },
     "execution_count": 4,
     "metadata": {},
     "output_type": "execute_result"
    }
   ],
   "source": [
    "rho_matrix = qi.DensityMatrix(rho)\n",
    "rho_matrix.draw('latex', prefix='\\\\rho = ')"
   ],
   "metadata": {
    "collapsed": false,
    "pycharm": {
     "name": "#%%\n"
    }
   }
  },
  {
   "cell_type": "code",
   "execution_count": 5,
   "outputs": [
    {
     "name": "stdout",
     "output_type": "stream",
     "text": [
      "Observable: [[ 0.+0.j -0.-1.j]\n",
      " [ 0.+1.j  0.+0.j]]\n"
     ]
    },
    {
     "data": {
      "text/plain": "<IPython.core.display.Latex object>",
      "text/latex": "$$\nY =\n\\begin{bmatrix}\n0 & - i  \\\\\n i & 0  \\\\\n \\end{bmatrix}\n$$"
     },
     "execution_count": 5,
     "metadata": {},
     "output_type": "execute_result"
    }
   ],
   "source": [
    "print(\"Observable: {}\".format(qml.matrix(B)))\n",
    "Y = qi.Operator(qml.matrix(B))\n",
    "array_to_latex(Y.data, prefix='Y =')"
   ],
   "metadata": {
    "collapsed": false,
    "pycharm": {
     "name": "#%%\n"
    }
   }
  },
  {
   "cell_type": "markdown",
   "source": [
    "**Cordercise N.2.3a** Given a density operator rho and an observable B, write a function mixed_expval that calculates the expectation value $\\Braket{B}$ using numpy's linear algebra capabilities.\n"
   ],
   "metadata": {
    "collapsed": false
   }
  },
  {
   "cell_type": "code",
   "execution_count": 6,
   "outputs": [
    {
     "name": "stdout",
     "output_type": "stream",
     "text": [
      "State: [[0.75 0.  ]\n",
      " [0.   0.25]]\n",
      "Observable: [[ 1  0]\n",
      " [ 0 -1]]\n",
      "Expectation value: 0.5\n"
     ]
    }
   ],
   "source": [
    "def mixed_expval(rho, B):\n",
    "\n",
    "    \"\"\"\n",
    "    Returns the expectation value of the observable B on state rho\n",
    "\n",
    "    Args:\n",
    "        rho (np.array(array(float)): A numpy matrix representing a density matrix\n",
    "        B (np.array(array(complex))): A numpy matrix representing an observable\n",
    "\n",
    "    Returns:\n",
    "        float: The expectation value as required\n",
    "    \"\"\"\n",
    "    matrix = np.dot(rho,B)\n",
    "\n",
    "    return np.trace(matrix)\n",
    "\n",
    "rho = np.array([[3/4,0],[0,1/4]])\n",
    "B = qml.matrix(qml.PauliZ(0))\n",
    "\n",
    "print(\"State: {}\".format(rho))\n",
    "print(\"Observable: {}\".format(B))\n",
    "print(\"Expectation value: {}\".format(mixed_expval(rho,B)))\n"
   ],
   "metadata": {
    "collapsed": false,
    "pycharm": {
     "name": "#%%\n"
    }
   }
  },
  {
   "cell_type": "markdown",
   "source": [
    "**Cordercise N.2.3b** Now let's do the same using PennyLane! Given a state rho and an observable B, build a quantum circuit `expval_circuit` that prepares the state $\\rho$ and returns the expectation value of B. You will need `qml.expval` to do this."
   ],
   "metadata": {
    "collapsed": false
   }
  },
  {
   "cell_type": "code",
   "execution_count": null,
   "outputs": [],
   "source": [
    "dev = qml.device('default.mixed', wires = 1)\n",
    "\n",
    "@qml.qnode(dev)\n",
    "def expval_circuit(rho,obs):\n",
    "\n",
    "    \"\"\"\n",
    "    Returns the expectation value of the observable obs on state rho\n",
    "\n",
    "    Args:\n",
    "        rho (np.array(array(float)): A numpy matrix representing a density matrix\n",
    "        B (pennylane.operation): A pennylane observable\n",
    "\n",
    "    Returns:\n",
    "        np.tensor: A numpy tensor with the expectation value as required\n",
    "    \"\"\"\n",
    "    qml.QubitDensityMatrix(rho,wires=[0])\n",
    "\n",
    "    return qml.expval(B)\n",
    "\n",
    "rho = np.array([[3/4,0],[0,1/4]])\n",
    "B = qml.PauliZ(0)\n",
    "\n",
    "print(\"State: {}\".format(rho))\n",
    "print(\"Observable: {}\".format(qml.matrix(B)))\n",
    "print(\"Expectation value: {}\".format(expval_circuit(rho,B)))\n",
    "\n",
    "\n"
   ],
   "metadata": {
    "collapsed": false,
    "pycharm": {
     "name": "#%%\n"
    }
   }
  }
 ],
 "metadata": {
  "kernelspec": {
   "display_name": "Python 3",
   "language": "python",
   "name": "python3"
  },
  "language_info": {
   "codemirror_mode": {
    "name": "ipython",
    "version": 2
   },
   "file_extension": ".py",
   "mimetype": "text/x-python",
   "name": "python",
   "nbconvert_exporter": "python",
   "pygments_lexer": "ipython2",
   "version": "2.7.6"
  }
 },
 "nbformat": 4,
 "nbformat_minor": 0
}