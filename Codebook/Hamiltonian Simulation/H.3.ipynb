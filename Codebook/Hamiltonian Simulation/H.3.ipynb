{
 "cells": [
  {
   "cell_type": "markdown",
   "metadata": {
    "collapsed": true,
    "pycharm": {
     "name": "#%% md\n"
    }
   },
   "source": [
    "**Learning outcomes**\n",
    "\n",
    "* Define a Hamiltonian and explain what it means with respect to a quantum system.\n",
    "* Compute unitary evolution for a simple, single-qubit physical system."
   ]
  },
  {
   "cell_type": "code",
   "source": [
    "import numpy as np\n",
    "import pennylane as qml"
   ],
   "metadata": {
    "collapsed": false,
    "pycharm": {
     "name": "#%%\n"
    }
   },
   "execution_count": 7,
   "outputs": []
  },
  {
   "cell_type": "markdown",
   "source": [
    "More specifically, the unitaries $U$ evolving a quantum system arise from a special operator $\\hat{H}$ called the **Hamiltonian**, which measures the system's energy. According to **Schrödinger's equation**, for a system with Hamiltonian $\\hat{H}$, the corresponding unitary evolving it for a time $t$ is\n",
    "$$U = e^{-i\\hat{H}/\\hbar}$$\n",
    "where $\\hbar \\approx 10^{34} J*S$ is Planck's (reduced) constant."
   ],
   "metadata": {
    "collapsed": false
   }
  },
  {
   "cell_type": "markdown",
   "source": [
    "When we say the little magnet \"likes to align\", what we really mean is the energy of the system is lower when the little magnet is aligned. This is captured by the Hamiltonian:\n",
    "![equation](./images/H.3.1.1.png)\n",
    ", where $Z$ is a Pauli $Z$, $e = 1.6$ x $10^{-19} C$ is the charge of electron, and $m_e = 9.1$ x {10^31} kg its mass. We've lumped some of the constants into $\\alpha = eB/2m_e$ for convenience.\n",
    "\n",
    "More general:\n",
    "![equation](./images/H.3.1.2.png)"
   ],
   "metadata": {
    "collapsed": false
   }
  },
  {
   "cell_type": "code",
   "execution_count": 6,
   "outputs": [],
   "source": [
    "def unitary_check(operator):\n",
    "    \"\"\"Checks if a complex-valued matrix is unitary.\n",
    "\n",
    "    Args:\n",
    "        operator (array[complex]): A square complex-valued array.\n",
    "\n",
    "    Returns:\n",
    "        bool: Whether the matrix is unitary or not.\n",
    "    \"\"\"\n",
    "    adjoint = np.transpose(np.conjugate(operator))\n",
    "    check = False\n",
    "\n",
    "    #operator @ adjoint\n",
    "    left = np.matmul(operator,adjoint)\n",
    "    check =  np.allclose(left, np.identity(len(operator)))\n",
    "\n",
    "    right = np.matmul(adjoint,operator)\n",
    "    check = np.allclose(right, np.identity(len(operator)))\n",
    "\n",
    "    return check"
   ],
   "metadata": {
    "collapsed": false,
    "pycharm": {
     "name": "#%%\n"
    }
   }
  },
  {
   "cell_type": "markdown",
   "source": [
    "**Codercise H.3.1.** (a) Complete the code to build the unitary above. We can verify the output is unitary using *unitary_check*.\n",
    "* $e^{i\\alpha t Z}\\Ket{0} = e^{i\\alpha t}\\Ket{0} $\n",
    "* $e^{i\\alpha t Z}\\Ket{1} = e^{-i\\alpha t}\\Ket{1} $"
   ],
   "metadata": {
    "collapsed": false
   }
  },
  {
   "cell_type": "code",
   "execution_count": 15,
   "outputs": [
    {
     "name": "stdout",
     "output_type": "stream",
     "text": [
      "The output is unitary for B = 0.1 and t = 0.6 .\n"
     ]
    }
   ],
   "source": [
    "def mag_z_unitary(B, time):\n",
    "    \"\"\"Creates a unitary operator to evolve the state of an electron in\n",
    "    a magnetic field.\n",
    "\n",
    "    Args:\n",
    "        B (float): The strength of the field, assumed to point in the z direction.\n",
    "        time (float): The time (t) we evolve the electron state for.\n",
    "\n",
    "    Returns:\n",
    "        array[complex]: The unitary matrix implementing time evolution.\n",
    "    \"\"\"\n",
    "    e = 1.6e-19\n",
    "    m_e = 9.1e-31\n",
    "    alpha = B*e/(2*m_e)\n",
    "\n",
    "    matrix = np.array([[0, 0j], [0, 0j]]) # CHANGE THIS\n",
    "\n",
    "   # matrix[0,0] = math.cos(alpha * t) + (1j * math.sin(alpha*t))\n",
    "   # matrix[1,1] = math.cos(alpha*t) - (1j * math.sin(alpha*t))\n",
    "\n",
    "    matrix[0][0] = np.exp(1j * alpha * t)\n",
    "    matrix[1][1] = np.exp(-1j * alpha * t)\n",
    "    return matrix\n",
    "\n",
    "B, t = 0.1, 0.6\n",
    "if unitary_check(mag_z_unitary(B, t)):\n",
    "    print(\"The output is unitary for B =\", B, \"and t =\", t, \".\")"
   ],
   "metadata": {
    "collapsed": false,
    "pycharm": {
     "name": "#%%\n"
    }
   }
  },
  {
   "cell_type": "markdown",
   "source": [
    "(b) Write a circuit which evolves the bar magnet in a magnetic field for time $t$, starting in state $\\Ket{0}$ and applying the unitary you constructed in the previous exercise. The `mag_z_unitary` function is available for you to use."
   ],
   "metadata": {
    "collapsed": false,
    "pycharm": {
     "name": "#%% md\n"
    }
   }
  },
  {
   "cell_type": "code",
   "execution_count": 17,
   "outputs": [],
   "source": [
    "dev = qml.device(\"default.qubit\", wires=1)\n",
    "\n",
    "@qml.qnode(dev)\n",
    "def mag_z_0_v1(B, time):\n",
    "    \"\"\"Simulates an electron (initial state |0>) in a magnetic field, using a\n",
    "    unitary matrix.\n",
    "\n",
    "    Args:\n",
    "        B (float): The strength of the field, assumed to point in the z direction.\n",
    "        time (float): The time we evolve the electron state for.\n",
    "\n",
    "    Returns:\n",
    "        array[complex]: The state of the system after evolution.\n",
    "    \"\"\"\n",
    "    qml.QubitUnitary(mag_z_unitary(B,time), wires=0)\n",
    "\n",
    "    return qml.state()"
   ],
   "metadata": {
    "collapsed": false,
    "pycharm": {
     "name": "#%%\n"
    }
   }
  },
  {
   "cell_type": "markdown",
   "source": [
    "(c) Rewrite the circuit from part (b) using PennyLane's `qml.RZ` method, and check it gives the same state for a given pair of parameter values.\n",
    "\n",
    "Tip. Recall that $R_{z}(\\phi) = e^{-i\\phi Z/2}$, so $e^{i\\alpha tZ} = R_{z}(-2\\alpha t) $."
   ],
   "metadata": {
    "collapsed": false
   }
  },
  {
   "cell_type": "code",
   "execution_count": 18,
   "outputs": [
    {
     "name": "stdout",
     "output_type": "stream",
     "text": [
      "The two circuits give the same answer!\n"
     ]
    }
   ],
   "source": [
    "dev = qml.device(\"default.qubit\", wires=1)\n",
    "\n",
    "@qml.qnode(dev)\n",
    "def mag_z_0_v2(B, time):\n",
    "    \"\"\"Simulates an electron (initial state |0>) in a magnetic field, using a\n",
    "    Z rotation.\n",
    "\n",
    "    Args:\n",
    "        B (float): The strength of the field, assumed to point in the z direction.\n",
    "        time (float): The time we evolve the electron state for.\n",
    "\n",
    "    Returns:\n",
    "        array[complex]: The state of the system after evolution.\n",
    "    \"\"\"\n",
    "    e = 1.6e-19\n",
    "    m_e = 9.1e-31\n",
    "    alpha = B*e/(2*m_e)\n",
    "\n",
    "    qml.RZ(-2 * alpha * t, wires=0)\n",
    "    return qml.state()\n",
    "\n",
    "B, t = 0.1, 0.6\n",
    "if np.allclose(mag_z_0_v1(B, t), mag_z_0_v2(B, t)):\n",
    "    print(\"The two circuits give the same answer!\")"
   ],
   "metadata": {
    "collapsed": false,
    "pycharm": {
     "name": "#%%\n"
    }
   }
  },
  {
   "cell_type": "markdown",
   "source": [
    "So, we've seen how to take something physical, turns its evolution into a mathematical expression, and then to do the same thing on a quantum computer!\n",
    "\n",
    "(d) Hitting the submit button will plot the real and imaginary parts of $\\Bra{\\psi(t)}\\Ket{0}$ separately, where $\\Ket{\\psi(t)} = e^{i\\alpha tZ}\\Ket{0}$. What do you think is happening to the state of the bar magnet as it evolves over time?"
   ],
   "metadata": {
    "collapsed": false,
    "pycharm": {
     "name": "#%% md\n"
    }
   }
  },
  {
   "cell_type": "markdown",
   "source": [
    "![plot1](./images/H.3.1.3.png)\n",
    "![plot2](./images/H.3.1.4.png)\n"
   ],
   "metadata": {
    "collapsed": false
   }
  },
  {
   "cell_type": "markdown",
   "source": [
    "The real and imaginary parts are varying sinusoidally, and out of phase. This suggests that $\\Bra{\\psi(t)}\\Ket{0} = e^{i\\Theta t}$ is simply rotating around the unit circle in the complex plane, for some parameter $\\Theta$. In other words, the amplitude for $\\Ket{0}$ simply picks up a phase as time evolves.\n"
   ],
   "metadata": {
    "collapsed": false
   }
  },
  {
   "cell_type": "markdown",
   "source": [
    "(e) Finally, write a circuit (using the $Z$ rotation) which evolves a qubit starting in state $\\Ket{+}$. From the plots of $\\Braket{X}$ and $\\Braket{Y}$, what do you think is happening?"
   ],
   "metadata": {
    "collapsed": false
   }
  },
  {
   "cell_type": "code",
   "execution_count": 19,
   "outputs": [],
   "source": [
    "dev = qml.device(\"default.qubit\", wires=1)\n",
    "\n",
    "def evolve_plus_state(B, time):\n",
    "    \"\"\"Simulates an electron (initial state |+>) in a magnetic field.\n",
    "\n",
    "    Args:\n",
    "        B (float): The strength of the field, assumed to point in the z direction.\n",
    "        time (float): The time we evolve the electron state for.\n",
    "    \"\"\"\n",
    "    e = 1.6e-19\n",
    "    m_e = 9.1e-31\n",
    "    alpha = B*e/(2*m_e)\n",
    "\n",
    "    qml.Hadamard(wires=0)\n",
    "    qml.RZ(-2 * alpha * time, wires=0)\n",
    "\n",
    "@qml.qnode(dev)\n",
    "def mag_z_plus_X(B, time):\n",
    "    \"\"\"Simulates an electron (initial state |+>) in a magnetic field and returns <X>.\n",
    "\n",
    "    Args:\n",
    "        B (float): The strength of the field, assumed to point in the z direction.\n",
    "        time (float): The time we evolve the electron state for.\n",
    "\n",
    "    Returns:\n",
    "        float: Expectation value for the Pauli X operator.\n",
    "    \"\"\"\n",
    "    evolve_plus_state(B, time)\n",
    "    return qml.expval(qml.PauliX(0))\n",
    "\n",
    "@qml.qnode(dev)\n",
    "def mag_z_plus_Y(B, time):\n",
    "    \"\"\"Simulates an electron (initial state |+>) in a magnetic field and returns <Y>.\n",
    "\n",
    "    Args:\n",
    "        B (float): The strength of the field, assumed to point in the z direction.\n",
    "        time (float): The time we evolve the electron state for.\n",
    "\n",
    "    Returns:\n",
    "        float: Expectation value for the Pauli X operator.\n",
    "    \"\"\"\n",
    "    evolve_plus_state(B, time)\n",
    "    return qml.expval(qml.PauliY(0))"
   ],
   "metadata": {
    "collapsed": false,
    "pycharm": {
     "name": "#%%\n"
    }
   }
  },
  {
   "cell_type": "markdown",
   "source": [
    "![X - measure](./images/H.3.1.5.png)\n",
    "![Y - measure](./images/H.3.1.6.png)"
   ],
   "metadata": {
    "collapsed": false
   }
  },
  {
   "cell_type": "markdown",
   "source": [
    "The plots of $\\Braket{X}$ and $\\Braket{Y}$ are oscillating and out of of phase, just like the real and imaginary components of $\\Bra{\\psi(t)}\\Ket{0}$. This suggests that they too are components of a vector on a circle, but now this is the spin vector itself rather than a complex number. We picture this below:\n",
    "![spin outcome](./images/H.3.1.7.png)\n"
   ],
   "metadata": {
    "collapsed": false
   }
  },
  {
   "cell_type": "markdown",
   "source": [
    "In general, the spin vector will rotate around the $z$-axis in a mation called *Larmor precession*"
   ],
   "metadata": {
    "collapsed": false
   }
  },
  {
   "cell_type": "code",
   "execution_count": null,
   "outputs": [],
   "source": [],
   "metadata": {
    "collapsed": false,
    "pycharm": {
     "name": "#%%\n"
    }
   }
  }
 ],
 "metadata": {
  "kernelspec": {
   "display_name": "Python 3",
   "language": "python",
   "name": "python3"
  },
  "language_info": {
   "codemirror_mode": {
    "name": "ipython",
    "version": 2
   },
   "file_extension": ".py",
   "mimetype": "text/x-python",
   "name": "python",
   "nbconvert_exporter": "python",
   "pygments_lexer": "ipython2",
   "version": "2.7.6"
  }
 },
 "nbformat": 4,
 "nbformat_minor": 0
}