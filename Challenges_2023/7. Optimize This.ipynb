{
 "cells": [
  {
   "cell_type": "markdown",
   "metadata": {
    "collapsed": true,
    "pycharm": {
     "name": "#%% md\n"
    }
   },
   "source": [
    "## Tutorial #7 - Quantum machine learning\n",
    "\n",
    "Quantum machine learning is an area of research that explores the interplay between quantum computing and machine learning. Quantum machine learning models might offer significant speedups for performing certain tasks like classification, image processing, and regression.\n",
    "\n",
    "In this challenge, you'll learn the meat and potatoes of training a quantum machine learning model. Specifically, you will implement a procedure for embedding classical numbers into a quantum computer, construct a simple quantum machine learning model, and perform three optimization steps. The quantum circuit in the model that you will implement looks like this:\n",
    "![circuit](./images/7.%20Optimize%20This_1.png)"
   ]
  },
  {
   "cell_type": "markdown",
   "source": [
    "**Challenge code**\n",
    "In the code below, you must complete the following functions:\n",
    "* three_optimization_steps: performs three optimization steps. You must complete this function.\n",
    "* cost: this is within the three_optimization_steps function. You must complete this function. cost is a QNode that does a few things:\n",
    "    * acts on 3 qubits only;\n",
    "    * embeds the input data via [amplitude embedding](https://docs.pennylane.ai/en/stable/code/api/pennylane.AmplitudeEmbedding.html);\n",
    "    * defines some differentiable gates via a template called [qml.BasicEntanglerLayers](https://docs.pennylane.ai/en/stable/code/api/pennylane.BasicEntanglerLayers.html); and\n",
    "    * returns the expectation value of $\\sum_{i=1}^{n} Z_i$, where $n$ is the number of qubits.\n",
    "\n",
    "\n",
    "Within the three_optimization_steps function is a variable called weights. These are the changeable parameters that help define the qml.BasicEntanglerLayers template that you must put in the cost function. weights are the parameters that will be optimized (and need to be referred to by this name due to the final call return cost(weights, data=data), which cannot be edited).\n",
    "\n",
    "To perform three optimization steps, use a gradient decent optimizer — qml.GradientDescentOptimizer — with a step size of 0.01.\n",
    "\n",
    "Here are some helpful resources:\n",
    "\n",
    "* [Optimizing a quantum circuit — YouTube video](https://www.youtube.com/watch?v=TiQ7T1h8VAQ)\n",
    "* [Basic tutorial: qubit rotation — Optimization](https://pennylane.ai/qml/demos/tutorial_qubit_rotation.html#optimization)"
   ],
   "metadata": {
    "collapsed": false
   }
  },
  {
   "cell_type": "markdown",
   "source": [
    "**Input**\n",
    "As input to this problem, you are given classical data (list(float)) that you must embed into a quantum circuit via [amplitude embedding](https://docs.pennylane.ai/en/stable/code/api/pennylane.AmplitudeEmbedding.html).\n",
    "\n",
    "**Output**\n",
    "This code must output the evaluation of cost after three optimization steps have been performed."
   ],
   "metadata": {
    "collapsed": false
   }
  },
  {
   "cell_type": "code",
   "execution_count": 16,
   "outputs": [
    {
     "name": "stdout",
     "output_type": "stream",
     "text": [
      "Running test case 0 with input '[1.0, 2.0, 3.0, 4.0, 5.0, 6.0, 7.0, 8.0]'...\n",
      "Correct!\n"
     ]
    }
   ],
   "source": [
    "import json\n",
    "import pennylane as qml\n",
    "import pennylane.numpy as np\n",
    "\n",
    "def three_optimization_steps(data):\n",
    "    \"\"\"Performs three optimization steps on a quantum machine learning model.\n",
    "\n",
    "    Args:\n",
    "        data (list(float)): Classical data that is to be embedded in a quantum circuit.\n",
    "\n",
    "    Returns:\n",
    "        (float): The cost function evaluated after three optimization steps.\n",
    "    \"\"\"\n",
    "\n",
    "    normalize = np.sqrt(np.sum(data[i] ** 2 for i in range(len(data))))\n",
    "    data /= normalize\n",
    "\n",
    "    dev = qml.device(\"default.qubit\", wires=3)\n",
    "\n",
    "    @qml.qnode(dev)\n",
    "    def cost(weights, data=data):\n",
    "        \"\"\"A circuit that embeds classical data and has quantum gates with tunable parameters/weights.\n",
    "\n",
    "        Args:\n",
    "            weights (numpy.array): An array of tunable parameters that help define the gates needed.\n",
    "\n",
    "        Kwargs:\n",
    "            data (list(float)): Classical data that is to be embedded in a quantum circuit.\n",
    "\n",
    "        Returns:\n",
    "            (float): The expectation value of the sum of the Pauli Z operator on every qubit.\n",
    "        \"\"\"\n",
    "\n",
    "\n",
    "        qml.AmplitudeEmbedding(features=data,wires=range(3),normalize=True)\n",
    "        qml.BasicEntanglerLayers(weights = weights,wires=range(3))\n",
    "\n",
    "        return qml.expval(qml.sum(*[qml.PauliZ(wire) for wire in range(3)]))\n",
    "\n",
    "\n",
    "    # initialize the weights\n",
    "    shape = qml.BasicEntanglerLayers.shape(n_layers=2, n_wires=3)\n",
    "    weights = np.array([0.1, 0.2, 0.3, 0.4, 0.5, 0.6], requires_grad=True).reshape(\n",
    "        shape\n",
    "    )\n",
    "\n",
    "\n",
    "    # Define a gradient descent optimizer with a step size of 0.01\n",
    "    opt = qml.GradientDescentOptimizer(stepsize=0.01)\n",
    "    # Optimize the cost function for three steps\n",
    "    for epoch in range(3):\n",
    "        weights = opt.step(cost,weights)\n",
    "\n",
    "    return cost(weights, data=data)\n",
    "\n",
    "\n",
    "# These functions are responsible for testing the solution.\n",
    "def run(test_case_input: str) -> str:\n",
    "    data = json.loads(test_case_input)\n",
    "    cost_val = three_optimization_steps(data)\n",
    "    return str(cost_val)\n",
    "\n",
    "def check(solution_output: str, expected_output: str) -> None:\n",
    "    solution_output = json.loads(solution_output)\n",
    "    expected_output = json.loads(expected_output)\n",
    "    assert np.allclose(solution_output, expected_output, rtol=1e-4)\n",
    "\n",
    "\n",
    "test_cases = [['[1.0, 2.0, 3.0, 4.0, 5.0, 6.0, 7.0, 8.0]', '0.066040']]\n",
    "\n",
    "for i, (input_, expected_output) in enumerate(test_cases):\n",
    "    print(f\"Running test case {i} with input '{input_}'...\")\n",
    "\n",
    "    try:\n",
    "        output = run(input_)\n",
    "\n",
    "    except Exception as exc:\n",
    "        print(f\"Runtime Error. {exc}\")\n",
    "\n",
    "    else:\n",
    "        if message := check(output, expected_output):\n",
    "            print(f\"Wrong Answer. Have: '{output}'. Want: '{expected_output}'.\")\n",
    "\n",
    "        else:\n",
    "            print(\"Correct!\")"
   ],
   "metadata": {
    "collapsed": false,
    "pycharm": {
     "name": "#%%\n"
    }
   }
  },
  {
   "cell_type": "code",
   "execution_count": null,
   "outputs": [],
   "source": [],
   "metadata": {
    "collapsed": false,
    "pycharm": {
     "name": "#%%\n"
    }
   }
  }
 ],
 "metadata": {
  "kernelspec": {
   "display_name": "Python 3",
   "language": "python",
   "name": "python3"
  },
  "language_info": {
   "codemirror_mode": {
    "name": "ipython",
    "version": 2
   },
   "file_extension": ".py",
   "mimetype": "text/x-python",
   "name": "python",
   "nbconvert_exporter": "python",
   "pygments_lexer": "ipython2",
   "version": "2.7.6"
  }
 },
 "nbformat": 4,
 "nbformat_minor": 0
}