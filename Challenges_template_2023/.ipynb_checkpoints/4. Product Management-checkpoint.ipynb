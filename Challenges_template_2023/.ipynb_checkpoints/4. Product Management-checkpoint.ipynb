{
 "cells": [
  {
   "cell_type": "markdown",
   "metadata": {
    "collapsed": true,
    "pycharm": {
     "name": "#%% md\n"
    }
   },
   "source": [
    "## Tutorial #4 - Product states"
   ]
  },
  {
   "cell_type": "markdown",
   "source": [
    "Entanglement is a quantum phenomenon that leads to unique statistical properties. We can harness it to do seemingly far-fetched tasks like quantum teleportation!\n",
    "\n",
    "Given a multi-qubit pure state (i.e., does not need to be described by a density operator), the presence of entanglement boils down to whether or not the state is a product state. Given a two-qubit state where the qubits are labelled by  and , a general pure quantum state can be written as\n",
    "$$\\Ket{\\psi}_{AB} = \\sum_{i,j}\\Ket{i}_A \\otimes \\Ket{j}_B$$\n",
    "$\\Ket{\\psi}_{AB}$ is said to be a product state for subsystems $A$ and $B$ if it can be written as a tensor product\n",
    "$$\\Ket{\\psi}_{AB} =\\Ket{\\psi}_A \\otimes \\Ket{\\psi}_B$$\n",
    "For example, the well-known Bell states cannot be written as product states between the two qubits.\n",
    "\n",
    "Your job is to create a function that can tell whether or not a pure state can be written as a product state between a subsystem and its complement (e.g., if $A$ is the subsystem, then $B=\\tilde{A}$, meaning that system $B$ is the set of qubits that are not in $A$)."
   ],
   "metadata": {
    "collapsed": false,
    "pycharm": {
     "name": "#%% md\n"
    }
   }
  },
  {
   "cell_type": "markdown",
   "source": [
    "**Challenge code**\n",
    "In the code below, you are given a function called is_product. This function will output \"yes\" or \"no\" correspondingly. You must complete this function.\n",
    "Here are some helpful resources:\n",
    "\n",
    "* [Separable quantum states](https://en.wikipedia.org/wiki/Separable_state)\n",
    "* [qml.density_matrix](https://docs.pennylane.ai/en/stable/code/api/pennylane.density_matrix.html)"
   ],
   "metadata": {
    "collapsed": false
   }
  },
  {
   "cell_type": "markdown",
   "source": [
    "**Input**\n",
    "As input to this problem, you are given:\n",
    "\n",
    "* state (list(float)): this defines  (pure quantum state in question).\n",
    "* subsystem (list(int)): the subsystem that defines the subsystem of qubits  and . I.e., the two groups of qubits that you will determine if a state can be written as a product state.\n",
    "* wires (list(int)): the wire labels associated to the qubit state of interest.\n"
   ],
   "metadata": {
    "collapsed": false
   }
  },
  {
   "cell_type": "code",
   "execution_count": 2,
   "outputs": [
    {
     "ename": "ImportError",
     "evalue": "cannot import name 'bsr_array' from 'scipy.sparse' (C:\\Users\\marty\\anaconda3\\lib\\site-packages\\scipy\\sparse\\__init__.py)",
     "output_type": "error",
     "traceback": [
      "\u001B[1;31m---------------------------------------------------------------------------\u001B[0m",
      "\u001B[1;31mImportError\u001B[0m                               Traceback (most recent call last)",
      "Input \u001B[1;32mIn [2]\u001B[0m, in \u001B[0;36m<cell line: 2>\u001B[1;34m()\u001B[0m\n\u001B[0;32m      1\u001B[0m \u001B[38;5;28;01mimport\u001B[39;00m \u001B[38;5;21;01mjson\u001B[39;00m\n\u001B[1;32m----> 2\u001B[0m \u001B[38;5;28;01mimport\u001B[39;00m \u001B[38;5;21;01mpennylane\u001B[39;00m \u001B[38;5;28;01mas\u001B[39;00m \u001B[38;5;21;01mqml\u001B[39;00m\n",
      "File \u001B[1;32m~\\anaconda3\\lib\\site-packages\\pennylane\\__init__.py:132\u001B[0m, in \u001B[0;36m<module>\u001B[1;34m\u001B[0m\n\u001B[0;32m    129\u001B[0m \u001B[38;5;28;01mfrom\u001B[39;00m \u001B[38;5;21;01mpennylane\u001B[39;00m\u001B[38;5;21;01m.\u001B[39;00m\u001B[38;5;21;01minterfaces\u001B[39;00m \u001B[38;5;28;01mimport\u001B[39;00m execute  \u001B[38;5;66;03m# pylint:disable=wrong-import-order\u001B[39;00m\n\u001B[0;32m    130\u001B[0m \u001B[38;5;28;01mimport\u001B[39;00m \u001B[38;5;21;01mpennylane\u001B[39;00m\u001B[38;5;21;01m.\u001B[39;00m\u001B[38;5;21;01mlogging\u001B[39;00m  \u001B[38;5;66;03m# pylint:disable=wrong-import-order\u001B[39;00m\n\u001B[1;32m--> 132\u001B[0m \u001B[38;5;28;01mimport\u001B[39;00m \u001B[38;5;21;01mpennylane\u001B[39;00m\u001B[38;5;21;01m.\u001B[39;00m\u001B[38;5;21;01mdata\u001B[39;00m\n\u001B[0;32m    134\u001B[0m \u001B[38;5;66;03m# Look for an existing configuration file\u001B[39;00m\n\u001B[0;32m    135\u001B[0m default_config \u001B[38;5;241m=\u001B[39m Configuration(\u001B[38;5;124m\"\u001B[39m\u001B[38;5;124mconfig.toml\u001B[39m\u001B[38;5;124m\"\u001B[39m)\n",
      "File \u001B[1;32m~\\anaconda3\\lib\\site-packages\\pennylane\\data\\__init__.py:197\u001B[0m, in \u001B[0;36m<module>\u001B[1;34m\u001B[0m\n\u001B[0;32m      1\u001B[0m \u001B[38;5;66;03m# Copyright 2018-2023 Xanadu Quantum Technologies Inc.\u001B[39;00m\n\u001B[0;32m      2\u001B[0m \n\u001B[0;32m      3\u001B[0m \u001B[38;5;66;03m# Licensed under the Apache License, Version 2.0 (the \"License\");\u001B[39;00m\n\u001B[1;32m   (...)\u001B[0m\n\u001B[0;32m     12\u001B[0m \u001B[38;5;66;03m# See the License for the specific language governing permissions and\u001B[39;00m\n\u001B[0;32m     13\u001B[0m \u001B[38;5;66;03m# limitations under the License.\u001B[39;00m\n\u001B[0;32m     14\u001B[0m \u001B[38;5;124;03m\"\"\"The data subpackage provides functionality to access, store and manipulate `quantum datasets <https://pennylane.ai/datasets>`_.\u001B[39;00m\n\u001B[0;32m     15\u001B[0m \n\u001B[0;32m     16\u001B[0m \u001B[38;5;124;03m.. note::\u001B[39;00m\n\u001B[1;32m   (...)\u001B[0m\n\u001B[0;32m    194\u001B[0m \n\u001B[0;32m    195\u001B[0m \u001B[38;5;124m\"\"\"\u001B[39m\n\u001B[1;32m--> 197\u001B[0m \u001B[38;5;28;01mfrom\u001B[39;00m \u001B[38;5;21;01m.\u001B[39;00m\u001B[38;5;21;01mattributes\u001B[39;00m \u001B[38;5;28;01mimport\u001B[39;00m (\n\u001B[0;32m    198\u001B[0m     DatasetArray,\n\u001B[0;32m    199\u001B[0m     DatasetDict,\n\u001B[0;32m    200\u001B[0m     DatasetJSON,\n\u001B[0;32m    201\u001B[0m     DatasetList,\n\u001B[0;32m    202\u001B[0m     DatasetMolecule,\n\u001B[0;32m    203\u001B[0m     DatasetNone,\n\u001B[0;32m    204\u001B[0m     DatasetOperator,\n\u001B[0;32m    205\u001B[0m     DatasetScalar,\n\u001B[0;32m    206\u001B[0m     DatasetSparseArray,\n\u001B[0;32m    207\u001B[0m     DatasetString,\n\u001B[0;32m    208\u001B[0m     DatasetTuple,\n\u001B[0;32m    209\u001B[0m )\n\u001B[0;32m    210\u001B[0m \u001B[38;5;28;01mfrom\u001B[39;00m \u001B[38;5;21;01m.\u001B[39;00m\u001B[38;5;21;01mbase\u001B[39;00m \u001B[38;5;28;01mimport\u001B[39;00m DatasetNotWriteableError\n\u001B[0;32m    211\u001B[0m \u001B[38;5;28;01mfrom\u001B[39;00m \u001B[38;5;21;01m.\u001B[39;00m\u001B[38;5;21;01mbase\u001B[39;00m\u001B[38;5;21;01m.\u001B[39;00m\u001B[38;5;21;01mattribute\u001B[39;00m \u001B[38;5;28;01mimport\u001B[39;00m AttributeInfo, DatasetAttribute, attribute\n",
      "File \u001B[1;32m~\\anaconda3\\lib\\site-packages\\pennylane\\data\\attributes\\__init__.py:24\u001B[0m, in \u001B[0;36m<module>\u001B[1;34m\u001B[0m\n\u001B[0;32m     22\u001B[0m \u001B[38;5;28;01mfrom\u001B[39;00m \u001B[38;5;21;01m.\u001B[39;00m\u001B[38;5;21;01moperator\u001B[39;00m \u001B[38;5;28;01mimport\u001B[39;00m DatasetOperator\n\u001B[0;32m     23\u001B[0m \u001B[38;5;28;01mfrom\u001B[39;00m \u001B[38;5;21;01m.\u001B[39;00m\u001B[38;5;21;01mscalar\u001B[39;00m \u001B[38;5;28;01mimport\u001B[39;00m DatasetScalar\n\u001B[1;32m---> 24\u001B[0m \u001B[38;5;28;01mfrom\u001B[39;00m \u001B[38;5;21;01m.\u001B[39;00m\u001B[38;5;21;01msparse_array\u001B[39;00m \u001B[38;5;28;01mimport\u001B[39;00m DatasetSparseArray\n\u001B[0;32m     25\u001B[0m \u001B[38;5;28;01mfrom\u001B[39;00m \u001B[38;5;21;01m.\u001B[39;00m\u001B[38;5;21;01mstring\u001B[39;00m \u001B[38;5;28;01mimport\u001B[39;00m DatasetString\n\u001B[0;32m     26\u001B[0m \u001B[38;5;28;01mfrom\u001B[39;00m \u001B[38;5;21;01m.\u001B[39;00m\u001B[38;5;21;01mtuple\u001B[39;00m \u001B[38;5;28;01mimport\u001B[39;00m DatasetTuple\n",
      "File \u001B[1;32m~\\anaconda3\\lib\\site-packages\\pennylane\\data\\attributes\\sparse_array.py:20\u001B[0m, in \u001B[0;36m<module>\u001B[1;34m\u001B[0m\n\u001B[0;32m     17\u001B[0m \u001B[38;5;28;01mfrom\u001B[39;00m \u001B[38;5;21;01mtyping\u001B[39;00m \u001B[38;5;28;01mimport\u001B[39;00m Dict, Generic, Tuple, Type, TypeVar, Union, cast\n\u001B[0;32m     19\u001B[0m \u001B[38;5;28;01mimport\u001B[39;00m \u001B[38;5;21;01mnumpy\u001B[39;00m \u001B[38;5;28;01mas\u001B[39;00m \u001B[38;5;21;01mnp\u001B[39;00m\n\u001B[1;32m---> 20\u001B[0m \u001B[38;5;28;01mfrom\u001B[39;00m \u001B[38;5;21;01mscipy\u001B[39;00m\u001B[38;5;21;01m.\u001B[39;00m\u001B[38;5;21;01msparse\u001B[39;00m \u001B[38;5;28;01mimport\u001B[39;00m (\n\u001B[0;32m     21\u001B[0m     bsr_array,\n\u001B[0;32m     22\u001B[0m     bsr_matrix,\n\u001B[0;32m     23\u001B[0m     coo_array,\n\u001B[0;32m     24\u001B[0m     coo_matrix,\n\u001B[0;32m     25\u001B[0m     csc_array,\n\u001B[0;32m     26\u001B[0m     csc_matrix,\n\u001B[0;32m     27\u001B[0m     csr_array,\n\u001B[0;32m     28\u001B[0m     csr_matrix,\n\u001B[0;32m     29\u001B[0m     dia_array,\n\u001B[0;32m     30\u001B[0m     dia_matrix,\n\u001B[0;32m     31\u001B[0m     dok_array,\n\u001B[0;32m     32\u001B[0m     dok_matrix,\n\u001B[0;32m     33\u001B[0m     lil_array,\n\u001B[0;32m     34\u001B[0m     lil_matrix,\n\u001B[0;32m     35\u001B[0m )\n\u001B[0;32m     37\u001B[0m \u001B[38;5;28;01mfrom\u001B[39;00m \u001B[38;5;21;01mpennylane\u001B[39;00m\u001B[38;5;21;01m.\u001B[39;00m\u001B[38;5;21;01mdata\u001B[39;00m\u001B[38;5;21;01m.\u001B[39;00m\u001B[38;5;21;01mbase\u001B[39;00m\u001B[38;5;21;01m.\u001B[39;00m\u001B[38;5;21;01mattribute\u001B[39;00m \u001B[38;5;28;01mimport\u001B[39;00m AttributeInfo, DatasetAttribute\n\u001B[0;32m     38\u001B[0m \u001B[38;5;28;01mfrom\u001B[39;00m \u001B[38;5;21;01mpennylane\u001B[39;00m\u001B[38;5;21;01m.\u001B[39;00m\u001B[38;5;21;01mdata\u001B[39;00m\u001B[38;5;21;01m.\u001B[39;00m\u001B[38;5;21;01mbase\u001B[39;00m\u001B[38;5;21;01m.\u001B[39;00m\u001B[38;5;21;01mhdf5\u001B[39;00m \u001B[38;5;28;01mimport\u001B[39;00m HDF5Group\n",
      "\u001B[1;31mImportError\u001B[0m: cannot import name 'bsr_array' from 'scipy.sparse' (C:\\Users\\marty\\anaconda3\\lib\\site-packages\\scipy\\sparse\\__init__.py)"
     ]
    }
   ],
   "source": [
    "import json\n",
    "import pennylane as qml"
   ],
   "metadata": {
    "collapsed": false,
    "pycharm": {
     "name": "#%%\n"
    }
   }
  },
  {
   "cell_type": "markdown",
   "source": [
    "Example"
   ],
   "metadata": {
    "collapsed": false
   }
  },
  {
   "cell_type": "code",
   "execution_count": null,
   "outputs": [],
   "source": [
    "dev = qml.device('default.qubit',wires=2)\n",
    "@qml.qnode(dev)\n",
    "def qn_separable():\n",
    "    qml.Hadamard(wires=0)\n",
    "    qml.Hadamard(wires=1)\n",
    "    return qml.state()\n",
    "\n",
    "print(qml.draw_mpl(qn_separable)())"
   ],
   "metadata": {
    "collapsed": false,
    "pycharm": {
     "name": "#%%\n"
    }
   }
  },
  {
   "cell_type": "code",
   "execution_count": null,
   "outputs": [],
   "source": [
    "qn_separable()"
   ],
   "metadata": {
    "collapsed": false,
    "pycharm": {
     "name": "#%%\n"
    }
   }
  },
  {
   "cell_type": "code",
   "source": [
    "import scipy\n",
    "print(scipy.__version__)"
   ],
   "metadata": {
    "collapsed": false,
    "pycharm": {
     "name": "#%%\n"
    }
   },
   "execution_count": 2,
   "outputs": [
    {
     "name": "stdout",
     "output_type": "stream",
     "text": [
      "1.7.3\n"
     ]
    }
   ]
  },
  {
   "cell_type": "code",
   "execution_count": null,
   "outputs": [],
   "source": [
    "def is_product(state, subsystem, wires):\n",
    "    \"\"\"Determines if a pure quantum state can be written as a product state between\n",
    "    a subsystem of wires and their compliment.\n",
    "\n",
    "    Args:\n",
    "        state (numpy.array): The quantum state of interest.\n",
    "        subsystem (list(int)): The subsystem used to determine if the state is a product state.\n",
    "        wires (list(int)): The wire/qubit labels for the state. Use these for creating a QNode if you wish!\n",
    "\n",
    "    Returns:\n",
    "        (str): \"yes\" if the state is a product state or \"no\" if it isn't.\n",
    "    \"\"\""
   ],
   "metadata": {
    "collapsed": false,
    "pycharm": {
     "name": "#%%\n"
    }
   }
  },
  {
   "cell_type": "code",
   "execution_count": null,
   "outputs": [],
   "source": [
    "    # Put your solution here #\n",
    "return"
   ],
   "metadata": {
    "collapsed": false,
    "pycharm": {
     "name": "#%%\n"
    }
   }
  },
  {
   "cell_type": "code",
   "execution_count": null,
   "outputs": [],
   "source": [
    "# These functions are responsible for testing the solution.\n",
    "def run(test_case_input: str) -> str:\n",
    "    ins = json.loads(test_case_input)\n",
    "    state, subsystem, wires = ins\n",
    "    state = np.array(state)\n",
    "    output = is_product(state, subsystem, wires)\n",
    "    return output\n",
    "\n",
    "def check(solution_output: str, expected_output: str) -> None:\n",
    "    assert solution_output == expected_output"
   ],
   "metadata": {
    "collapsed": false,
    "pycharm": {
     "name": "#%%\n"
    }
   }
  },
  {
   "cell_type": "code",
   "execution_count": null,
   "outputs": [],
   "source": [
    "test_cases = [['[[0.707107, 0, 0, 0.707107], [0], [0, 1]]', 'no'], ['[[1, 0, 0, 0], [0], [0, 1]]', 'yes']]"
   ],
   "metadata": {
    "collapsed": false,
    "pycharm": {
     "name": "#%%\n"
    }
   }
  },
  {
   "cell_type": "code",
   "execution_count": null,
   "outputs": [],
   "source": [
    "for i, (input_, expected_output) in enumerate(test_cases):\n",
    "    print(f\"Running test case {i} with input '{input_}'...\")\n",
    "\n",
    "    try:\n",
    "        output = run(input_)\n",
    "\n",
    "    except Exception as exc:\n",
    "        print(f\"Runtime Error. {exc}\")\n",
    "\n",
    "    else:\n",
    "        if message := check(output, expected_output):\n",
    "            print(f\"Wrong Answer. Have: '{output}'. Want: '{expected_output}'.\")\n",
    "\n",
    "        else:\n",
    "            print(\"Correct!\")"
   ],
   "metadata": {
    "collapsed": false,
    "pycharm": {
     "name": "#%%\n"
    }
   }
  }
 ],
 "metadata": {
  "kernelspec": {
   "display_name": "Python 3",
   "language": "python",
   "name": "python3"
  },
  "language_info": {
   "codemirror_mode": {
    "name": "ipython",
    "version": 2
   },
   "file_extension": ".py",
   "mimetype": "text/x-python",
   "name": "python",
   "nbconvert_exporter": "python",
   "pygments_lexer": "ipython2",
   "version": "2.7.6"
  }
 },
 "nbformat": 4,
 "nbformat_minor": 0
}