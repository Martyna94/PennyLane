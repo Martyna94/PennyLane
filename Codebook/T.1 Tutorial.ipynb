{
 "cells": [
  {
   "cell_type": "markdown",
   "metadata": {
    "collapsed": true,
    "pycharm": {
     "name": "#%% md\n"
    }
   },
   "source": [
    "## Codercise T.1.\n",
    " Complete the function in the code cell below to add together two numbers. Press the \"Submit\" button to send your work to the grader."
   ]
  },
  {
   "cell_type": "code",
   "execution_count": 3,
   "outputs": [],
   "source": [
    "import numpy as np"
   ],
   "metadata": {
    "collapsed": false,
    "pycharm": {
     "name": "#%%\n"
    }
   }
  },
  {
   "cell_type": "code",
   "execution_count": 2,
   "outputs": [
    {
     "data": {
      "text/plain": "7"
     },
     "execution_count": 2,
     "metadata": {},
     "output_type": "execute_result"
    }
   ],
   "source": [
    "def add_numbers(x, y):\n",
    "    \"\"\"A simple function to add two numbers.\n",
    "\n",
    "    Args:\n",
    "        x (float): a number\n",
    "        y (float): another number\n",
    "\n",
    "    Returns:\n",
    "        float: The sum of x and y.\n",
    "    \"\"\"\n",
    "    return x + y\n",
    "add_numbers(2,5)"
   ],
   "metadata": {
    "collapsed": false,
    "pycharm": {
     "name": "#%%\n"
    }
   }
  },
  {
   "cell_type": "code",
   "execution_count": 7,
   "outputs": [
    {
     "data": {
      "text/plain": "3"
     },
     "execution_count": 7,
     "metadata": {},
     "output_type": "execute_result"
    }
   ],
   "source": [
    "def find_max(x):\n",
    "    \"\"\"A simple function to find the largest value in a numpy array.\n",
    "\n",
    "    Args:\n",
    "        x (array[float]): an array of numbers of size n\n",
    "\n",
    "    Returns:\n",
    "        float: The maximum value in x.\n",
    "    \"\"\"\n",
    "    return np.amax(x)\n",
    "\n",
    "a = np.arange(4).reshape((2,2))\n",
    "find_max(a)"
   ],
   "metadata": {
    "collapsed": false,
    "pycharm": {
     "name": "#%%\n"
    }
   }
  },
  {
   "cell_type": "code",
   "execution_count": null,
   "outputs": [],
   "source": [],
   "metadata": {
    "collapsed": false,
    "pycharm": {
     "name": "#%%\n"
    }
   }
  }
 ],
 "metadata": {
  "kernelspec": {
   "display_name": "Python 3",
   "language": "python",
   "name": "python3"
  },
  "language_info": {
   "codemirror_mode": {
    "name": "ipython",
    "version": 2
   },
   "file_extension": ".py",
   "mimetype": "text/x-python",
   "name": "python",
   "nbconvert_exporter": "python",
   "pygments_lexer": "ipython2",
   "version": "2.7.6"
  }
 },
 "nbformat": 4,
 "nbformat_minor": 0
}