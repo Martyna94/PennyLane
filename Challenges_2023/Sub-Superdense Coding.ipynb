{
 "cells": [
  {
   "cell_type": "markdown",
   "source": [
    "\n",
    "## Sub-Superdense Coding\n",
    "\n",
    "**Backstory**\n",
    "Zenda and Reece have worked hard to implement classical computation reversibly. \"This is all rather boring though,\" says Trine. \"Let's introduce entanglement and have some fun!\" Trine tells them that the next [Laws of Infodynamics](https://en.wikipedia.org/wiki/Bennett%27s_laws) will constrain how much classical information can be sent using entangled quantum resources.\n",
    "\n",
    "**Sending information with entangled states**\n",
    "\n",
    "Entanglement is a valuable resource that can be used to send information, as we will explore in this challenge. Superdense coding, for instance, uses Bell pairs to send two classical bits with a single qubit.\n",
    "Trine has misplaced her usual Bell states, and instead provides Zenda with 2 qubits and Reece with 1 qubit. They are entangled forming the following state:\n",
    "$$\\Ket{\\Psi} = \\frac{\\Ket{00}_Z\\Ket{0}_R + \\Ket{11}_Z\\Ket{1}_R}{\\sqrt(2)}$$\n",
    "\n",
    "Zenda wants to send Reece 3 bits of information $(i,j,k)$, where each bit can take the value 0 or 1. To do so, she will apply an encoding gate on her two qubits and then send them to Bob.\n",
    "Reece, who now has the three qubits and knows the strategy Zenda uses to encode, performs a decoding gate that will generate the state $\\Ket{i,j,k}$ Let's look at the following drawing to understand it.\n",
    "![circuit](./images/Sub-Superdense%20Coding_1.png)\n",
    "\n",
    "Your goal will be to devise a coding and decoding strategy such that Reece can decode Zenda's bits, as shown in the figure above"
   ],
   "metadata": {
    "collapsed": false
   }
  },
  {
   "cell_type": "markdown",
   "source": [
    "The strategy to build the encoding gate is akin to [superdense coding](https://en.wikipedia.org/wiki/Superdense_coding) for two bits of information, where all the Bell basis states are produced by acting only on one of the qubits in an entangled pair. Here, we want to produce all the GHZ basis states, which are analogous to the Bell basis for three qubits. They are given by\n",
    "$$\\Ket{GHZ}_ijk = \\frac{1}{\\sqrt{2}}(\\Ket{0jk} + (-1)^i\\Ket{1 \\overline{j}\\overline{k}}),$$\n",
    "where $\\overline{j} = 1-j$ and $\\overline{k} = 1-k$. However, we should do this by acting only on the first two qubits (i.e. Zenda's share) of the entangled state $\\Ket{\\Psi}$ that Trine provided. The decoding gate is also inspired by superdense coding, so reviewing the topic will help you a lot in this challenge!"
   ],
   "metadata": {
    "collapsed": false
   }
  },
  {
   "cell_type": "markdown",
   "source": [
    "**Laws of Infodynamics Part II: The Second and Third Laws**\n",
    "This box contains information that may be helpful, but is not essential to solving the problem. Suppose Zenda and Reece share a maximally entangled Bell pair of the form\n",
    "$$\\Ket{\\Phi}_{ZR} = \\frac{\\Ket{0}_Z\\Ket{0}_R + \\Ket{1}_Z\\Ket{1}_R}{\\sqrt{2}},$$\n",
    "where the subscripts $Z$ and $R$ denote Zenda and Reece's share, respectively. This is one of four maximally entangled Bell states, labelled by two bits $j$ and $k$:\n",
    "$$\\Ket{\\beta(j,k)}_{ZR} = \\frac{1}{\\sqrt{2}}(\\Ket{0}_Z\\Ket{k}_BR+(-1)^j\\Ket{1}_Z\\Ket{k \\otimes 1}_R),$$\n",
    "with $\\Ket{\\Phi}_{ZR} = \\Ket{\\beta(0,0)}_{ZR}$.These are orthogonal and form what is called the Bell basis for the states on two qubits. Half of an entangled state is called an entangled qubit or ebit. Since the ability to send an entangled qubit is a special case of sending a qubit, we have the Second Law of Infodynamics:\n",
    "$$1 qubit  \\geqslant 1 ebit,$$\n",
    "where $x  \\geqslant y$ means having resource $x$ also provides resource $y$. It's easy to check that\n",
    "$$\\Ket{\\beta(j,k)} = (Z^jX^k \\otimes I)\\Ket{\\phi}$$\n",
    "We draw this below:\n",
    "![circuit](./images/Sub-Superdense%20Coding_2.png)\n",
    "If Zenda and Reece share $\\Ket{\\phi}$ (an ebit), and Zenda sends her qubit to Reece, Reece can measure in the Bell basis and learn $j$ and $k$ Thus, an ebit and a qubit suffice to send two classical bits (or cbits). This protocol, called superdense coding, can be expressed as the Third Law of Infodynamics:\n",
    "$$1 qubit + 1 ebit \\geqslant 2 cbit,$$"
   ],
   "metadata": {
    "collapsed": false
   }
  },
  {
   "cell_type": "markdown",
   "source": [
    "**Challenge code**\n",
    "You simply have to complete two quantum functions:\n",
    "\n",
    "* encode: quantum function that will define an operator to be applied only on Zenda's qubits. This function will depend on the bits $(i,j,k)$ to be encoded.\n",
    "\n",
    "* decode: quantum function that defines the operator that Reece will use to retrieve the bits that Zenda sent. In this case, the operator does not have any information about Zenda's bits, so the same operators will always be applied regardless of the state that Zenda sends Reece.\n",
    "\n",
    "**Output**\n",
    "In this challenge, we will not judge your solution using public or private test cases. Instead, we will check that, for all combinations of , , and , the entire encoding and decoding circuit behaves as expected.In this challenge, we will not judge your solution using public or private test cases. Instead, we will check that, for all combinations of $i$,$j$, and $k$, the entire encoding and decoding circuit behaves as expected."
   ],
   "metadata": {
    "collapsed": false
   }
  },
  {
   "cell_type": "code",
   "source": [
    "import pennylane as qml\n",
    "import pennylane.numpy as np\n",
    "\n",
    "def encode(i, j, k):\n",
    "    \"\"\"\n",
    "    Quantum encoding function. It must act only on the first two qubits.\n",
    "    This function does not return anything, it simply applies gates.\n",
    "\n",
    "    Args:\n",
    "        i, j, k (int): The three encoding bits. They will take the values 1 or 0.\n",
    "\n",
    "    \"\"\"\n",
    "\n",
    "\n",
    "    # Put your code here #\n",
    "\n",
    "\n",
    "def decode():\n",
    "    \"\"\"\n",
    "    Quantum decoding function. It can act on the three qubits.\n",
    "    This function does not return anything, it simply applies gates.\n",
    "    \"\"\"\n",
    "\n",
    "\n",
    "    # Put your code here #\n",
    "\n",
    "\n",
    "dev = qml.device(\"default.qubit\", wires=3)\n",
    "\n",
    "@qml.qnode(dev)\n",
    "def circuit(i, j, k):\n",
    "    \"\"\"\n",
    "    Circuit that generates the complete communication protocol.\n",
    "\n",
    "    Args:\n",
    "        i, j, k (int): The three encoding bits. They will take the value 1 or 0.\n",
    "    \"\"\"\n",
    "\n",
    "    # We prepare the state 1/sqrt(2)(|000> + |111>)\n",
    "    qml.Hadamard(wires=0)\n",
    "    qml.CNOT(wires=[0, 1])\n",
    "    qml.CNOT(wires=[0, 2])\n",
    "\n",
    "    # Zenda encodes the bits\n",
    "    encode(i, j, k)\n",
    "\n",
    "    # Reece decode the information\n",
    "    decode()\n",
    "\n",
    "    return qml.probs(wires=range(3))\n",
    "\n",
    "\n",
    "# These functions are responsible for testing the solution.\n",
    "\n",
    "\n",
    "\n",
    "def run(test_case_input: str) -> str:\n",
    "\n",
    "    return None\n",
    "\n",
    "def check(solution_output: str, expected_output: str) -> None:\n",
    "\n",
    "    for i in range(2):\n",
    "        for j in range(2):\n",
    "            for k in range(2):\n",
    "                assert np.isclose(circuit(i, j , k)[4 * i + 2 * j + k],1)\n",
    "\n",
    "                dev = qml.device(\"default.qubit\", wires=3)\n",
    "\n",
    "                @qml.qnode(dev)\n",
    "                def circuit2(i, j, k):\n",
    "                    encode(i, j, k)\n",
    "                    return qml.probs(wires=range(3))\n",
    "\n",
    "                circuit2(i, j, k)\n",
    "                ops = circuit2.tape.operations\n",
    "\n",
    "                for op in ops:\n",
    "                    assert not (2 in op.wires), \"Invalid connection between qubits.\"\n",
    "\n",
    "\n",
    "test_cases = [['No input', 'No output']]\n",
    "\n",
    "for i, (input_, expected_output) in enumerate(test_cases):\n",
    "    print(f\"Running test case {i} with input '{input_}'...\")\n",
    "\n",
    "    try:\n",
    "        output = run(input_)\n",
    "\n",
    "    except Exception as exc:\n",
    "        print(f\"Runtime Error. {exc}\")\n",
    "\n",
    "    else:\n",
    "        if message := check(output, expected_output):\n",
    "            print(f\"Wrong Answer. Have: '{output}'. Want: '{expected_output}'.\")\n",
    "\n",
    "        else:\n",
    "            print(\"Correct!\")"
   ],
   "metadata": {
    "collapsed": false,
    "pycharm": {
     "name": "#%%\n"
    }
   },
   "execution_count": 1,
   "outputs": [
    {
     "name": "stdout",
     "output_type": "stream",
     "text": [
      "Running test case 0 with input 'No input'...\n"
     ]
    },
    {
     "ename": "AssertionError",
     "evalue": "",
     "output_type": "error",
     "traceback": [
      "\u001B[1;31m---------------------------------------------------------------------------\u001B[0m",
      "\u001B[1;31mAssertionError\u001B[0m                            Traceback (most recent call last)",
      "Input \u001B[1;32mIn [1]\u001B[0m, in \u001B[0;36m<cell line: 84>\u001B[1;34m()\u001B[0m\n\u001B[0;32m     91\u001B[0m     \u001B[38;5;28mprint\u001B[39m(\u001B[38;5;124mf\u001B[39m\u001B[38;5;124m\"\u001B[39m\u001B[38;5;124mRuntime Error. \u001B[39m\u001B[38;5;132;01m{\u001B[39;00mexc\u001B[38;5;132;01m}\u001B[39;00m\u001B[38;5;124m\"\u001B[39m)\n\u001B[0;32m     93\u001B[0m \u001B[38;5;28;01melse\u001B[39;00m:\n\u001B[1;32m---> 94\u001B[0m     \u001B[38;5;28;01mif\u001B[39;00m message \u001B[38;5;241m:=\u001B[39m \u001B[43mcheck\u001B[49m\u001B[43m(\u001B[49m\u001B[43moutput\u001B[49m\u001B[43m,\u001B[49m\u001B[43m \u001B[49m\u001B[43mexpected_output\u001B[49m\u001B[43m)\u001B[49m:\n\u001B[0;32m     95\u001B[0m         \u001B[38;5;28mprint\u001B[39m(\u001B[38;5;124mf\u001B[39m\u001B[38;5;124m\"\u001B[39m\u001B[38;5;124mWrong Answer. Have: \u001B[39m\u001B[38;5;124m'\u001B[39m\u001B[38;5;132;01m{\u001B[39;00moutput\u001B[38;5;132;01m}\u001B[39;00m\u001B[38;5;124m'\u001B[39m\u001B[38;5;124m. Want: \u001B[39m\u001B[38;5;124m'\u001B[39m\u001B[38;5;132;01m{\u001B[39;00mexpected_output\u001B[38;5;132;01m}\u001B[39;00m\u001B[38;5;124m'\u001B[39m\u001B[38;5;124m.\u001B[39m\u001B[38;5;124m\"\u001B[39m)\n\u001B[0;32m     97\u001B[0m     \u001B[38;5;28;01melse\u001B[39;00m:\n",
      "Input \u001B[1;32mIn [1]\u001B[0m, in \u001B[0;36mcheck\u001B[1;34m(solution_output, expected_output)\u001B[0m\n\u001B[0;32m     64\u001B[0m \u001B[38;5;28;01mfor\u001B[39;00m j \u001B[38;5;129;01min\u001B[39;00m \u001B[38;5;28mrange\u001B[39m(\u001B[38;5;241m2\u001B[39m):\n\u001B[0;32m     65\u001B[0m     \u001B[38;5;28;01mfor\u001B[39;00m k \u001B[38;5;129;01min\u001B[39;00m \u001B[38;5;28mrange\u001B[39m(\u001B[38;5;241m2\u001B[39m):\n\u001B[1;32m---> 66\u001B[0m         \u001B[38;5;28;01massert\u001B[39;00m np\u001B[38;5;241m.\u001B[39misclose(circuit(i, j , k)[\u001B[38;5;241m4\u001B[39m \u001B[38;5;241m*\u001B[39m i \u001B[38;5;241m+\u001B[39m \u001B[38;5;241m2\u001B[39m \u001B[38;5;241m*\u001B[39m j \u001B[38;5;241m+\u001B[39m k],\u001B[38;5;241m1\u001B[39m)\n\u001B[0;32m     68\u001B[0m         dev \u001B[38;5;241m=\u001B[39m qml\u001B[38;5;241m.\u001B[39mdevice(\u001B[38;5;124m\"\u001B[39m\u001B[38;5;124mdefault.qubit\u001B[39m\u001B[38;5;124m\"\u001B[39m, wires\u001B[38;5;241m=\u001B[39m\u001B[38;5;241m3\u001B[39m)\n\u001B[0;32m     70\u001B[0m         \u001B[38;5;129m@qml\u001B[39m\u001B[38;5;241m.\u001B[39mqnode(dev)\n\u001B[0;32m     71\u001B[0m         \u001B[38;5;28;01mdef\u001B[39;00m \u001B[38;5;21mcircuit2\u001B[39m(i, j, k):\n",
      "\u001B[1;31mAssertionError\u001B[0m: "
     ]
    }
   ]
  },
  {
   "cell_type": "code",
   "execution_count": null,
   "outputs": [],
   "source": [],
   "metadata": {
    "collapsed": false,
    "pycharm": {
     "name": "#%%\n"
    }
   }
  }
 ],
 "metadata": {
  "kernelspec": {
   "display_name": "Python 3",
   "language": "python",
   "name": "python3"
  },
  "language_info": {
   "codemirror_mode": {
    "name": "ipython",
    "version": 2
   },
   "file_extension": ".py",
   "mimetype": "text/x-python",
   "name": "python",
   "nbconvert_exporter": "python",
   "pygments_lexer": "ipython2",
   "version": "2.7.6"
  }
 },
 "nbformat": 4,
 "nbformat_minor": 0
}