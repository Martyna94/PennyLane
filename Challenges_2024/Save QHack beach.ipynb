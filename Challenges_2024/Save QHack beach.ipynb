{
 "cells": [
  {
   "cell_type": "markdown",
   "source": [
    "Challenge statement\n",
    "--------------------\n",
    "Off the cruise ship you go, and onto the once lovely QHack Beach! The QHack Beach was host to one of the world's greatest marine ecosystems. Crisp blue water, exotic fish, sharks, a coral reef — you name it! And the beach... oh... the beach. Perfect silky sand, shade provided by palm trees... A traveller's paradise 😎\n",
    "Due to global warming, though, the beach is way too hot for any living organism to enjoy, yourself included! But... with the power of quantum and with a large supply of some chemicals on the ship, we can reduce the temperature of the QHack lagoon, revitalize the marine life, and catch some rays ☀️ in peace.\n",
    "\n",
    "There's a ton of Lithium and Hydrogen on the ship, and based on some rough calculations using the Hartree-Fock method, we know that creating lithium hydride from $H_2$ and $Li_2$ is endothermic — it absorbs heat. This is how we can take some heat off of the beach!\n",
    "\n",
    "Lithium hydride, LiH, can be formed via a very simple chemical reaction:\n",
    "$$H_2+Li_2→2LiH.$$\n",
    "You're going to dissect this reaction to the bone!\n",
    "\n",
    "Chemical reactions are kind of magical; molecules are broken into pieces and get stuck back together differently. The intermediate stages of a chemical reaction are an interesting field of research, and here we're going to crudely simulate what happens.\n",
    "\n",
    "Starting with $H_2$ and $Li_2$, LiH\n",
    "LiH is formed by both H atoms dissociating in $H_2$, both $Li$ atoms dissociating in $Li_2$, and partnering up with the other — a lone H atom finds a lone Li atom and they bond! By looking at the molecular energy of the reactants — $H_2$ and $Li_2$ — and products —\n",
    "LiH — as their interatomic distances change, we can get an estimate for the amount of energy that is required to break the bonds and form new ones.\n",
    "Your challenge is to map out the energetics of the reaction by calculating the following:\n",
    "1.$E_react$: what's the molecular energy of the reactants?\n",
    "2.$E_dissoc$: how much energy is required to break the bonds of the reactants?\n",
    "3.$E_prod$: what the energy of the product?\n",
    "![plot](./images/Save_QHack_beach_1.png)\n",
    "\n",
    "Your job is to fill in the blanks! You must estimate all energies with the Hartree Fock method. In PennyLane, this amounts to employing the hf_energy function.\n",
    "\n",
    "For the reactants and products, their energies are the minimum of the Hartree Fock energy,$E_0$, calculated at various provided bond lengths. The activation energy,$E_a$, can be loosely estimated as\n",
    "$E_a=E_react.+E_dissoc$\n",
    "where $E_react. =E_{0,H_2}+E_{0,Li_2}$ and $E_dissoc.=E_{dissoc.,H_2}+E_{dissoc.,Li_2} is the dissociation energy (the amount of energy required to break the diatomic bond).$E_dissoc.,X$ should be calculated as the Hartree Fock energy at infinite bond length, but we'll estimate it as the Hartree Fock energy at the biggest bond length for which we calculated it: $E _{dissoc.,X}≈∣E_0−E(r_max)∣$.\n",
    "\n",
    "Challenge code\n",
    "----------------\n",
    "In the code below you must complete the following functions:\n",
    "1. 'potential_energy_surface': calculates the molecular energy over various bond lengths (AKA the potential energy surface) using the Hartree Fock method.\n",
    "2 'reaction': calculates the energy of the reactants, the activation energy, and the energy of the products in that order.\n",
    "\n",
    "There is also a function called ground_energy that find the minimum energy of a molecule given its potential energy surface. You do not need to complete this function, it's there as a helper!\n",
    "\n",
    "Input\n",
    "------\n",
    "There are no inputs to this problem; there is only one correct answer!\n",
    "\n",
    "Output\n",
    "-----------\n",
    "Your code will output the (chemically balanced) energies of the reactants and products and the activation energy."
   ],
   "metadata": {
    "collapsed": false,
    "pycharm": {
     "name": "#%% md\n"
    }
   }
  },
  {
   "cell_type": "code",
   "execution_count": null,
   "outputs": [],
   "source": [
    "import json\n",
    "import pennylane as qml\n",
    "import pennylane.numpy as np\n",
    "\n",
    "def potential_energy_surface(symbols, bond_lengths):\n",
    "    \"\"\"Calculates the molecular energy over various bond lengths (AKA the\n",
    "    potential energy surface) using the Hartree Fock method.\n",
    "\n",
    "    Args:\n",
    "        symbols (list(string)):\n",
    "            A list of atomic symbols that comprise the diatomic molecule of interest.\n",
    "        bond_lengths (numpy.tensor): Bond lengths to calculate the energy over.\n",
    "\n",
    "\n",
    "    Returns:\n",
    "        hf_energies (numpy.tensor):\n",
    "            The Hartree Fock energies at every bond length value.\n",
    "    \"\"\"\n",
    "\n",
    "\n",
    "    hf_energies = []\n",
    "\n",
    "    # Put your code here #\n",
    "\n",
    "    return np.array(hf_energies)\n",
    "\n",
    "\n",
    "def ground_energy(hf_energies):\n",
    "    \"\"\"Finds the minimum energy of a molecule given its potential energy surface.\n",
    "\n",
    "    Args:\n",
    "        hf_energies (numpy.tensor):\n",
    "\n",
    "    Returns:\n",
    "        (float): The minumum energy in units of hartrees.\n",
    "    \"\"\"\n",
    "\n",
    "    ind = np.argmin(hf_energies)\n",
    "    return hf_energies[ind]\n",
    "\n",
    "def reaction():\n",
    "    \"\"\"Calculates the energy of the reactants, the activation energy, and the energy of\n",
    "    the products in that order.\n",
    "\n",
    "    Returns:\n",
    "        (numpy.tensor): [E_reactants, E_activation, E_products]\n",
    "    \"\"\"\n",
    "    molecules = {\n",
    "        \"H2\":\n",
    "            {\"symbols\": [\"H\", \"H\"], \"E0\": 0, \"E_dissociation\": 0, \"bond lengths\": np.arange(0.5, 9.3, 0.3)},\n",
    "        \"Li2\":\n",
    "            {\"symbols\": [\"Li\", \"Li\"], \"E0\": 0, \"E_dissociation\": 0, \"bond lengths\": np.arange(3.5, 8.3, 0.3)},\n",
    "        \"LiH\":\n",
    "            {\"symbols\": [\"Li\", \"H\"], \"E0\": 0, \"E_dissociation\": 0, \"bond lengths\": np.arange(2.0, 6.6, 0.3)}\n",
    "    }\n",
    "\n",
    "\n",
    "    for molecule in molecules.keys():\n",
    "    # Put your code here #\n",
    "    # populate each molecule's E0 and E_dissociation values\n",
    "\n",
    "    # Calculate the following and don't forget to balance the chemical reaction!\n",
    "    E_reactants = # calculate the energy of the reactants\n",
    "    E_activation = # calculate the activation energy\n",
    "    E_products = # calculate the energy of the products\n",
    "\n",
    "    return np.array([E_reactants, E_activation, E_products])\n",
    "\n",
    "\n",
    "# These functions are responsible for testing the solution.\n",
    "def run(test_case_input: str) -> str:\n",
    "    output = reaction().tolist()\n",
    "    return str(output)\n",
    "\n",
    "def check(solution_output: str, expected_output: str) -> None:\n",
    "    solution_output = json.loads(solution_output)\n",
    "    expected_output = json.loads(expected_output)\n",
    "\n",
    "    assert np.allclose(solution_output, expected_output, rtol=1e-3)"
   ],
   "metadata": {
    "collapsed": false,
    "pycharm": {
     "name": "#%%\n"
    }
   }
  },
  {
   "cell_type": "markdown",
   "source": [
    "[How to use the Hartree-Fock method in PennyLane](https://pennylane.ai/blog/2022/09/how-to-use-the-hartree-fock-method-in-pennylane/)\n",
    "[tutorial_differentiable_HF](https://pennylane.ai/qml/demos/tutorial_differentiable_HF/)\n",
    "[Post pennylane discuss](https://discuss.pennylane.ai/t/where-to-find-the-xyz-file-library-for-molecular-hamiltonians/3018/2)\n",
    "[The experimental geometry data can be found in the Computational Chemistry Comparison and Benchmark DataBase 5](https://cccbdb.nist.gov/geom3x.asp?method=8&basis=1)\n"
   ],
   "metadata": {
    "collapsed": false
   }
  },
  {
   "cell_type": "code",
   "execution_count": 1,
   "metadata": {
    "collapsed": true
   },
   "outputs": [],
   "source": [
    "import json\n",
    "import pennylane as qml\n",
    "import pennylane.numpy as np"
   ]
  },
  {
   "cell_type": "code",
   "execution_count": 70,
   "outputs": [],
   "source": [
    "def potential_energy_surface(symbols, bond_lengths):\n",
    "    \"\"\"Calculates the molecular energy over various bond lengths (AKA the\n",
    "    potential energy surface) using the Hartree Fock method.\n",
    "\n",
    "    Args:\n",
    "        symbols (list(string)):\n",
    "            A list of atomic symbols that comprise the diatomic molecule of interest.\n",
    "        bond_lengths (numpy.tensor): Bond lengths to calculate the energy over.\n",
    "\n",
    "\n",
    "    Returns:\n",
    "        hf_energies (numpy.tensor):\n",
    "            The Hartree Fock energies at every bond length value.\n",
    "    \"\"\"\n",
    "    hf_energies = []\n",
    "    config = {\n",
    "        (\"Li\", \"H\"): {\"orbitals\": 6, \"electrons\": 4},\n",
    "        (\"Li\", \"Li\"): {\"orbitals\": 10, \"electrons\": 6},\n",
    "        (\"H\", \"H\"): {\"orbitals\": 4, \"electrons\": 2}\n",
    "    }\n",
    "    # Create a tuple from the symbols list to use as a key\n",
    "    key = tuple(symbols) if len(symbols) == 2 else (symbols[0], symbols[0])\n",
    "\n",
    "    # Get the configuration for the given symbols\n",
    "    if key in config:\n",
    "        orbitals = config[key][\"orbitals\"]\n",
    "        electrons = config[key][\"electrons\"]\n",
    "    else:\n",
    "        raise ValueError(f\"No configuration found for symbols: {symbols}\")\n",
    "\n",
    "    # Generate the Hartree-Fock state\n",
    "    hf_state = qml.qchem.hf_state(electrons, orbitals)\n",
    "\n",
    "    for r in bond_lengths:\n",
    "        # Change only the z coordinate of one atom\n",
    "        coordinates = np.array([0.0, 0.0, 0.0, 0.0, 0.0, r])\n",
    "        # Obtain the qubit Hamiltonian\n",
    "        H, qubits = qchem.molecular_hamiltonian(symbols, coordinates)\n",
    "        # define the device, optimizer and circuit\n",
    "        print(f'symbols: {symbols} r: {r} hf : {hf_state} qubits : {qubits}')\n",
    "        dev = qml.device(\"default.qubit\", wires=qubits)\n",
    "        @qml.qnode(dev)\n",
    "        def exp_energy(state):\n",
    "            qml.BasisState(np.array(hf_state),wires=range(hf_state.shape[0]))\n",
    "            return qml.expval(H)\n",
    "\n",
    "        energy = exp_energy(hf)\n",
    "        print(energy)\n",
    "        hf_energies.append(energy)\n",
    "\n",
    "    return np.array(hf_energies)\n",
    "\n",
    "\n",
    "def ground_energy(hf_energies):\n",
    "    \"\"\"Finds the minimum energy of a molecule given its potential energy surface.\n",
    "\n",
    "    Args:\n",
    "        hf_energies (numpy.tensor):\n",
    "\n",
    "    Returns:\n",
    "        (float): The minumum energy in units of hartrees.\n",
    "    \"\"\"\n",
    "\n",
    "    ind = np.argmin(hf_energies)\n",
    "    return hf_energies[ind]\n",
    "\n",
    "def reaction():\n",
    "    \"\"\"Calculates the energy of the reactants, the activation energy, and the energy of\n",
    "    the products in that order.\n",
    "\n",
    "    Returns:\n",
    "        (numpy.tensor): [E_reactants, E_activation, E_products]\n",
    "    \"\"\"\n",
    "    molecules = {\n",
    "        \"H2\":\n",
    "            {\"symbols\": [\"H\", \"H\"], \"E0\": 0, \"E_dissociation\": 0, \"bond lengths\": np.arange(0.5, 9.3, 0.3)},\n",
    "        \"Li2\":\n",
    "            {\"symbols\": [\"Li\", \"Li\"], \"E0\": 0, \"E_dissociation\": 0, \"bond lengths\": np.arange(3.5, 8.3, 0.3)},\n",
    "        \"LiH\":\n",
    "            {\"symbols\": [\"Li\", \"H\"], \"E0\": 0, \"E_dissociation\": 0, \"bond lengths\": np.arange(2.0, 6.6, 0.3)}\n",
    "    }\n",
    "w\n",
    "\n",
    "    for molecule in molecules.keys():\n",
    "        symbols = molecules[molecule][\"symbols\"]\n",
    "        bond_lengths = molecules[molecule][\"bond lengths\"]\n",
    "        hf_energies = potential_energy_surface(symbols,bond_lengths)\n",
    "        e_0 = ground_energy(hf_energies)\n",
    "        e_dis = hf_energies[-1] - ground_energy(hf_energies)\n",
    "        molecules[molecule][\"E_dissociation\"] = e_dis\n",
    "        molecules[molecule][\"E0\"] = e_0\n",
    "        # populate each molecule's E0 and E_dissociation values\n",
    "\n",
    "    # Calculate the following and don't forget to balance the chemical reaction!\n",
    "    print(f\"molecules ; {molecules}\")\n",
    "    E_reactants = 0# calculate the energy of the reactants\n",
    "    E_activation = 0# calculate the activation energy\n",
    "    E_products = 0# calculate the energy of the products\n",
    "\n",
    "    return np.array([E_reactants, E_activation, E_products])\n",
    "\n",
    "\n",
    "# These functions are responsible for testing the solution.\n",
    "def run(test_case_input: str) -> str:\n",
    "    output = reaction().tolist()\n",
    "    return str(output)\n",
    "\n",
    "def check(solution_output: str, expected_output: str) -> None:\n",
    "    solution_output = json.loads(solution_output)\n",
    "    expected_output = json.loads(expected_output)\n",
    "\n",
    "    assert np.allclose(solution_output, expected_output, rtol=1e-3)"
   ],
   "metadata": {
    "collapsed": false,
    "pycharm": {
     "name": "#%%\n"
    }
   }
  },
  {
   "cell_type": "code",
   "execution_count": 71,
   "outputs": [
    {
     "name": "stdout",
     "output_type": "stream",
     "text": [
      "symbols: ['Li', 'Li'] r: 3.5 hf : [1 1 1 1 1 1 0 0 0 0] qubits : 20\n",
      "-14.592522803014079\n",
      "symbols: ['Li', 'Li'] r: 3.8 hf : [1 1 1 1 1 1 0 0 0 0] qubits : 20\n",
      "-14.610816593692068\n",
      "symbols: ['Li', 'Li'] r: 4.1 hf : [1 1 1 1 1 1 0 0 0 0] qubits : 20\n",
      "-14.62371022867268\n",
      "symbols: ['Li', 'Li'] r: 4.3999999999999995 hf : [1 1 1 1 1 1 0 0 0 0] qubits : 20\n",
      "-14.632068449126768\n",
      "symbols: ['Li', 'Li'] r: 4.699999999999999 hf : [1 1 1 1 1 1 0 0 0 0] qubits : 20\n",
      "-14.636781790503203\n",
      "symbols: ['Li', 'Li'] r: 4.999999999999999 hf : [1 1 1 1 1 1 0 0 0 0] qubits : 20\n",
      "-14.638642876919192\n",
      "symbols: ['Li', 'Li'] r: 5.299999999999999 hf : [1 1 1 1 1 1 0 0 0 0] qubits : 20\n",
      "-14.638310068978582\n",
      "symbols: ['Li', 'Li'] r: 5.599999999999999 hf : [1 1 1 1 1 1 0 0 0 0] qubits : 20\n",
      "-14.636311847949596\n",
      "symbols: ['Li', 'Li'] r: 5.899999999999999 hf : [1 1 1 1 1 1 0 0 0 0] qubits : 20\n",
      "-14.633066129281117\n",
      "symbols: ['Li', 'Li'] r: 6.199999999999998 hf : [1 1 1 1 1 1 0 0 0 0] qubits : 20\n",
      "-14.628902211114568\n",
      "symbols: ['Li', 'Li'] r: 6.499999999999998 hf : [1 1 1 1 1 1 0 0 0 0] qubits : 20\n",
      "-14.624080260125414\n",
      "symbols: ['Li', 'Li'] r: 6.799999999999998 hf : [1 1 1 1 1 1 0 0 0 0] qubits : 20\n",
      "-14.618806857192526\n",
      "symbols: ['Li', 'Li'] r: 7.099999999999998 hf : [1 1 1 1 1 1 0 0 0 0] qubits : 20\n",
      "-14.613246780621473\n",
      "symbols: ['Li', 'Li'] r: 7.399999999999998 hf : [1 1 1 1 1 1 0 0 0 0] qubits : 20\n",
      "-14.607531792262364\n",
      "symbols: ['Li', 'Li'] r: 7.6999999999999975 hf : [1 1 1 1 1 1 0 0 0 0] qubits : 20\n",
      "-14.601767248377797\n",
      "symbols: ['Li', 'Li'] r: 7.999999999999997 hf : [1 1 1 1 1 1 0 0 0 0] qubits : 20\n",
      "-14.596037196306376\n",
      "symbols: ['Li', 'Li'] r: 8.299999999999997 hf : [1 1 1 1 1 1 0 0 0 0] qubits : 20\n",
      "-14.505442931862394\n"
     ]
    },
    {
     "data": {
      "text/plain": "tensor([-14.5925228 , -14.61081659, -14.62371023, -14.63206845,\n        -14.63678179, -14.63864288, -14.63831007, -14.63631185,\n        -14.63306613, -14.62890221, -14.62408026, -14.61880686,\n        -14.61324678, -14.60753179, -14.60176725, -14.5960372 ,\n        -14.50544293], requires_grad=False)"
     },
     "execution_count": 71,
     "metadata": {},
     "output_type": "execute_result"
    }
   ],
   "source": [
    "potential_energy_surface([\"Li\", \"Li\"],np.arange(3.5, 8.3, 0.3))"
   ],
   "metadata": {
    "collapsed": false,
    "pycharm": {
     "name": "#%%\n"
    }
   }
  },
  {
   "cell_type": "code",
   "execution_count": 68,
   "outputs": [
    {
     "name": "stdout",
     "output_type": "stream",
     "text": [
      "symbols: ['H', 'H'] r: 0.5 hf : [1 1 0 0] qubits : 4\n",
      "symbols: ['H', 'H'] r: 0.8 hf : [1 1 0 0] qubits : 4\n",
      "symbols: ['H', 'H'] r: 1.1 hf : [1 1 0 0] qubits : 4\n",
      "symbols: ['H', 'H'] r: 1.4000000000000001 hf : [1 1 0 0] qubits : 4\n",
      "symbols: ['H', 'H'] r: 1.7000000000000002 hf : [1 1 0 0] qubits : 4\n",
      "symbols: ['H', 'H'] r: 2.0 hf : [1 1 0 0] qubits : 4\n",
      "symbols: ['H', 'H'] r: 2.3000000000000003 hf : [1 1 0 0] qubits : 4\n",
      "symbols: ['H', 'H'] r: 2.6000000000000005 hf : [1 1 0 0] qubits : 4\n",
      "symbols: ['H', 'H'] r: 2.9000000000000004 hf : [1 1 0 0] qubits : 4\n",
      "symbols: ['H', 'H'] r: 3.2 hf : [1 1 0 0] qubits : 4\n",
      "symbols: ['H', 'H'] r: 3.5000000000000004 hf : [1 1 0 0] qubits : 4\n",
      "symbols: ['H', 'H'] r: 3.8000000000000007 hf : [1 1 0 0] qubits : 4\n",
      "symbols: ['H', 'H'] r: 4.1000000000000005 hf : [1 1 0 0] qubits : 4\n",
      "symbols: ['H', 'H'] r: 4.4 hf : [1 1 0 0] qubits : 4\n",
      "symbols: ['H', 'H'] r: 4.700000000000001 hf : [1 1 0 0] qubits : 4\n",
      "symbols: ['H', 'H'] r: 5.000000000000001 hf : [1 1 0 0] qubits : 4\n",
      "symbols: ['H', 'H'] r: 5.300000000000001 hf : [1 1 0 0] qubits : 4\n",
      "symbols: ['H', 'H'] r: 5.6000000000000005 hf : [1 1 0 0] qubits : 4\n",
      "symbols: ['H', 'H'] r: 5.9 hf : [1 1 0 0] qubits : 4\n",
      "symbols: ['H', 'H'] r: 6.200000000000001 hf : [1 1 0 0] qubits : 4\n",
      "symbols: ['H', 'H'] r: 6.500000000000001 hf : [1 1 0 0] qubits : 4\n",
      "symbols: ['H', 'H'] r: 6.800000000000001 hf : [1 1 0 0] qubits : 4\n",
      "symbols: ['H', 'H'] r: 7.100000000000001 hf : [1 1 0 0] qubits : 4\n",
      "symbols: ['H', 'H'] r: 7.400000000000001 hf : [1 1 0 0] qubits : 4\n",
      "symbols: ['H', 'H'] r: 7.700000000000001 hf : [1 1 0 0] qubits : 4\n",
      "symbols: ['H', 'H'] r: 8.0 hf : [1 1 0 0] qubits : 4\n",
      "symbols: ['H', 'H'] r: 8.3 hf : [1 1 0 0] qubits : 4\n",
      "symbols: ['H', 'H'] r: 8.600000000000001 hf : [1 1 0 0] qubits : 4\n",
      "symbols: ['H', 'H'] r: 8.900000000000002 hf : [1 1 0 0] qubits : 4\n",
      "symbols: ['H', 'H'] r: 9.200000000000001 hf : [1 1 0 0] qubits : 4\n",
      "symbols: ['Li', 'Li'] r: 3.5 hf : [1 1 1 1 1 1 0 0 0 0] qubits : 20\n"
     ]
    },
    {
     "ename": "ValueError",
     "evalue": "BasisState parameter and wires must be of equal length.",
     "output_type": "error",
     "traceback": [
      "\u001B[1;31m---------------------------------------------------------------------------\u001B[0m",
      "\u001B[1;31mValueError\u001B[0m                                Traceback (most recent call last)",
      "Cell \u001B[1;32mIn[68], line 1\u001B[0m\n\u001B[1;32m----> 1\u001B[0m \u001B[43mreaction\u001B[49m\u001B[43m(\u001B[49m\u001B[43m)\u001B[49m\n",
      "Cell \u001B[1;32mIn[65], line 86\u001B[0m, in \u001B[0;36mreaction\u001B[1;34m()\u001B[0m\n\u001B[0;32m     84\u001B[0m symbols \u001B[38;5;241m=\u001B[39m molecules[molecule][\u001B[38;5;124m\"\u001B[39m\u001B[38;5;124msymbols\u001B[39m\u001B[38;5;124m\"\u001B[39m]\n\u001B[0;32m     85\u001B[0m bond_lengths \u001B[38;5;241m=\u001B[39m molecules[molecule][\u001B[38;5;124m\"\u001B[39m\u001B[38;5;124mbond lengths\u001B[39m\u001B[38;5;124m\"\u001B[39m]\n\u001B[1;32m---> 86\u001B[0m hf_energies \u001B[38;5;241m=\u001B[39m \u001B[43mpotential_energy_surface\u001B[49m\u001B[43m(\u001B[49m\u001B[43msymbols\u001B[49m\u001B[43m,\u001B[49m\u001B[43mbond_lengths\u001B[49m\u001B[43m)\u001B[49m\n\u001B[0;32m     87\u001B[0m e_0 \u001B[38;5;241m=\u001B[39m ground_energy(hf_energies)\n\u001B[0;32m     88\u001B[0m e_dis \u001B[38;5;241m=\u001B[39m hf_energies[\u001B[38;5;241m-\u001B[39m\u001B[38;5;241m1\u001B[39m] \u001B[38;5;241m-\u001B[39m ground_energy(hf_energies)\n",
      "Cell \u001B[1;32mIn[65], line 47\u001B[0m, in \u001B[0;36mpotential_energy_surface\u001B[1;34m(symbols, bond_lengths)\u001B[0m\n\u001B[0;32m     44\u001B[0m         qml\u001B[38;5;241m.\u001B[39mBasisState(np\u001B[38;5;241m.\u001B[39marray(hf_state),wires\u001B[38;5;241m=\u001B[39m\u001B[38;5;28mrange\u001B[39m(qubits))\n\u001B[0;32m     45\u001B[0m         \u001B[38;5;28;01mreturn\u001B[39;00m qml\u001B[38;5;241m.\u001B[39mexpval(H)\n\u001B[1;32m---> 47\u001B[0m     energy \u001B[38;5;241m=\u001B[39m \u001B[43mexp_energy\u001B[49m\u001B[43m(\u001B[49m\u001B[43mhf\u001B[49m\u001B[43m)\u001B[49m\n\u001B[0;32m     48\u001B[0m     hf_energies\u001B[38;5;241m.\u001B[39mappend(energy)\n\u001B[0;32m     50\u001B[0m \u001B[38;5;28;01mreturn\u001B[39;00m np\u001B[38;5;241m.\u001B[39marray(hf_energies)\n",
      "File \u001B[1;32m~\\anaconda3\\envs\\PennyLane_1\\lib\\site-packages\\pennylane\\qnode.py:1027\u001B[0m, in \u001B[0;36mQNode.__call__\u001B[1;34m(self, *args, **kwargs)\u001B[0m\n\u001B[0;32m   1022\u001B[0m         full_transform_program\u001B[38;5;241m.\u001B[39m_set_all_argnums(\n\u001B[0;32m   1023\u001B[0m             \u001B[38;5;28mself\u001B[39m, args, kwargs, argnums\n\u001B[0;32m   1024\u001B[0m         )  \u001B[38;5;66;03m# pylint: disable=protected-access\u001B[39;00m\n\u001B[0;32m   1026\u001B[0m \u001B[38;5;66;03m# pylint: disable=unexpected-keyword-arg\u001B[39;00m\n\u001B[1;32m-> 1027\u001B[0m res \u001B[38;5;241m=\u001B[39m qml\u001B[38;5;241m.\u001B[39mexecute(\n\u001B[0;32m   1028\u001B[0m     (\u001B[38;5;28mself\u001B[39m\u001B[38;5;241m.\u001B[39m_tape,),\n\u001B[0;32m   1029\u001B[0m     device\u001B[38;5;241m=\u001B[39m\u001B[38;5;28mself\u001B[39m\u001B[38;5;241m.\u001B[39mdevice,\n\u001B[0;32m   1030\u001B[0m     gradient_fn\u001B[38;5;241m=\u001B[39m\u001B[38;5;28mself\u001B[39m\u001B[38;5;241m.\u001B[39mgradient_fn,\n\u001B[0;32m   1031\u001B[0m     interface\u001B[38;5;241m=\u001B[39m\u001B[38;5;28mself\u001B[39m\u001B[38;5;241m.\u001B[39minterface,\n\u001B[0;32m   1032\u001B[0m     transform_program\u001B[38;5;241m=\u001B[39mfull_transform_program,\n\u001B[0;32m   1033\u001B[0m     config\u001B[38;5;241m=\u001B[39mconfig,\n\u001B[0;32m   1034\u001B[0m     gradient_kwargs\u001B[38;5;241m=\u001B[39m\u001B[38;5;28mself\u001B[39m\u001B[38;5;241m.\u001B[39mgradient_kwargs,\n\u001B[0;32m   1035\u001B[0m     override_shots\u001B[38;5;241m=\u001B[39moverride_shots,\n\u001B[0;32m   1036\u001B[0m     \u001B[38;5;241m*\u001B[39m\u001B[38;5;241m*\u001B[39m\u001B[38;5;28mself\u001B[39m\u001B[38;5;241m.\u001B[39mexecute_kwargs,\n\u001B[0;32m   1037\u001B[0m )\n\u001B[0;32m   1039\u001B[0m res \u001B[38;5;241m=\u001B[39m res[\u001B[38;5;241m0\u001B[39m]\n\u001B[0;32m   1041\u001B[0m \u001B[38;5;66;03m# convert result to the interface in case the qfunc has no parameters\u001B[39;00m\n",
      "File \u001B[1;32m~\\anaconda3\\envs\\PennyLane_1\\lib\\site-packages\\pennylane\\interfaces\\execution.py:616\u001B[0m, in \u001B[0;36mexecute\u001B[1;34m(tapes, device, gradient_fn, interface, transform_program, config, grad_on_execution, gradient_kwargs, cache, cachesize, max_diff, override_shots, expand_fn, max_expansion, device_batch_transform)\u001B[0m\n\u001B[0;32m    614\u001B[0m \u001B[38;5;66;03m# Exiting early if we do not need to deal with an interface boundary\u001B[39;00m\n\u001B[0;32m    615\u001B[0m \u001B[38;5;28;01mif\u001B[39;00m no_interface_boundary_required:\n\u001B[1;32m--> 616\u001B[0m     results \u001B[38;5;241m=\u001B[39m \u001B[43minner_execute\u001B[49m\u001B[43m(\u001B[49m\u001B[43mtapes\u001B[49m\u001B[43m)\u001B[49m\n\u001B[0;32m    617\u001B[0m     \u001B[38;5;28;01mreturn\u001B[39;00m post_processing(results)\n\u001B[0;32m    619\u001B[0m _grad_on_execution \u001B[38;5;241m=\u001B[39m \u001B[38;5;28;01mFalse\u001B[39;00m\n",
      "File \u001B[1;32m~\\anaconda3\\envs\\PennyLane_1\\lib\\site-packages\\pennylane\\interfaces\\execution.py:249\u001B[0m, in \u001B[0;36m_make_inner_execute.<locals>.inner_execute\u001B[1;34m(tapes, **_)\u001B[0m\n\u001B[0;32m    247\u001B[0m \u001B[38;5;28;01mif\u001B[39;00m numpy_only:\n\u001B[0;32m    248\u001B[0m     tapes \u001B[38;5;241m=\u001B[39m \u001B[38;5;28mtuple\u001B[39m(qml\u001B[38;5;241m.\u001B[39mtransforms\u001B[38;5;241m.\u001B[39mconvert_to_numpy_parameters(t) \u001B[38;5;28;01mfor\u001B[39;00m t \u001B[38;5;129;01min\u001B[39;00m tapes)\n\u001B[1;32m--> 249\u001B[0m \u001B[38;5;28;01mreturn\u001B[39;00m \u001B[43mcached_device_execution\u001B[49m\u001B[43m(\u001B[49m\u001B[43mtapes\u001B[49m\u001B[43m)\u001B[49m\n",
      "File \u001B[1;32m~\\anaconda3\\envs\\PennyLane_1\\lib\\site-packages\\pennylane\\interfaces\\execution.py:371\u001B[0m, in \u001B[0;36mcache_execute.<locals>.wrapper\u001B[1;34m(tapes, **kwargs)\u001B[0m\n\u001B[0;32m    366\u001B[0m         \u001B[38;5;28;01mreturn\u001B[39;00m (res, []) \u001B[38;5;28;01mif\u001B[39;00m return_tuple \u001B[38;5;28;01melse\u001B[39;00m res\n\u001B[0;32m    368\u001B[0m \u001B[38;5;28;01melse\u001B[39;00m:\n\u001B[0;32m    369\u001B[0m     \u001B[38;5;66;03m# execute all unique tapes that do not exist in the cache\u001B[39;00m\n\u001B[0;32m    370\u001B[0m     \u001B[38;5;66;03m# convert to list as new device interface returns a tuple\u001B[39;00m\n\u001B[1;32m--> 371\u001B[0m     res \u001B[38;5;241m=\u001B[39m \u001B[38;5;28mlist\u001B[39m(fn(\u001B[38;5;28mtuple\u001B[39m(execution_tapes\u001B[38;5;241m.\u001B[39mvalues()), \u001B[38;5;241m*\u001B[39m\u001B[38;5;241m*\u001B[39mkwargs))\n\u001B[0;32m    373\u001B[0m final_res \u001B[38;5;241m=\u001B[39m []\n\u001B[0;32m    375\u001B[0m \u001B[38;5;28;01mfor\u001B[39;00m i, tape \u001B[38;5;129;01min\u001B[39;00m \u001B[38;5;28menumerate\u001B[39m(tapes):\n",
      "File \u001B[1;32m~\\anaconda3\\envs\\PennyLane_1\\lib\\site-packages\\pennylane\\devices\\default_qubit.py:474\u001B[0m, in \u001B[0;36mDefaultQubit.execute\u001B[1;34m(self, circuits, execution_config)\u001B[0m\n\u001B[0;32m    468\u001B[0m interface \u001B[38;5;241m=\u001B[39m (\n\u001B[0;32m    469\u001B[0m     execution_config\u001B[38;5;241m.\u001B[39minterface\n\u001B[0;32m    470\u001B[0m     \u001B[38;5;28;01mif\u001B[39;00m execution_config\u001B[38;5;241m.\u001B[39mgradient_method \u001B[38;5;129;01min\u001B[39;00m {\u001B[38;5;124m\"\u001B[39m\u001B[38;5;124mbackprop\u001B[39m\u001B[38;5;124m\"\u001B[39m, \u001B[38;5;28;01mNone\u001B[39;00m}\n\u001B[0;32m    471\u001B[0m     \u001B[38;5;28;01melse\u001B[39;00m \u001B[38;5;28;01mNone\u001B[39;00m\n\u001B[0;32m    472\u001B[0m )\n\u001B[0;32m    473\u001B[0m \u001B[38;5;28;01mif\u001B[39;00m max_workers \u001B[38;5;129;01mis\u001B[39;00m \u001B[38;5;28;01mNone\u001B[39;00m:\n\u001B[1;32m--> 474\u001B[0m     results \u001B[38;5;241m=\u001B[39m \u001B[38;5;28;43mtuple\u001B[39;49m\u001B[43m(\u001B[49m\n\u001B[0;32m    475\u001B[0m \u001B[43m        \u001B[49m\u001B[43msimulate\u001B[49m\u001B[43m(\u001B[49m\n\u001B[0;32m    476\u001B[0m \u001B[43m            \u001B[49m\u001B[43mc\u001B[49m\u001B[43m,\u001B[49m\n\u001B[0;32m    477\u001B[0m \u001B[43m            \u001B[49m\u001B[43mrng\u001B[49m\u001B[38;5;241;43m=\u001B[39;49m\u001B[38;5;28;43mself\u001B[39;49m\u001B[38;5;241;43m.\u001B[39;49m\u001B[43m_rng\u001B[49m\u001B[43m,\u001B[49m\n\u001B[0;32m    478\u001B[0m \u001B[43m            \u001B[49m\u001B[43mprng_key\u001B[49m\u001B[38;5;241;43m=\u001B[39;49m\u001B[38;5;28;43mself\u001B[39;49m\u001B[38;5;241;43m.\u001B[39;49m\u001B[43m_prng_key\u001B[49m\u001B[43m,\u001B[49m\n\u001B[0;32m    479\u001B[0m \u001B[43m            \u001B[49m\u001B[43mdebugger\u001B[49m\u001B[38;5;241;43m=\u001B[39;49m\u001B[38;5;28;43mself\u001B[39;49m\u001B[38;5;241;43m.\u001B[39;49m\u001B[43m_debugger\u001B[49m\u001B[43m,\u001B[49m\n\u001B[0;32m    480\u001B[0m \u001B[43m            \u001B[49m\u001B[43minterface\u001B[49m\u001B[38;5;241;43m=\u001B[39;49m\u001B[43minterface\u001B[49m\u001B[43m,\u001B[49m\n\u001B[0;32m    481\u001B[0m \u001B[43m        \u001B[49m\u001B[43m)\u001B[49m\n\u001B[0;32m    482\u001B[0m \u001B[43m        \u001B[49m\u001B[38;5;28;43;01mfor\u001B[39;49;00m\u001B[43m \u001B[49m\u001B[43mc\u001B[49m\u001B[43m \u001B[49m\u001B[38;5;129;43;01min\u001B[39;49;00m\u001B[43m \u001B[49m\u001B[43mcircuits\u001B[49m\n\u001B[0;32m    483\u001B[0m \u001B[43m    \u001B[49m\u001B[43m)\u001B[49m\n\u001B[0;32m    484\u001B[0m \u001B[38;5;28;01melse\u001B[39;00m:\n\u001B[0;32m    485\u001B[0m     vanilla_circuits \u001B[38;5;241m=\u001B[39m [convert_to_numpy_parameters(c) \u001B[38;5;28;01mfor\u001B[39;00m c \u001B[38;5;129;01min\u001B[39;00m circuits]\n",
      "File \u001B[1;32m~\\anaconda3\\envs\\PennyLane_1\\lib\\site-packages\\pennylane\\devices\\default_qubit.py:475\u001B[0m, in \u001B[0;36m<genexpr>\u001B[1;34m(.0)\u001B[0m\n\u001B[0;32m    468\u001B[0m interface \u001B[38;5;241m=\u001B[39m (\n\u001B[0;32m    469\u001B[0m     execution_config\u001B[38;5;241m.\u001B[39minterface\n\u001B[0;32m    470\u001B[0m     \u001B[38;5;28;01mif\u001B[39;00m execution_config\u001B[38;5;241m.\u001B[39mgradient_method \u001B[38;5;129;01min\u001B[39;00m {\u001B[38;5;124m\"\u001B[39m\u001B[38;5;124mbackprop\u001B[39m\u001B[38;5;124m\"\u001B[39m, \u001B[38;5;28;01mNone\u001B[39;00m}\n\u001B[0;32m    471\u001B[0m     \u001B[38;5;28;01melse\u001B[39;00m \u001B[38;5;28;01mNone\u001B[39;00m\n\u001B[0;32m    472\u001B[0m )\n\u001B[0;32m    473\u001B[0m \u001B[38;5;28;01mif\u001B[39;00m max_workers \u001B[38;5;129;01mis\u001B[39;00m \u001B[38;5;28;01mNone\u001B[39;00m:\n\u001B[0;32m    474\u001B[0m     results \u001B[38;5;241m=\u001B[39m \u001B[38;5;28mtuple\u001B[39m(\n\u001B[1;32m--> 475\u001B[0m         \u001B[43msimulate\u001B[49m\u001B[43m(\u001B[49m\n\u001B[0;32m    476\u001B[0m \u001B[43m            \u001B[49m\u001B[43mc\u001B[49m\u001B[43m,\u001B[49m\n\u001B[0;32m    477\u001B[0m \u001B[43m            \u001B[49m\u001B[43mrng\u001B[49m\u001B[38;5;241;43m=\u001B[39;49m\u001B[38;5;28;43mself\u001B[39;49m\u001B[38;5;241;43m.\u001B[39;49m\u001B[43m_rng\u001B[49m\u001B[43m,\u001B[49m\n\u001B[0;32m    478\u001B[0m \u001B[43m            \u001B[49m\u001B[43mprng_key\u001B[49m\u001B[38;5;241;43m=\u001B[39;49m\u001B[38;5;28;43mself\u001B[39;49m\u001B[38;5;241;43m.\u001B[39;49m\u001B[43m_prng_key\u001B[49m\u001B[43m,\u001B[49m\n\u001B[0;32m    479\u001B[0m \u001B[43m            \u001B[49m\u001B[43mdebugger\u001B[49m\u001B[38;5;241;43m=\u001B[39;49m\u001B[38;5;28;43mself\u001B[39;49m\u001B[38;5;241;43m.\u001B[39;49m\u001B[43m_debugger\u001B[49m\u001B[43m,\u001B[49m\n\u001B[0;32m    480\u001B[0m \u001B[43m            \u001B[49m\u001B[43minterface\u001B[49m\u001B[38;5;241;43m=\u001B[39;49m\u001B[43minterface\u001B[49m\u001B[43m,\u001B[49m\n\u001B[0;32m    481\u001B[0m \u001B[43m        \u001B[49m\u001B[43m)\u001B[49m\n\u001B[0;32m    482\u001B[0m         \u001B[38;5;28;01mfor\u001B[39;00m c \u001B[38;5;129;01min\u001B[39;00m circuits\n\u001B[0;32m    483\u001B[0m     )\n\u001B[0;32m    484\u001B[0m \u001B[38;5;28;01melse\u001B[39;00m:\n\u001B[0;32m    485\u001B[0m     vanilla_circuits \u001B[38;5;241m=\u001B[39m [convert_to_numpy_parameters(c) \u001B[38;5;28;01mfor\u001B[39;00m c \u001B[38;5;129;01min\u001B[39;00m circuits]\n",
      "File \u001B[1;32m~\\anaconda3\\envs\\PennyLane_1\\lib\\site-packages\\pennylane\\devices\\qubit\\simulate.py:269\u001B[0m, in \u001B[0;36msimulate\u001B[1;34m(circuit, rng, prng_key, debugger, interface)\u001B[0m\n\u001B[0;32m    238\u001B[0m \u001B[38;5;28;01mdef\u001B[39;00m \u001B[38;5;21msimulate\u001B[39m(\n\u001B[0;32m    239\u001B[0m     circuit: qml\u001B[38;5;241m.\u001B[39mtape\u001B[38;5;241m.\u001B[39mQuantumScript, rng\u001B[38;5;241m=\u001B[39m\u001B[38;5;28;01mNone\u001B[39;00m, prng_key\u001B[38;5;241m=\u001B[39m\u001B[38;5;28;01mNone\u001B[39;00m, debugger\u001B[38;5;241m=\u001B[39m\u001B[38;5;28;01mNone\u001B[39;00m, interface\u001B[38;5;241m=\u001B[39m\u001B[38;5;28;01mNone\u001B[39;00m\n\u001B[0;32m    240\u001B[0m ) \u001B[38;5;241m-\u001B[39m\u001B[38;5;241m>\u001B[39m Result:\n\u001B[0;32m    241\u001B[0m \u001B[38;5;250m    \u001B[39m\u001B[38;5;124;03m\"\"\"Simulate a single quantum script.\u001B[39;00m\n\u001B[0;32m    242\u001B[0m \n\u001B[0;32m    243\u001B[0m \u001B[38;5;124;03m    This is an internal function that will be called by the successor to ``default.qubit``.\u001B[39;00m\n\u001B[1;32m   (...)\u001B[0m\n\u001B[0;32m    267\u001B[0m \n\u001B[0;32m    268\u001B[0m \u001B[38;5;124;03m    \"\"\"\u001B[39;00m\n\u001B[1;32m--> 269\u001B[0m     state, is_state_batched \u001B[38;5;241m=\u001B[39m \u001B[43mget_final_state\u001B[49m\u001B[43m(\u001B[49m\u001B[43mcircuit\u001B[49m\u001B[43m,\u001B[49m\u001B[43m \u001B[49m\u001B[43mdebugger\u001B[49m\u001B[38;5;241;43m=\u001B[39;49m\u001B[43mdebugger\u001B[49m\u001B[43m,\u001B[49m\u001B[43m \u001B[49m\u001B[43minterface\u001B[49m\u001B[38;5;241;43m=\u001B[39;49m\u001B[43minterface\u001B[49m\u001B[43m)\u001B[49m\n\u001B[0;32m    270\u001B[0m     \u001B[38;5;28;01mreturn\u001B[39;00m measure_final_state(circuit, state, is_state_batched, rng\u001B[38;5;241m=\u001B[39mrng, prng_key\u001B[38;5;241m=\u001B[39mprng_key)\n",
      "File \u001B[1;32m~\\anaconda3\\envs\\PennyLane_1\\lib\\site-packages\\pennylane\\devices\\qubit\\simulate.py:156\u001B[0m, in \u001B[0;36mget_final_state\u001B[1;34m(circuit, debugger, interface)\u001B[0m\n\u001B[0;32m    153\u001B[0m \u001B[38;5;28;01mif\u001B[39;00m \u001B[38;5;28mlen\u001B[39m(circuit) \u001B[38;5;241m>\u001B[39m \u001B[38;5;241m0\u001B[39m \u001B[38;5;129;01mand\u001B[39;00m \u001B[38;5;28misinstance\u001B[39m(circuit[\u001B[38;5;241m0\u001B[39m], qml\u001B[38;5;241m.\u001B[39moperation\u001B[38;5;241m.\u001B[39mStatePrepBase):\n\u001B[0;32m    154\u001B[0m     prep \u001B[38;5;241m=\u001B[39m circuit[\u001B[38;5;241m0\u001B[39m]\n\u001B[1;32m--> 156\u001B[0m state \u001B[38;5;241m=\u001B[39m \u001B[43mcreate_initial_state\u001B[49m\u001B[43m(\u001B[49m\u001B[38;5;28;43msorted\u001B[39;49m\u001B[43m(\u001B[49m\u001B[43mcircuit\u001B[49m\u001B[38;5;241;43m.\u001B[39;49m\u001B[43mop_wires\u001B[49m\u001B[43m)\u001B[49m\u001B[43m,\u001B[49m\u001B[43m \u001B[49m\u001B[43mprep\u001B[49m\u001B[43m,\u001B[49m\u001B[43m \u001B[49m\u001B[43mlike\u001B[49m\u001B[38;5;241;43m=\u001B[39;49m\u001B[43mINTERFACE_TO_LIKE\u001B[49m\u001B[43m[\u001B[49m\u001B[43minterface\u001B[49m\u001B[43m]\u001B[49m\u001B[43m)\u001B[49m\n\u001B[0;32m    158\u001B[0m \u001B[38;5;66;03m# initial state is batched only if the state preparation (if it exists) is batched\u001B[39;00m\n\u001B[0;32m    159\u001B[0m is_state_batched \u001B[38;5;241m=\u001B[39m \u001B[38;5;28mbool\u001B[39m(prep \u001B[38;5;129;01mand\u001B[39;00m prep\u001B[38;5;241m.\u001B[39mbatch_size \u001B[38;5;129;01mis\u001B[39;00m \u001B[38;5;129;01mnot\u001B[39;00m \u001B[38;5;28;01mNone\u001B[39;00m)\n",
      "File \u001B[1;32m~\\anaconda3\\envs\\PennyLane_1\\lib\\site-packages\\pennylane\\devices\\qubit\\initialize_state.py:45\u001B[0m, in \u001B[0;36mcreate_initial_state\u001B[1;34m(wires, prep_operation, like)\u001B[0m\n\u001B[0;32m     42\u001B[0m     state[(\u001B[38;5;241m0\u001B[39m,) \u001B[38;5;241m*\u001B[39m num_wires] \u001B[38;5;241m=\u001B[39m \u001B[38;5;241m1\u001B[39m\n\u001B[0;32m     43\u001B[0m     \u001B[38;5;28;01mreturn\u001B[39;00m qml\u001B[38;5;241m.\u001B[39mmath\u001B[38;5;241m.\u001B[39masarray(state, like\u001B[38;5;241m=\u001B[39mlike)\n\u001B[1;32m---> 45\u001B[0m \u001B[38;5;28;01mreturn\u001B[39;00m qml\u001B[38;5;241m.\u001B[39mmath\u001B[38;5;241m.\u001B[39masarray(\u001B[43mprep_operation\u001B[49m\u001B[38;5;241;43m.\u001B[39;49m\u001B[43mstate_vector\u001B[49m\u001B[43m(\u001B[49m\u001B[43mwire_order\u001B[49m\u001B[38;5;241;43m=\u001B[39;49m\u001B[38;5;28;43mlist\u001B[39;49m\u001B[43m(\u001B[49m\u001B[43mwires\u001B[49m\u001B[43m)\u001B[49m\u001B[43m)\u001B[49m, like\u001B[38;5;241m=\u001B[39mlike)\n",
      "File \u001B[1;32m~\\anaconda3\\envs\\PennyLane_1\\lib\\site-packages\\pennylane\\ops\\qubit\\state_preparation.py:106\u001B[0m, in \u001B[0;36mBasisState.state_vector\u001B[1;34m(self, wire_order)\u001B[0m\n\u001B[0;32m    103\u001B[0m     \u001B[38;5;28;01mraise\u001B[39;00m \u001B[38;5;167;01mValueError\u001B[39;00m(\u001B[38;5;124m\"\u001B[39m\u001B[38;5;124mBasisState parameter must consist of 0 or 1 integers.\u001B[39m\u001B[38;5;124m\"\u001B[39m)\n\u001B[0;32m    105\u001B[0m \u001B[38;5;28;01mif\u001B[39;00m (num_wires \u001B[38;5;241m:=\u001B[39m \u001B[38;5;28mlen\u001B[39m(\u001B[38;5;28mself\u001B[39m\u001B[38;5;241m.\u001B[39mwires)) \u001B[38;5;241m!=\u001B[39m \u001B[38;5;28mlen\u001B[39m(prep_vals):\n\u001B[1;32m--> 106\u001B[0m     \u001B[38;5;28;01mraise\u001B[39;00m \u001B[38;5;167;01mValueError\u001B[39;00m(\u001B[38;5;124m\"\u001B[39m\u001B[38;5;124mBasisState parameter and wires must be of equal length.\u001B[39m\u001B[38;5;124m\"\u001B[39m)\n\u001B[0;32m    108\u001B[0m prep_vals \u001B[38;5;241m=\u001B[39m math\u001B[38;5;241m.\u001B[39mcast(prep_vals, \u001B[38;5;28mint\u001B[39m)\n\u001B[0;32m    109\u001B[0m \u001B[38;5;28;01mif\u001B[39;00m wire_order \u001B[38;5;129;01mis\u001B[39;00m \u001B[38;5;28;01mNone\u001B[39;00m:\n",
      "\u001B[1;31mValueError\u001B[0m: BasisState parameter and wires must be of equal length."
     ]
    }
   ],
   "source": [
    "reaction()"
   ],
   "metadata": {
    "collapsed": false,
    "pycharm": {
     "name": "#%%\n"
    }
   }
  },
  {
   "cell_type": "code",
   "execution_count": 69,
   "outputs": [
    {
     "data": {
      "text/plain": "tensor([1, 1, 1, 1, 1, 1, 0, 0, 0, 0], requires_grad=True)"
     },
     "execution_count": 69,
     "metadata": {},
     "output_type": "execute_result"
    }
   ],
   "source": [
    "def my_hf_state(electrons: int, orbitals: int) -> np.ndarray:\n",
    "    return np.array([1]*electrons + [0]*(orbitals-electrons))\n",
    "my_hf_state(6,10)"
   ],
   "metadata": {
    "collapsed": false,
    "pycharm": {
     "name": "#%%\n"
    }
   }
  },
  {
   "cell_type": "markdown",
   "source": [
    "Bond dissociation in a Hydrogen molecule\n",
    "----------------------------------------\n",
    "This circuit will be optimized to prepare ground states for different configurations of the molecule."
   ],
   "metadata": {
    "collapsed": false
   }
  },
  {
   "cell_type": "markdown",
   "source": [
    "$H_2 -> H + H$"
   ],
   "metadata": {
    "collapsed": false
   }
  },
  {
   "cell_type": "code",
   "execution_count": 40,
   "outputs": [
    {
     "data": {
      "text/plain": "[tensor(-0.40332644, requires_grad=True),\n tensor(-0.94730793, requires_grad=True),\n tensor(-1.0945641, requires_grad=True),\n tensor(-1.11671433, requires_grad=True),\n tensor(-1.09200585, requires_grad=True),\n tensor(-1.0491709, requires_grad=True),\n tensor(-0.99964323, requires_grad=True),\n tensor(-0.94904315, requires_grad=True),\n tensor(-0.90060359, requires_grad=True),\n tensor(-0.85609692, requires_grad=True),\n tensor(-0.81634416, requires_grad=True),\n tensor(-0.78156784, requires_grad=True),\n tensor(-0.75161246, requires_grad=True),\n tensor(-0.72609682, requires_grad=True),\n tensor(-0.70453368, requires_grad=True),\n tensor(-0.68641593, requires_grad=True),\n tensor(-0.67126398, requires_grad=True),\n tensor(-0.65864203, requires_grad=True),\n tensor(-0.64815813, requires_grad=True),\n tensor(-0.63946079, requires_grad=True),\n tensor(-0.63223745, requires_grad=True),\n tensor(-0.626215, requires_grad=True),\n tensor(-0.62116033, requires_grad=True),\n tensor(-0.61687936, requires_grad=True),\n tensor(-0.6132142, requires_grad=True),\n tensor(-0.6100389, requires_grad=True),\n tensor(-0.6072544, requires_grad=True),\n tensor(-0.6047836, requires_grad=True),\n tensor(-0.60256683, requires_grad=True),\n tensor(-0.60055796, requires_grad=True)]"
     },
     "execution_count": 40,
     "metadata": {},
     "output_type": "execute_result"
    }
   ],
   "source": [
    "import pennylane as qml\n",
    "from pennylane import qchem\n",
    "\n",
    "# Hartree-Fock state\n",
    "hf = qml.qchem.hf_state(electrons=2, orbitals=4)\n",
    "# atomic symbols defining the molecule\n",
    "symbols = ['H', 'H']\n",
    "# list to store energies\n",
    "energies = []\n",
    "# set up a loop to change bond length\n",
    "r_range = np.arange(0.5, 9.3, 0.3)\n",
    "for r in r_range:\n",
    "    # Change only the z coordinate of one atom\n",
    "    coordinates = np.array([0.0, 0.0, 0.0, 0.0, 0.0, r])\n",
    "    # Obtain the qubit Hamiltonian\n",
    "    H, qubits = qchem.molecular_hamiltonian(symbols, coordinates, method='dhf')\n",
    "    # define the device, optimizer and circuit\n",
    "\n",
    "    dev = qml.device(\"default.qubit\", wires=qubits)\n",
    "    @qml.qnode(dev)\n",
    "    def exp_energy(state):\n",
    "        qml.BasisState(np.array(state),wires=range(qubits))\n",
    "        return qml.expval(H)\n",
    "\n",
    "    energy = exp_energy(hf)\n",
    "    energies.append(energy)\n",
    "energies"
   ],
   "metadata": {
    "collapsed": false,
    "pycharm": {
     "name": "#%%\n"
    }
   }
  },
  {
   "cell_type": "code",
   "execution_count": 15,
   "outputs": [
    {
     "data": {
      "text/plain": "<Figure size 640x480 with 1 Axes>",
      "image/png": "[encoded data removed]"
     },
     "metadata": {},
     "output_type": "display_data"
    }
   ],
   "source": [
    "import matplotlib.pyplot as plt\n",
    "fig, ax = plt.subplots()\n",
    "ax.plot(r_range, energies)\n",
    "\n",
    "ax.set(\n",
    "    xlabel=\"Bond length (Bohr)\",\n",
    "    ylabel=\"Total energy (Hartree)\",\n",
    "    title=\"Potential energy surface for H$_2$ dissociation\",\n",
    ")\n",
    "ax.grid()\n",
    "plt.show()"
   ],
   "metadata": {
    "collapsed": false,
    "pycharm": {
     "name": "#%%\n"
    }
   }
  },
  {
   "cell_type": "code",
   "execution_count": 45,
   "outputs": [
    {
     "data": {
      "text/plain": "array(-1.06599946)"
     },
     "execution_count": 45,
     "metadata": {},
     "output_type": "execute_result"
    }
   ],
   "source": [
    "symbols  = ['H', 'H']\n",
    "geometry = np.array([[0.0, 0.0, 0.0], [0.0, 0.0, 1.0]], requires_grad = True)\n",
    "mol = qml.qchem.Molecule(symbols, geometry)\n",
    "cost = qchem.hf_energy(mol)(geometry)\n",
    "cost"
   ],
   "metadata": {
    "collapsed": false,
    "pycharm": {
     "name": "#%%\n"
    }
   }
  },
  {
   "cell_type": "code",
   "execution_count": 46,
   "outputs": [],
   "source": [
    "def potential_energy_surface(symbols, bond_lengths):\n",
    "    \"\"\"Calculates the molecular energy over various bond lengths (AKA the\n",
    "    potential energy surface) using the Hartree Fock method.\n",
    "\n",
    "    Args:\n",
    "        symbols (list(string)):\n",
    "            A list of atomic symbols that comprise the diatomic molecule of interest.\n",
    "        bond_lengths (numpy.tensor): Bond lengths to calculate the energy over.\n",
    "\n",
    "\n",
    "    Returns:\n",
    "        hf_energies (numpy.tensor):\n",
    "            The Hartree Fock energies at every bond length value.\n",
    "    \"\"\"\n",
    "    hf_energies = []\n",
    "    # Hartree-Fock state\n",
    "    hf = qml.qchem.hf_state(electrons=2, orbitals=4)\n",
    "\n",
    "    for r in bond_lengths:\n",
    "        # Change only the z coordinate of one atom\n",
    "        coordinates = np.array([0.0, 0.0, 0.0, 0.0, 0.0, r])\n",
    "        # Obtain the qubit Hamiltonian\n",
    "        H, qubits = qchem.molecular_hamiltonian(symbols, coordinates)\n",
    "        # define the device, optimizer and circuit\n",
    "        print(f'symbols: {symbols} r: {r} hf : {hf} qubits : {qubits}')\n",
    "        dev = qml.device(\"default.qubit\", wires=qubits)\n",
    "        @qml.qnode(dev)\n",
    "        def exp_energy(state):\n",
    "            qml.BasisState(np.array(state),wires=range(qubits))\n",
    "            return qml.expval(H)\n",
    "\n",
    "        energy = exp_energy(hf)\n",
    "        hf_energies.append(energy)\n",
    "\n",
    "    return np.array(hf_energies)"
   ],
   "metadata": {
    "collapsed": false,
    "pycharm": {
     "name": "#%%\n"
    }
   }
  },
  {
   "cell_type": "code",
   "execution_count": 57,
   "outputs": [
    {
     "data": {
      "text/plain": "tensor([1, 1, 1, 1, 0, 0], requires_grad=True)"
     },
     "execution_count": 57,
     "metadata": {},
     "output_type": "execute_result"
    }
   ],
   "source": [
    "  # Hartree-Fock state\n",
    "hf = qml.qchem.hf_state(electrons=4, orbitals=6)\n",
    "hf"
   ],
   "metadata": {
    "collapsed": false,
    "pycharm": {
     "name": "#%%\n"
    }
   }
  },
  {
   "cell_type": "code",
   "execution_count": 63,
   "outputs": [],
   "source": [
    "def potential_energy_surface_1(symbols, bond_lengths):\n",
    "    hf_energies = []\n",
    "\n",
    "    # Loop over each bond length\n",
    "    for d in bond_lengths:\n",
    "        # Define the molecular geometry for this bond length\n",
    "        geometry = np.array([[symbols[0], [0.0, 0.0, 0.0]],\n",
    "                             [symbols[1], [0.0, 0.0, d]]])\n",
    "\n",
    "        # Generate the Hartree-Fock molecule\n",
    "        mol = qml.qchem.Molecule(symbols, geometry)\n",
    "\n",
    "        # Create a quantum device with enough wires\n",
    "        num_wires = mol.n_orbitals\n",
    "        dev = qml.device('default.qubit', wires=num_wires)\n",
    "\n",
    "        # Define the Hartree-Fock state preparation and observable\n",
    "        @qml.qnode(dev)\n",
    "        def circuit():\n",
    "            qml.BasisState(hf, wires=wires)(mol.hf_state)(wires=range(num_wires))\n",
    "            return qml.expval(qml.Hamiltonian(mol.hf_energy(), []))\n",
    "\n",
    "        # Calculate and store the Hartree-Fock energy\n",
    "        hf_energies.append(circuit())\n",
    "\n",
    "    return np.array(hf_energies)"
   ],
   "metadata": {
    "collapsed": false,
    "pycharm": {
     "name": "#%%\n"
    }
   }
  },
  {
   "cell_type": "code",
   "execution_count": 64,
   "outputs": [
    {
     "ename": "AttributeError",
     "evalue": "'tensor' object has no attribute 'state'",
     "output_type": "error",
     "traceback": [
      "\u001B[1;31m---------------------------------------------------------------------------\u001B[0m",
      "\u001B[1;31mAttributeError\u001B[0m                            Traceback (most recent call last)",
      "Cell \u001B[1;32mIn[64], line 1\u001B[0m\n\u001B[1;32m----> 1\u001B[0m \u001B[43mpotential_energy_surface_1\u001B[49m\u001B[43m(\u001B[49m\u001B[43m[\u001B[49m\u001B[38;5;124;43m\"\u001B[39;49m\u001B[38;5;124;43mH\u001B[39;49m\u001B[38;5;124;43m\"\u001B[39;49m\u001B[43m,\u001B[49m\u001B[43m \u001B[49m\u001B[38;5;124;43m\"\u001B[39;49m\u001B[38;5;124;43mH\u001B[39;49m\u001B[38;5;124;43m\"\u001B[39;49m\u001B[43m]\u001B[49m\u001B[43m,\u001B[49m\u001B[43mnp\u001B[49m\u001B[38;5;241;43m.\u001B[39;49m\u001B[43marange\u001B[49m\u001B[43m(\u001B[49m\u001B[38;5;241;43m3.5\u001B[39;49m\u001B[43m,\u001B[49m\u001B[43m \u001B[49m\u001B[38;5;241;43m8.3\u001B[39;49m\u001B[43m,\u001B[49m\u001B[43m \u001B[49m\u001B[38;5;241;43m0.3\u001B[39;49m\u001B[43m)\u001B[49m\u001B[43m)\u001B[49m\n",
      "Cell \u001B[1;32mIn[63], line 24\u001B[0m, in \u001B[0;36mpotential_energy_surface_1\u001B[1;34m(symbols, bond_lengths)\u001B[0m\n\u001B[0;32m     21\u001B[0m         \u001B[38;5;28;01mreturn\u001B[39;00m qml\u001B[38;5;241m.\u001B[39mexpval(qml\u001B[38;5;241m.\u001B[39mHamiltonian(mol\u001B[38;5;241m.\u001B[39mhf_energy(), []))\n\u001B[0;32m     23\u001B[0m     \u001B[38;5;66;03m# Calculate and store the Hartree-Fock energy\u001B[39;00m\n\u001B[1;32m---> 24\u001B[0m     hf_energies\u001B[38;5;241m.\u001B[39mappend(\u001B[43mcircuit\u001B[49m\u001B[43m(\u001B[49m\u001B[43m)\u001B[49m)\n\u001B[0;32m     26\u001B[0m \u001B[38;5;28;01mreturn\u001B[39;00m np\u001B[38;5;241m.\u001B[39marray(hf_energies)\n",
      "File \u001B[1;32m~\\anaconda3\\envs\\PennyLane_1\\lib\\site-packages\\pennylane\\qnode.py:970\u001B[0m, in \u001B[0;36mQNode.__call__\u001B[1;34m(self, *args, **kwargs)\u001B[0m\n\u001B[0;32m    967\u001B[0m         kwargs[\u001B[38;5;124m\"\u001B[39m\u001B[38;5;124mshots\u001B[39m\u001B[38;5;124m\"\u001B[39m] \u001B[38;5;241m=\u001B[39m _get_device_shots(\u001B[38;5;28mself\u001B[39m\u001B[38;5;241m.\u001B[39m_original_device)\n\u001B[0;32m    969\u001B[0m \u001B[38;5;66;03m# construct the tape\u001B[39;00m\n\u001B[1;32m--> 970\u001B[0m \u001B[38;5;28;43mself\u001B[39;49m\u001B[38;5;241;43m.\u001B[39;49m\u001B[43mconstruct\u001B[49m\u001B[43m(\u001B[49m\u001B[43margs\u001B[49m\u001B[43m,\u001B[49m\u001B[43m \u001B[49m\u001B[43mkwargs\u001B[49m\u001B[43m)\u001B[49m\n\u001B[0;32m    972\u001B[0m cache \u001B[38;5;241m=\u001B[39m \u001B[38;5;28mself\u001B[39m\u001B[38;5;241m.\u001B[39mexecute_kwargs\u001B[38;5;241m.\u001B[39mget(\u001B[38;5;124m\"\u001B[39m\u001B[38;5;124mcache\u001B[39m\u001B[38;5;124m\"\u001B[39m, \u001B[38;5;28;01mFalse\u001B[39;00m)\n\u001B[0;32m    973\u001B[0m using_custom_cache \u001B[38;5;241m=\u001B[39m (\n\u001B[0;32m    974\u001B[0m     \u001B[38;5;28mhasattr\u001B[39m(cache, \u001B[38;5;124m\"\u001B[39m\u001B[38;5;124m__getitem__\u001B[39m\u001B[38;5;124m\"\u001B[39m)\n\u001B[0;32m    975\u001B[0m     \u001B[38;5;129;01mand\u001B[39;00m \u001B[38;5;28mhasattr\u001B[39m(cache, \u001B[38;5;124m\"\u001B[39m\u001B[38;5;124m__setitem__\u001B[39m\u001B[38;5;124m\"\u001B[39m)\n\u001B[0;32m    976\u001B[0m     \u001B[38;5;129;01mand\u001B[39;00m \u001B[38;5;28mhasattr\u001B[39m(cache, \u001B[38;5;124m\"\u001B[39m\u001B[38;5;124m__delitem__\u001B[39m\u001B[38;5;124m\"\u001B[39m)\n\u001B[0;32m    977\u001B[0m )\n",
      "File \u001B[1;32m~\\anaconda3\\envs\\PennyLane_1\\lib\\site-packages\\pennylane\\qnode.py:856\u001B[0m, in \u001B[0;36mQNode.construct\u001B[1;34m(self, args, kwargs)\u001B[0m\n\u001B[0;32m    853\u001B[0m     \u001B[38;5;28mself\u001B[39m\u001B[38;5;241m.\u001B[39minterface \u001B[38;5;241m=\u001B[39m qml\u001B[38;5;241m.\u001B[39mmath\u001B[38;5;241m.\u001B[39mget_interface(\u001B[38;5;241m*\u001B[39margs, \u001B[38;5;241m*\u001B[39m\u001B[38;5;28mlist\u001B[39m(kwargs\u001B[38;5;241m.\u001B[39mvalues()))\n\u001B[0;32m    855\u001B[0m \u001B[38;5;28;01mwith\u001B[39;00m qml\u001B[38;5;241m.\u001B[39mqueuing\u001B[38;5;241m.\u001B[39mAnnotatedQueue() \u001B[38;5;28;01mas\u001B[39;00m q:\n\u001B[1;32m--> 856\u001B[0m     \u001B[38;5;28mself\u001B[39m\u001B[38;5;241m.\u001B[39m_qfunc_output \u001B[38;5;241m=\u001B[39m \u001B[38;5;28mself\u001B[39m\u001B[38;5;241m.\u001B[39mfunc(\u001B[38;5;241m*\u001B[39margs, \u001B[38;5;241m*\u001B[39m\u001B[38;5;241m*\u001B[39mkwargs)\n\u001B[0;32m    858\u001B[0m \u001B[38;5;28mself\u001B[39m\u001B[38;5;241m.\u001B[39m_tape \u001B[38;5;241m=\u001B[39m QuantumScript\u001B[38;5;241m.\u001B[39mfrom_queue(q, shots)\n\u001B[0;32m    860\u001B[0m params \u001B[38;5;241m=\u001B[39m \u001B[38;5;28mself\u001B[39m\u001B[38;5;241m.\u001B[39mtape\u001B[38;5;241m.\u001B[39mget_parameters(trainable_only\u001B[38;5;241m=\u001B[39m\u001B[38;5;28;01mFalse\u001B[39;00m)\n",
      "Cell \u001B[1;32mIn[63], line 20\u001B[0m, in \u001B[0;36mpotential_energy_surface_1.<locals>.circuit\u001B[1;34m()\u001B[0m\n\u001B[0;32m     18\u001B[0m \u001B[38;5;129m@qml\u001B[39m\u001B[38;5;241m.\u001B[39mqnode(dev)\n\u001B[0;32m     19\u001B[0m \u001B[38;5;28;01mdef\u001B[39;00m \u001B[38;5;21mcircuit\u001B[39m():\n\u001B[1;32m---> 20\u001B[0m     \u001B[43mhf\u001B[49m\u001B[38;5;241;43m.\u001B[39;49m\u001B[43mstate\u001B[49m(mol)(wires\u001B[38;5;241m=\u001B[39m\u001B[38;5;28mrange\u001B[39m(num_wires))\n\u001B[0;32m     21\u001B[0m     \u001B[38;5;28;01mreturn\u001B[39;00m qml\u001B[38;5;241m.\u001B[39mexpval(qml\u001B[38;5;241m.\u001B[39mHamiltonian(mol\u001B[38;5;241m.\u001B[39mhf_energy(), []))\n",
      "\u001B[1;31mAttributeError\u001B[0m: 'tensor' object has no attribute 'state'"
     ]
    }
   ],
   "source": [
    "potential_energy_surface_1([\"H\", \"H\"],np.arange(3.5, 8.3, 0.3))"
   ],
   "metadata": {
    "collapsed": false,
    "pycharm": {
     "name": "#%%\n"
    }
   }
  },
  {
   "cell_type": "code",
   "execution_count": null,
   "outputs": [],
   "source": [],
   "metadata": {
    "collapsed": false,
    "pycharm": {
     "name": "#%%\n"
    }
   }
  }
 ],
 "metadata": {
  "kernelspec": {
   "display_name": "Python 3",
   "language": "python",
   "name": "python3"
  },
  "language_info": {
   "codemirror_mode": {
    "name": "ipython",
    "version": 2
   },
   "file_extension": ".py",
   "mimetype": "text/x-python",
   "name": "python",
   "nbconvert_exporter": "python",
   "pygments_lexer": "ipython2",
   "version": "2.7.6"
  }
 },
 "nbformat": 4,
 "nbformat_minor": 0
}