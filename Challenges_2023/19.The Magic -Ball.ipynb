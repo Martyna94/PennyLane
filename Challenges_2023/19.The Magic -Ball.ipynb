{
 "cells": [
  {
   "cell_type": "markdown",
   "metadata": {
    "collapsed": true,
    "pycharm": {
     "name": "#%% md\n"
    }
   },
   "source": []
  },
  {
   "cell_type": "markdown",
   "source": [
    "### Backstory\n",
    "\n",
    "Doc Trine has been kidnapped by a freelance security analyst, Ove, and held in some sort of 'hyperjail'. Zenda and Reece need to figure out where it is and how to get there, using only the janky equipment lying around the office. Once they've rescued her, maybe Doc Trine will finally\n",
    "reveal the secret of timbits!\n",
    "\n",
    "At Trine's desk, they find her notebook, full of diagrams, calculations, and dense, messy handwriting. Leafing through them, Zenda and Reece discover a note helpfully explaining\n",
    "what this hyperjail is: \"*A 5-dimensional hypercube, accessed from some unknown point in deep space. Should get those robots out there some time.*\" Robots? They keep reading: \"*Cell number is in the magic 5-ball.*\" They root around in the games room and find a dusty old magic 5-ball, which outputs 'yes' and 'no' answers to a 5-bit input. Presumably (though who knows how) Trine has concealed her location in this oracle. They have another problem, though. The fault-tolerant\n",
    "office equipment has disappeared along with Trine, leaving only noisy old circuitry!\n",
    "\n",
    "### Noisy Bernstein–Vazirani\n",
    "\n",
    "The oracle encodes the cell number $(c \\in \\{0, 1\\}^{5}\\$, a $5$-bit string.\n",
    "Consider the dot product\n",
    "\n",
    "$$\n",
    "f(x) = x \\cdot c = x_0 c_0 + x_1 c_1 + \\cdots + x_5 c_5 \\mod 2,\n",
    "$$\n",
    "\n",
    "where $x \\in \\{0, 1\\}^5$ is an arbitrary $5$-bit string. The oracle is\n",
    "a unitary operator $U_f$ which encodes the dot product $f$\n",
    "as a phase:\n",
    "\n",
    "$$\n",
    "U_f \\vert x\\rangle = (-1)^{f(x)} \\vert x\\rangle.\n",
    "$$\n",
    "\n",
    "Zenda and Reece need to use this oracle to learn the starting positions\n",
    "$c$, but equipment in the old lab is noisy, with *depolarizing noise*,\n",
    "which with some probability $\\lambda$ replaces a qubit state with\n",
    "something random.\n",
    "Despite the noise, Zenda and Reece can attempt to learn Doc Trine's\n",
    "coordinates using the *Bernstein–Vazirani algorithm*.\n",
    "We picture the noisy circuit below:\n",
    "\n",
    "<center>\n",
    "<img src=\"./images/bv.png\" alt=\"Noisy Bernstein-Vazirani\" width=\"350\">\n",
    "</center>\n",
    "\n",
    "Your goal: implement a noisy version of the Bernstein–Vazirani\n",
    "algorithm, using the noisy Hadamard gates provided.\n",
    "Will it work on the old computer?"
   ],
   "metadata": {
    "collapsed": false
   }
  },
  {
   "cell_type": "code",
   "execution_count": 2,
   "outputs": [],
   "source": [
    "import pennylane as qml\n",
    "import pennylane.numpy as np"
   ],
   "metadata": {
    "collapsed": false,
    "pycharm": {
     "name": "#%%\n"
    }
   }
  },
  {
   "cell_type": "code",
   "execution_count": 8,
   "outputs": [],
   "source": [
    "def noisy_Hadamard(lamda, wire):\n",
    "    qml.DepolarizingChannel(lamda, wires=wire)\n",
    "    qml.Hadamard(wires=wire)\n",
    "    qml.DepolarizingChannel(lamda,wires=wire)"
   ],
   "metadata": {
    "collapsed": false,
    "pycharm": {
     "name": "#%%\n"
    }
   }
  },
  {
   "cell_type": "code",
   "execution_count": 4,
   "outputs": [
    {
     "name": "stdout",
     "output_type": "stream",
     "text": [
      "[[ 1.  0.  0. ...  0.  0.  0.]\n",
      " [ 0. -1.  0. ...  0.  0.  0.]\n",
      " [ 0.  0.  1. ...  0.  0.  0.]\n",
      " ...\n",
      " [ 0.  0.  0. ... -1.  0.  0.]\n",
      " [ 0.  0.  0. ...  0.  1.  0.]\n",
      " [ 0.  0.  0. ...  0.  0. -1.]]\n"
     ]
    }
   ],
   "source": [
    "flips = [1,3,5,7,8,10,12,14,16,18,20,22,25,27,29,31]\n",
    "\n",
    "oracle_matrix = np.eye(2**5) #2**n - n = 5 number of qubit\n",
    "for i in flips:\n",
    "    oracle_matrix[i,i]=-1\n",
    "print(oracle_matrix)"
   ],
   "metadata": {
    "collapsed": false,
    "pycharm": {
     "name": "#%%\n"
    }
   }
  },
  {
   "cell_type": "code",
   "execution_count": 6,
   "outputs": [],
   "source": [
    "dev = qml.device(\"default.mixed\",wires=5)\n",
    "\n",
    "@qml.qnode(dev)\n",
    "def noisy_BernsteinVazirani(lamda):\n",
    "\n",
    "    for wire in range(5):\n",
    "        noisy_Hadamard(lamda,wire)\n",
    "\n",
    "    qml.QubitUnitary(oracle_matrix, wires = range(5))\n",
    "\n",
    "    for wire in range(5):\n",
    "        noisy_Hadamard(lamda,wire)\n",
    "\n",
    "    return [qml.expval(qml.PauliZ(i)) for i in range(5)]"
   ],
   "metadata": {
    "collapsed": false,
    "pycharm": {
     "name": "#%%\n"
    }
   }
  },
  {
   "cell_type": "code",
   "execution_count": 9,
   "outputs": [
    {
     "name": "stdout",
     "output_type": "stream",
     "text": [
      "[tensor(-0.5641679, requires_grad=True), tensor(-0.5641679, requires_grad=True), tensor(0.5641679, requires_grad=True), tensor(0.5641679, requires_grad=True), tensor(-0.5641679, requires_grad=True)]\n"
     ]
    }
   ],
   "source": [
    "print(noisy_BernsteinVazirani(0.1))"
   ],
   "metadata": {
    "collapsed": false,
    "pycharm": {
     "name": "#%%\n"
    }
   }
  },
  {
   "cell_type": "markdown",
   "source": [
    "## Challenge code\n",
    "\n",
    "In the code below, you are given various functions:\n",
    "- `oracle_matrix`: which encodes Doc Trine's location in the hypercube.\n",
    "- `noisy_Hadamard`: which applies a noisy Hadamard gate, with a\n",
    "\tprobability `lmbda` of replacing an incoming or outgoing qubit\n",
    "\tstate with something random.\n",
    "-  `noisy_BernsteinVazirani`: which implements the Bernstein-Vazirani\n",
    "algorithm using the oracle and the noisy Hadamard operation `noisy_Hadamard`. **You must complete this\n",
    "function**.\n",
    "\n",
    "You may find this resource helpful:\n",
    "\n",
    "- [Bernstein-Vazirani algorithm](https://en.wikipedia.org/wiki/Bernstein%E2%80%93Vazirani_algorithm)\n",
    "\n",
    "### Inputs\n",
    "\n",
    "The noisy Bernstein-Vazirani circuit `noisy_BernsteinVazirani` takes as input the\n",
    "probability  `lmbda (float)` of replacing the state of a qubit.\n",
    "\n",
    "### Output\n",
    "\n",
    "Your `noisy_BernsteinVazirani` circuit should correctly output the expectation value\n",
    "of the Pauli-$Z$ operator on each qubit (`[float]`). The pattern of\n",
    "positive and negative expectations gives the cell number for any value\n",
    "of $\\lambda$, showing that Bernstein–Vazirani is robust to noise.\n",
    "\n",
    "If your solution matches the correct one within the given tolerance\n",
    "specified in `check` (in this case it's a `1e-4` relative error\n",
    "tolerance), the output will be `\"Correct!\"` Otherwise, you will\n",
    "receive a `\"Wrong answer\"` prompt."
   ],
   "metadata": {
    "collapsed": false
   }
  },
  {
   "cell_type": "code",
   "execution_count": 12,
   "outputs": [
    {
     "name": "stdout",
     "output_type": "stream",
     "text": [
      "Running test case 0 with input '0.1'...\n",
      "Runtime Error. 'list' object has no attribute 'tolist'\n",
      "Running test case 1 with input '0.99'...\n",
      "Runtime Error. 'list' object has no attribute 'tolist'\n"
     ]
    }
   ],
   "source": [
    "import json\n",
    "# Uneditable section #\n",
    "def noisy_Hadamard(lmbda, wire):\n",
    "    \"\"\"A Hadamard gate with depolarizing noise on either side.\n",
    "\n",
    "    Args:\n",
    "        lmbda (float): The parameter defining the depolarizing channel.\n",
    "        wire (int): The wire the depolarizing channel acts on.\n",
    "    \"\"\"\n",
    "    qml.DepolarizingChannel(lmbda, wires=wire)\n",
    "    qml.Hadamard(wire)\n",
    "    qml.DepolarizingChannel(lmbda, wires=wire)\n",
    "\n",
    "# Oracle matrix for Doc Trine's cell number\n",
    "\n",
    "flips = [1, 3, 5, 7, 8, 10, 12, 14, 16, 18, 20, 22, 25, 27, 29, 31]\n",
    "\n",
    "oracle_matrix = np.eye(2**5)\n",
    "for i in flips:\n",
    "    oracle_matrix[i, i] = -1\n",
    "\n",
    "# Implement the Bernstein-Vazirani algorithm with depolarizing noise\n",
    "\n",
    "dev = qml.device(\"default.mixed\", wires = 5)\n",
    "@qml.qnode(dev)\n",
    "def noisy_BernsteinVazirani(lmbda):\n",
    "    \"\"\"Runs the Bernstein-Vazirani algorithm with depolarizing noise.\n",
    "\n",
    "    Args:\n",
    "        lmbda (float): The probability of erasing the state of a qubit.\n",
    "\n",
    "    Returns:\n",
    "        (list(float)): Expectation values for PauliZ on all n wires.\n",
    "    \"\"\"\n",
    "\n",
    "    for wire in range(5):\n",
    "        noisy_Hadamard(lmbda,wire)\n",
    "\n",
    "    qml.QubitUnitary(oracle_matrix, wires = range(5))\n",
    "\n",
    "    for wire in range(5):\n",
    "        noisy_Hadamard(lmbda,wire)\n",
    "\n",
    "    return [qml.expval(qml.PauliZ(i)) for i in range(5)]\n",
    "\n",
    "\n",
    "def run(test_case_input: str) -> str:\n",
    "\n",
    "    lmbda = json.loads(test_case_input)\n",
    "    output = noisy_BernsteinVazirani(lmbda).tolist()\n",
    "\n",
    "    return str(output)\n",
    "\n",
    "def check(solution_output: str, expected_output: str) -> None:\n",
    "\n",
    "    solution_output = json.loads(solution_output)\n",
    "    expected_output = json.loads(expected_output)\n",
    "    assert np.allclose(\n",
    "        solution_output, expected_output, rtol=1e-4\n",
    "    ), \"Your noisy Bernstein-Vazirani algorithm isn't giving the right answers!\"\n",
    "\n",
    "test_cases = [['0.1', '[-0.5641679, -0.5641679,  0.5641679,  0.5641679, -0.5641679]'], ['0.99', '[-0.01048576, -0.01048576,  0.01048576,  0.01048576, -0.01048576]']]\n",
    "\n",
    "for i, (input_, expected_output) in enumerate(test_cases):\n",
    "    print(f\"Running test case {i} with input '{input_}'...\")\n",
    "\n",
    "    try:\n",
    "        output = run(input_)\n",
    "\n",
    "    except Exception as exc:\n",
    "        print(f\"Runtime Error. {exc}\")\n",
    "\n",
    "    else:\n",
    "        if message := check(output, expected_output):\n",
    "            print(f\"Wrong Answer. Have: '{output}'. Want: '{expected_output}'.\")\n",
    "\n",
    "        else:\n",
    "            print(\"Correct!\")"
   ],
   "metadata": {
    "collapsed": false,
    "pycharm": {
     "name": "#%%\n"
    }
   }
  },
  {
   "cell_type": "code",
   "execution_count": null,
   "outputs": [],
   "source": [],
   "metadata": {
    "collapsed": false,
    "pycharm": {
     "name": "#%%\n"
    }
   }
  }
 ],
 "metadata": {
  "kernelspec": {
   "display_name": "Python 3",
   "language": "python",
   "name": "python3"
  },
  "language_info": {
   "codemirror_mode": {
    "name": "ipython",
    "version": 2
   },
   "file_extension": ".py",
   "mimetype": "text/x-python",
   "name": "python",
   "nbconvert_exporter": "python",
   "pygments_lexer": "ipython2",
   "version": "2.7.6"
  }
 },
 "nbformat": 4,
 "nbformat_minor": 0
}