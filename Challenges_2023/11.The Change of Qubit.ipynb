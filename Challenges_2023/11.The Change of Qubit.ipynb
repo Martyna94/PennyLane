{
 "cells": [
  {
   "cell_type": "markdown",
   "source": [
    "To sum up:\n",
    "* we need to implement circuit, where U apply PauliX gate on randomly one qubit.\n",
    "![circuit](./images/The%20Change%20of%20Qubit-2.png)\n",
    "* based on [Shor's code](https://codebook.xanadu.ai/E.3)"
   ],
   "metadata": {
    "collapsed": false,
    "pycharm": {
     "name": "#%% md\n"
    }
   }
  },
  {
   "cell_type": "markdown",
   "metadata": {
    "collapsed": true,
    "pycharm": {
     "name": "#%% md\n"
    }
   },
   "source": [
    "**The Change of Qubit**\n",
    "\n",
    "Backstory\n",
    "\n",
    "Zenda needs to send an email to Reece through Trine's Designs' Quantum Area Network. The network is a quantum circuit that simply swaps qubits between wires. However, a virus seems to be interfering with proper communication within the network. Zenda can't get rid of the virus, but she has figured out what it's doing. Let's help her reprogram the network to get around the issue."
   ]
  },
  {
   "cell_type": "markdown",
   "source": [
    "More than just a SWAP\n",
    "\n",
    "This challenge's statement is very simple, but solving it may not be so easy. The goal will be to move a state $\\Ket{\\psi}$  from one qubit to another, as shown in the figure:\n",
    "![circuit](./images/The%20Change%20of%20Qubit-1.png)\n",
    "Easy, isn't it? Well, we are going to complicate it a little bit. We will not allow any direct connections between the first and last qubits, so you will have to use the middle qubit to pass the information from one qubit to another.\n",
    "The exercise has become more challenging, but we still want to complicate it further! In addition to all of the above, we are going to generate a virus operator $U$ and place it in the middle of the circuit, like so:\n",
    "![circuit](./images/The%20Change%20of%20Qubit-2.png)\n",
    "In this case, $U$ consists of one `PauliX` gate that we place randomly in one of the three qubits (each time, the gate is generated in a different wire). You should be able to complete the circuit so that, regardless of the randomly generated operator $U$, you are able to move the state from the first qubit to the last qubit."
   ],
   "metadata": {
    "collapsed": false
   }
  },
  {
   "cell_type": "code",
   "execution_count": 16,
   "outputs": [],
   "source": [
    "import json\n",
    "import pennylane as qml\n",
    "import pennylane.numpy as np\n",
    "from IPython.core.display_functions import display"
   ],
   "metadata": {
    "collapsed": false,
    "pycharm": {
     "name": "#%%\n"
    }
   }
  },
  {
   "cell_type": "code",
   "execution_count": 72,
   "outputs": [],
   "source": [
    "def his_circuit_left():\n",
    "    \"\"\"\n",
    "    This function corresponds to the circuit on the left-hand side of the diagram in the\n",
    "    description. Simply place the necessary operations, you do not have to return anything.\n",
    "    \"\"\"\n",
    "    qml.CNOT(wires=[0,1])\n",
    "    qml.CNOT(wires=[1,2])\n",
    "    qml.broadcast(qml.Hadamard,wires=range(3), pattern='single')\n",
    "\n",
    "def his_circuit_right():\n",
    "    \"\"\"\n",
    "    This function corresponds to the circuit on the right-hand side of the diagram in the\n",
    "    description. Simply place the necessary operations, you do not have to return anything.\n",
    "    \"\"\"\n",
    "    qml.broadcast(qml.Hadamard,wires=range(3), pattern = 'single')\n",
    "    qml.PauliZ(wires=0)\n",
    "    qml.CNOT(wires=[1,0])\n",
    "    qml.CNOT(wires=[2,1])\n"
   ],
   "metadata": {
    "collapsed": false,
    "pycharm": {
     "name": "#%%\n"
    }
   }
  },
  {
   "cell_type": "code",
   "execution_count": 112,
   "outputs": [],
   "source": [
    "def circuit_left():\n",
    "    \"\"\"\n",
    "    This function corresponds to the circuit on the left-hand side of the diagram in the\n",
    "    description. Simply place the necessary operations, you do not have to return anything.\n",
    "    \"\"\"\n",
    "    #qml.CNOT(wires=[0,1])\n",
    "    #qml.CNOT(wires=[0,2])\n",
    "    qml.CNOT(wires=[0,1])\n",
    "    qml.CNOT(wires=[1,2])\n",
    "\n",
    "def circuit_right():\n",
    "    \"\"\"\n",
    "    This function corresponds to the circuit on the right-hand side of the diagram in the\n",
    "    description. Simply place the necessary operations, you do not have to return anything.\n",
    "    \"\"\"\n",
    "    qml.CNOT(wires=[1,0])\n",
    "    qml.CNOT(wires=[2,1])\n",
    "    #qml.CNOT(wires=[2,1])\n",
    "    #qml.CNOT(wires=[2,0])\n",
    "\n",
    "    qml.Toffoli(wires=range(3))\n"
   ],
   "metadata": {
    "collapsed": false,
    "pycharm": {
     "name": "#%%\n"
    }
   }
  },
  {
   "cell_type": "code",
   "execution_count": 129,
   "outputs": [],
   "source": [
    "def U():\n",
    "    \"\"\"This operator generates a PauliX gate on a random qubit\"\"\"\n",
    "    qml.PauliX(wires=np.random.randint(3))\n",
    "\n",
    "\n",
    "dev = qml.device(\"default.qubit\", wires=3)\n",
    "\n",
    "@qml.qnode(dev)\n",
    "def circuit(alpha, beta, gamma):\n",
    "    \"\"\"Total circuit joining each block.\n",
    "\n",
    "    Args:\n",
    "        alpha (float): The first parameter of a U3 gate.\n",
    "        beta (float):The second parameter of a U3 gate.\n",
    "        gamma (float): The third parameter of a U3 gate.\n",
    "\n",
    "    Returns:\n",
    "        (float): The expectation value of an observable.\n",
    "    \"\"\"\n",
    "    qml.U3(alpha, beta, gamma, wires=0)\n",
    "    #his_circuit_left()\n",
    "    circuit_left()\n",
    "    U()\n",
    "    circuit_right()\n",
    "    #his_circuit_right()\n",
    "\n",
    "    # Here we are returning the expected value with respect to any observable,\n",
    "    # the choice of observable is not important in this exercise.\n",
    "\n",
    "    return qml.expval(0.5 * qml.PauliZ(2) - qml.PauliY(2))"
   ],
   "metadata": {
    "collapsed": false,
    "pycharm": {
     "name": "#%%\n"
    }
   }
  },
  {
   "cell_type": "code",
   "execution_count": 124,
   "outputs": [
    {
     "data": {
      "text/plain": "tensor(-0.97322082, requires_grad=True)"
     },
     "execution_count": 124,
     "metadata": {},
     "output_type": "execute_result"
    },
    {
     "data": {
      "text/plain": "<Figure size 900x400 with 1 Axes>",
      "image/png": "[encoded data removed]"
     },
     "metadata": {},
     "output_type": "display_data"
    }
   ],
   "source": [
    "angles = [2.0,1.0,3.0]\n",
    "qml.draw_mpl(circuit)(*angles)\n",
    "circuit(*angles)"
   ],
   "metadata": {
    "collapsed": false,
    "pycharm": {
     "name": "#%%\n"
    }
   }
  },
  {
   "cell_type": "code",
   "execution_count": 130,
   "outputs": [],
   "source": [
    "# These functions are responsible for testing the solution.\n",
    "def run(test_case_input: str) -> str:\n",
    "    angles = json.loads(test_case_input)\n",
    "    output = circuit(*angles)\n",
    "    return str(output)\n",
    "\n",
    "def check(solution_output: str, expected_output: str) -> None:\n",
    "\n",
    "    solution_output = json.loads(solution_output)\n",
    "    expected_output = json.loads(expected_output)\n",
    "    print('solution: ',solution_output)\n",
    "    print('expected_output: ',expected_output)\n",
    "    assert np.allclose(solution_output, expected_output), \"The expected output is not quite right.\"\n",
    "\n",
    "\n",
    "    ops = circuit.tape.operations\n",
    "    for op in ops:\n",
    "        if(0 in op.wires and 2 in op.wires):\n",
    "            print(op)\n",
    "        assert not (0 in op.wires and 2 in op.wires), \"Invalid connection between qubits.\"\n",
    "\n",
    "    assert circuit.tape.observables[0].wires == qml.wires.Wires(2), \"Measurement on wrong qubit.\""
   ],
   "metadata": {
    "collapsed": false,
    "pycharm": {
     "name": "#%%\n"
    }
   }
  },
  {
   "cell_type": "code",
   "execution_count": 14,
   "outputs": [],
   "source": [
    "test_cases = [['[2.0,1.0,3.0]', '-0.97322'], ['[-0.5,1.2,-1.2]', '0.88563'], ['[0.22,3.0,2.1]', '0.457152'], ['[2.22,3.1,-3.3]', '-0.335397'], ['[-0.2,-0.1,3.4]', '0.470199'], ['[-1.2,-1.1,0.4]', '-0.6494612']]"
   ],
   "metadata": {
    "collapsed": false,
    "pycharm": {
     "name": "#%%\n"
    }
   }
  },
  {
   "cell_type": "code",
   "execution_count": 131,
   "outputs": [
    {
     "name": "stdout",
     "output_type": "stream",
     "text": [
      "Running test case 0 with input '[2.0,1.0,3.0]'...\n",
      "solution:  -0.9732208195078637\n",
      "expected_output:  -0.97322\n",
      "Toffoli(wires=[0, 1, 2])\n"
     ]
    },
    {
     "ename": "AssertionError",
     "evalue": "Invalid connection between qubits.",
     "output_type": "error",
     "traceback": [
      "\u001B[1;31m---------------------------------------------------------------------------\u001B[0m",
      "\u001B[1;31mAssertionError\u001B[0m                            Traceback (most recent call last)",
      "Cell \u001B[1;32mIn[131], line 11\u001B[0m\n\u001B[0;32m      8\u001B[0m     \u001B[38;5;28mprint\u001B[39m(\u001B[38;5;124mf\u001B[39m\u001B[38;5;124m\"\u001B[39m\u001B[38;5;124mRuntime Error. \u001B[39m\u001B[38;5;132;01m{\u001B[39;00mexc\u001B[38;5;132;01m}\u001B[39;00m\u001B[38;5;124m\"\u001B[39m)\n\u001B[0;32m     10\u001B[0m \u001B[38;5;28;01melse\u001B[39;00m:\n\u001B[1;32m---> 11\u001B[0m     \u001B[38;5;28;01mif\u001B[39;00m message \u001B[38;5;241m:=\u001B[39m \u001B[43mcheck\u001B[49m\u001B[43m(\u001B[49m\u001B[43moutput\u001B[49m\u001B[43m,\u001B[49m\u001B[43m \u001B[49m\u001B[43mexpected_output\u001B[49m\u001B[43m)\u001B[49m:\n\u001B[0;32m     12\u001B[0m         \u001B[38;5;28mprint\u001B[39m(\u001B[38;5;124mf\u001B[39m\u001B[38;5;124m\"\u001B[39m\u001B[38;5;124mWrong Answer. Have: \u001B[39m\u001B[38;5;124m'\u001B[39m\u001B[38;5;132;01m{\u001B[39;00moutput\u001B[38;5;132;01m}\u001B[39;00m\u001B[38;5;124m'\u001B[39m\u001B[38;5;124m. Want: \u001B[39m\u001B[38;5;124m'\u001B[39m\u001B[38;5;132;01m{\u001B[39;00mexpected_output\u001B[38;5;132;01m}\u001B[39;00m\u001B[38;5;124m'\u001B[39m\u001B[38;5;124m.\u001B[39m\u001B[38;5;124m\"\u001B[39m)\n\u001B[0;32m     14\u001B[0m     \u001B[38;5;28;01melse\u001B[39;00m:\n",
      "Cell \u001B[1;32mIn[130], line 20\u001B[0m, in \u001B[0;36mcheck\u001B[1;34m(solution_output, expected_output)\u001B[0m\n\u001B[0;32m     18\u001B[0m     \u001B[38;5;28;01mif\u001B[39;00m(\u001B[38;5;241m0\u001B[39m \u001B[38;5;129;01min\u001B[39;00m op\u001B[38;5;241m.\u001B[39mwires \u001B[38;5;129;01mand\u001B[39;00m \u001B[38;5;241m2\u001B[39m \u001B[38;5;129;01min\u001B[39;00m op\u001B[38;5;241m.\u001B[39mwires):\n\u001B[0;32m     19\u001B[0m         \u001B[38;5;28mprint\u001B[39m(op)\n\u001B[1;32m---> 20\u001B[0m     \u001B[38;5;28;01massert\u001B[39;00m \u001B[38;5;129;01mnot\u001B[39;00m (\u001B[38;5;241m0\u001B[39m \u001B[38;5;129;01min\u001B[39;00m op\u001B[38;5;241m.\u001B[39mwires \u001B[38;5;129;01mand\u001B[39;00m \u001B[38;5;241m2\u001B[39m \u001B[38;5;129;01min\u001B[39;00m op\u001B[38;5;241m.\u001B[39mwires), \u001B[38;5;124m\"\u001B[39m\u001B[38;5;124mInvalid connection between qubits.\u001B[39m\u001B[38;5;124m\"\u001B[39m\n\u001B[0;32m     22\u001B[0m \u001B[38;5;28;01massert\u001B[39;00m circuit\u001B[38;5;241m.\u001B[39mtape\u001B[38;5;241m.\u001B[39mobservables[\u001B[38;5;241m0\u001B[39m]\u001B[38;5;241m.\u001B[39mwires \u001B[38;5;241m==\u001B[39m qml\u001B[38;5;241m.\u001B[39mwires\u001B[38;5;241m.\u001B[39mWires(\u001B[38;5;241m2\u001B[39m), \u001B[38;5;124m\"\u001B[39m\u001B[38;5;124mMeasurement on wrong qubit.\u001B[39m\u001B[38;5;124m\"\u001B[39m\n",
      "\u001B[1;31mAssertionError\u001B[0m: Invalid connection between qubits."
     ]
    }
   ],
   "source": [
    "for i, (input_, expected_output) in enumerate(test_cases):\n",
    "    print(f\"Running test case {i} with input '{input_}'...\")\n",
    "\n",
    "    try:\n",
    "        output = run(input_)\n",
    "\n",
    "    except Exception as exc:\n",
    "        print(f\"Runtime Error. {exc}\")\n",
    "\n",
    "    else:\n",
    "        if message := check(output, expected_output):\n",
    "            print(f\"Wrong Answer. Have: '{output}'. Want: '{expected_output}'.\")\n",
    "\n",
    "        else:\n",
    "            print(\"Correct!\")"
   ],
   "metadata": {
    "collapsed": false,
    "pycharm": {
     "name": "#%%\n"
    }
   }
  },
  {
   "cell_type": "code",
   "execution_count": null,
   "outputs": [],
   "source": [],
   "metadata": {
    "collapsed": false,
    "pycharm": {
     "name": "#%%\n"
    }
   }
  }
 ],
 "metadata": {
  "kernelspec": {
   "display_name": "Python 3",
   "language": "python",
   "name": "python3"
  },
  "language_info": {
   "codemirror_mode": {
    "name": "ipython",
    "version": 2
   },
   "file_extension": ".py",
   "mimetype": "text/x-python",
   "name": "python",
   "nbconvert_exporter": "python",
   "pygments_lexer": "ipython2",
   "version": "2.7.6"
  }
 },
 "nbformat": 4,
 "nbformat_minor": 0
}