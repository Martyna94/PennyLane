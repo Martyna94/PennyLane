{
 "cells": [
  {
   "cell_type": "markdown",
   "metadata": {
    "collapsed": true,
    "pycharm": {
     "name": "#%% md\n"
    }
   },
   "source": [
    "## The Itch to Switch\n",
    "**Backstory**\n",
    "Zenda and Reece have been busy photocopying qubits and making their old communication protocols coherent. Zenda asks Trine what this has to do with timbits. Trine replies: \"Timbits? I forgot all about them. I suppose I wanted to show you there is more in heaven and earth than qubits and entangled pairs!\" Reece objects: \"But why did you get us to do all those protocols with photocopiers?\" Trine looks confused for a moment, then a smile spreads over her face. \"That's right! We can use them to implement a SWAP gate using two CNOTs as opposed to the usual three. Let's do that as a warm-up for timbits!\"\n",
    "\n",
    "**Exchanging qubits**\n",
    "Did you know that there is no way for us to clone a quantum state? The no-cloning theorem states that there is no gate  such that\n",
    "$$U\\Ket{\\psi}\\Ket{0} = \\Ket{\\psi}\\Ket{\\psi}$$\n",
    "for all states $\\Ket{\\psi}$.  However, if we only work with basis states $\\Ket{j}$, there exist operations such that\n",
    "$$\\Ket{j}\\Ket{0} \\rightarrow \\Ket{j}\\Ket{j}.$$\n",
    "Zenda and Reece are each in possession of one basis state, which we denote $\\Ket{j}_{Z_0}$ and $\\Ket{k}_{R_0}$ respectively. Trine tells them to send each other their basis state to each other without losing their own. \"If basis states can be cloned, then surely we can do this\", claims Zenda confidently. \"Just give us two qubits in the $\\Ket{0}$ state to each of us and we're good to go.\"\n",
    "Trine thinks about this... \"It's too easy if I allow you to do whatever you want\"—she concludes. \"Let's make it more fun. I'll give you each one qubit from a Bell state\n",
    "$$\\Ket{\\Phi} = \\frac{1}{\\sqrt{2}}(\\Ket{0}_{Z_1}\\Ket{0}_{R_1} + \\Ket{1}_{Z_1}\\Ket{1}_{R_1}).$$\n",
    "\"Then you'll have to send your qubit to each other by acting only on the qubits in your possession.\"\n",
    "\n",
    "Zenda and Reece try and try, but it seems like a futile task. \"We need more resources—mumbles Reece. \"Mmm... disappointing\" says Trine. \"Then, I'll allow you to use a magic gate between your initially entangled qubits, but figure it out fast!\"\n",
    "\n",
    "In this challenge, you will help Zenda and Reece figure out a quantum circuit that performs the operation\n",
    "$$\\Ket{j}_{Z_0}\\Ket{\\Phi}_{Z_1R_1}\\Ket{k}_{R_0} \\rightarrow \\Ket{j}_{Z_0}\\Ket{k}_{Z_1}\\Ket{j}_{R_1}\\Ket{k}_{R_0},$$\n",
    "with the constraints imposed by Trine. This means that the circuit must be of the form shown in the image below.\n",
    "![circuit](./images/The%20Itch%20to%20Switch_1.png)\n",
    "In the above, $Z$ is the operator Zenda applies on her qubits, $R$ is the operator Reece applies on his qubits, and $M$ is the magic operator provided by Trine. This operation is one of the building blocks you need to master to build a SWAP gate with only two CNOTs, without counting the distributed CNOTs (contained in the magic gate). See the optional reading below for more about this!"
   ]
  },
  {
   "cell_type": "markdown",
   "source": [
    "**Laws of Infodynamics Part V: From three to two CNOTs**\n",
    "This box contains some interesting but nonessential details. As with previous Laws of Infodynamics, we can write the ability to perform one task in terms of others as an inequality:\n",
    "$$1 CNOT +1 ebit \\geqslant 1 cobit_{Z\\rightarrow R} + 1 cobit_{R \\rightarrow Z}, (\\geqslant)$$\n",
    "where the subscripts denote the source and target of copying. Similarly, it's possible to simulate a distributed CNOT gate from Zenda (control) to Reece (target) using a shared ebit and cobit exchange. This leads to an inequality\n",
    "$$1 CNOT_{Z \\rightarrow R} +1 ebit  \\leqslant 1 cobit_{Z\\rightarrow R} + 1 cobit_{R \\rightarrow Z}, (\\leqslant)$$\n",
    "We can combine the inequalities $(\\leqslant)$ and $(\\geqslant)$ into an equality for cobit swapping:\n",
    "$$1 CNOT_{Z \\rightarrow R} +1 ebit = 1 cobit_{Z\\rightarrow R} + 1 cobit_{R \\rightarrow Z}, (=)$$\n",
    "This means that the resources on either side are equivalent! But this isn't just theoretical; it leads to a neat computational insight. We know that three zigzag CNOTs are equivalent to a swap gate:\n",
    "$$SWAP_{Z \\leftrightarrow R} = CNOT_{Z \\rightarrow R} * CNOT_{R \\rightarrow Z} * CNOT_{Z \\rightarrow R}$$\n",
    "We previously learnt that a cobit is the average of a qubit and an ebit:\n",
    "$$2 cobit_{Z \\rightarrow R} = 1 qubit_{Z \\rightarrow R} + 1 ebit_{Z \\rightarrow R}$$\n",
    "If we double the equation $(=)$ and use this average property, we find that\n",
    "$$2 CNOTs +2 ebits = 1 qubit_{A\\rightarrow B} + 1 qubit_{A \\rightarrow B} + 2 ebits.$$\n",
    "Subtracting two ebits from each side, the LHS is two distributed CNOTs (one from Reece to Zenda and vice-versa) and the RHS is a qubit sent in either direction. This is fancy terminology for a SWAP gate! Thus, we learn that only two CNOTs are needed to perform a SWAP:\n",
    "$$2 CNOTs = 1 SWAP.$$\n",
    "Pretty nifty huh! Note that we've subtracted four ebits in total from both sides, so we don't count the four CNOTs used to prepare these."
   ],
   "metadata": {
    "collapsed": false
   }
  },
  {
   "cell_type": "markdown",
   "source": [
    "**Challenge code**\n",
    "In the code below, you are given a number of functions:\n",
    "\n",
    "* zenda_operator: Quantum function corresponding to the operator to be applied by Zenda on her qubits. You must complete this function.\n",
    "* reece_operator: Quantum function corresponding to the operator to be applied by Reece on his qubits. You must complete this function.\n",
    "* magic_operator: The magic operator provided by Trine to be applied on the initially entangled qubits $Z_1$ and $R_1$. You must complete this function.\n",
    "\n",
    "**Inputs and outputs**\n",
    "There are no inputs nor outputs for this challenge. You answer will be judged based on the fact that your circuit produces the correct final state for any combination of basis states $\\Ket{j}_{Z_0}$ and $\\Ket{k}_{R_0}$. This will be verified in the check function."
   ],
   "metadata": {
    "collapsed": false
   }
  },
  {
   "cell_type": "code",
   "source": [
    "import json\n",
    "import pennylane as qml\n",
    "import pennylane.numpy as np\n",
    "\n",
    "def zenda_operator():\n",
    "    \"\"\"\n",
    "    Quantum function corresponding to the operator to be applied by\n",
    "    Zenda in her qubits.This function does not return anything,\n",
    "    you must simply write the necessary gates.\n",
    "    \"\"\"\n",
    "\n",
    "\n",
    "    # Put your code here #\n",
    "\n",
    "\n",
    "def reece_operator():\n",
    "    \"\"\"\n",
    "    Quantum function corresponding to the operator to be applied by\n",
    "    Reece in his qubits.This function does not return anything,\n",
    "    you must simply write the necessary gates.\n",
    "    \"\"\"\n",
    "\n",
    "\n",
    "    # Put your code here #\n",
    "\n",
    "\n",
    "def magic_operator():\n",
    "    \"\"\"\n",
    "    Quantum function corresponding to the operator to be applied on the \"z1\"\n",
    "    and \"r1\" qubits. This function does not return anything, you must\n",
    "    simply write the necessary gates.\n",
    "\n",
    "    \"\"\"\n",
    "\n",
    "\n",
    "    # Put your code here #\n",
    "\n",
    "\n",
    "def bell_generator():\n",
    "    \"\"\"\n",
    "    Quantum function preparing bell state shared by Reece and Zenda.\n",
    "    \"\"\"\n",
    "\n",
    "    qml.Hadamard(wires=[\"z1\"])\n",
    "    qml.CNOT(wires=[\"z1\", \"r1\"])\n",
    "\n",
    "\n",
    "dev = qml.device(\"default.qubit\", wires=[\"z0\", \"z1\", \"r1\", \"r0\"])\n",
    "\n",
    "@qml.qnode(dev)\n",
    "def circuit(j, k):\n",
    "    bell_generator()\n",
    "\n",
    "    # j encoding and Zenda operation\n",
    "    qml.BasisEmbedding([j], wires=\"z0\")\n",
    "    zenda_operator()\n",
    "\n",
    "    # k encoding and Reece operation\n",
    "    qml.BasisEmbedding([k], wires=\"r0\")\n",
    "    reece_operator()\n",
    "\n",
    "    magic_operator()\n",
    "\n",
    "    return qml.probs(wires=dev.wires)\n",
    "\n",
    "\n",
    "# These functions are responsible for testing the solution.\n",
    "def run(test_case_input: str) -> str:\n",
    "    return None\n",
    "\n",
    "\n",
    "def check(solution_output: str, expected_output: str) -> None:\n",
    "\n",
    "    try:\n",
    "        dev1 = qml.device(\"default.qubit\", wires = [\"z0\", \"z1\"])\n",
    "        @qml.qnode(dev1)\n",
    "        def circuit1():\n",
    "            zenda_operator()\n",
    "            return qml.probs(dev1.wires)\n",
    "        circuit1()\n",
    "    except:\n",
    "        assert False, \"zenda_operator can only act on z0 and z1 wires\"\n",
    "\n",
    "    try:\n",
    "        dev2 = qml.device(\"default.qubit\", wires = [\"r0\", \"r1\"])\n",
    "        @qml.qnode(dev2)\n",
    "        def circuit2():\n",
    "            reece_operator()\n",
    "            return qml.probs(dev2.wires)\n",
    "        circuit2()\n",
    "    except:\n",
    "        assert False, \"reece_operator can only act on r0 and r1 wires\"\n",
    "    try:\n",
    "        dev3 = qml.device(\"default.qubit\", wires = [\"z1\", \"r1\"])\n",
    "        @qml.qnode(dev3)\n",
    "        def circuit3():\n",
    "            magic_operator()\n",
    "            return qml.probs(dev3.wires)\n",
    "        circuit3()\n",
    "    except:\n",
    "        assert False, \"magic_operator can only act on r1 and z1 wires\"\n",
    "\n",
    "\n",
    "    for j in range(2):\n",
    "        for k in range(2):\n",
    "            assert np.isclose(circuit(j, k)[10 * j + 5 * k], 1), \"The output is not correct\"\n",
    "\n",
    "\n",
    "test_cases = [['No input', 'No output']]\n",
    "\n",
    "for i, (input_, expected_output) in enumerate(test_cases):\n",
    "    print(f\"Running test case {i} with input '{input_}'...\")\n",
    "\n",
    "    try:\n",
    "        output = run(input_)\n",
    "\n",
    "    except Exception as exc:\n",
    "        print(f\"Runtime Error. {exc}\")\n",
    "\n",
    "    else:\n",
    "        if message := check(output, expected_output):\n",
    "            print(f\"Wrong Answer. Have: '{output}'. Want: '{expected_output}'.\")\n",
    "\n",
    "        else:\n",
    "            print(\"Correct!\")"
   ],
   "metadata": {
    "collapsed": false,
    "pycharm": {
     "name": "#%%\n"
    }
   },
   "execution_count": 1,
   "outputs": [
    {
     "name": "stdout",
     "output_type": "stream",
     "text": [
      "Running test case 0 with input 'No input'...\n"
     ]
    },
    {
     "ename": "AssertionError",
     "evalue": "The output is not correct",
     "output_type": "error",
     "traceback": [
      "\u001B[1;31m---------------------------------------------------------------------------\u001B[0m",
      "\u001B[1;31mAssertionError\u001B[0m                            Traceback (most recent call last)",
      "Input \u001B[1;32mIn [1]\u001B[0m, in \u001B[0;36m<cell line: 111>\u001B[1;34m()\u001B[0m\n\u001B[0;32m    118\u001B[0m     \u001B[38;5;28mprint\u001B[39m(\u001B[38;5;124mf\u001B[39m\u001B[38;5;124m\"\u001B[39m\u001B[38;5;124mRuntime Error. \u001B[39m\u001B[38;5;132;01m{\u001B[39;00mexc\u001B[38;5;132;01m}\u001B[39;00m\u001B[38;5;124m\"\u001B[39m)\n\u001B[0;32m    120\u001B[0m \u001B[38;5;28;01melse\u001B[39;00m:\n\u001B[1;32m--> 121\u001B[0m     \u001B[38;5;28;01mif\u001B[39;00m message \u001B[38;5;241m:=\u001B[39m \u001B[43mcheck\u001B[49m\u001B[43m(\u001B[49m\u001B[43moutput\u001B[49m\u001B[43m,\u001B[49m\u001B[43m \u001B[49m\u001B[43mexpected_output\u001B[49m\u001B[43m)\u001B[49m:\n\u001B[0;32m    122\u001B[0m         \u001B[38;5;28mprint\u001B[39m(\u001B[38;5;124mf\u001B[39m\u001B[38;5;124m\"\u001B[39m\u001B[38;5;124mWrong Answer. Have: \u001B[39m\u001B[38;5;124m'\u001B[39m\u001B[38;5;132;01m{\u001B[39;00moutput\u001B[38;5;132;01m}\u001B[39;00m\u001B[38;5;124m'\u001B[39m\u001B[38;5;124m. Want: \u001B[39m\u001B[38;5;124m'\u001B[39m\u001B[38;5;132;01m{\u001B[39;00mexpected_output\u001B[38;5;132;01m}\u001B[39;00m\u001B[38;5;124m'\u001B[39m\u001B[38;5;124m.\u001B[39m\u001B[38;5;124m\"\u001B[39m)\n\u001B[0;32m    124\u001B[0m     \u001B[38;5;28;01melse\u001B[39;00m:\n",
      "Input \u001B[1;32mIn [1]\u001B[0m, in \u001B[0;36mcheck\u001B[1;34m(solution_output, expected_output)\u001B[0m\n\u001B[0;32m    104\u001B[0m \u001B[38;5;28;01mfor\u001B[39;00m j \u001B[38;5;129;01min\u001B[39;00m \u001B[38;5;28mrange\u001B[39m(\u001B[38;5;241m2\u001B[39m):\n\u001B[0;32m    105\u001B[0m     \u001B[38;5;28;01mfor\u001B[39;00m k \u001B[38;5;129;01min\u001B[39;00m \u001B[38;5;28mrange\u001B[39m(\u001B[38;5;241m2\u001B[39m):\n\u001B[1;32m--> 106\u001B[0m         \u001B[38;5;28;01massert\u001B[39;00m np\u001B[38;5;241m.\u001B[39misclose(circuit(j, k)[\u001B[38;5;241m10\u001B[39m \u001B[38;5;241m*\u001B[39m j \u001B[38;5;241m+\u001B[39m \u001B[38;5;241m5\u001B[39m \u001B[38;5;241m*\u001B[39m k], \u001B[38;5;241m1\u001B[39m), \u001B[38;5;124m\"\u001B[39m\u001B[38;5;124mThe output is not correct\u001B[39m\u001B[38;5;124m\"\u001B[39m\n",
      "\u001B[1;31mAssertionError\u001B[0m: The output is not correct"
     ]
    }
   ]
  },
  {
   "cell_type": "code",
   "execution_count": null,
   "outputs": [],
   "source": [],
   "metadata": {
    "collapsed": false,
    "pycharm": {
     "name": "#%%\n"
    }
   }
  }
 ],
 "metadata": {
  "kernelspec": {
   "display_name": "Python 3",
   "language": "python",
   "name": "python3"
  },
  "language_info": {
   "codemirror_mode": {
    "name": "ipython",
    "version": 2
   },
   "file_extension": ".py",
   "mimetype": "text/x-python",
   "name": "python",
   "nbconvert_exporter": "python",
   "pygments_lexer": "ipython2",
   "version": "2.7.6"
  }
 },
 "nbformat": 4,
 "nbformat_minor": 0
}