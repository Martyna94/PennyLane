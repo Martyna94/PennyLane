{
 "cells": [
  {
   "cell_type": "markdown",
   "metadata": {
    "collapsed": true,
    "pycharm": {
     "name": "#%% md\n"
    }
   },
   "source": [
    "**Learning outcomes**\n",
    "\n",
    "* Explain how global information and promises are useful for algorithm design."
   ]
  },
  {
   "cell_type": "code",
   "execution_count": 1,
   "outputs": [],
   "source": [
    "import numpy as np\n",
    "import pennylane as qml"
   ],
   "metadata": {
    "collapsed": false,
    "pycharm": {
     "name": "#%%\n"
    }
   }
  },
  {
   "cell_type": "markdown",
   "source": [
    "The oracle once more produces an undetectable phase:\n",
    "$$\\Ket{s_1} + \\Ket{s_2} \\rightarrow -(\\Ket{s_1} + \\Ket{s_2})$$\n",
    "If there are an *odd* number of solutions, then even if we miss a number of pairs solutions, there is guaranteed to be one left over.\n",
    "The pair-testing algorithm also tells us that, conversely, global assumptions about the function (e.g., that the number of solutions is odd) can lead to very different performance guarantees for our algorithms.\n",
    "![circuit](./images/A.3.1.png)\n",
    "\n"
   ],
   "metadata": {
    "collapsed": false
   }
  },
  {
   "cell_type": "markdown",
   "source": [
    "**Codercise A.4.1.** Implement the circuit above, but now for `how_many` solutions instead of one. You will first need to implement the multi-solution version of the oracle matrix,`multisol_oracle_matrix(combos)`, which takes a list of bit strings (representing different solutions) and returns the associated oracle in matrix form."
   ],
   "metadata": {
    "collapsed": false
   }
  },
  {
   "cell_type": "code",
   "execution_count": 12,
   "outputs": [],
   "source": [
    "n_bits = 4\n",
    "dev = qml.device(\"default.qubit\", wires=n_bits)\n",
    "def get_value(value,):\n",
    "    return value\n",
    "def multisol_oracle_matrix(combos):\n",
    "    \"\"\"Return the oracle matrix for a set of solutions.\n",
    "\n",
    "    Args:\n",
    "        combos (list[list[int]]): A list of secret bit strings.\n",
    "\n",
    "    Returns:\n",
    "        array[float]: The matrix representation of the oracle.\n",
    "    \"\"\"\n",
    "    indices = [np.ravel_multi_index(combo, [2]*len(combo)) for combo in combos]\n",
    "    my_array = np.identity(2**len(combos[0])) # Create the identity matrix\n",
    "    for i in indices:\n",
    "        my_array[i,i] = -1\n",
    "    return my_array\n",
    "\n",
    "@qml.qnode(dev)\n",
    "def multisol_pair_circuit(x_tilde, combos):\n",
    "    \"\"\"Implements the circuit for testing a pair of combinations labelled by x_tilde.\n",
    "\n",
    "    Args:\n",
    "        x_tilde (list[int]): An (n_bits - 1)-bit string labelling the pair to test.\n",
    "        combos (list[list[int]]): A list of secret bit strings.\n",
    "\n",
    "    Returns:\n",
    "        array[float]: Probabilities on the last qubit.\n",
    "    \"\"\"\n",
    "    for i in range(n_bits-1): # Initialize x_tilde part of state\n",
    "        if x_tilde[i] == 1:\n",
    "            qml.PauliX(wires=i)\n",
    "\n",
    "    oracle = multisol_oracle_matrix(combos)\n",
    "\n",
    "    qml.Hadamard(n_bits-1)\n",
    "    qml.QubitUnitary(oracle, wires=[i for i in range(n_bits)])\n",
    "    qml.Hadamard(n_bits-1)\n",
    "\n",
    "    return qml.probs(wires=n_bits-1)\n",
    "x_tilde = [1,1,1]\n",
    "combos = [ ]\n",
    "multisol_pair_circuit(x_tilde, combos)"
   ],
   "metadata": {
    "collapsed": false,
    "pycharm": {
     "name": "#%%\n"
    }
   }
  },
  {
   "cell_type": "markdown",
   "source": [
    "**Codercise A.4.2.** Use `multisol_pair_circuit(x_tilde, combos)` to create a routine for checking the parity of a lock."
   ],
   "metadata": {
    "collapsed": false
   }
  },
  {
   "cell_type": "code",
   "execution_count": null,
   "outputs": [],
   "source": [
    "def parity_checker(combos):\n",
    "    \"\"\"Use multisol_pair_circuit to determine the parity of a solution set.\n",
    "\n",
    "    Args:\n",
    "        combos (list[list[int]]): A list of secret combinations.\n",
    "\n",
    "    Returns:\n",
    "        int: The parity of the solution set.\n",
    "    \"\"\"\n",
    "    parity = 0\n",
    "    x_tilde_strs = [np.binary_repr(n, n_bits-1) for n in range(2**(n_bits-1))]\n",
    "    x_tildes = [[int(s) for s in x_tilde_str] for x_tilde_str in x_tilde_strs]\n",
    "\n",
    "    for x_tilde in x_tildes:\n",
    "        # IMPLEMENT PARITY COUNTING ALGORITHM\n",
    "        p0, p1  = multisol_pair_circuit(x_tilde, combos)\n",
    "        if np.isclose(1, p1):\n",
    "            parity+=1\n",
    "\n",
    "    return parity % 2\n"
   ],
   "metadata": {
    "collapsed": false,
    "pycharm": {
     "name": "#%%\n"
    }
   }
  }
 ],
 "metadata": {
  "kernelspec": {
   "display_name": "Python 3",
   "language": "python",
   "name": "python3"
  },
  "language_info": {
   "codemirror_mode": {
    "name": "ipython",
    "version": 2
   },
   "file_extension": ".py",
   "mimetype": "text/x-python",
   "name": "python",
   "nbconvert_exporter": "python",
   "pygments_lexer": "ipython2",
   "version": "2.7.6"
  }
 },
 "nbformat": 4,
 "nbformat_minor": 0
}