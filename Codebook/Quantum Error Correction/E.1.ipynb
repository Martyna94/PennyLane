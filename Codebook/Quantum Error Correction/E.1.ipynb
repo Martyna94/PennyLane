{
 "cells": [
  {
   "cell_type": "markdown",
   "metadata": {
    "collapsed": true,
    "pycharm": {
     "name": "#%% md\n"
    }
   },
   "source": [
    "# E.1 Got errors?\n",
    "Learning outcomes\n",
    "\n",
    "* Explain why error correction is important.\n",
    "* Explain and implement the three-bit classical repetition code"
   ]
  },
  {
   "cell_type": "markdown",
   "source": [
    "**Codercise E.1.1**\n",
    "In this exercise, you are given a function called encode that creates three copies of a bit b:b $\\rightarrow$ bbb. Create a function called noisy_channel that flips  each bit b with an equal and independent probability p. For example, if the repeated bit string is 000, then the flipped bit string could be, say,100 , where only the first bit was flipped and the other two are safe. This is going to be the message that Bob receives from Alice.\n",
    "\n",
    "You have numpy — imported as np in the code — to use."
   ],
   "metadata": {
    "collapsed": false
   }
  },
  {
   "cell_type": "code",
   "execution_count": 1,
   "outputs": [],
   "source": [
    "import numpy as np"
   ],
   "metadata": {
    "collapsed": false,
    "pycharm": {
     "name": "#%%\n"
    }
   }
  },
  {
   "cell_type": "code",
   "execution_count": null,
   "outputs": [],
   "source": [
    "def encode(b):\n",
    "    \"\"\"Returns three copes of Alice's bit b.\n",
    "\n",
    "    Args:\n",
    "        b (int): Alice's bit she wants to send to Bob. Can be 0 or 1.\n",
    "\n",
    "    Returns:\n",
    "        list(int): [b, b, b]\n",
    "    \"\"\"\n",
    "    return [b, b, b]\n",
    "\n",
    "def noisy_channel(b, p):\n",
    "    \"\"\"Returns a three-bit codeword message that Bob receives through a noisy channel.\n",
    "\n",
    "    Args:\n",
    "        b (int): Alice's bit she wants to send to Bob. Can be 0 or 1.\n",
    "        p (float): The probability that a bit is flipped.\n",
    "\n",
    "    Returns:\n",
    "        list(int): The three-bit codeword that Bob receives. It might be different\n",
    "        than what Alice intended to send!\n",
    "    \"\"\"\n",
    "    alice_sends = encode(b) # Alice sends this to Bob\n",
    "    for i in range(3):\n",
    "        if np.random.uniform(0, 1) < p:\n",
    "            alice_sends[i] = alice_sends[i]^1\n",
    "    return alice_sends"
   ],
   "metadata": {
    "collapsed": false,
    "pycharm": {
     "name": "#%%\n"
    }
   }
  },
  {
   "cell_type": "markdown",
   "source": [
    "Nice work! So, Alice encodes the bit $bbb$ as  and sends it through the noisy channel. Bob is on the other end and gets a three-bit string that may or may not resemble Alice's message. The instruction that Alice gives Bob to decode her message is to take the majority value of the three bits as the original message. For example, if Bob receives $010$, he deduces that Alice was trying to send him $b=0$ since that's the majority bit value. This begs the question: what are the chances that Bob actually gets it right?"
   ],
   "metadata": {
    "collapsed": false
   }
  },
  {
   "cell_type": "markdown",
   "source": [
    "Codercise E.1.2. Given the original bit  that Alice sends and what Bob receives (bob_receives) from the noisy_channel, you must determine whether or not Bob's decoding procedure is successful. Complete two functions:\n",
    "\n",
    "decode: the procedure that Bob executes to deduce Alice's original message.\n",
    "success: does Bob's prediction from the decoding procedure match Alice's bit?\n",
    "![3-bit repetition code](./images/E.1.1.png)"
   ],
   "metadata": {
    "collapsed": false
   }
  },
  {
   "cell_type": "markdown",
   "source": [
    "Codercise E.1.2. Given the original bit  that Alice sends and what Bob receives (`bob_receives`) from the `noisy_channel`, you must determine whether or not Bob's decoding procedure is successful. Complete two functions:\n",
    "\n",
    "* `decode`: the procedure that Bob executes to deduce Alice's original message.\n",
    "* `success`: does Bob's prediction from the decoding procedure match Alice's bit?"
   ],
   "metadata": {
    "collapsed": false
   }
  },
  {
   "cell_type": "code",
   "execution_count": 3,
   "outputs": [],
   "source": [
    "from statistics import mode\n",
    "def decode(codeword):\n",
    "    \"\"\"Executes Bob's decoding procedure.\n",
    "\n",
    "    Args:\n",
    "        codeword (list(int)): The message Bob receives (a 3-bit string).\n",
    "\n",
    "    Returns:\n",
    "        (int): A 0 or 1 — Bob's guess at what Alice's bit was.\n",
    "    \"\"\"\n",
    "    ###\n",
    "    #we can use statistics mode\n",
    "    # mode(codeword)\n",
    "    ###\n",
    "    count_0 = codeword.count(0)\n",
    "    count_1 = codeword.count(1)\n",
    "\n",
    "    # The majority value is the one with the higher count\n",
    "    majority_value = 1 if count_1 > count_0 else 0\n",
    "    return majority_value\n",
    "\n",
    "def success(b, codeword):\n",
    "    \"\"\"Determines if Bob's decoding procedure is successful.\n",
    "\n",
    "    Args:\n",
    "        b (int): Alice's bit she sent to Bob. Can be 0 or 1.\n",
    "        codeword (list(int)): The message Bob receives (a 3-bit string).\n",
    "\n",
    "    Returns:\n",
    "        (bool): True/False if Bob decodes correctly/incorrectly.\n",
    "    \"\"\"\n",
    "    return b == decode(codeword)"
   ],
   "metadata": {
    "collapsed": false,
    "pycharm": {
     "name": "#%%\n"
    }
   }
  },
  {
   "cell_type": "code",
   "execution_count": null,
   "outputs": [],
   "source": [],
   "metadata": {
    "collapsed": false,
    "pycharm": {
     "name": "#%%\n"
    }
   }
  }
 ],
 "metadata": {
  "kernelspec": {
   "display_name": "Python 3",
   "language": "python",
   "name": "python3"
  },
  "language_info": {
   "codemirror_mode": {
    "name": "ipython",
    "version": 2
   },
   "file_extension": ".py",
   "mimetype": "text/x-python",
   "name": "python",
   "nbconvert_exporter": "python",
   "pygments_lexer": "ipython2",
   "version": "2.7.6"
  }
 },
 "nbformat": 4,
 "nbformat_minor": 0
}