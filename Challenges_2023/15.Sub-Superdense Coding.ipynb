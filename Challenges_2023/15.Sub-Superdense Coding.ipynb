{
 "cells": [
  {
   "cell_type": "markdown",
   "source": [
    "\n",
    "## Sub-Superdense Coding\n",
    "\n",
    "**Backstory**\n",
    "Zenda and Reece have worked hard to implement classical computation reversibly. \"This is all rather boring though,\" says Trine. \"Let's introduce entanglement and have some fun!\" Trine tells them that the next [Laws of Infodynamics](https://en.wikipedia.org/wiki/Bennett%27s_laws) will constrain how much classical information can be sent using entangled quantum resources.\n",
    "\n",
    "**Sending information with entangled states**\n",
    "\n",
    "Entanglement is a valuable resource that can be used to send information, as we will explore in this challenge. Superdense coding, for instance, uses Bell pairs to send two classical bits with a single qubit.\n",
    "Trine has misplaced her usual Bell states, and instead provides Zenda with 2 qubits and Reece with 1 qubit. They are entangled forming the following state:\n",
    "$$\\Ket{\\Psi} = \\frac{\\Ket{00}_Z\\Ket{0}_R + \\Ket{11}_Z\\Ket{1}_R}{\\sqrt(2)}$$\n",
    "\n",
    "Zenda wants to send Reece 3 bits of information $(i,j,k)$, where each bit can take the value 0 or 1. To do so, she will apply an encoding gate on her two qubits and then send them to Bob.\n",
    "Reece, who now has the three qubits and knows the strategy Zenda uses to encode, performs a decoding gate that will generate the state $\\Ket{i,j,k}$ Let's look at the following drawing to understand it.\n",
    "![circuit](./images/Sub-Superdense%20Coding_1.png)\n",
    "\n",
    "Your goal will be to devise a coding and decoding strategy such that Reece can decode Zenda's bits, as shown in the figure above"
   ],
   "metadata": {
    "collapsed": false
   }
  },
  {
   "cell_type": "markdown",
   "source": [
    "The strategy to build the encoding gate is akin to [superdense coding](https://en.wikipedia.org/wiki/Superdense_coding) for two bits of information, where all the Bell basis states are produced by acting only on one of the qubits in an entangled pair. Here, we want to produce all the GHZ basis states, which are analogous to the Bell basis for three qubits. They are given by\n",
    "$$\\Ket{GHZ}_ijk = \\frac{1}{\\sqrt{2}}(\\Ket{0jk} + (-1)^i\\Ket{1 \\overline{j}\\overline{k}}),$$\n",
    "where $\\overline{j} = 1-j$ and $\\overline{k} = 1-k$. However, we should do this by acting only on the first two qubits (i.e. Zenda's share) of the entangled state $\\Ket{\\Psi}$ that Trine provided. The decoding gate is also inspired by superdense coding, so reviewing the topic will help you a lot in this challenge!"
   ],
   "metadata": {
    "collapsed": false
   }
  },
  {
   "cell_type": "markdown",
   "source": [
    "**Laws of Infodynamics Part II: The Second and Third Laws**\n",
    "This box contains information that may be helpful, but is not essential to solving the problem. Suppose Zenda and Reece share a maximally entangled Bell pair of the form\n",
    "$$\\Ket{\\Phi}_{ZR} = \\frac{\\Ket{0}_Z\\Ket{0}_R + \\Ket{1}_Z\\Ket{1}_R}{\\sqrt{2}},$$\n",
    "where the subscripts $Z$ and $R$ denote Zenda and Reece's share, respectively. This is one of four maximally entangled Bell states, labelled by two bits $j$ and $k$:\n",
    "$$\\Ket{\\beta(j,k)}_{ZR} = \\frac{1}{\\sqrt{2}}(\\Ket{0}_Z\\Ket{k}_BR+(-1)^j\\Ket{1}_Z\\Ket{k \\otimes 1}_R),$$\n",
    "with $\\Ket{\\Phi}_{ZR} = \\Ket{\\beta(0,0)}_{ZR}$.These are orthogonal and form what is called the Bell basis for the states on two qubits. Half of an entangled state is called an entangled qubit or ebit. Since the ability to send an entangled qubit is a special case of sending a qubit, we have the Second Law of Infodynamics:\n",
    "$$1 qubit  \\geqslant 1 ebit,$$\n",
    "where $x  \\geqslant y$ means having resource $x$ also provides resource $y$. It's easy to check that\n",
    "$$\\Ket{\\beta(j,k)} = (Z^jX^k \\otimes I)\\Ket{\\phi}$$\n",
    "We draw this below:\n",
    "![circuit](./images/Sub-Superdense%20Coding_2.png)\n",
    "If Zenda and Reece share $\\Ket{\\phi}$ (an ebit), and Zenda sends her qubit to Reece, Reece can measure in the Bell basis and learn $j$ and $k$ Thus, an ebit and a qubit suffice to send two classical bits (or cbits). This protocol, called superdense coding, can be expressed as the Third Law of Infodynamics:\n",
    "$$1 qubit + 1 ebit \\geqslant 2 cbit,$$"
   ],
   "metadata": {
    "collapsed": false
   }
  },
  {
   "cell_type": "code",
   "execution_count": 4,
   "outputs": [],
   "source": [
    "from IPython.core.display_functions import display\n",
    "import json\n",
    "import pennylane as qml\n",
    "import pennylane.numpy as np\n",
    "from qiskit import QuantumCircuit\n",
    "from qiskit.quantum_info import Statevector"
   ],
   "metadata": {
    "collapsed": false,
    "pycharm": {
     "name": "#%%\n"
    }
   }
  },
  {
   "cell_type": "code",
   "execution_count": 5,
   "outputs": [
    {
     "data": {
      "text/plain": "<Figure size 371.107x367.889 with 1 Axes>",
      "image/png": "[encoded data removed]"
     },
     "execution_count": 5,
     "metadata": {},
     "output_type": "execute_result"
    }
   ],
   "source": [
    "qc = QuantumCircuit(3,3)\n",
    "qc.h(2)\n",
    "qc.cnot(2,1)\n",
    "qc.cnot(2,0)\n",
    "qc.draw('mpl')"
   ],
   "metadata": {
    "collapsed": false,
    "pycharm": {
     "name": "#%%\n"
    }
   }
  },
  {
   "cell_type": "code",
   "execution_count": 7,
   "outputs": [],
   "source": [
    "from qiskit.visualization import array_to_latex"
   ],
   "metadata": {
    "collapsed": false,
    "pycharm": {
     "name": "#%%\n"
    }
   }
  },
  {
   "cell_type": "code",
   "execution_count": 8,
   "outputs": [
    {
     "data": {
      "text/plain": "<IPython.core.display.Latex object>",
      "text/latex": "$$\\frac{\\sqrt{2}}{2} |000\\rangle+\\frac{\\sqrt{2}}{2} |111\\rangle$$"
     },
     "metadata": {},
     "output_type": "display_data"
    },
    {
     "data": {
      "text/plain": "<IPython.core.display.Latex object>",
      "text/latex": "$$\\frac{\\sqrt{2}}{2} |001\\rangle+\\frac{\\sqrt{2}}{2} |110\\rangle$$"
     },
     "metadata": {},
     "output_type": "display_data"
    },
    {
     "data": {
      "text/plain": "<IPython.core.display.Latex object>",
      "text/latex": "$$\\frac{\\sqrt{2}}{2} |010\\rangle+\\frac{\\sqrt{2}}{2} |101\\rangle$$"
     },
     "metadata": {},
     "output_type": "display_data"
    },
    {
     "data": {
      "text/plain": "<IPython.core.display.Latex object>",
      "text/latex": "$$\\frac{\\sqrt{2}}{2} |011\\rangle+\\frac{\\sqrt{2}}{2} |100\\rangle$$"
     },
     "metadata": {},
     "output_type": "display_data"
    },
    {
     "data": {
      "text/plain": "<IPython.core.display.Latex object>",
      "text/latex": "$$\\frac{\\sqrt{2}}{2} |000\\rangle- \\frac{\\sqrt{2}}{2} |111\\rangle$$"
     },
     "metadata": {},
     "output_type": "display_data"
    },
    {
     "data": {
      "text/plain": "<IPython.core.display.Latex object>",
      "text/latex": "$$\\frac{\\sqrt{2}}{2} |001\\rangle- \\frac{\\sqrt{2}}{2} |110\\rangle$$"
     },
     "metadata": {},
     "output_type": "display_data"
    },
    {
     "data": {
      "text/plain": "<IPython.core.display.Latex object>",
      "text/latex": "$$\\frac{\\sqrt{2}}{2} |010\\rangle- \\frac{\\sqrt{2}}{2} |101\\rangle$$"
     },
     "metadata": {},
     "output_type": "display_data"
    },
    {
     "data": {
      "text/plain": "<IPython.core.display.Latex object>",
      "text/latex": "$$\\frac{\\sqrt{2}}{2} |011\\rangle- \\frac{\\sqrt{2}}{2} |100\\rangle$$"
     },
     "metadata": {},
     "output_type": "display_data"
    }
   ],
   "source": [
    "n_sts = 2**3\n",
    "for n in range(n_sts):\n",
    "    sv = Statevector.from_int(n,n_sts)\n",
    "    sv = sv.evolve(qc)\n",
    "    display(sv.draw('latex'))"
   ],
   "metadata": {
    "collapsed": false,
    "pycharm": {
     "name": "#%%\n"
    }
   }
  },
  {
   "cell_type": "code",
   "execution_count": 22,
   "outputs": [],
   "source": [
    "def encode(i,j,k):\n",
    "    operations = {\n",
    "        (0, 0, 0): [],\n",
    "        (0, 0, 1): [('PauliX', 0), ('PauliX', 1)],\n",
    "        (0, 1, 0): [('PauliX', 1)],\n",
    "        (0, 1, 1): [('PauliX', 0)],\n",
    "        (1, 0, 0): [('PauliZ', 0)],\n",
    "        (1, 0, 1): [('PauliX', 0), ('PauliX', 1), ('PauliZ', 0)],\n",
    "        (1, 1, 0): [('PauliZ', 0), ('PauliX', 1)],\n",
    "        (1, 1, 1): [('PauliX', 0), ('PauliZ', 1)],\n",
    "    }\n",
    "\n",
    "    for op, qubit in operations[(i, j, k)]:\n",
    "        if op == 'PauliX':\n",
    "            qml.PauliX(qubit)\n",
    "        elif op == 'PauliZ':\n",
    "            qml.PauliZ(qubit)"
   ],
   "metadata": {
    "collapsed": false,
    "pycharm": {
     "name": "#%%\n"
    }
   }
  },
  {
   "cell_type": "code",
   "execution_count": 10,
   "outputs": [],
   "source": [
    "def decode():\n",
    "    qml.CNOT([0,2])\n",
    "    qml.CNOT([0,1])\n",
    "    qml.Hadamard(0)"
   ],
   "metadata": {
    "collapsed": false,
    "pycharm": {
     "name": "#%%\n"
    }
   }
  },
  {
   "cell_type": "code",
   "execution_count": 12,
   "outputs": [],
   "source": [
    "dev = qml.device(\"default.qubit\", wires = 3)\n",
    "\n",
    "@qml.qnode(dev)\n",
    "def circuit(i, j, k):\n",
    "    # Prepare GHZ state\n",
    "    qml.Hadamard(0)\n",
    "    qml.CNOT([0,1])\n",
    "    qml.CNOT([0,2])\n",
    "\n",
    "    qml.Barrier(wires=range(3))\n",
    "    encode(i, j, k)\n",
    "\n",
    "    qml.Barrier(wires=range(3))\n",
    "    decode()\n",
    "\n",
    "    return qml.probs(wires=range(3))"
   ],
   "metadata": {
    "collapsed": false,
    "pycharm": {
     "name": "#%%\n"
    }
   }
  },
  {
   "cell_type": "code",
   "execution_count": 17,
   "outputs": [
    {
     "name": "stdout",
     "output_type": "stream",
     "text": [
      "0: ──H─╭●─╭●─╭||─╭||─╭●─╭●──H─┤ ╭Probs\n",
      "1: ────╰X─│──├||─├||─│──╰X────┤ ├Probs\n",
      "2: ───────╰X─╰||─╰||─╰X───────┤ ╰Probs \n",
      "\n",
      "[1. 0. 0. 0. 0. 0. 0. 0.]\n"
     ]
    },
    {
     "data": {
      "text/plain": "<IPython.core.display.Latex object>",
      "text/latex": "$$ |000\\rangle$$"
     },
     "execution_count": 17,
     "metadata": {},
     "output_type": "execute_result"
    }
   ],
   "source": [
    "print(qml.draw(circuit)(0,0,0),'\\n')\n",
    "output = circuit(0,0,0)\n",
    "print(output)\n",
    "Statevector(output).draw('latex')"
   ],
   "metadata": {
    "collapsed": false,
    "pycharm": {
     "name": "#%%\n"
    }
   }
  },
  {
   "cell_type": "code",
   "execution_count": 16,
   "outputs": [
    {
     "name": "stdout",
     "output_type": "stream",
     "text": [
      "0: ──H─╭●─╭●─╭||──X─╭||─╭●─╭●──H─┤ ╭Probs\n",
      "1: ────╰X─│──├||──X─├||─│──╰X────┤ ├Probs\n",
      "2: ───────╰X─╰||────╰||─╰X───────┤ ╰Probs \n",
      "\n",
      "[0. 1. 0. 0. 0. 0. 0. 0.]\n"
     ]
    },
    {
     "data": {
      "text/plain": "<IPython.core.display.Latex object>",
      "text/latex": "$$ |001\\rangle$$"
     },
     "execution_count": 16,
     "metadata": {},
     "output_type": "execute_result"
    }
   ],
   "source": [
    "print(qml.draw(circuit)(0,0,1),'\\n')\n",
    "output = circuit(0,0,1)\n",
    "print(output)\n",
    "Statevector(output).draw('latex')"
   ],
   "metadata": {
    "collapsed": false,
    "pycharm": {
     "name": "#%%\n"
    }
   }
  },
  {
   "cell_type": "code",
   "execution_count": 18,
   "outputs": [
    {
     "name": "stdout",
     "output_type": "stream",
     "text": [
      "0: ──H─╭●─╭●─╭||──X─╭||─╭●─╭●──H─┤ ╭Probs\n",
      "1: ────╰X─│──├||────├||─│──╰X────┤ ├Probs\n",
      "2: ───────╰X─╰||────╰||─╰X───────┤ ╰Probs \n",
      "\n",
      "[0. 0. 0. 1. 0. 0. 0. 0.]\n"
     ]
    },
    {
     "data": {
      "text/plain": "<IPython.core.display.Latex object>",
      "text/latex": "$$ |011\\rangle$$"
     },
     "execution_count": 18,
     "metadata": {},
     "output_type": "execute_result"
    }
   ],
   "source": [
    "print(qml.draw(circuit)(0,1,1),'\\n')\n",
    "output = circuit(0,1,1)\n",
    "print(output)\n",
    "Statevector(output).draw('latex')"
   ],
   "metadata": {
    "collapsed": false,
    "pycharm": {
     "name": "#%%\n"
    }
   }
  },
  {
   "cell_type": "code",
   "execution_count": 19,
   "outputs": [
    {
     "name": "stdout",
     "output_type": "stream",
     "text": [
      "0: ──H─╭●─╭●─╭||──X─╭||─╭●─╭●──H─┤ ╭Probs\n",
      "1: ────╰X─│──├||──Z─├||─│──╰X────┤ ├Probs\n",
      "2: ───────╰X─╰||────╰||─╰X───────┤ ╰Probs \n",
      "\n",
      "[0. 0. 0. 0. 0. 0. 0. 1.]\n"
     ]
    },
    {
     "data": {
      "text/plain": "<IPython.core.display.Latex object>",
      "text/latex": "$$ |111\\rangle$$"
     },
     "execution_count": 19,
     "metadata": {},
     "output_type": "execute_result"
    }
   ],
   "source": [
    "print(qml.draw(circuit)(1,1,1),'\\n')\n",
    "output = circuit(1,1,1)\n",
    "print(output)\n",
    "Statevector(output).draw('latex')"
   ],
   "metadata": {
    "collapsed": false,
    "pycharm": {
     "name": "#%%\n"
    }
   }
  },
  {
   "cell_type": "markdown",
   "source": [
    "**Challenge code**\n",
    "You simply have to complete two quantum functions:\n",
    "\n",
    "* encode: quantum function that will define an operator to be applied only on Zenda's qubits. This function will depend on the bits $(i,j,k)$ to be encoded.\n",
    "\n",
    "* decode: quantum function that defines the operator that Reece will use to retrieve the bits that Zenda sent. In this case, the operator does not have any information about Zenda's bits, so the same operators will always be applied regardless of the state that Zenda sends Reece.\n",
    "\n",
    "**Output**\n",
    "In this challenge, we will not judge your solution using public or private test cases. Instead, we will check that, for all combinations of , , and , the entire encoding and decoding circuit behaves as expected.In this challenge, we will not judge your solution using public or private test cases. Instead, we will check that, for all combinations of $i$,$j$, and $k$, the entire encoding and decoding circuit behaves as expected."
   ],
   "metadata": {
    "collapsed": false
   }
  },
  {
   "cell_type": "code",
   "source": [
    "import pennylane as qml\n",
    "import pennylane.numpy as np\n",
    "\n",
    "def encode(i, j, k):\n",
    "    \"\"\"\n",
    "    Quantum encoding function. It must act only on the first two qubits.\n",
    "    This function does not return anything, it simply applies gates.\n",
    "\n",
    "    Args:\n",
    "        i, j, k (int): The three encoding bits. They will take the values 1 or 0.\n",
    "\n",
    "    \"\"\"\n",
    "\n",
    "    operations = {\n",
    "        (0, 0, 0): [],\n",
    "        (0, 0, 1): [('PauliX', 0), ('PauliX', 1)],\n",
    "        (0, 1, 0): [('PauliX', 1)],\n",
    "        (0, 1, 1): [('PauliX', 0)],\n",
    "        (1, 0, 0): [('PauliZ', 0)],\n",
    "        (1, 0, 1): [('PauliX', 0), ('PauliX', 1), ('PauliZ', 0)],\n",
    "        (1, 1, 0): [('PauliZ', 0), ('PauliX', 1)],\n",
    "        (1, 1, 1): [('PauliX', 0), ('PauliZ', 1)],\n",
    "    }\n",
    "\n",
    "    for op, qubit in operations[(i, j, k)]:\n",
    "        if op == 'PauliX':\n",
    "            qml.PauliX(qubit)\n",
    "        elif op == 'PauliZ':\n",
    "            qml.PauliZ(qubit)\n",
    "\n",
    "\n",
    "def decode():\n",
    "    \"\"\"\n",
    "    Quantum decoding function. It can act on the three qubits.\n",
    "    This function does not return anything, it simply applies gates.\n",
    "    \"\"\"\n",
    "    qml.CNOT([0,2])\n",
    "    qml.CNOT([0,1])\n",
    "    qml.Hadamard(0)\n",
    "\n",
    "\n",
    "dev = qml.device(\"default.qubit\", wires=3)\n",
    "\n",
    "@qml.qnode(dev)\n",
    "def circuit(i, j, k):\n",
    "    \"\"\"\n",
    "    Circuit that generates the complete communication protocol.\n",
    "\n",
    "    Args:\n",
    "        i, j, k (int): The three encoding bits. They will take the value 1 or 0.\n",
    "    \"\"\"\n",
    "\n",
    "    # We prepare the state 1/sqrt(2)(|000> + |111>)\n",
    "    qml.Hadamard(wires=0)\n",
    "    qml.CNOT(wires=[0, 1])\n",
    "    qml.CNOT(wires=[0, 2])\n",
    "\n",
    "    # Zenda encodes the bits\n",
    "    encode(i, j, k)\n",
    "\n",
    "    # Reece decode the information\n",
    "    decode()\n",
    "\n",
    "    return qml.probs(wires=range(3))\n",
    "\n",
    "\n",
    "# These functions are responsible for testing the solution.\n",
    "\n",
    "\n",
    "\n",
    "def run(test_case_input: str) -> str:\n",
    "\n",
    "    return None\n",
    "\n",
    "def check(solution_output: str, expected_output: str) -> None:\n",
    "\n",
    "    for i in range(2):\n",
    "        for j in range(2):\n",
    "            for k in range(2):\n",
    "                assert np.isclose(circuit(i, j , k)[4 * i + 2 * j + k],1)\n",
    "\n",
    "                dev = qml.device(\"default.qubit\", wires=3)\n",
    "\n",
    "                @qml.qnode(dev)\n",
    "                def circuit2(i, j, k):\n",
    "                    encode(i, j, k)\n",
    "                    return qml.probs(wires=range(3))\n",
    "\n",
    "                circuit2(i, j, k)\n",
    "                ops = circuit2.tape.operations\n",
    "\n",
    "                for op in ops:\n",
    "                    assert not (2 in op.wires), \"Invalid connection between qubits.\"\n",
    "\n",
    "\n",
    "test_cases = [['No input', 'No output']]\n",
    "\n",
    "for i, (input_, expected_output) in enumerate(test_cases):\n",
    "    print(f\"Running test case {i} with input '{input_}'...\")\n",
    "\n",
    "    try:\n",
    "        output = run(input_)\n",
    "\n",
    "    except Exception as exc:\n",
    "        print(f\"Runtime Error. {exc}\")\n",
    "\n",
    "    else:\n",
    "        if message := check(output, expected_output):\n",
    "            print(f\"Wrong Answer. Have: '{output}'. Want: '{expected_output}'.\")\n",
    "\n",
    "        else:\n",
    "            print(\"Correct!\")"
   ],
   "metadata": {
    "collapsed": false,
    "pycharm": {
     "name": "#%%\n"
    }
   },
   "execution_count": 21,
   "outputs": [
    {
     "name": "stdout",
     "output_type": "stream",
     "text": [
      "Running test case 0 with input 'No input'...\n",
      "Correct!\n"
     ]
    }
   ]
  },
  {
   "cell_type": "code",
   "execution_count": null,
   "outputs": [],
   "source": [],
   "metadata": {
    "collapsed": false,
    "pycharm": {
     "name": "#%%\n"
    }
   }
  }
 ],
 "metadata": {
  "kernelspec": {
   "display_name": "Python 3",
   "language": "python",
   "name": "python3"
  },
  "language_info": {
   "codemirror_mode": {
    "name": "ipython",
    "version": 2
   },
   "file_extension": ".py",
   "mimetype": "text/x-python",
   "name": "python",
   "nbconvert_exporter": "python",
   "pygments_lexer": "ipython2",
   "version": "2.7.6"
  }
 },
 "nbformat": 4,
 "nbformat_minor": 0
}