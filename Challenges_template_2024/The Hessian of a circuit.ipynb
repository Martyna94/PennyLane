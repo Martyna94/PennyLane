{
 "cells": [
  {
   "cell_type": "markdown",
   "source": [
    "The Hessian of a circuit\n",
    "-------------------------\n",
    "\n",
    "Challenge Statement\n",
    "You may already be familiar with the calculation of the gradient of a circuit, which can be done very easily thanks to the parameter-shift rule. But what about second derivatives? In calculus, the second derivative of a real function $\\mathbb{R}^n \\rightarrow \\mathbb{R}$ is described via a matrix\n",
    "$H_f$\n",
    "called the Hessian:\n",
    "$$H_f = \\begin{pmatrix}\n",
    "\\frac{\\partial^2 f}{\\partial x_1^2} & \\frac{\\partial^2 f}{\\partial x_1 \\partial x_2} & \\cdots & \\frac{\\partial^2 f}{\\partial x_1 \\partial x_n} \\\\\n",
    "\\frac{\\partial^2 f}{\\partial x_2 \\partial x_1} & \\frac{\\partial^2 f}{\\partial x_2^2} & \\cdots & \\frac{\\partial^2 f}{\\partial x_2 \\partial x_n} \\\\\n",
    "\\vdots & \\vdots & \\ddots & \\vdots \\\\\n",
    "\\frac{\\partial^2 f}{\\partial x_n \\partial x_1} & \\frac{\\partial^2 f}{\\partial x_n \\partial x_2} & \\cdots & \\frac{\\partial^2 f}{\\partial x_n^2}\n",
    "\\end{pmatrix}$$\n",
    "\n",
    "A variational quantum circuit usually depends on some parameters $\\theta_1, ... , \\theta_n$ and returns an expectation value, so it can also be seen as a function $\\mathbb{R}^n \\rightarrow \\mathbb{R}$ Therefore, we can calculate its Hessian and, moreover, there's a parameter-shift rule that allows us to do it. Namely, the elements of the Hessian matrix for such circuit can be calculated via\n",
    "$\\frac{\\partial^2 f}{\\partial \\theta_i \\partial \\theta_j}(\\boldsymbol{\\theta}) = \\frac{\\left[ f(\\boldsymbol{\\theta} + s(\\hat{e}_i + \\hat{e}_j)) - f(\\boldsymbol{\\theta} + s(-\\hat{e}_i + \\hat{e}_j)) - f(\\boldsymbol{\\theta} + s(\\hat{e}_i - \\hat{e}_j)) + f(\\boldsymbol{\\theta} - s(\\hat{e}_i + \\hat{e}_j)) \\right]}{4 \\sin^2(s)}$\n",
    "\n",
    "where s can be any real value, and $\\hat{e}_i$ is the i-th coordinate basis vector."
   ],
   "metadata": {
    "collapsed": false
   }
  },
  {
   "cell_type": "markdown",
   "source": [
    "PennyLane has the built-in function qml.gradients.param_shift_hessian that uses this formula to compute the Hessian. In this challenge we will use it to calculate the Hessian of circuits with an arbitrary number of wires that are of the form\n",
    "Note that, in this case, the number of wires and the number of parameters are related:\n",
    "![circuit](./images/TheHessianofacircuit_1.png)\n",
    "number of parameters = number of wires+2."
   ],
   "metadata": {
    "collapsed": false
   }
  },
  {
   "cell_type": "markdown",
   "source": [
    "Challenge code\n",
    "-------------------\n",
    "\n",
    "You must complete the `compute_hessian` function, which should\n",
    "\n",
    "Define a QNode which implements the circuit above and returns the expectation value $Z_0 \\otimes Z_{n-1}$, where n is the number of wires `num_wires` (`int`).\n",
    "Return the Hessian of the circuit evaluated on some parameters, enconded in the arguments `w` (`np.ndarray`). These parameters are differentiable. The Hessian should be encoded in either a tuple, which is the built-in return type for qml.gradients.param_shift_hessian, or an np.ndarray of shape (5,5) if you decide to compute the Hessian in a different way.\n",
    "\n",
    "Input\n",
    "-----------\n",
    "\n",
    "As input to this problem, you are given a list of the form [num_wires, w], where\n",
    "\n",
    "* `num_wires` (int) is the number of wires in the circuit.\n",
    "* `w` is the a list of length num_wires + 2, which contains the values of the parameters at which the Hessian should be evaluated.\n",
    "\n",
    "Output\n",
    "------------\n",
    "\n",
    "The output of your code should be the Hessian. Regardless of whether it's a tuple or an np.ndarray, it will be converted into a numpy array by the evaluation functions, which is what you'll see in the expected_output."
   ],
   "metadata": {
    "collapsed": false
   }
  },
  {
   "cell_type": "code",
   "execution_count": null,
   "metadata": {
    "collapsed": true
   },
   "outputs": [],
   "source": [
    "import json\n",
    "import pennylane as qml\n",
    "import pennylane.numpy as np\n",
    "\n",
    "def compute_hessian(num_wires, w):\n",
    "    \"\"\"\n",
    "    This function must create a circuit with num_wire qubits\n",
    "    as per the challenge statement and return the Hessian of such\n",
    "    circuit evaluated on w.\n",
    "\n",
    "    Args:\n",
    "        - num_wires = The number of wires in the circuit\n",
    "        - w (np.ndarray): A list of length num_wires + 2 containing float parameters.\n",
    "        The Hessian is evaluated at this point in parameter space.\n",
    "\n",
    "    Returns:\n",
    "        Union(tuple, np.ndarray): A matrix representing the Hessian calculated via\n",
    "        qml.gradients.parameter_shift_hessian\n",
    "    \"\"\"\n",
    "\n",
    "\n",
    "\n",
    "    # Define your device and QNode\n",
    "\n",
    "    # Return the Hessian using qml.gradient.param_shift_hessian\n",
    "\n",
    "\n",
    "\n",
    "# These functions are responsible for testing the solution.\n",
    "def run(test_case_input: str) -> str:\n",
    "\n",
    "    ins = json.loads(test_case_input)\n",
    "    wires = ins[0]\n",
    "    weights = np.array(ins[1], requires_grad = True)\n",
    "    output = compute_hessian(wires, weights)\n",
    "\n",
    "    if isinstance(output,(tuple)):\n",
    "        output = np.array(output).numpy().round(3)\n",
    "        return str([elem.tolist() for elem in output])\n",
    "\n",
    "    elif isinstance(output,(np.tensor)):\n",
    "\n",
    "        return str(output.tolist())\n",
    "\n",
    "def check(solution_output: str, expected_output: str) -> None:\n",
    "    solution_output = json.loads(solution_output)\n",
    "    expected_output = json.loads(expected_output)\n",
    "\n",
    "    assert np.allclose(solution_output, expected_output, atol=1e-2), \"Your function does not calculate the Hessian correctly.\"\n",
    "\n",
    "\n",
    "# These are the public test cases\n",
    "test_cases = [\n",
    "    ('[3,[0.1,0.2,0.1,0.2,0.7]]', '[[0.013, 0.0, 0.013, 0.006, 0.002], [0.0, -0.621, 0.077, 0.125, -0.604], [0.013, 0.077, -0.608, -0.628, -0.073], [0.006, 0.125, -0.628, 0.138, -0.044], [0.002, -0.604, -0.073, -0.044, -0.608]]'),\n",
    "    ('[4,[0.78,0.23,0.54,-0.8,-0.3,0.0]]', '[[0.0, 0.0, 0.0, 0.0, 0.0, 0.128], [0.0, -0.582, 0.082, -0.14, 0.0, -0.343], [0.0, 0.082, -0.582, -0.359, 0.0, -0.057], [0.0, -0.14, -0.359, -0.582, 0.0, 0.204], [0.0, 0.0, 0.0, 0.0, 0.0, 0.393], [0.128, -0.343, -0.057, 0.204, 0.393, -0.582]]')\n",
    "]\n",
    "\n",
    "# This will run the public test cases locally\n",
    "for i, (input_, expected_output) in enumerate(test_cases):\n",
    "    print(f\"Running test case {i} with input '{input_}'...\")\n",
    "\n",
    "    try:\n",
    "        output = run(input_)\n",
    "\n",
    "    except Exception as exc:\n",
    "        print(f\"Runtime Error. {exc}\")\n",
    "\n",
    "    else:\n",
    "        if message := check(output, expected_output):\n",
    "            print(f\"Wrong Answer. Have: '{output}'. Want: '{expected_output}'.\")\n",
    "\n",
    "        else:\n",
    "            print(\"Correct!\")"
   ]
  }
 ],
 "metadata": {
  "kernelspec": {
   "display_name": "Python 3",
   "language": "python",
   "name": "python3"
  },
  "language_info": {
   "codemirror_mode": {
    "name": "ipython",
    "version": 2
   },
   "file_extension": ".py",
   "mimetype": "text/x-python",
   "name": "python",
   "nbconvert_exporter": "python",
   "pygments_lexer": "ipython2",
   "version": "2.7.6"
  }
 },
 "nbformat": 4,
 "nbformat_minor": 0
}