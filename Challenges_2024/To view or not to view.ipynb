{
 "cells": [
  {
   "cell_type": "markdown",
   "source": [
    "# To view or not to view\n",
    "## Challenge statement\n",
    "Welcome to the Femto Forest, a woodland where you can witness quantum phenomena while enjoying nature! For travellers who like to spend time outdoors, camping is the way to go. But there are many other indoorsy options as well. On the northwestern edge of the Femto Forest is Camp Iota, which has two areas. Area A has an amazing view of the mountains in the Tensor Tundra, but it's only a quarter of the size of Area B, which doesn't have that view.\n",
    "\n",
    "At Camp Iota, the camp managers take advantage of the true quantum randomness to handle how to distribute the campsites; that way campers don't fight over who gets the best view. They do this through an app in their Quantum Smartphone, which prepares two states in a uniform superposition, measures them, and then passes the resulting states through a Quantum OR gate.\n",
    "As you enter the forest, one of the Camp Iota managers notices all the QHack stickers on your suitcase. \"If you manage to tell me how the Smartphone algorithm works\" she claims with a daring grin, \"I'll let you into area A without having to test your luck\". Excited by this unique offer, you start mentally reviewing how logic gates work with quantum computers...\n",
    "\n",
    "How does a Quantum OR gate work? Classical computers ultimately work by applying reversible logical operations to bits of information. One of such such operations is the OR gate denoted by ∨, which acts on two bits as follows:\n",
    "\\begin{align*}\n",
    "|00\\rangle|0\\rangle &\\rightarrow |00\\rangle|0\\rangle \\\\\n",
    "|10\\rangle|0\\rangle &\\rightarrow |10\\rangle|1\\rangle \\\\\n",
    "|01\\rangle|0\\rangle &\\rightarrow |01\\rangle|1\\rangle \\\\\n",
    "|11\\rangle|0\\rangle &\\rightarrow |11\\rangle|1\\rangle\n",
    "\\end{align*}\n",
    "\n",
    "The camp managers then send the campers to area A when the OR gate yields the result 0, which only happens with probability 1/4.\n",
    "\n",
    "We would like our quantum computers to be able to perform this basic logical operator in a reversible way. To do this, we need a circuit with three qubits. The first two qubits ∣a⟩ and ∣b⟩ (a,b∈{0,1}) encode the bits on which the OR gate acts. The third one starts in the state ∣0⟩ and ends up in ∣a∨b⟩. The action of the circuit is shown in the picture below.\n",
    "![CIRCUIT](./images/To%20view%20or%20not%20to%20view_1.png)\n",
    "\n",
    "It is possible to create this operation using only the Pauli X (qml.PauliX) and Toffoli (qml.Toffoli) gates. Your goal in this challenge is precisely to create a quantum circuit that implements an OR gate using only these gates.\n",
    "\n",
    "## Challenge Code\n",
    "In the challenge template, you must complete the or_circuit QNode which, given an array (np.array(int)) of the form [a,b,0] representing the initial state ∣a⟩∣b⟩∣0⟩, returns the state (np.tensor) ∣a⟩∣b⟩∣a∨b⟩. You may only use the Pauli X (qml.PauliX) and Toffoli (qml.Toffoli) gates.\n",
    "\n",
    "## Input\n",
    "As an input to this challenge, you are given an array [a,b,0] (np.array(int)) with a,b∈{0,1}, representing the initial state ∣a⟩∣b⟩∣0⟩.\n",
    "\n",
    "## Output\n",
    "The output, as displayed in the test cases below, is an np.tensor [a,b,a∨b] representing the state ∣a⟩∣b⟩∣a∨b⟩. The qml.state() output of or_circuit will be processed by the test functions to show the state in this form."
   ],
   "metadata": {
    "collapsed": false
   }
  },
  {
   "cell_type": "code",
   "execution_count": 2,
   "outputs": [
    {
     "name": "stdout",
     "output_type": "stream",
     "text": [
      "Running test case 0 with input '[0,0,0]'...\n",
      "Correct!\n",
      "Running test case 1 with input '[1,0,0]'...\n",
      "Correct!\n",
      "Running test case 2 with input '[0,1,0]'...\n",
      "Correct!\n",
      "Running test case 3 with input '[1,1,0]'...\n",
      "Correct!\n"
     ]
    }
   ],
   "source": [
    "import json\n",
    "import pennylane as qml\n",
    "import pennylane.numpy as np\n",
    "\n",
    "dev = qml.device('default.qubit', wires = [0,1,2])\n",
    "\n",
    "@qml.qnode(dev)\n",
    "def or_circuit(state):\n",
    "\n",
    "    \"\"\"\n",
    "    Applies an OR gate to the first and second qubits.\n",
    "\n",
    "    Args:\n",
    "        - state (np.array(int)): An array of the form [a,b,0] representing the input qubit |a>|b>|0>.\n",
    "    Returns:\n",
    "        - (np.tensor): The output state of the circuit as returned by qml.state().\n",
    "\n",
    "    \"\"\"\n",
    "\n",
    "    qml.BasisState(state, wires =[0,1,2])\n",
    "\n",
    "    qml.PauliX(wires=0)\n",
    "    qml.PauliX(wires=1)\n",
    "\n",
    "    # Apply the Toffoli gate\n",
    "    qml.Toffoli(wires=[0, 1, 2])\n",
    "\n",
    "    # Apply X gates again to revert the first two qubits to their original states\n",
    "    qml.PauliX(wires=0)\n",
    "    qml.PauliX(wires=1)\n",
    "    # Revert solution\n",
    "    qml.PauliX(wires=2)\n",
    "\n",
    "    return qml.state()\n",
    "\n",
    "\n",
    "# These functions are responsible for testing the solution.\n",
    "\n",
    "def run(test_case_input: str) -> str:\n",
    "    ins = json.loads(test_case_input)\n",
    "    state = np.real(or_circuit(ins))\n",
    "\n",
    "    bin_string = bin(np.sum([int((state[i]*i).numpy()) for i in range(len(state))]))[2:].zfill(3)\n",
    "\n",
    "    return str([int(elem) for elem in bin_string])\n",
    "\n",
    "def check(solution_output: str, expected_output: str) -> None:\n",
    "    solution_output = json.loads(solution_output)\n",
    "    expected_output = json.loads(expected_output)\n",
    "\n",
    "    u = or_circuit([0,0,0])\n",
    "    tape = or_circuit.qtape\n",
    "    names = [op.name for op in tape.operations]\n",
    "\n",
    "    assert names.count('BasisState') == 1, \"You can't use BasisState, only the one in the template is allowed\"\n",
    "\n",
    "    for op in or_circuit.tape.operations:\n",
    "        (isinstance(op, qml.BasisState) or isinstance(op, qml.Toffoli) or isinstance(op, qml.PauliX)), \"You can only use Toffoli and PauliX gates\"\n",
    "\n",
    "    assert np.allclose(solution_output,expected_output, rtol = 1e-4), \"Not the right output state\"\n",
    "\n",
    "\n",
    "# These are the public test cases\n",
    "test_cases = [\n",
    "    ('[0,0,0]', '[0,0,0]'),\n",
    "    ('[1,0,0]', '[1,0,1]'),\n",
    "    ('[0,1,0]', '[0,1,1]'),\n",
    "    ('[1,1,0]', '[1,1,1]')\n",
    "]\n",
    "\n",
    "# This will run the public test cases locally\n",
    "for i, (input_, expected_output) in enumerate(test_cases):\n",
    "    print(f\"Running test case {i} with input '{input_}'...\")\n",
    "\n",
    "    try:\n",
    "        output = run(input_)\n",
    "\n",
    "    except Exception as exc:\n",
    "        print(f\"Runtime Error. {exc}\")\n",
    "\n",
    "    else:\n",
    "        if message := check(output, expected_output):\n",
    "            print(f\"Wrong Answer. Have: '{output}'. Want: '{expected_output}'.\")\n",
    "\n",
    "        else:\n",
    "            print(\"Correct!\")"
   ],
   "metadata": {
    "collapsed": false,
    "pycharm": {
     "name": "#%%\n"
    }
   }
  },
  {
   "cell_type": "code",
   "execution_count": 3,
   "outputs": [
    {
     "name": "stdout",
     "output_type": "stream",
     "text": [
      "Running test case 0 with input '[0,0,0]' --> [0, 0, 0]\n",
      "Running test case 1 with input '[1,0,0]' --> [1, 0, 1]\n",
      "Running test case 2 with input '[0,1,0]' --> [0, 1, 1]\n",
      "Running test case 3 with input '[1,1,0]' --> [1, 1, 1]\n"
     ]
    }
   ],
   "source": [
    "test_cases = [\n",
    "    ('[0,0,0]', '[0,0,0]'),\n",
    "    ('[1,0,0]', '[1,0,1]'),\n",
    "    ('[0,1,0]', '[0,1,1]'),\n",
    "    ('[1,1,0]', '[1,1,1]')\n",
    "]\n",
    "\n",
    "for i, (input_, expected_output) in enumerate(test_cases):\n",
    "    output = run(input_)\n",
    "    print(f\"Running test case {i} with input '{input_}' --> {output}\")\n"
   ],
   "metadata": {
    "collapsed": false,
    "pycharm": {
     "name": "#%%\n"
    }
   }
  },
  {
   "cell_type": "code",
   "execution_count": 4,
   "outputs": [
    {
     "data": {
      "text/plain": "(<Figure size 700x400 with 1 Axes>, <Axes: >)"
     },
     "execution_count": 4,
     "metadata": {},
     "output_type": "execute_result"
    },
    {
     "data": {
      "text/plain": "<Figure size 700x400 with 1 Axes>",
      "image/png": "[encoded data removed]"
     },
     "metadata": {},
     "output_type": "display_data"
    }
   ],
   "source": [
    "qml.draw_mpl(or_circuit)([0,0,0])"
   ],
   "metadata": {
    "collapsed": false,
    "pycharm": {
     "name": "#%%\n"
    }
   }
  },
  {
   "cell_type": "markdown",
   "source": [
    "Resource:\n",
    "* [X gate]\n",
    "* [Toffoli gate](https://codebook.xanadu.ai/I.13)"
   ],
   "metadata": {
    "collapsed": false,
    "pycharm": {
     "name": "#%% md\n"
    }
   }
  }
 ],
 "metadata": {
  "kernelspec": {
   "display_name": "Python 3",
   "language": "python",
   "name": "python3"
  },
  "language_info": {
   "codemirror_mode": {
    "name": "ipython",
    "version": 2
   },
   "file_extension": ".py",
   "mimetype": "text/x-python",
   "name": "python",
   "nbconvert_exporter": "python",
   "pygments_lexer": "ipython2",
   "version": "2.7.6"
  }
 },
 "nbformat": 4,
 "nbformat_minor": 0
}