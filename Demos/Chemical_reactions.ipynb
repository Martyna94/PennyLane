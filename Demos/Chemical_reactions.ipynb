{
 "cells": [
  {
   "cell_type": "markdown",
   "source": [
    "Based on:\n",
    "* [Modelling chemical reactions on a quantum computer](https://pennylane.ai/qml/demos/tutorial_chemical_reactions/)"
   ],
   "metadata": {
    "collapsed": false
   }
  },
  {
   "cell_type": "markdown",
   "metadata": {
    "collapsed": true,
    "pycharm": {
     "name": "#%% md\n"
    }
   },
   "source": [
    "Modelling chemical reactions on a quantum computer\n",
    "==================================================\n",
    "*Authors: Varun Rishi and Juan Miguel Arrazola --- Posted: 23 July 2021.\n",
    "Last updated: 21 February 2023.*\n",
    "\n",
    "The term \\\"chemical reaction\\\" is another name for the transformation of molecules -- the breaking and forming of bonds. They are characterized by an energy barrier that determines the likelihood that a reaction takes place. The energy landscapes formed by these barriers are the key to understanding how chemical reactions occur, at the deepest possible level.\n",
    "\n",
    "In this tutorial, you will learn how to use PennyLane to simulate chemical reactions by constructing potential energy surfaces for molecular transformations. In the process, you will learn how quantum computers can be used to calculate equilibrium bond lengths, activatio energy barriers, and reaction rates. As illustrative examples, we use tools implemented in PennyLane to study diatomic bond dissociation and reactions involving the exchange of hydrogen atoms.\n",
    "\n",
    "Potential Energy Surfaces\n",
    "-------------------------\n",
    "\n",
    "[Potential energy surfaces\n",
    "(PES)](https://en.wikipedia.org/wiki/Potential_energy_surface) describe the energy of molecules for different positions of its atoms. The concept originates from the fact that the electrons are much lighter than protons and neutrons, so they will adjust instantaneously to the new positions of the nuclei. This leads to a separation of the nuclear and electronic parts of the Schrödinger equation, meaning we only need to solve the electronic equation:\n",
    "\n",
    "$$H(R)|\\Psi \\rangle =  E|\\Psi\\rangle.$$\n",
    "\n",
    "From this perspective arises the concept of the electronic energy of a molecule, $E(R)$, as a function of nuclear coordinates $R$. The energy $E(R)$ is the expectation value of the molecular Hamiltonian, $E(R)=\\langle \\Psi_0|H(R)|\\Psi_0\\rangle$, taken with respect to the ground state $|\\Psi_0(R)\\rangle$. The potential energy surface is precisely this function $E(R)$, which connects energies to different geometries of the molecule. It gives us a visual tool to understand chemical reactions by associating stable molecules (reactants and products) with local minima, transition states with peaks, and by identifying the possible routes for a chemical reaction to occur.\n",
    "\n",
    "To build the potential energy surface, we compute the energy for fixed positions of the nuclei, and subsequently adjust the positions of the nuclei in incremental steps, computing the energies at each new configuration. The obtained set of energies corresponds to a grid of nuclear positions and the plot of $E(R)$ gives rise to the potential\n",
    "energy surface.\n",
    "\n",
    "![Illustration of a potential energy surface for a diatomic\n",
    "molecule.](./images/Chemical_reactions_1.png)\n",
    "\n",
    "Bond dissociation in a Hydrogen molecule\n",
    "----------------------------------------\n",
    "\n",
    "We now construct a potential energy surface and use it to compute equilibrium bond lengths and the bond dissociation energy. We begin with the simplest of molecules: $H_2$. The formation or breaking of the $H-H$ bond is also the most elementary of all reactions:\n",
    "\n",
    "$$H_2 \\rightarrow H + H.$$\n",
    "\n",
    "Using a minimal [basis set](https://en.wikipedia.org/wiki/STO-nG_basis_sets), this molecular system can be described by two electrons in four spin-orbitals. When mapped to a qubit representation, we need a total of four qubits. The *Hartree-Fock (HF) state* is represented as $|1100\\rangle$, where the two lowest-energy orbitals are occupied, and the remaining two are unoccupied.\n",
    "\n",
    "We design a quantum circuit consisting of `~.pennylane.SingleExcitation`{.interpreted-text role=\"class\"} and `~.pennylane.DoubleExcitation`{.interpreted-text role=\"class\"} gates applied to the Hartree-Fock state. This circuit will be optimized to prepare ground states for different configurations of the molecule."
   ]
  },
  {
   "cell_type": "code",
   "execution_count": 1,
   "outputs": [
    {
     "data": {
      "text/plain": "tensor([1, 1, 0, 0], requires_grad=True)"
     },
     "execution_count": 1,
     "metadata": {},
     "output_type": "execute_result"
    }
   ],
   "source": [
    "import pennylane as qml\n",
    "from pennylane import qchem\n",
    "\n",
    "# Hartree-Fock state\n",
    "hf = qml.qchem.hf_state(electrons=2, orbitals=4)\n",
    "hf"
   ],
   "metadata": {
    "collapsed": false,
    "pycharm": {
     "name": "#%%\n"
    }
   }
  },
  {
   "cell_type": "markdown",
   "source": [
    "To construct the potential energy surface, we vary the location of the nuclei and calculate the energy for each resulting geometry of the\n",
    "molecule. We keep an $H$ atom fixed at the origin and change only the coordinate of the other atom in a single direction. The potential energy surface is then a one-dimensional function depending only on the bond length, i.e., the separation between the atoms. For each value of the bond length, we construct the corresponding Hamiltonian, then optimize the circuit using gradient descent to obtain the ground-state energy. We vary the bond length in the range $0.5$ to $5.0$ [Bohrs](https://en.wikipedia.org/wiki/Bohr_radius) in steps of $0.25$ Bohr. This covers the point where the $H-H$ bond is formed, the equilibrium bond length, and the point where the bond is broken, which occurs when the atoms are far away from each other.\n"
   ],
   "metadata": {
    "collapsed": false,
    "pycharm": {
     "name": "#%% md\n"
    }
   }
  },
  {
   "cell_type": "code",
   "execution_count": 2,
   "outputs": [],
   "source": [
    "from pennylane import numpy as np\n",
    "\n",
    "# atomic symbols defining the molecule\n",
    "symbols=['H','H']\n",
    "# list to store energies\n",
    "energies = []\n",
    "# set up a loop to change bond length\n",
    "r_range = np.arange(0.5,5.0,0.25)\n",
    "# keeps track of points in the potential energy surface\n",
    "pes_point = 0\n",
    "params_old = 0\n",
    "min_energy = 0\n",
    "indx = 0"
   ],
   "metadata": {
    "collapsed": false,
    "pycharm": {
     "name": "#%%\n"
    }
   }
  },
  {
   "cell_type": "markdown",
   "source": [
    "We build the Hamiltonian using the molecular_hamiltonian() function, and use standard Pennylane techniques to optimize the circuit."
   ],
   "metadata": {
    "collapsed": false
   }
  },
  {
   "cell_type": "code",
   "execution_count": 12,
   "outputs": [
    {
     "name": "stdout",
     "output_type": "stream",
     "text": [
      "Energy:-0.4107883961175878 to r:0.5\n",
      "Energy:-0.907722823531667 to r:0.75\n",
      "Energy:-1.0789696152155244 to r:1.0\n",
      "Energy:-1.1319129288479872 to r:1.25\n",
      "Energy:-1.13468979388184 to r:1.5\n",
      "Energy:-1.1158993531817398 to r:1.75\n",
      "Energy:-1.088495097286535 to r:2.0\n",
      "Energy:-1.0588181410037876 to r:2.25\n",
      "Energy:-1.030471975675673 to r:2.5\n",
      "Energy:-1.005580295128583 to r:2.75\n",
      "Energy:-0.9851540357530233 to r:3.0\n",
      "Energy:-0.9693332619768962 to r:3.25\n",
      "Energy:-0.9576724007151391 to r:3.5\n",
      "Energy:-0.9494230988959085 to r:3.75\n",
      "Energy:-0.9437750480325594 to r:4.0\n",
      "Energy:-0.9400014108792629 to r:4.25\n",
      "Energy:-0.9375233257068576 to r:4.5\n",
      "Energy:-0.9359175211268949 to r:4.75\n"
     ]
    }
   ],
   "source": [
    "for r in r_range:\n",
    "    # Change only the z coordinate of one atom\n",
    "    coordinates = np.array([0.0, 0.0, 0.0, 0.0, 0.0, r])\n",
    "    #Obtain the qubit Hamiltonian method= 'dhf'\n",
    "    H, qubits  = qchem.molecular_hamiltonian(symbols, coordinates, method= 'dhf')\n",
    "    # define the device, optimizer and circuit\n",
    "    dev = qml.device(\"default.qubit\", wires=qubits)\n",
    "    opt = qml.GradientDescentOptimizer(stepsize = 0.4)\n",
    "\n",
    "    @qml.qnode(dev,interface = 'autograd')\n",
    "    def circuit(parameters):\n",
    "        # Prepare the HF state\n",
    "        qml.BasisState(hf, wires=range(qubits))\n",
    "        qml.DoubleExcitation(parameters[0], wires=[0, 1, 2, 3])\n",
    "        qml.SingleExcitation(parameters[1], wires=[0, 2])\n",
    "        qml.SingleExcitation(parameters[2], wires=[1, 3])\n",
    "\n",
    "        return qml.expval(H) # we are interested in minimizing this expectation value\n",
    "    # initialize the gate parameters\n",
    "    params = np.zeros(3, requires_grad=True)\n",
    "\n",
    "    # initialize with converged\n",
    "    if pes_point > 0:\n",
    "        params = params_old\n",
    "    prev_energy = 0.0\n",
    "    for n in range(50):\n",
    "        # perform optimization step\n",
    "        params,energy = opt.step_and_cost(circuit,params)\n",
    "        if np.abs(energy - prev_energy) < 1e-6:\n",
    "            break\n",
    "        prev_energy = energy\n",
    "    # store the converged parameters\n",
    "    params_old = params\n",
    "    pes_point = pes_point + 1\n",
    "    energies.append(energy)\n",
    "    if min_energy > energy:\n",
    "        min_energy = energy\n",
    "        indx = energies.index(energy)\n",
    "    print(f'Energy:{energy} to r:{r}')\n"
   ],
   "metadata": {
    "collapsed": false,
    "pycharm": {
     "name": "#%%\n"
    }
   }
  },
  {
   "cell_type": "markdown",
   "source": [
    "This is the potential energy surface for the dissociation of a hydrogen molecule into two hydrogen atoms. It is a numerical calculation of the same type of plot that was illustrated in the beginning. In a diatomic molecule such as $H_2$, it can be used to obtain the equilibrium bond length --- the distance between the two atoms that minimizes the total electronic energy. This is simply the minimum of the curve. We can also obtain the bond dissociation energy, which is the difference in the energy of the system when the atoms are far apart and the energy at equilibrium. At sufficiently large separations, the atoms no longer form a molecule, and the system is called \\\"dissociated\\\".\n",
    "\n",
    "Let\\'s use our results to compute the equilibrium bond length and the\n",
    "bond dissociation energy:\n"
   ],
   "metadata": {
    "collapsed": false
   }
  },
  {
   "cell_type": "code",
   "source": [
    "import matplotlib.pyplot as plt\n",
    "\n",
    "fig, ax = plt.subplots()\n",
    "ax.plot(r_range, energies)\n",
    "\n",
    "ax.set(\n",
    "    xlabel=\"Bond length (Bohr)\",\n",
    "    ylabel=\"Total energy (Hartree)\",\n",
    "    title=\"Potential energy surface for H$_2$ dissociation\",\n",
    ")\n",
    "ax.grid()\n",
    "plt.show()"
   ],
   "metadata": {
    "collapsed": false,
    "pycharm": {
     "name": "#%%\n"
    }
   },
   "execution_count": 14,
   "outputs": [
    {
     "data": {
      "text/plain": "<Figure size 640x480 with 1 Axes>",
      "image/png": "[encoded data removed]"
     },
     "metadata": {},
     "output_type": "display_data"
    }
   ]
  },
  {
   "cell_type": "code",
   "execution_count": 13,
   "outputs": [
    {
     "name": "stdout",
     "output_type": "stream",
     "text": [
      "The equilibrium bond length is 1.5 Bohrs\n",
      "The bond dissociation energy is 0.198772 Hartrees\n"
     ]
    }
   ],
   "source": [
    "# equilibrium energy\n",
    "e_eq = min(energies)\n",
    "# energy when atoms are far apart\n",
    "e_dis = energies[-1]\n",
    "\n",
    "# Bond dissociation energy\n",
    "bond_energy = e_dis - e_eq\n",
    "\n",
    "# Equilibrium bond length\n",
    "idx = energies.index(e_eq)\n",
    "bond_length = r_range[idx]\n",
    "\n",
    "print(f\"The equilibrium bond length is {bond_length:.1f} Bohrs\")\n",
    "print(f\"The bond dissociation energy is {bond_energy:.6f} Hartrees\")"
   ],
   "metadata": {
    "collapsed": false,
    "pycharm": {
     "name": "#%%\n"
    }
   }
  },
  {
   "cell_type": "markdown",
   "source": [
    "Hydrogen Exchange Reaction\n",
    "==========================\n",
    "\n",
    "After studying a simple diatomic bond dissociation, we move to a\n",
    "slightly more complicated case: a hydrogen exchange reaction.\n",
    "\n",
    "$$H_2 + H \\rightarrow H + H_2.$$\n",
    "\n",
    "This reaction has a barrier, the [transition\n",
    "state](https://en.wikipedia.org/wiki/Transition_state), that must be\n",
    "crossed for the exchange of an atom to be complete. In this case, the\n",
    "transition state corresponds to a specific linear arrangement of the\n",
    "atoms where one $H-H$ bond is partially broken and the other $H-H$ bond\n",
    "is partially formed. The molecular movie ⚛️🎥 below is an illustration of\n",
    "the reaction trajectory. It depicts how the distance between the\n",
    "hydrogen atoms changes as one bond is broken and another one is formed.\n",
    "The path along which the reaction proceeds is known as the [reaction\n",
    "coordinate](https://en.wikipedia.org/wiki/Reaction_coordinate).\n",
    "\n",
    "![static](images/h3_mol_movie.gif)\n",
    "\n",
    "In a minimal basis like STO-3G, this system consists of three electrons\n",
    "in six spin molecular orbitals. This translates into a six-qubit\n",
    "problem, for which the Hartree-Fock state is $|111000\\rangle$. As there\n",
    "is an unpaired electron, the spin multiplicity is equal to two and needs\n",
    "to be specified, since it differs from the default value of one.\n"
   ],
   "metadata": {
    "collapsed": false
   }
  },
  {
   "cell_type": "code",
   "execution_count": null,
   "outputs": [],
   "source": [
    "symbols = [\"H\", \"H\", \"H\"]\n",
    "multiplicity = 2"
   ],
   "metadata": {
    "collapsed": false,
    "pycharm": {
     "name": "#%%\n"
    }
   }
  },
  {
   "cell_type": "markdown",
   "source": [
    "To build a potential energy surface for the hydrogen exchange, we fix the positions of the outermost atoms, and change only the placement of the middle atom. For this circuit, we employ all single and double excitation gates, which can be conveniently done with the AllSinglesDoubles template. The rest of the procedure follows as before."
   ],
   "metadata": {
    "collapsed": false
   }
  },
  {
   "cell_type": "code",
   "execution_count": 21,
   "outputs": [],
   "source": [
    "symbols = [\"H\", \"H\",]\n",
    "multiplicity = 2"
   ],
   "metadata": {
    "collapsed": false,
    "pycharm": {
     "name": "#%%\n"
    }
   }
  },
  {
   "cell_type": "code",
   "source": [
    "from pennylane.templates import AllSinglesDoubles\n",
    "\n",
    "energies = []\n",
    "pes_point = 0\n",
    "params_old = 0\n",
    "# get all the singles and doubles excitations, and Hartree-Fock state\n",
    "electrons = 3\n",
    "orbitals = 6\n",
    "singles, doubles = qchem.excitations(electrons, orbitals)\n",
    "hf = qml.qchem.hf_state(electrons, orbitals)\n",
    "# l# loop to change reaction coordinate\n",
    "r_range = np.arange(1.0, 3.0, 0.1)\n",
    "for r in r_range:\n",
    "    coordinates = np.array([0.0, 0.0, 0.0, 0.0, 0.0, r, 0.0, 0.0, 0.0,0.0, 0.0, 0.0])\n",
    "    # We now specify the multiplicity\n",
    "    H, qubits = qchem.molecular_hamiltonian(symbols, coordinates, method='dhf')\n",
    "\n",
    "    dev = qml.device(\"default.qubit\", wires=qubits)\n",
    "    opt = qml.GradientDescentOptimizer(stepsize=1.5)\n",
    "    @qml.qnode(dev, interface='autograd')\n",
    "    def circuit(parameters):\n",
    "        AllSinglesDoubles(parameters, range(qubits), hf, singles, doubles)\n",
    "        return qml.expval(H)  # we are interested in minimizing this expectation value\n",
    "    params = np.zeros(len(singles) + len(doubles), requires_grad=True)\n",
    "    prev_energy = 0.0\n",
    "\n",
    "    for n in range(60):\n",
    "        params, energy = opt.step_and_cost(circuit, params)\n",
    "        if np.abs(energy - prev_energy) < 1e-6:\n",
    "            break\n",
    "        prev_energy = energy\n",
    "\n",
    "    # store the converged parameters\n",
    "    params_old = params\n",
    "    pes_point = pes_point + 1\n",
    "\n",
    "    energies.append(energy)\n",
    "    print(f'Energy:{energy} to r:{r}')"
   ],
   "metadata": {
    "collapsed": false,
    "pycharm": {
     "name": "#%%\n"
    }
   },
   "execution_count": 23,
   "outputs": [
    {
     "name": "stderr",
     "output_type": "stream",
     "text": [
      "C:\\Users\\marty\\anaconda3\\envs\\PennyLane_1\\lib\\site-packages\\autoray\\autoray.py:80: RuntimeWarning: invalid value encountered in sqrt\n",
      "  return get_lib_fn(backend, fn)(*args, **kwargs)\n"
     ]
    },
    {
     "ename": "LinAlgError",
     "evalue": "Eigenvalues did not converge",
     "output_type": "error",
     "traceback": [
      "\u001B[1;31m---------------------------------------------------------------------------\u001B[0m",
      "\u001B[1;31mLinAlgError\u001B[0m                               Traceback (most recent call last)",
      "Cell \u001B[1;32mIn[23], line 16\u001B[0m\n\u001B[0;32m     14\u001B[0m coordinates \u001B[38;5;241m=\u001B[39m np\u001B[38;5;241m.\u001B[39marray([\u001B[38;5;241m0.0\u001B[39m, \u001B[38;5;241m0.0\u001B[39m, \u001B[38;5;241m0.0\u001B[39m, \u001B[38;5;241m0.0\u001B[39m, \u001B[38;5;241m0.0\u001B[39m, r, \u001B[38;5;241m0.0\u001B[39m, \u001B[38;5;241m0.0\u001B[39m, \u001B[38;5;241m0.0\u001B[39m,\u001B[38;5;241m0.0\u001B[39m, \u001B[38;5;241m0.0\u001B[39m, \u001B[38;5;241m0.0\u001B[39m])\n\u001B[0;32m     15\u001B[0m \u001B[38;5;66;03m# We now specify the multiplicity\u001B[39;00m\n\u001B[1;32m---> 16\u001B[0m H, qubits \u001B[38;5;241m=\u001B[39m \u001B[43mqchem\u001B[49m\u001B[38;5;241;43m.\u001B[39;49m\u001B[43mmolecular_hamiltonian\u001B[49m\u001B[43m(\u001B[49m\u001B[43msymbols\u001B[49m\u001B[43m,\u001B[49m\u001B[43m \u001B[49m\u001B[43mcoordinates\u001B[49m\u001B[43m,\u001B[49m\u001B[43m \u001B[49m\u001B[43mmethod\u001B[49m\u001B[38;5;241;43m=\u001B[39;49m\u001B[38;5;124;43m'\u001B[39;49m\u001B[38;5;124;43mdhf\u001B[39;49m\u001B[38;5;124;43m'\u001B[39;49m\u001B[43m)\u001B[49m\n\u001B[0;32m     18\u001B[0m dev \u001B[38;5;241m=\u001B[39m qml\u001B[38;5;241m.\u001B[39mdevice(\u001B[38;5;124m\"\u001B[39m\u001B[38;5;124mdefault.qubit\u001B[39m\u001B[38;5;124m\"\u001B[39m, wires\u001B[38;5;241m=\u001B[39mqubits)\n\u001B[0;32m     19\u001B[0m opt \u001B[38;5;241m=\u001B[39m qml\u001B[38;5;241m.\u001B[39mGradientDescentOptimizer(stepsize\u001B[38;5;241m=\u001B[39m\u001B[38;5;241m1.5\u001B[39m)\n",
      "File \u001B[1;32m~\\anaconda3\\envs\\PennyLane_1\\lib\\site-packages\\pennylane\\qchem\\openfermion_obs.py:946\u001B[0m, in \u001B[0;36mmolecular_hamiltonian\u001B[1;34m(symbols, coordinates, name, charge, mult, basis, method, active_electrons, active_orbitals, mapping, outpath, wires, alpha, coeff, args, load_data, convert_tol)\u001B[0m\n\u001B[0;32m    938\u001B[0m core, active \u001B[38;5;241m=\u001B[39m qml\u001B[38;5;241m.\u001B[39mqchem\u001B[38;5;241m.\u001B[39mactive_space(\n\u001B[0;32m    939\u001B[0m     mol\u001B[38;5;241m.\u001B[39mn_electrons, mol\u001B[38;5;241m.\u001B[39mn_orbitals, mult, active_electrons, active_orbitals\n\u001B[0;32m    940\u001B[0m )\n\u001B[0;32m    942\u001B[0m requires_grad \u001B[38;5;241m=\u001B[39m args \u001B[38;5;129;01mis\u001B[39;00m \u001B[38;5;129;01mnot\u001B[39;00m \u001B[38;5;28;01mNone\u001B[39;00m\n\u001B[0;32m    943\u001B[0m h \u001B[38;5;241m=\u001B[39m (\n\u001B[0;32m    944\u001B[0m     qml\u001B[38;5;241m.\u001B[39mqchem\u001B[38;5;241m.\u001B[39mdiff_hamiltonian(mol, core\u001B[38;5;241m=\u001B[39mcore, active\u001B[38;5;241m=\u001B[39mactive)(\u001B[38;5;241m*\u001B[39margs)\n\u001B[0;32m    945\u001B[0m     \u001B[38;5;28;01mif\u001B[39;00m requires_grad\n\u001B[1;32m--> 946\u001B[0m     \u001B[38;5;28;01melse\u001B[39;00m \u001B[43mqml\u001B[49m\u001B[38;5;241;43m.\u001B[39;49m\u001B[43mqchem\u001B[49m\u001B[38;5;241;43m.\u001B[39;49m\u001B[43mdiff_hamiltonian\u001B[49m\u001B[43m(\u001B[49m\u001B[43mmol\u001B[49m\u001B[43m,\u001B[49m\u001B[43m \u001B[49m\u001B[43mcore\u001B[49m\u001B[38;5;241;43m=\u001B[39;49m\u001B[43mcore\u001B[49m\u001B[43m,\u001B[49m\u001B[43m \u001B[49m\u001B[43mactive\u001B[49m\u001B[38;5;241;43m=\u001B[39;49m\u001B[43mactive\u001B[49m\u001B[43m)\u001B[49m\u001B[43m(\u001B[49m\u001B[43m)\u001B[49m\n\u001B[0;32m    947\u001B[0m )\n\u001B[0;32m    949\u001B[0m \u001B[38;5;28;01mif\u001B[39;00m active_new_opmath():\n\u001B[0;32m    950\u001B[0m     h_as_ps \u001B[38;5;241m=\u001B[39m qml\u001B[38;5;241m.\u001B[39mpauli\u001B[38;5;241m.\u001B[39mpauli_sentence(h)\n",
      "File \u001B[1;32m~\\anaconda3\\envs\\PennyLane_1\\lib\\site-packages\\pennylane\\qchem\\hamiltonian.py:223\u001B[0m, in \u001B[0;36mdiff_hamiltonian.<locals>._molecular_hamiltonian\u001B[1;34m(*args)\u001B[0m\n\u001B[0;32m    213\u001B[0m \u001B[38;5;28;01mdef\u001B[39;00m \u001B[38;5;21m_molecular_hamiltonian\u001B[39m(\u001B[38;5;241m*\u001B[39margs):\n\u001B[0;32m    214\u001B[0m \u001B[38;5;250m    \u001B[39m\u001B[38;5;124mr\u001B[39m\u001B[38;5;124;03m\"\"\"Compute the qubit hamiltonian.\u001B[39;00m\n\u001B[0;32m    215\u001B[0m \n\u001B[0;32m    216\u001B[0m \u001B[38;5;124;03m    Args:\u001B[39;00m\n\u001B[1;32m   (...)\u001B[0m\n\u001B[0;32m    220\u001B[0m \u001B[38;5;124;03m        Hamiltonian: the qubit Hamiltonian\u001B[39;00m\n\u001B[0;32m    221\u001B[0m \u001B[38;5;124;03m    \"\"\"\u001B[39;00m\n\u001B[1;32m--> 223\u001B[0m     h_ferm \u001B[38;5;241m=\u001B[39m \u001B[43mfermionic_hamiltonian\u001B[49m\u001B[43m(\u001B[49m\u001B[43mmol\u001B[49m\u001B[43m,\u001B[49m\u001B[43m \u001B[49m\u001B[43mcutoff\u001B[49m\u001B[43m,\u001B[49m\u001B[43m \u001B[49m\u001B[43mcore\u001B[49m\u001B[43m,\u001B[49m\u001B[43m \u001B[49m\u001B[43mactive\u001B[49m\u001B[43m)\u001B[49m\u001B[43m(\u001B[49m\u001B[38;5;241;43m*\u001B[39;49m\u001B[43margs\u001B[49m\u001B[43m)\u001B[49m\n\u001B[0;32m    225\u001B[0m     \u001B[38;5;28;01mreturn\u001B[39;00m qubit_observable(h_ferm)\n",
      "File \u001B[1;32m~\\anaconda3\\envs\\PennyLane_1\\lib\\site-packages\\pennylane\\qchem\\hamiltonian.py:177\u001B[0m, in \u001B[0;36mfermionic_hamiltonian.<locals>._fermionic_hamiltonian\u001B[1;34m(*args)\u001B[0m\n\u001B[0;32m    167\u001B[0m \u001B[38;5;28;01mdef\u001B[39;00m \u001B[38;5;21m_fermionic_hamiltonian\u001B[39m(\u001B[38;5;241m*\u001B[39margs):\n\u001B[0;32m    168\u001B[0m \u001B[38;5;250m    \u001B[39m\u001B[38;5;124mr\u001B[39m\u001B[38;5;124;03m\"\"\"Compute the fermionic hamiltonian.\u001B[39;00m\n\u001B[0;32m    169\u001B[0m \n\u001B[0;32m    170\u001B[0m \u001B[38;5;124;03m    Args:\u001B[39;00m\n\u001B[1;32m   (...)\u001B[0m\n\u001B[0;32m    174\u001B[0m \u001B[38;5;124;03m        FermiSentence: fermionic Hamiltonian\u001B[39;00m\n\u001B[0;32m    175\u001B[0m \u001B[38;5;124;03m    \"\"\"\u001B[39;00m\n\u001B[1;32m--> 177\u001B[0m     core_constant, one, two \u001B[38;5;241m=\u001B[39m \u001B[43melectron_integrals\u001B[49m\u001B[43m(\u001B[49m\u001B[43mmol\u001B[49m\u001B[43m,\u001B[49m\u001B[43m \u001B[49m\u001B[43mcore\u001B[49m\u001B[43m,\u001B[49m\u001B[43m \u001B[49m\u001B[43mactive\u001B[49m\u001B[43m)\u001B[49m\u001B[43m(\u001B[49m\u001B[38;5;241;43m*\u001B[39;49m\u001B[43margs\u001B[49m\u001B[43m)\u001B[49m\n\u001B[0;32m    179\u001B[0m     \u001B[38;5;28;01mreturn\u001B[39;00m fermionic_observable(core_constant, one, two, cutoff)\n",
      "File \u001B[1;32m~\\anaconda3\\envs\\PennyLane_1\\lib\\site-packages\\pennylane\\qchem\\hamiltonian.py:110\u001B[0m, in \u001B[0;36melectron_integrals.<locals>._electron_integrals\u001B[1;34m(*args)\u001B[0m\n\u001B[0;32m    101\u001B[0m \u001B[38;5;28;01mdef\u001B[39;00m \u001B[38;5;21m_electron_integrals\u001B[39m(\u001B[38;5;241m*\u001B[39margs):\n\u001B[0;32m    102\u001B[0m \u001B[38;5;250m    \u001B[39m\u001B[38;5;124mr\u001B[39m\u001B[38;5;124;03m\"\"\"Compute the one- and two-electron integrals in the molecular orbital basis.\u001B[39;00m\n\u001B[0;32m    103\u001B[0m \n\u001B[0;32m    104\u001B[0m \u001B[38;5;124;03m    Args:\u001B[39;00m\n\u001B[1;32m   (...)\u001B[0m\n\u001B[0;32m    108\u001B[0m \u001B[38;5;124;03m        tuple[array[float]]: 1D tuple containing core constant, one- and two-electron integrals\u001B[39;00m\n\u001B[0;32m    109\u001B[0m \u001B[38;5;124;03m    \"\"\"\u001B[39;00m\n\u001B[1;32m--> 110\u001B[0m     _, coeffs, _, h_core, repulsion_tensor \u001B[38;5;241m=\u001B[39m \u001B[43mscf\u001B[49m\u001B[43m(\u001B[49m\u001B[43mmol\u001B[49m\u001B[43m)\u001B[49m\u001B[43m(\u001B[49m\u001B[38;5;241;43m*\u001B[39;49m\u001B[43margs\u001B[49m\u001B[43m)\u001B[49m\n\u001B[0;32m    111\u001B[0m     one \u001B[38;5;241m=\u001B[39m qml\u001B[38;5;241m.\u001B[39mmath\u001B[38;5;241m.\u001B[39meinsum(\u001B[38;5;124m\"\u001B[39m\u001B[38;5;124mqr,rs,st->qt\u001B[39m\u001B[38;5;124m\"\u001B[39m, coeffs\u001B[38;5;241m.\u001B[39mT, h_core, coeffs)\n\u001B[0;32m    112\u001B[0m     two \u001B[38;5;241m=\u001B[39m qml\u001B[38;5;241m.\u001B[39mmath\u001B[38;5;241m.\u001B[39mswapaxes(\n\u001B[0;32m    113\u001B[0m         qml\u001B[38;5;241m.\u001B[39mmath\u001B[38;5;241m.\u001B[39meinsum(\n\u001B[0;32m    114\u001B[0m             \u001B[38;5;124m\"\u001B[39m\u001B[38;5;124mab,cd,bdeg,ef,gh->acfh\u001B[39m\u001B[38;5;124m\"\u001B[39m, coeffs\u001B[38;5;241m.\u001B[39mT, coeffs\u001B[38;5;241m.\u001B[39mT, repulsion_tensor, coeffs, coeffs\n\u001B[1;32m   (...)\u001B[0m\n\u001B[0;32m    117\u001B[0m         \u001B[38;5;241m3\u001B[39m,\n\u001B[0;32m    118\u001B[0m     )\n",
      "File \u001B[1;32m~\\anaconda3\\envs\\PennyLane_1\\lib\\site-packages\\pennylane\\qchem\\hartree_fock.py:141\u001B[0m, in \u001B[0;36mscf.<locals>._scf\u001B[1;34m(*args)\u001B[0m\n\u001B[0;32m    138\u001B[0m w, v \u001B[38;5;241m=\u001B[39m qml\u001B[38;5;241m.\u001B[39mmath\u001B[38;5;241m.\u001B[39mlinalg\u001B[38;5;241m.\u001B[39meigh(s)\n\u001B[0;32m    139\u001B[0m x \u001B[38;5;241m=\u001B[39m v \u001B[38;5;241m@\u001B[39m qml\u001B[38;5;241m.\u001B[39mmath\u001B[38;5;241m.\u001B[39mdiag(\u001B[38;5;241m1.0\u001B[39m \u001B[38;5;241m/\u001B[39m qml\u001B[38;5;241m.\u001B[39mmath\u001B[38;5;241m.\u001B[39msqrt(w)) \u001B[38;5;241m@\u001B[39m v\u001B[38;5;241m.\u001B[39mT\n\u001B[1;32m--> 141\u001B[0m eigvals, w_fock \u001B[38;5;241m=\u001B[39m \u001B[43mqml\u001B[49m\u001B[38;5;241;43m.\u001B[39;49m\u001B[43mmath\u001B[49m\u001B[38;5;241;43m.\u001B[39;49m\u001B[43mlinalg\u001B[49m\u001B[38;5;241;43m.\u001B[39;49m\u001B[43meigh\u001B[49m\u001B[43m(\u001B[49m\n\u001B[0;32m    142\u001B[0m \u001B[43m    \u001B[49m\u001B[43mx\u001B[49m\u001B[38;5;241;43m.\u001B[39;49m\u001B[43mT\u001B[49m\u001B[43m \u001B[49m\u001B[38;5;241;43m@\u001B[39;49m\u001B[43m \u001B[49m\u001B[43mh_core\u001B[49m\u001B[43m \u001B[49m\u001B[38;5;241;43m@\u001B[39;49m\u001B[43m \u001B[49m\u001B[43mx\u001B[49m\n\u001B[0;32m    143\u001B[0m \u001B[43m\u001B[49m\u001B[43m)\u001B[49m  \u001B[38;5;66;03m# initial guess for the scf problem\u001B[39;00m\n\u001B[0;32m    144\u001B[0m coeffs \u001B[38;5;241m=\u001B[39m x \u001B[38;5;241m@\u001B[39m w_fock\n\u001B[0;32m    146\u001B[0m p \u001B[38;5;241m=\u001B[39m mol_density_matrix(n_electron, coeffs)\n",
      "File \u001B[1;32m~\\anaconda3\\envs\\PennyLane_1\\lib\\site-packages\\autoray\\autoray.py:80\u001B[0m, in \u001B[0;36mdo\u001B[1;34m(fn, like, *args, **kwargs)\u001B[0m\n\u001B[0;32m     31\u001B[0m \u001B[38;5;250m\u001B[39m\u001B[38;5;124;03m\"\"\"Do function named ``fn`` on ``(*args, **kwargs)``, peforming single\u001B[39;00m\n\u001B[0;32m     32\u001B[0m \u001B[38;5;124;03mdispatch to retrieve ``fn`` based on whichever library defines the class of\u001B[39;00m\n\u001B[0;32m     33\u001B[0m \u001B[38;5;124;03mthe ``args[0]``, or the ``like`` keyword argument if specified.\u001B[39;00m\n\u001B[1;32m   (...)\u001B[0m\n\u001B[0;32m     77\u001B[0m \u001B[38;5;124;03m    <tf.Tensor: id=91, shape=(3, 3), dtype=float32>\u001B[39;00m\n\u001B[0;32m     78\u001B[0m \u001B[38;5;124;03m\"\"\"\u001B[39;00m\n\u001B[0;32m     79\u001B[0m backend \u001B[38;5;241m=\u001B[39m choose_backend(fn, \u001B[38;5;241m*\u001B[39margs, like\u001B[38;5;241m=\u001B[39mlike, \u001B[38;5;241m*\u001B[39m\u001B[38;5;241m*\u001B[39mkwargs)\n\u001B[1;32m---> 80\u001B[0m \u001B[38;5;28;01mreturn\u001B[39;00m get_lib_fn(backend, fn)(\u001B[38;5;241m*\u001B[39margs, \u001B[38;5;241m*\u001B[39m\u001B[38;5;241m*\u001B[39mkwargs)\n",
      "File \u001B[1;32m<__array_function__ internals>:180\u001B[0m, in \u001B[0;36meigh\u001B[1;34m(*args, **kwargs)\u001B[0m\n",
      "File \u001B[1;32m~\\anaconda3\\envs\\PennyLane_1\\lib\\site-packages\\numpy\\linalg\\linalg.py:1465\u001B[0m, in \u001B[0;36meigh\u001B[1;34m(a, UPLO)\u001B[0m\n\u001B[0;32m   1462\u001B[0m     gufunc \u001B[38;5;241m=\u001B[39m _umath_linalg\u001B[38;5;241m.\u001B[39meigh_up\n\u001B[0;32m   1464\u001B[0m signature \u001B[38;5;241m=\u001B[39m \u001B[38;5;124m'\u001B[39m\u001B[38;5;124mD->dD\u001B[39m\u001B[38;5;124m'\u001B[39m \u001B[38;5;28;01mif\u001B[39;00m isComplexType(t) \u001B[38;5;28;01melse\u001B[39;00m \u001B[38;5;124m'\u001B[39m\u001B[38;5;124md->dd\u001B[39m\u001B[38;5;124m'\u001B[39m\n\u001B[1;32m-> 1465\u001B[0m w, vt \u001B[38;5;241m=\u001B[39m \u001B[43mgufunc\u001B[49m\u001B[43m(\u001B[49m\u001B[43ma\u001B[49m\u001B[43m,\u001B[49m\u001B[43m \u001B[49m\u001B[43msignature\u001B[49m\u001B[38;5;241;43m=\u001B[39;49m\u001B[43msignature\u001B[49m\u001B[43m,\u001B[49m\u001B[43m \u001B[49m\u001B[43mextobj\u001B[49m\u001B[38;5;241;43m=\u001B[39;49m\u001B[43mextobj\u001B[49m\u001B[43m)\u001B[49m\n\u001B[0;32m   1466\u001B[0m w \u001B[38;5;241m=\u001B[39m w\u001B[38;5;241m.\u001B[39mastype(_realType(result_t), copy\u001B[38;5;241m=\u001B[39m\u001B[38;5;28;01mFalse\u001B[39;00m)\n\u001B[0;32m   1467\u001B[0m vt \u001B[38;5;241m=\u001B[39m vt\u001B[38;5;241m.\u001B[39mastype(result_t, copy\u001B[38;5;241m=\u001B[39m\u001B[38;5;28;01mFalse\u001B[39;00m)\n",
      "File \u001B[1;32m~\\anaconda3\\envs\\PennyLane_1\\lib\\site-packages\\numpy\\linalg\\linalg.py:95\u001B[0m, in \u001B[0;36m_raise_linalgerror_eigenvalues_nonconvergence\u001B[1;34m(err, flag)\u001B[0m\n\u001B[0;32m     94\u001B[0m \u001B[38;5;28;01mdef\u001B[39;00m \u001B[38;5;21m_raise_linalgerror_eigenvalues_nonconvergence\u001B[39m(err, flag):\n\u001B[1;32m---> 95\u001B[0m     \u001B[38;5;28;01mraise\u001B[39;00m LinAlgError(\u001B[38;5;124m\"\u001B[39m\u001B[38;5;124mEigenvalues did not converge\u001B[39m\u001B[38;5;124m\"\u001B[39m)\n",
      "\u001B[1;31mLinAlgError\u001B[0m: Eigenvalues did not converge"
     ]
    }
   ]
  },
  {
   "cell_type": "markdown",
   "source": [
    "[how-to-use-the-hartree-fock-method-in-pennylane](https://pennylane.ai/blog/2022/09/how-to-use-the-hartree-fock-method-in-pennylane/)"
   ],
   "metadata": {
    "collapsed": false
   }
  },
  {
   "cell_type": "code",
   "execution_count": 3,
   "outputs": [],
   "source": [
    "symbols = ['H', 'H']"
   ],
   "metadata": {
    "collapsed": false,
    "pycharm": {
     "name": "#%%\n"
    }
   }
  },
  {
   "cell_type": "code",
   "execution_count": 4,
   "outputs": [],
   "source": [
    "d = 1.0\n",
    "\n",
    "geometry = np.array([\n",
    "    [0.0, 0.0, -d/2], # First nuclear position\n",
    "    [0.0, 0.0,  d/2]], # Second nuclear position\n",
    "    requires_grad=True\n",
    ")\n",
    "alpha = np.array([\n",
    "    [3.42525091, 0.62391373, 0.1688554],\n",
    "    [3.42525091, 0.62391373, 0.1688554]],\n",
    "    requires_grad = True\n",
    ")\n",
    "\n",
    "coeffs = np.array([\n",
    "    [0.15432897, 0.53532814, 0.44463454],\n",
    "    [0.15432897, 0.53532814, 0.44463454]],\n",
    "    requires_grad = True\n",
    ")"
   ],
   "metadata": {
    "collapsed": false,
    "pycharm": {
     "name": "#%%\n"
    }
   }
  },
  {
   "cell_type": "code",
   "execution_count": 32,
   "outputs": [
    {
     "data": {
      "text/plain": "<Molecule = H2, Charge: 0, Basis: STO-3G, Orbitals: 2, Electrons: 2>"
     },
     "execution_count": 32,
     "metadata": {},
     "output_type": "execute_result"
    }
   ],
   "source": [
    "molecule = qchem.Molecule(symbols, geometry, alpha=alpha, coeff=coeffs)\n",
    "molecule"
   ],
   "metadata": {
    "collapsed": false,
    "pycharm": {
     "name": "#%%\n"
    }
   }
  },
  {
   "cell_type": "code",
   "execution_count": 9,
   "outputs": [
    {
     "data": {
      "text/plain": "<Molecule = HLi, Charge: 0, Basis: STO-3G, Orbitals: 6, Electrons: 4>"
     },
     "execution_count": 9,
     "metadata": {},
     "output_type": "execute_result"
    }
   ],
   "source": [
    "part = qml.data.load(\"qchem\", molname=\"LiH\", basis=\"STO-3G\")[0]\n",
    "part.molecule"
   ],
   "metadata": {
    "collapsed": false,
    "pycharm": {
     "name": "#%%\n"
    }
   }
  },
  {
   "cell_type": "code",
   "execution_count": 11,
   "outputs": [
    {
     "data": {
      "text/plain": "['molname',\n 'basis',\n 'bondlength',\n 'molecule',\n 'hf_state',\n 'hamiltonian',\n 'sparse_hamiltonian',\n 'meas_groupings',\n 'fci_energy',\n 'fci_spectrum',\n 'dipole_op',\n 'number_op',\n 'spin2_op',\n 'spinz_op',\n 'symmetries',\n 'paulix_ops',\n 'optimal_sector',\n 'tapered_hamiltonian',\n 'tapered_hf_state',\n 'tapered_dipole_op',\n 'tapered_num_op',\n 'tapered_spin2_op',\n 'tapered_spinz_op',\n 'vqe_gates',\n 'vqe_params',\n 'vqe_energy']"
     },
     "execution_count": 11,
     "metadata": {},
     "output_type": "execute_result"
    }
   ],
   "source": [
    "qml.data.list_attributes(data_name=\"qchem\")"
   ],
   "metadata": {
    "collapsed": false,
    "pycharm": {
     "name": "#%%\n"
    }
   }
  },
  {
   "cell_type": "code",
   "execution_count": 12,
   "outputs": [
    {
     "data": {
      "text/plain": "<Molecule = Li2, Charge: 0, Basis: STO-3G, Orbitals: 10, Electrons: 6>"
     },
     "execution_count": 12,
     "metadata": {},
     "output_type": "execute_result"
    }
   ],
   "source": [
    "part = qml.data.load(\"qchem\", molname=\"Li2\", basis=\"STO-3G\", bondlength = 3.5)[0]\n",
    "part.molecule"
   ],
   "metadata": {
    "collapsed": false,
    "pycharm": {
     "name": "#%%\n"
    }
   }
  },
  {
   "cell_type": "code",
   "execution_count": null,
   "outputs": [],
   "source": [
    "qml.data.load(\"qchem\", molname=\"Li2\", bondlength=3.5, basis=\"STO-3G\", attributes=[\"basis\", \"hamiltonian\", \"molecule\", \"hf_state\", \"vqe_energy\"])"
   ],
   "metadata": {
    "collapsed": false,
    "pycharm": {
     "name": "#%%\n"
    }
   }
  }
 ],
 "metadata": {
  "kernelspec": {
   "display_name": "Python 3",
   "language": "python",
   "name": "python3"
  },
  "language_info": {
   "codemirror_mode": {
    "name": "ipython",
    "version": 2
   },
   "file_extension": ".py",
   "mimetype": "text/x-python",
   "name": "python",
   "nbconvert_exporter": "python",
   "pygments_lexer": "ipython2",
   "version": "2.7.6"
  }
 },
 "nbformat": 4,
 "nbformat_minor": 0
}