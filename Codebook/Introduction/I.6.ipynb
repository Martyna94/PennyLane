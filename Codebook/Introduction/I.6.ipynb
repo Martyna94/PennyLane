{
 "cells": [
  {
   "cell_type": "markdown",
   "metadata": {
    "collapsed": true,
    "pycharm": {
     "name": "#%% md\n"
    }
   },
   "source": [
    "**Learning outcomes:**\n",
    "\n",
    "* Describe the action of the RX gate and its matrix representation.\n",
    "* Describe the action of the RY gate and its matrix representation.\n",
    "* Represent qubit states in 3-dimensional space using the Bloch sphere."
   ]
  },
  {
   "cell_type": "code",
   "execution_count": 2,
   "outputs": [],
   "source": [
    "import numpy as np\n",
    "import pennylane as qml\n",
    "import math"
   ],
   "metadata": {
    "collapsed": false,
    "pycharm": {
     "name": "#%%\n"
    }
   }
  },
  {
   "cell_type": "markdown",
   "source": [
    "**Codercise I.6.1.**\n",
    "Write a QNode that applies\n",
    "`qml.RX` with an angle of  to one of the computational basis states. What operation is this?"
   ],
   "metadata": {
    "collapsed": false,
    "pycharm": {
     "name": "#%% md\n"
    }
   }
  },
  {
   "cell_type": "code",
   "execution_count": 13,
   "outputs": [
    {
     "name": "stdout",
     "output_type": "stream",
     "text": [
      "[6.123234e-17+0.j 0.000000e+00-1.j]\n",
      "[0.000000e+00-1.j 6.123234e-17+0.j]\n"
     ]
    }
   ],
   "source": [
    "dev = qml.device(\"default.qubit\", wires=1)\n",
    "\n",
    "@qml.qnode(dev)\n",
    "def apply_rx_pi(state):\n",
    "    \"\"\"Apply an RX gate with an angle of \\pi to a particular basis state.\n",
    "\n",
    "    Args:\n",
    "        state (int): Either 0 or 1. If 1, initialize the qubit to state |1>\n",
    "            before applying other operations.\n",
    "\n",
    "    Returns:\n",
    "        array[complex]: The state of the qubit after the operations.\n",
    "    \"\"\"\n",
    "    if state == 1:\n",
    "        qml.PauliX(wires=0)\n",
    "    # APPLY RX(pi) AND RETURN THE STATE\n",
    "    qml.RX(np.pi, wires=0)\n",
    "\n",
    "    return qml.state()\n",
    "\n",
    "print(apply_rx_pi(0))\n",
    "print(apply_rx_pi(1))"
   ],
   "metadata": {
    "collapsed": false,
    "pycharm": {
     "name": "#%%\n"
    }
   }
  },
  {
   "cell_type": "markdown",
   "source": [
    "In the previous exercise, you should have noticed that for this special case, RX(\t$\\pi$) = X  up to a global phase of -i . But what does RX do more generally?\n",
    "**Codercise I.6.2**\n",
    "The matrix representation of `RX` is:\n",
    "![circuit](./images/I.6.2.png)\n",
    "How does this affect the amplitudes when we apply it to a quantum state? Implement a QNode that applies the `qml.RX` operation with parameter $\\theta$ to a specified basis state. Then, run the code to plot the amplitudes of the $|0>$ and $|1>$ after applying RX($\\theta$) to the $|0>$ state."
   ],
   "metadata": {
    "collapsed": false,
    "pycharm": {
     "name": "#%% md\n"
    }
   }
  },
  {
   "cell_type": "code",
   "execution_count": 22,
   "outputs": [
    {
     "name": "stdout",
     "output_type": "stream",
     "text": [
      "[6.123234e-17+0.j 0.000000e+00-1.j]\n",
      "[6.123234e-17+0.j 0.000000e+00-1.j]\n"
     ]
    }
   ],
   "source": [
    "from plotter import Plotter\n",
    "dev = qml.device('default.qubit', wires=1)\n",
    "\n",
    "@qml.qnode(dev)\n",
    "def apply_rx(theta, state):\n",
    "    \"\"\"Apply an RX gate with an angle of theta to a particular basis state.\n",
    "\n",
    "    Args:\n",
    "        theta (float): A rotation angle.\n",
    "        state (int): Either 0 or 1. If 1, initialize the qubit to state |1>\n",
    "            before applying other operations.\n",
    "\n",
    "    Returns:\n",
    "        array[complex]: The state of the qubit after the operations.\n",
    "    \"\"\"\n",
    "    if state == 1:\n",
    "        qml.PauliX(wires=0)\n",
    "\n",
    "    # APPLY RX(theta) AND RETURN THE STATE\n",
    "    qml.RX(theta, wires=0)\n",
    "\n",
    "    return qml.state()\n",
    "\n",
    "\n",
    "# Code for plotting\n",
    "angles = np.linspace(0, 4*np.pi, 200)\n",
    "output_states = np.array([apply_rx(t, 0) for t in angles])"
   ],
   "metadata": {
    "collapsed": false,
    "pycharm": {
     "name": "#%%\n"
    }
   }
  },
  {
   "cell_type": "markdown",
   "source": [
    "![output codercise I6.2](./images/I.6.3.png)"
   ],
   "metadata": {
    "collapsed": false
   }
  },
  {
   "cell_type": "markdown",
   "source": [
    "From this last exercise, both the matrix representation and plot show that:\n",
    "![circuit](./images/I.6.4.png)\n",
    "Similarly, you could work out that:\n",
    "![circuit](./images/I.6.5.png)\n",
    "The way the operation acts on the apmlitudes is periodic, and is described by simple trigonometric functions. `RX` is simply rotating the state in its two-dimensional space, with some extra complex phases! BUt, what if we want to change the relative sizes of the apmlitudes without adding in the complex components?"
   ],
   "metadata": {
    "collapsed": false,
    "pycharm": {
     "name": "#%% md\n"
    }
   }
  },
  {
   "cell_type": "markdown",
   "source": [
    "**Codercise I.6.3** Repeat the above exercise, but using `qml.RY`. From the amplitudes you obtain for `RY|0>`, can you start deducing the matrix form of `RY`?"
   ],
   "metadata": {
    "collapsed": false,
    "pycharm": {
     "name": "#%% md\n"
    }
   }
  },
  {
   "cell_type": "code",
   "source": [
    "dev = qml.device('default.qubit', wires=1)\n",
    "\n",
    "@qml.qnode(dev)\n",
    "def apply_ry(theta, state):\n",
    "    \"\"\"Apply an RY gate with an angle of theta to a particular basis state.\n",
    "\n",
    "    Args:\n",
    "        theta (float): A rotation angle.\n",
    "        state (int): Either 0 or 1. If 1, initialize the qubit to state |1>\n",
    "            before applying other operations.\n",
    "\n",
    "    Returns:\n",
    "        array[complex]: The state of the qubit after the operations.\n",
    "    \"\"\"\n",
    "    if state == 1:\n",
    "        qml.PauliX(wires=0)\n",
    "\n",
    "    # APPLY RY(theta) AND RETURN THE STATE\n",
    "    qml.RY(theta, wires=0)\n",
    "\n",
    "    return qml.state()\n",
    "\n",
    "# Code for plotting\n",
    "angles = np.linspace(0, 4*np.pi, 200)\n",
    "output_states = np.array([apply_ry(t, 0) for t in angles])"
   ],
   "metadata": {
    "collapsed": false,
    "pycharm": {
     "name": "#%%\n"
    }
   },
   "execution_count": null,
   "outputs": []
  },
  {
   "cell_type": "markdown",
   "source": [
    "![circuit](./images/I.6.6.png)"
   ],
   "metadata": {
    "collapsed": false,
    "pycharm": {
     "name": "#%% md\n"
    }
   }
  },
  {
   "cell_type": "markdown",
   "source": [
    "Completing the previous exercise shows that RY is quite similar to RX and allows us to adjust the relative sizes of the amplitudes, but without the complex portion.You can infer part of its matrix representation from the plot in the previous exercise; the full matrix is\n",
    "![circuit](./images/I.6.7.png)\n",
    "and its action on the basis states is\n",
    "![circuit](./images/I.6.8.png)\n",
    "Finally, just like RX and RZ, there is a special name for the case where $\\theta = \\pi$: the Y gate (or Pauli Y), which is implemented in PennyLane as `qml.PauliY`"
   ],
   "metadata": {
    "collapsed": false,
    "pycharm": {
     "name": "#%% md\n"
    }
   }
  },
  {
   "cell_type": "code",
   "execution_count": null,
   "outputs": [],
   "source": [],
   "metadata": {
    "collapsed": false,
    "pycharm": {
     "name": "#%%\n"
    }
   }
  }
 ],
 "metadata": {
  "kernelspec": {
   "display_name": "Python 3",
   "language": "python",
   "name": "python3"
  },
  "language_info": {
   "codemirror_mode": {
    "name": "ipython",
    "version": 2
   },
   "file_extension": ".py",
   "mimetype": "text/x-python",
   "name": "python",
   "nbconvert_exporter": "python",
   "pygments_lexer": "ipython2",
   "version": "2.7.6"
  }
 },
 "nbformat": 4,
 "nbformat_minor": 0
}