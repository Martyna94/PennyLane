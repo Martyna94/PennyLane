{
 "cells": [
  {
   "cell_type": "markdown",
   "metadata": {
    "collapsed": true,
    "pycharm": {
     "name": "#%% md\n"
    }
   },
   "source": [
    "Learning outcomes\n",
    "\n",
    "* Understand the effects of different types of qubit errors.\n",
    "* Know how to perform simple quantum error correction to mitigate for bit- and phase-flip errors."
   ]
  },
  {
   "cell_type": "markdown",
   "source": [
    "Codercise E.2.1 In her lab, Alice can initialize her two auxiliary qubits(on wires 1 and 2) to $\\Ket{0}$, and she hopes to create a logical qubit that would help protect the message of her first qubit (wire 0). In other words, if her message is $\\Ket{\\psi} = a\\Ket{0} + b\\Ket{1}$, she wants to encode the message into the state $\\Ket{\\psi_l} = a\\Ket{0_l} + b\\Ket{1_l} = a\\Ket{000} + b\\Ket{111}$.\n",
    "\n",
    "Once the qubits pass through the noisy communication channel and Bob receives them, he will have to decode the message, so that the first qubit (wire 0) again takes on the value Alice tried sending, $\\Ket{\\psi} = a\\Ket{0} + b\\Ket{1}$. In this case, we are assuming that either none of the qubits experienced a bit-flip error, or a maximum of one of them did."
   ],
   "metadata": {
    "collapsed": false
   }
  },
  {
   "cell_type": "code",
   "execution_count": 2,
   "outputs": [],
   "source": [
    "import numpy as np\n",
    "import pennylane as qml"
   ],
   "metadata": {
    "collapsed": false,
    "pycharm": {
     "name": "#%%\n"
    }
   }
  },
  {
   "cell_type": "code",
   "execution_count": 9,
   "outputs": [],
   "source": [
    "dev = qml.device(\"default.mixed\", wires=3)\n",
    "\n",
    "@qml.qnode(dev)\n",
    "def bitflip_code_expval(p):\n",
    "    \"\"\"A circuit that uses two auxiliary qubits to encode the message of the first qubit, puts them through a simple noisy channel with a chance of a bit-flip error occuring, then decodes it and measures the expectation value of the original message.\n",
    "\n",
    "    Args:\n",
    "        p (float): Probability of one bit-flip error occuring in the noisy channel for each wire.\n",
    "\n",
    "    Returns:\n",
    "        (float): Expectation value of the message qubit.\n",
    "    \"\"\"\n",
    "    # Using two auxiliary qubits on wires 1 and 2, encode the message on wire 0 into a logical qubit\n",
    "    qml.CNOT(wires=[0,1])\n",
    "    qml.CNOT(wires=[0,2])\n",
    "\n",
    "    # Put all wires through a noisy channel, where each wire has a probability p that a bit-flip error will occur\n",
    "    qml.BitFlip(p, wires=0)\n",
    "    qml.BitFlip(p, wires=1)\n",
    "    qml.BitFlip(p, wires=2)\n",
    "\n",
    "    # Decode the message after the noisy channel\n",
    "    qml.CNOT(wires=[0,1])\n",
    "    qml.CNOT(wires=[0,2])\n",
    "    qml.Toffoli(wires=[2,1,0])\n",
    "\n",
    "    # Measure the expectation value of the message\n",
    "    return qml.expval(qml.PauliZ([0]))\n"
   ],
   "metadata": {
    "collapsed": false,
    "pycharm": {
     "name": "#%%\n"
    }
   }
  },
  {
   "cell_type": "code",
   "execution_count": 4,
   "outputs": [
    {
     "data": {
      "text/plain": "array(0.792)"
     },
     "execution_count": 4,
     "metadata": {},
     "output_type": "execute_result"
    }
   ],
   "source": [
    "bitflip_code_expval(0.2)"
   ],
   "metadata": {
    "collapsed": false,
    "pycharm": {
     "name": "#%%\n"
    }
   }
  },
  {
   "cell_type": "markdown",
   "source": [
    "**Codercise E.2.2** This time around Alice is sending her message to Bob through a noisy channel that has some small probability $p$ to cause a phase flip on each of the wires. Using the same setup as in the previous exercise, transform the logical qubits so we can correct for phase-flip errors using the structure of the three-qubit bit-flip code."
   ],
   "metadata": {
    "collapsed": false
   }
  },
  {
   "cell_type": "code",
   "execution_count": 8,
   "outputs": [],
   "source": [
    "dev = qml.device(\"default.mixed\", wires=3)\n",
    "\n",
    "@qml.qnode(dev)\n",
    "def phaseflip_code_expval(p):\n",
    "    \"\"\"A circuit that uses two auxiliary qubits to encode the message of the first qubit, puts them through a simple noisy channel with a chance of a bit-flip error occurring, then decodes it and measures the expectation value of the original message.\n",
    "\n",
    "    Args:\n",
    "        p (float): Probability of one bit-flip error occurring in the noisy channel for each wire.\n",
    "\n",
    "    Returns:\n",
    "        (float): Expectation value of the message qubit.\n",
    "    \"\"\"\n",
    "    # Encode the message on wire 0 into a logical qubit, and transform it into the Hadamard basis\n",
    "    qml.CNOT(wires=[0,1])\n",
    "    qml.CNOT(wires=[0,2])\n",
    "    qml.broadcast(qml.Hadamard, wires=[0,1,2], pattern='single')\n",
    "\n",
    "    # Transform the logical qubit into the Hadamard basis, put all wires through a noisy channel where each wire has a probability p that a phase-flip error will occur, then transform the result back into the computational basis.\n",
    "    qml.PhaseFlip(p, wires=0)\n",
    "    qml.PhaseFlip(p, wires=1)\n",
    "    qml.PhaseFlip(p, wires=2)\n",
    "\n",
    "    # Decode the message after the noisy channel and transform it back into the computational basis\n",
    "    qml.broadcast(qml.Hadamard, wires=[0,1,2], pattern='single')\n",
    "    qml.CNOT(wires=[0,1])\n",
    "    qml.CNOT(wires=[0,2])\n",
    "    qml.Toffoli(wires=[2,1,0])\n",
    "\n",
    "\n",
    "    # Measure the expectation value of the message\n",
    "    return qml.expval(qml.PauliZ([0]))"
   ],
   "metadata": {
    "collapsed": false,
    "pycharm": {
     "name": "#%%\n"
    }
   }
  },
  {
   "cell_type": "markdown",
   "source": [
    "**Codercise E.2.3**\n",
    "For example, let's take a closer look at the expectation value of the message - in a bit-flip noisy channel, what is the largest error probability $p$ that will still leave our expectation value larger than 0.9?"
   ],
   "metadata": {
    "collapsed": false
   }
  },
  {
   "cell_type": "code",
   "execution_count": 12,
   "outputs": [
    {
     "data": {
      "text/plain": "[array(1.),\n array(0.999404),\n array(0.997632),\n array(0.994708),\n array(0.990656),\n array(0.9855),\n array(0.979264),\n array(0.971972),\n array(0.963648),\n array(0.954316),\n array(0.944),\n array(0.932724),\n array(0.920512),\n array(0.907388),\n array(0.893376),\n array(0.8785),\n array(0.862784),\n array(0.846252),\n array(0.828928),\n array(0.810836),\n array(0.792),\n array(0.772444),\n array(0.752192),\n array(0.731268),\n array(0.709696),\n array(0.6875),\n array(0.664704),\n array(0.641332),\n array(0.617408),\n array(0.592956),\n array(0.568),\n array(0.542564),\n array(0.516672),\n array(0.490348),\n array(0.463616),\n array(0.4365),\n array(0.409024),\n array(0.381212),\n array(0.353088),\n array(0.324676),\n array(0.296),\n array(0.267084),\n array(0.237952),\n array(0.208628),\n array(0.179136),\n array(0.1495),\n array(0.119744),\n array(0.089892),\n array(0.059968),\n array(0.029996)]"
     },
     "execution_count": 12,
     "metadata": {},
     "output_type": "execute_result"
    }
   ],
   "source": [
    "# Range of bit-flip error probability\n",
    "probability_range = np.arange(0.0, 0.5, 0.01)\n",
    "# Initialize the array of function values\n",
    "expvals = []\n",
    "# Calculate function values for the circuit and append them to the list\n",
    "for prob in probability_range:\n",
    "    expvals.append(bitflip_code_expval(prob))\n",
    "expvals"
   ],
   "metadata": {
    "collapsed": false,
    "pycharm": {
     "name": "#%%\n"
    }
   }
  },
  {
   "cell_type": "markdown",
   "source": [],
   "metadata": {
    "collapsed": false
   }
  },
  {
   "cell_type": "markdown",
   "source": [],
   "metadata": {
    "collapsed": false
   }
  },
  {
   "cell_type": "code",
   "execution_count": 26,
   "outputs": [],
   "source": [
    "def largest_p():\n",
    "    # Range of bit-flip error probability\n",
    "    probability_range = np.arange(0.0, 0.5, 0.01)\n",
    "    # Initialize the array of function values\n",
    "    expvals = []\n",
    "    # Calculate function values for the circuit and append them to the list\n",
    "    for prob in probability_range:\n",
    "        expvals.append(bitflip_code_expval(prob))\n",
    "\n",
    "    # Find out what the largest p is for which the expectation value of the message stays above 0.9\n",
    "    expvals_array = np.array(expvals)\n",
    "    indexes = np.where(expvals_array > 0.9)[0]\n",
    "    result = np.max(probability_range[indexes])\n",
    "\n",
    "    return result"
   ],
   "metadata": {
    "collapsed": false,
    "pycharm": {
     "name": "#%%\n"
    }
   }
  },
  {
   "cell_type": "code",
   "source": [
    "print(largest_p())"
   ],
   "metadata": {
    "collapsed": false,
    "pycharm": {
     "name": "#%%\n"
    }
   },
   "execution_count": 20,
   "outputs": [
    {
     "name": "stdout",
     "output_type": "stream",
     "text": [
      "0.13\n"
     ]
    }
   ]
  },
  {
   "cell_type": "code",
   "execution_count": 40,
   "outputs": [
    {
     "data": {
      "text/plain": "<Figure size 720x432 with 1 Axes>",
      "image/png": "[encoded data removed]"
     },
     "metadata": {
      "needs_background": "light"
     },
     "output_type": "display_data"
    }
   ],
   "source": [
    "import matplotlib.pyplot as plt\n",
    "probability_range = np.arange(0.0, 0.5, 0.01)\n",
    "# Initialize the array of function values\n",
    "expvals = []\n",
    "# Calculate function values for the circuit and append them to the list\n",
    "for prob in probability_range:\n",
    "    expvals.append(bitflip_code_expval(prob))\n",
    "# Plotting\n",
    "plt.figure(figsize=(10, 6))\n",
    "plt.bar(probability_range, expvals, width=0.01, edgecolor=\"white\", linewidth=0.7)\n",
    "plt.title('Bit-flip error probability')\n",
    "plt.xlabel('Bit-flip error probability')\n",
    "plt.ylabel('Expectation value')\n",
    "plt.grid(True)\n",
    "plt.show()"
   ],
   "metadata": {
    "collapsed": false,
    "pycharm": {
     "name": "#%%\n"
    }
   }
  },
  {
   "cell_type": "markdown",
   "source": [
    "**Codercise E.2.4** As a final step in your coding introduction to quantum error correction, we are asking you to put Alice's message through a noisy channel that has $n$ opportunities to apply a bit-flip error (with the probability $p$) to each of the wires.\n",
    "\n",
    "In other words, put the logical qubit through a bit-flip noisy channel $n$ times in a row and see what happens to the largest error probability from which we can still protect our message"
   ],
   "metadata": {
    "collapsed": false
   }
  },
  {
   "cell_type": "code",
   "execution_count": 30,
   "outputs": [],
   "source": [
    "n = 3\n",
    "dev = qml.device(\"default.mixed\", wires=3)\n",
    "\n",
    "@qml.qnode(dev)\n",
    "def multi_bitflip_code_expval(p, n):\n",
    "    \"\"\"A circuit that uses two auxiliary qubits to encode the message of the first qubit, puts them through a noisy channel with three opportunities for a bit-flip error occuring on each of the wires, then decodes it and measures the expectation value of the original message.\n",
    "\n",
    "    Args:\n",
    "        p (float): Probability of one bit-flip error occuring in the noisy channel for each wire.\n",
    "\n",
    "    Returns:\n",
    "        (float): Expectation value of the message qubit.\n",
    "    \"\"\"\n",
    "    # Using two auxiliary qubits on wires 1 and 2, encode the message on wire 0 into a logical qubit\n",
    "    qml.CNOT(wires=[0,1])\n",
    "    qml.CNOT(wires=[0,2])\n",
    "\n",
    "    # Put all wires through a noisy channel, where each wire has a probability p that a bit-flip error will occur\n",
    "    # This probability occurs three times in a row\n",
    "    for i in range(3):\n",
    "        qml.BitFlip(p, wires=0)\n",
    "        qml.BitFlip(p, wires=1)\n",
    "        qml.BitFlip(p, wires=2)\n",
    "\n",
    "    # Decode the message after the noisy channel\n",
    "    qml.CNOT(wires=[0,1])\n",
    "    qml.CNOT(wires=[0,2])\n",
    "    qml.Toffoli(wires=[1,2,0])\n",
    "\n",
    "    # Measure the expectation value of the message\n",
    "    return qml.expval(qml.PauliZ([0]))"
   ],
   "metadata": {
    "collapsed": false,
    "pycharm": {
     "name": "#%%\n"
    }
   }
  },
  {
   "cell_type": "code",
   "execution_count": 34,
   "outputs": [
    {
     "data": {
      "text/plain": "[array(1.),\n array(0.99491412),\n array(0.980837),\n array(0.9593786),\n array(0.93195132),\n array(0.89978976),\n array(0.86396881),\n array(0.82542029),\n array(0.78494813),\n array(0.74324222),\n array(0.70089114),\n array(0.65839354),\n array(0.61616868),\n array(0.57456579),\n array(0.53387265),\n array(0.4943232),\n array(0.45610445),\n array(0.41936266),\n array(0.3842088),\n array(0.35072346),\n array(0.31896115),\n array(0.28895417),\n array(0.26071592),\n array(0.23424385),\n array(0.20952205),\n array(0.18652344),\n array(0.1652117),\n array(0.1455429),\n array(0.12746694),\n array(0.11092866),\n array(0.09586893),\n array(0.08222539),\n array(0.06993322),\n array(0.05892564),\n array(0.04913441),\n array(0.04049016),\n array(0.03292271),\n array(0.02636129),\n array(0.02073468),\n array(0.0159714),\n array(0.01199974),\n array(0.0087479),\n array(0.00614397),\n array(0.00411599),\n array(0.002592),\n array(0.0015),\n array(0.000768),\n array(0.000324),\n array(9.59999999e-05),\n array(1.2e-05)]"
     },
     "execution_count": 34,
     "metadata": {},
     "output_type": "execute_result"
    }
   ],
   "source": [
    "    probability_range = np.arange(0.0, 0.5, 0.01)\n",
    "    expvals = [multi_bitflip_code_expval(probability, n) for probability in  probability_range]\n",
    "    expvals"
   ],
   "metadata": {
    "collapsed": false,
    "pycharm": {
     "name": "#%%\n"
    }
   }
  },
  {
   "cell_type": "code",
   "execution_count": 35,
   "outputs": [],
   "source": [
    "import matplotlib.pyplot as plt"
   ],
   "metadata": {
    "collapsed": false,
    "pycharm": {
     "name": "#%%\n"
    }
   }
  },
  {
   "cell_type": "code",
   "execution_count": 39,
   "outputs": [
    {
     "data": {
      "text/plain": "<Figure size 720x432 with 1 Axes>",
      "image/png": "[encoded data removed]"
     },
     "metadata": {
      "needs_background": "light"
     },
     "output_type": "display_data"
    }
   ],
   "source": [
    "# Plotting\n",
    "plt.figure(figsize=(10, 6))\n",
    "plt.bar(probability_range, expvals, width=0.01, edgecolor=\"white\", linewidth=0.7)\n",
    "plt.title('Bit-flip error probability')\n",
    "plt.xlabel('Bit-flip error probability')\n",
    "plt.ylabel('Expectation value')\n",
    "plt.grid(True)\n",
    "plt.show()"
   ],
   "metadata": {
    "collapsed": false,
    "pycharm": {
     "name": "#%%\n"
    }
   }
  },
  {
   "cell_type": "code",
   "execution_count": null,
   "outputs": [],
   "source": [],
   "metadata": {
    "collapsed": false,
    "pycharm": {
     "name": "#%%\n"
    }
   }
  }
 ],
 "metadata": {
  "kernelspec": {
   "display_name": "Python 3",
   "language": "python",
   "name": "python3"
  },
  "language_info": {
   "codemirror_mode": {
    "name": "ipython",
    "version": 2
   },
   "file_extension": ".py",
   "mimetype": "text/x-python",
   "name": "python",
   "nbconvert_exporter": "python",
   "pygments_lexer": "ipython2",
   "version": "2.7.6"
  }
 },
 "nbformat": 4,
 "nbformat_minor": 0
}