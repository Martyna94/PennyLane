{
 "cells": [
  {
   "cell_type": "markdown",
   "metadata": {
    "collapsed": true,
    "pycharm": {
     "name": "#%% md\n"
    }
   },
   "source": [
    "**Learning outcomes**\n",
    "\n",
    "* Describe how the oracle can be applied to a pair of candidate solutions to determine if the secret combination is present.\n",
    "* Determine the average number of queries required to find a solution when testing in pairs."
   ]
  },
  {
   "cell_type": "code",
   "source": [
    "import numpy as np\n",
    "import pennylane as qml"
   ],
   "metadata": {
    "collapsed": false,
    "pycharm": {
     "name": "#%%\n"
    }
   },
   "execution_count": 1,
   "outputs": []
  },
  {
   "cell_type": "markdown",
   "source": [
    "We implement the following computation:\n",
    "![circuit](./images/A.3.1.png)\n",
    "The last qubit will in state $\\Ket{1}$ if the solution is present, and $\\Ket{0}$ if it is not."
   ],
   "metadata": {
    "collapsed": false,
    "pycharm": {
     "name": "#%% md\n"
    }
   }
  },
  {
   "cell_type": "markdown",
   "source": [
    "**Codercise A.3.1**\n",
    " Implement this circuit and return the probabilities on the last qubit. The function `oracle_matrix` is defined for you."
   ],
   "metadata": {
    "collapsed": false
   }
  },
  {
   "cell_type": "code",
   "execution_count": 2,
   "outputs": [],
   "source": [
    "def oracle_matrix(combo):\n",
    "    \"\"\"Return the oracle matrix for a secret combination.\n",
    "\n",
    "    Args:\n",
    "        combo (list[int]): A list of bits representing a secret combination.\n",
    "\n",
    "    Returns:\n",
    "        array[float]: The matrix representation of the oracle.\n",
    "    \"\"\"\n",
    "    index = np.ravel_multi_index(combo, [2]*len(combo)) # Index of solution\n",
    "    my_array = np.identity(2**len(combo)) # Create the identity matrix\n",
    "    my_array[index, index] = -1\n",
    "\n",
    "    return my_array"
   ],
   "metadata": {
    "collapsed": false,
    "pycharm": {
     "name": "#%%\n"
    }
   }
  },
  {
   "cell_type": "code",
   "execution_count": 14,
   "outputs": [
    {
     "name": "stdout",
     "output_type": "stream",
     "text": [
      "[1. 0.]\n"
     ]
    }
   ],
   "source": [
    "n_bits = 4\n",
    "dev = qml.device(\"default.qubit\", wires=n_bits)\n",
    "\n",
    "@qml.qnode(dev)\n",
    "def pair_circuit(x_tilde, combo):\n",
    "    \"\"\"Test a pair labelled by x_tilde for the presence of a solution.\n",
    "\n",
    "    Args:\n",
    "        x_tilde (list[int]): An (n_bits - 1)-string labelling the pair to test.\n",
    "        combo (list[int]): A secret combination of n_bits 0s and 1s.\n",
    "\n",
    "    Returns:\n",
    "        array[float]: Probabilities on the last qubit.\n",
    "    \"\"\"\n",
    "    for i in range(n_bits-1): # Initialize x_tilde part of state\n",
    "        if x_tilde[i] == 1:\n",
    "            qml.PauliX(wires=i)\n",
    "\n",
    "    oracle = oracle_matrix(combo)\n",
    "\n",
    "    qml.Hadamard(n_bits-1)\n",
    "    qml.QubitUnitary(oracle, wires=[i for i in range(n_bits)])\n",
    "    qml.Hadamard(n_bits-1)\n",
    "\n",
    "    return qml.probs(wires=n_bits-1)\n"
   ],
   "metadata": {
    "collapsed": false,
    "pycharm": {
     "name": "#%%\n"
    }
   }
  },
  {
   "cell_type": "markdown",
   "source": [
    "With this circuit at our disposal, we can crack the lock by simpy iterating over the $\\tilde{x}$ until we detect the solution. Let's see how long thi takes on average."
   ],
   "metadata": {
    "collapsed": false
   }
  },
  {
   "cell_type": "markdown",
   "source": [
    "**Codercise A.3.2**\n",
    "COmplete the function below to see how many attempts it takes to break the lock using our quantum circuit. You should find an improvement over the brute force approach, which takes around 9 guesses (on average) for 4 qubits. Note that `pair_circuit` is available.\n",
    "*Tip* Use `np.isclose(a,b)` to test the probabilities coming from `pair_circuit(x_tilde, combo)`"
   ],
   "metadata": {
    "collapsed": false
   }
  },
  {
   "cell_type": "code",
   "execution_count": null,
   "outputs": [],
   "source": [
    "def pair_lock_picker(trials):\n",
    "    \"\"\"Create a combo, run pair_circuit until it succeeds, and tally success rate.\n",
    "\n",
    "    Args:\n",
    "        trials (int): Number of times to test the lock picker.\n",
    "\n",
    "    Returns:\n",
    "        float: The average number of times the lock picker uses pair_circuit.\n",
    "    \"\"\"\n",
    "    x_tilde_strs = [np.binary_repr(n, n_bits-1) for n in range(2**(n_bits-1))]\n",
    "    x_tildes = [[int(s) for s in x_tilde_str] for x_tilde_str in x_tilde_strs]\n",
    "\n",
    "    test_numbers = []\n",
    "\n",
    "    for trial in range(trials):\n",
    "        combo = secret_combo(n_bits) # Random list of bits\n",
    "        counter = 0\n",
    "        for x_tilde in x_tildes:\n",
    "            counter += 1\n",
    "        prob = pair_circuit(x_tilde, combo)\n",
    "        if np.isclose(1, prob[1]):\n",
    "            break\n",
    "\n",
    "        test_numbers.append(counter)\n",
    "    return sum(test_numbers)/trials\n",
    "\n",
    "trials = 500\n",
    "output = pair_lock_picker(trials)\n",
    "\n",
    "print(f\"For {n_bits} bits, it takes\", output, \"pair tests on average.\")\n"
   ],
   "metadata": {
    "collapsed": false,
    "pycharm": {
     "name": "#%%\n"
    }
   }
  }
 ],
 "metadata": {
  "kernelspec": {
   "display_name": "Python 3",
   "language": "python",
   "name": "python3"
  },
  "language_info": {
   "codemirror_mode": {
    "name": "ipython",
    "version": 2
   },
   "file_extension": ".py",
   "mimetype": "text/x-python",
   "name": "python",
   "nbconvert_exporter": "python",
   "pygments_lexer": "ipython2",
   "version": "2.7.6"
  }
 },
 "nbformat": 4,
 "nbformat_minor": 0
}