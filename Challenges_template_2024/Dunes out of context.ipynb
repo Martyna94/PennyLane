{
 "cells": [
  {
   "cell_type": "markdown",
   "metadata": {
    "collapsed": true,
    "pycharm": {
     "name": "#%% md\n"
    }
   },
   "source": [
    "Dunes out of context\n",
    "---------------------\n",
    "Note from the author: Quantum foundations has to be one of my favourite topics in quantum theory. One of its main objectives is figuring out what makes quantum phenomena actually different from what we see in real life. I think contextuality might be one of the purest quantum phenomena, and I believe it is behind quantum speedups. Not everyone agrees on this though. This is a super interesting topic and I hope you'll find some motivation to look into it more!\n",
    "\n",
    "Challenge statement\n",
    "--------------------\n",
    "In the Dipole Desert, meteorological phenomena such as sandstorms are governed by strange physical laws. Meteorologists in Qutopia are experts in quantum theory and have used it to predict the sandstorms' frequency, intensities, and even the dune formations that they leave behind.\n",
    "\n",
    "One of the main hints that quantum theory was the best way to model the behaviour of the sandstorms is the formation known as the Contextual Dunes. These are a set of five dunes that exist in a superposition of crescentic ∣0⟩, linear ∣1⟩, and parabolic ∣2⟩ dune shapes.\n",
    "\n",
    "But just because the dunes exist in a superposition, it doesn't mean that their behaviour is quantum. After all, there are classical theories that can model superposition.\n",
    "\n",
    "You stand in awe in front of these dunes. For the first time, you witness superposition in real life! But you're witnessing so much more than that.\n",
    "\n",
    "Contextuality is one of the features of quantum theory that sets it apart from classical models. Kochen-Specker contextuality means that the predictions of quantum mechanics cannot be reproduced by a hidden variables theory that\n",
    "1. is deterministic, and\n",
    "2. is measurement non-contextual. That is, when we measure a specific variable the result don't depend an how we make that measurement.\n",
    "\n",
    "Recently, the concept of contextuality has been used to identify machine learning problems that might be more efficiently solvable using quantum computers. More generally, it is conjectured that contextuality is at the root of exponential quantum speedups.\n"
   ]
  },
  {
   "cell_type": "markdown",
   "source": [
    "A simple proof of contextuality in quantum theory is due to Klyachko. It involves placing 5 qutrits $\\Ket{\\psi_0}, ..., Ket{\\psi_4}$ on a star shape, such that the qutrits that are joined by a line must be orthogonal to each other. See the figure below for reference.\n",
    "![graph](./images/Dunesoutofcontext_1.png)\n",
    "Klyachko showed that if for some state ∣ψ⟩ we can find a set of qutrits like the above that satisfy\n",
    "$\\sum_{i=0}^{4} \\left| \\langle \\psi | \\phi_i \\rangle \\right|^2 > 2,\n",
    "$\n",
    "then any hidden variable theory describing qutrits must be Kochen-Specker contextual.\n",
    "\n",
    "The scientists in the Dipole Dessert had to study the dunes after several sandstorms until they found them to be in states that satisfied the Kyachko inequality. Their behaviour had to be quantum!\n",
    "\n",
    "In this challenge, you will use PennyLane's qutrit capabilities to find a set of qutrits that satisfies Klyachko's inequality. You will do this by creating a single-qutrit circuit that prepares qutrit states of the form\n",
    "$\\left| \\phi_i \\right\\rangle = \\sin(\\chi) \\cos(\\eta_i) \\left| 0 \\right\\rangle + \\sin(\\chi) \\sin(\\eta_i) \\left| 1 \\right\\rangle + \\cos(\\chi) \\left| 2 \\right\\rangle$\n",
    "Then, with the aid of this circuit, you will write a script that computes the sum above for some given state $\\Ket{\\phi}= \\Ket{2}$ and some given value of $\\chi$ and $\\eta_j$"
   ],
   "metadata": {
    "collapsed": false
   }
  },
  {
   "cell_type": "markdown",
   "source": [
    "Challenge Code\n",
    "----------------\n",
    "\n",
    "In the challenge template, you must complete the prepare_qutrit helper function which, given the angles $\\chi$(chi (float)) and $\\eta$ (eta (float)), prepares the qutrit state.\n",
    "$\\left| \\phi_i \\right\\rangle = \\sin(\\chi) \\cos(\\eta_i) \\left| 0 \\right\\rangle + \\sin(\\chi) \\sin(\\eta_i) \\left| 1 \\right\\rangle + \\cos(\\chi) \\left| 2 \\right\\rangle$\n",
    "\n",
    "and returns the measurement probabilities in the computational basis.\n",
    "Then, you must complete the main function evaluate_sum that, given a list (list(float)) of five angles $[\\eta_0,...,\\eta_4]$ and the angle $\\chi$(chi (float)), computes the sum\n",
    "$S = \\sum_{i=0}^{4} \\left| \\langle \\psi | \\phi_i \\rangle \\right|^2 > 2$,\n",
    "where $\\Ket{\\psi} = \\Ket{2}$ and $\\Ket{\\phi_j}= \\Ket{\\phi{(\\chi,\\eta_j)}}$\n",
    "\n",
    "-------------------------------\n",
    "Note: The first public test case uses $\\chi = \\cos^{-1}\\left(\\frac{1}{\\sqrt[4]{5}}\\right)\n",
    "$ and $\\eta_j = 4*\\pi j/5$, which gives $S = \\sqrt{5}>2$. In this case, the $\\Ket{\\phi_j}$ are orthogonal when connected by an edge as well (verify this yourself if you are so inclined), which proves Kochen-Specker contextuality!\n",
    "--------------------------------\n",
    "Input\n",
    "-----------\n",
    "\n",
    "As an input to this challenge, you are given an angle chi (float)and a list eta_list (list(float)) corresponding to the angle $\\chi$ and the list\n",
    "$[\\eta_0,...,\\eta_4]$ as defined above.\n",
    "\n",
    "Output\n",
    "-----------\n",
    "The expected output is a float which corresponds to the sum\n",
    "$S = \\sum_{i=0}^{4} \\left| \\langle \\psi | \\phi_i \\rangle \\right|^2$"
   ],
   "metadata": {
    "collapsed": false
   }
  },
  {
   "cell_type": "code",
   "execution_count": null,
   "outputs": [],
   "source": [
    "import json\n",
    "import pennylane as qml\n",
    "import pennylane.numpy as np\n",
    "\n",
    "dev = qml.device('default.qutrit', wires = 1)\n",
    "\n",
    "@qml.qnode(dev)\n",
    "def prepare_qutrit(chi, eta):\n",
    "    \"\"\"\n",
    "    This QNode prepares the state |phi> as defined in the statement and\n",
    "    computes the measurement probabilities in the qutrit computational basis.\n",
    "\n",
    "    Args:\n",
    "        - chi (float): The angle chi parametrizing the state |phi>.\n",
    "        - eta (float): The angle eta parametrizing the state |eta>.\n",
    "    Returns:\n",
    "        - (np.array(float)): The measurement probabilities in the computational\n",
    "        basis after preparing the state.\n",
    "\n",
    "    \"\"\"\n",
    "\n",
    "\n",
    "    # Put your code here #\n",
    "\n",
    "\n",
    "    return qml.probs(wires=0)\n",
    "\n",
    "\n",
    "def evaluate_sum(chi, eta_array):\n",
    "    \"\"\"\n",
    "    This QNode computes the sum S as in the statement.\n",
    "\n",
    "    Args:\n",
    "        chi (float): The angle chi parametrizing the states |phi_i>.\n",
    "        eta_array (float): Contains the angles eta_i parametrizing the state |eta_i>.\n",
    "    Returns:\n",
    "        (np.array(float)): The sum S as defined in the statement.\n",
    "\n",
    "    \"\"\"\n",
    "\n",
    "\n",
    "    # Put your code here\n",
    "\n",
    "\n",
    "# These functions are responsible for testing the solution.\n",
    "\n",
    "\n",
    "def run(test_case_input: str) -> str:\n",
    "    ins = json.loads(test_case_input)\n",
    "    outs = evaluate_sum(*ins)\n",
    "\n",
    "    return str(outs)\n",
    "\n",
    "\n",
    "def check(solution_output: str, expected_output: str) -> None:\n",
    "    solution_output = json.loads(solution_output)\n",
    "    expected_output = json.loads(expected_output)\n",
    "    assert np.allclose(solution_output,expected_output, atol = 1e-4), \"Not the correct sum!\"\n",
    "\n",
    "\n",
    "# These are the public test cases\n",
    "test_cases = [\n",
    "    ('[0.838283, [0.6283189, 1.884956, 3.141593, 4.398230, 5.654867]]', '2.236069'),\n",
    "    ('[0.4, [1.047198, 2.094395, 3.141593, 4.18879, 5.235988]]', '4.241767')\n",
    "]\n",
    "\n",
    "# This will run the public test cases locally\n",
    "for i, (input_, expected_output) in enumerate(test_cases):\n",
    "    print(f\"Running test case {i} with input '{input_}'...\")\n",
    "\n",
    "    try:\n",
    "        output = run(input_)\n",
    "\n",
    "    except Exception as exc:\n",
    "        print(f\"Runtime Error. {exc}\")\n",
    "\n",
    "    else:\n",
    "        if message := check(output, expected_output):\n",
    "            print(f\"Wrong Answer. Have: '{output}'. Want: '{expected_output}'.\")\n",
    "\n",
    "        else:\n",
    "            print(\"Correct!\")"
   ],
   "metadata": {
    "collapsed": false,
    "pycharm": {
     "name": "#%%\n"
    }
   }
  }
 ],
 "metadata": {
  "kernelspec": {
   "display_name": "Python 3",
   "language": "python",
   "name": "python3"
  },
  "language_info": {
   "codemirror_mode": {
    "name": "ipython",
    "version": 2
   },
   "file_extension": ".py",
   "mimetype": "text/x-python",
   "name": "python",
   "nbconvert_exporter": "python",
   "pygments_lexer": "ipython2",
   "version": "2.7.6"
  }
 },
 "nbformat": 4,
 "nbformat_minor": 0
}