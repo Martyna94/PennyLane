{
 "cells": [
  {
   "cell_type": "markdown",
   "metadata": {
    "collapsed": true,
    "pycharm": {
     "name": "#%% md\n"
    }
   },
   "source": [
    "# P.1 Catch the phase\n",
    "Learning outcomes\n",
    "\n",
    "* State the motivation behind the quantum phase estimation (QPE) subroutine.\n",
    "* List some applications of QPE.\n",
    "* Describe the phase kickback technique.\n",
    "* Estimate a phase using phase kickback."
   ]
  },
  {
   "cell_type": "markdown",
   "source": [
    "Suppose that we apply the controlled unitary $U$ to its eigenvector $\\Ket{\\psi}$, so that\n",
    "$$U\\Ket{\\psi} = e^{2\\pi i\\theta}\\Ket{\\psi}$$\n",
    "Then, the control wires pick up a phase of $e^{2\\pi i\\theta}$ resulting in the global phase getting encoded into a relative phase. The phase kickback circuit is shown below:\n",
    "![circuit](./images/P.1.1.png)\n",
    "To illustrate this concept, we will implement this circuit to see if we can detect a phase of -1."
   ],
   "metadata": {
    "collapsed": false
   }
  },
  {
   "cell_type": "code",
   "execution_count": 1,
   "outputs": [],
   "source": [
    "import pennylane as qml\n",
    "import pennylane.numpy as np"
   ],
   "metadata": {
    "collapsed": false,
    "pycharm": {
     "name": "#%%\n"
    }
   }
  },
  {
   "cell_type": "markdown",
   "source": [
    "Calculation"
   ],
   "metadata": {
    "collapsed": false
   }
  },
  {
   "cell_type": "code",
   "execution_count": 5,
   "outputs": [],
   "source": [
    "import sympy as sp"
   ],
   "metadata": {
    "collapsed": false,
    "pycharm": {
     "name": "#%%\n"
    }
   }
  },
  {
   "cell_type": "code",
   "execution_count": 21,
   "outputs": [],
   "source": [
    "dev = qml.device(\"default.qubit\", wires=2, shots = 1)\n",
    "\n",
    "@qml.qnode(dev)\n",
    "def guess_the_unitary(unitary):\n",
    "    \"\"\"Given a unitary that performs a Z or a -Z operation\n",
    "    on a qubit, guess which one it is.\n",
    "\n",
    "    Args:\n",
    "        U (array[complex]): A unitary matrix, guaranteed to be either Z or -Z.\n",
    "\n",
    "    Returns:\n",
    "        array [int]:  Probabilities on  on the first qubit\n",
    "        using qml.probs()\n",
    "    \"\"\"\n",
    "    qml.Hadamard(wires=0)\n",
    "    qml.ControlledQubitUnitary(U,control_wires=0,wires=1)\n",
    "    qml.Hadamard(wires=0)\n",
    "    #qml.PauliX(wires=0)\n",
    "    return qml.sample(wires=0)"
   ],
   "metadata": {
    "collapsed": false,
    "pycharm": {
     "name": "#%%\n"
    }
   }
  },
  {
   "cell_type": "code",
   "execution_count": 26,
   "outputs": [
    {
     "data": {
      "text/plain": "array([[ 1,  0],\n       [ 0, -1]])"
     },
     "execution_count": 26,
     "metadata": {},
     "output_type": "execute_result"
    }
   ],
   "source": [
    "# Z gate\n",
    "U = qml.PauliZ.compute_matrix()\n",
    "\n",
    "# -Z gate\n",
    "#U = (-1)*qml.PauliZ.compute_matrix()\n",
    "U"
   ],
   "metadata": {
    "collapsed": false,
    "pycharm": {
     "name": "#%%\n"
    }
   }
  },
  {
   "cell_type": "code",
   "execution_count": 27,
   "outputs": [
    {
     "name": "stdout",
     "output_type": "stream",
     "text": [
      "0: ──H─╭●──────H─┤  Sample\n",
      "1: ────╰U(M0)────┤        \n",
      "\n",
      "M0 = \n",
      "[[ 1  0]\n",
      " [ 0 -1]] \n",
      "\n",
      "0\n"
     ]
    }
   ],
   "source": [
    "print(qml.draw(guess_the_unitary)(U),'\\n')\n",
    "print(guess_the_unitary(U))"
   ],
   "metadata": {
    "collapsed": false,
    "pycharm": {
     "name": "#%%\n"
    }
   }
  },
  {
   "cell_type": "markdown",
   "source": [
    "**Codercise P.1.1.**\n",
    "You are given a unitary that is promised to be either the Z gate or the -Z gate. Write a quantum program using phase kickback that will result in the state  with a probability of 100% on the first qubit if Z is applied and  with a probability of 100% on the first qubit if -Z is applied.\n",
    "Hint\n",
    "Use qml.ControlledQubitUnitary or qml.ctrl to apply unitaries with control bits."
   ],
   "metadata": {
    "collapsed": false,
    "pycharm": {
     "name": "#%% md\n"
    }
   }
  },
  {
   "cell_type": "code",
   "execution_count": 4,
   "outputs": [
    {
     "name": "stdout",
     "output_type": "stream",
     "text": [
      "[1. 0.]\n"
     ]
    }
   ],
   "source": [
    "dev = qml.device(\"default.qubit\", wires=2)\n",
    "\n",
    "@qml.qnode(dev)\n",
    "def guess_the_unitary(unitary):\n",
    "    \"\"\"Given a unitary that performs a Z or a -Z operation\n",
    "    on a qubit, guess which one it is.\n",
    "\n",
    "    Args:\n",
    "        U (array[complex]): A unitary matrix, guaranteed to be either Z or -Z.\n",
    "\n",
    "    Returns:\n",
    "        array [int]:  Probabilities on  on the first qubit\n",
    "        using qml.probs()\n",
    "    \"\"\"\n",
    "    qml.Hadamard(wires=0)\n",
    "    qml.ControlledQubitUnitary(unitary,control_wires=0,wires=1)\n",
    "    qml.Hadamard(wires=0)\n",
    "\n",
    "    return qml.probs(wires=0)\n",
    "\n",
    "# Z gate\n",
    "#U = qml.PauliZ.compute_matrix()\n",
    "\n",
    "# -Z gate\n",
    "U = (-1)*qml.PauliZ.compute_matrix()\n",
    "\n",
    "print(guess_the_unitary(U))"
   ],
   "metadata": {
    "collapsed": false,
    "pycharm": {
     "name": "#%%\n"
    }
   }
  },
  {
   "cell_type": "markdown",
   "source": [
    "**Codercise P.1.2.**\n",
    "Find the eigenvalues of the X gate by following the steps outlined below:\n",
    "1. Prepare an eigenvector of X as input to the target wire.\n",
    "2. Apply the phase kickback circuit.\n",
    "3. Obtain the probabilities on the control wire.\n",
    "4. Use the probabilities $P(0)$ and $P(1)$ to calculate the eigenvalues.\n",
    "5. Modify the variable `done` and `True`.\n",
    "\n",
    "Note that the eigenvectors of the X gate are $\\Ket{+}$ and $\\Ket{-}$ and are supplied to the function `phase_kickback_X` as strings \"plus\" and \"minus\"."
   ],
   "metadata": {
    "collapsed": false
   }
  },
  {
   "cell_type": "markdown",
   "source": [],
   "metadata": {
    "collapsed": false
   }
  },
  {
   "cell_type": "code",
   "execution_count": 31,
   "outputs": [
    {
     "name": "stdout",
     "output_type": "stream",
     "text": [
      "[1. 0.]\n",
      "[0. 1.]\n"
     ]
    }
   ],
   "source": [
    "dev2 = qml.device(\"default.qubit\", wires=2)\n",
    "\n",
    "@qml.qnode(dev2)\n",
    "def phase_kickback_X(eigenvector):\n",
    "    \"\"\" Given an eigenvector of X,\n",
    "    apply the phase kickback circuit to observe\n",
    "    the probabilities on the control wire\n",
    "\n",
    "    Args:\n",
    "        eigenvector(String): A string \"plus\" or \"minus\" depicting\n",
    "        the eigenvector of X\n",
    "\n",
    "    Returns:\n",
    "        array[int]: Measurement outcome on the first qubit using qml.probs()\n",
    "    \"\"\"\n",
    "    # Prepare |ψ>\n",
    "    if eigenvector != \"plus\":\n",
    "        qml.PauliX(wires = 1)\n",
    "\n",
    "    qml.Hadamard(wires = 1)\n",
    "\n",
    "\n",
    "    # Phase kickback\n",
    "    qml.Hadamard(wires=0)\n",
    "    qml.CNOT(wires=[0,1])\n",
    "    qml.Hadamard(wires=0)\n",
    "\n",
    "    return qml.probs(wires=[0])\n",
    "\n",
    "print(phase_kickback_X(\"plus\"))\n",
    "print(phase_kickback_X(\"minus\"))\n",
    "\n",
    "# MODIFY EIGENVALUES BELOW\n",
    "eigenvalue_of_X_plus = 1\n",
    "eigenvalue_of_X_minus = -1"
   ],
   "metadata": {
    "collapsed": false,
    "pycharm": {
     "name": "#%%\n"
    }
   }
  },
  {
   "cell_type": "code",
   "execution_count": null,
   "outputs": [],
   "source": [],
   "metadata": {
    "collapsed": false,
    "pycharm": {
     "name": "#%%\n"
    }
   }
  }
 ],
 "metadata": {
  "kernelspec": {
   "display_name": "Python 3",
   "language": "python",
   "name": "python3"
  },
  "language_info": {
   "codemirror_mode": {
    "name": "ipython",
    "version": 2
   },
   "file_extension": ".py",
   "mimetype": "text/x-python",
   "name": "python",
   "nbconvert_exporter": "python",
   "pygments_lexer": "ipython2",
   "version": "2.7.6"
  }
 },
 "nbformat": 4,
 "nbformat_minor": 0
}