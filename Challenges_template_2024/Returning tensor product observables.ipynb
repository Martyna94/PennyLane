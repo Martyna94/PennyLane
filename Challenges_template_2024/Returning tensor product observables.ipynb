{
 "cells": [
  {
   "cell_type": "markdown",
   "metadata": {
    "collapsed": true,
    "pycharm": {
     "name": "#%% md\n"
    }
   },
   "source": [
    "Review of quantum circuits in PennyLane\n",
    "-------------------------------------------\n",
    "\n",
    "Skip to Challenge statement if you are already familiar with simple quantum circuits in PennyLane.\n",
    "\n",
    "If you're new to PennyLane, this is the perfect coding challenge for you! In this challenge, you will build a simple PennyLane circuit.\n",
    "\n",
    "Central to PennyLane is the QNode, or Quantum Node. This object combines:\n",
    "\n",
    "A device\n",
    "A quantum function\n",
    "Any additional configuration information\n",
    "We first need a device. The device evaluates a quantum function. It could be either a simulator or actual quantum hardware. For the purpose of this coding challenge, we use \"default.qubit\", a simple built-in simulator that does not require external dependencies. To initialize a \"default.qubit\" device, we also need to specify the number of wires.\n",
    "`num_wires = 2\n",
    "dev = qml.device('default.qubit', wires=num_wires)`\n",
    "Usually, a wire is just a qubit. Any hashable object can label a wire, but people often denote individual wires by numbers (0, 1, 2) or strings (\"alice\", \"auxiliary\").\n",
    "Quantum functions accept classical input, apply quantum operations, and return one or more quantum measurement statistics. We write quantum functions as plain, old Python functions, but with some constraints; the function always needs to return a measurement.\n",
    "\n",
    "We can put these components together to see the required structure of a quantum function:\n",
    "`def my_quantum_function(param):\n",
    "    qml.PauliZ(wires=0) # a single-wire gate\n",
    "    qml.RX(param, wires=0) # a single-wire parameterized gate\n",
    "    qml.CNOT(wires=[0, 1]) # a two-wire gate\n",
    "\n",
    "    # Finally we return a measurement of an operator on a wire\n",
    "    return qml.expval(qml.PauliX(0))`\n",
    "\n",
    "Challenge statement\n",
    "--------------------\n",
    "\n",
    "You are tasked with calculating a tensor-product observable for an entangled state. The completed code should\n",
    "\n",
    "* define a device\n",
    "* create a quantum function and QNode\n",
    "* execute the QNode\n",
    "\n",
    "The circuit should:\n",
    "\n",
    "1.Create the entangled Bell State:\n",
    "$\\left| \\Phi^{+} \\right\\rangle = \\frac{1}{\\sqrt{2}} (\\left| 00 \\right\\rangle + \\left| 11 \\right\\rangle)$\n",
    "2. Rotate the first qubit around the y-axis by the provided angle using 'qml.RY'\n",
    "3. Measure the tensor observable `qml.PauliZ(0) @ qml.PauliZ(1)`\n",
    "Here is a drawing of the circuit you should code.\n",
    "![circuit](./images/ReturningExpectationValue_1.png)\n",
    "For those that prefer to see the mathematics, we can write the problem as:\n",
    "$$\\left| \\Phi^{+} \\right\\rangle = \\frac{1}{\\sqrt{2}} (\\left| 00 \\right\\rangle + \\left| 11 \\right\\rangle) \\\\\n",
    "\\left| \\phi \\right\\rangle = R_{y,0}(\\phi) \\left| \\Phi^{+} \\right\\rangle = e^{-i\\frac{\\sigma_y \\otimes \\mathbb{I}}{2} \\phi} \\left| \\Phi^{+} \\right\\rangle \\\\\n",
    "\\text{ans} = \\left\\langle \\phi \\middle| \\sigma_z^{0} \\otimes \\mathbb{I}^{1} \\middle| \\phi \\right\\rangle$$."
   ]
  },
  {
   "cell_type": "markdown",
   "source": [
    "\n",
    "Challenge code\n",
    "---------------\n",
    "\n",
    "In the code shown, you must complete the simple_circuit function, which takes the argument angle (float)—corresponding to ϕ in the challenge statement above— and returns a float corresponding to the expectation value of the $Z_0 \\otimes Z_1$\n",
    "  observable.\n",
    "\n",
    "Additionally, you must complete some lines to define a PennyLane device and add a decorator to define a QNode.\n",
    "Input\n",
    "The simple_circuit function is a QNode receives one float angle, corresponding to the rotation angle ϕ in the $R_y$ gate in the circuit depicted above.\n",
    "\n",
    "Output\n",
    "The expected output is a float corresponding to the expectation value of the $Z_0 \\otimes Z_1$ observable.\n",
    "\n",
    "Note: The use of qml.expval in the QNode will output an np.tensor containing a single float. The float within it will be extracted by the testing function, so you do not need to do it yourself.\n"
   ],
   "metadata": {
    "collapsed": false
   }
  },
  {
   "cell_type": "code",
   "execution_count": 1,
   "outputs": [
    {
     "name": "stdout",
     "output_type": "stream",
     "text": [
      "Running test case 0 with input '1.23456'...\n",
      "Runtime Error. 'NoneType' object has no attribute 'numpy'\n",
      "Running test case 1 with input '1.86923'...\n",
      "Runtime Error. 'NoneType' object has no attribute 'numpy'\n"
     ]
    }
   ],
   "source": [
    "import json\n",
    "import pennylane as qml\n",
    "import pennylane.numpy as np\n",
    "\n",
    "# Step 1: initialize a device by the name dev\n",
    "\n",
    "# Step 2: Add a decorator below\n",
    "\n",
    "\n",
    "def simple_circuit(angle):\n",
    "\n",
    "    \"\"\"\n",
    "    In this function:\n",
    "        * Prepare the Bell state |Phi+>.\n",
    "        * Rotate the first qubit around the y-axis by angle\n",
    "        * Measure the tensor product observable Z0xZ1.\n",
    "\n",
    "    Args:\n",
    "        angle (float): how much to rotate a state around the y-axis.\n",
    "\n",
    "    Returns:\n",
    "        Union[tensor, float]: the expectation value of the Z0xZ1 observable.\n",
    "    \"\"\"\n",
    "\n",
    "\n",
    "\n",
    "    # Step 3: Add gates to the QNode\n",
    "\n",
    "    # Put your code here #\n",
    "\n",
    "    # Step 4: Return the required expectation value\n",
    "\n",
    "\n",
    "# These functions are responsible for testing the solution.\n",
    "def run(test_case_input: str) -> str:\n",
    "    angle = json.loads(test_case_input)\n",
    "    output = simple_circuit(angle).numpy()\n",
    "\n",
    "    return str(output)\n",
    "\n",
    "def check(solution_output: str, expected_output: str) -> None:\n",
    "    solution_output = json.loads(solution_output)\n",
    "    expected_output = json.loads(expected_output)\n",
    "    assert np.allclose(solution_output, expected_output, rtol=1e-4), \"Not the right expectation value\"\n",
    "\n",
    "\n",
    "# These are the public test cases\n",
    "test_cases = [\n",
    "    ('1.23456', '0.3299365180851774'),\n",
    "    ('1.86923', '-0.2940234756205866')\n",
    "]\n",
    "\n",
    "# This will run the public test cases locally\n",
    "for i, (input_, expected_output) in enumerate(test_cases):\n",
    "    print(f\"Running test case {i} with input '{input_}'...\")\n",
    "\n",
    "    try:\n",
    "        output = run(input_)\n",
    "\n",
    "    except Exception as exc:\n",
    "        print(f\"Runtime Error. {exc}\")\n",
    "\n",
    "    else:\n",
    "        if message := check(output, expected_output):\n",
    "            print(f\"Wrong Answer. Have: '{output}'. Want: '{expected_output}'.\")\n",
    "\n",
    "        else:\n",
    "            print(\"Correct!\")"
   ],
   "metadata": {
    "collapsed": false,
    "pycharm": {
     "name": "#%%\n"
    }
   }
  }
 ],
 "metadata": {
  "kernelspec": {
   "display_name": "Python 3",
   "language": "python",
   "name": "python3"
  },
  "language_info": {
   "codemirror_mode": {
    "name": "ipython",
    "version": 2
   },
   "file_extension": ".py",
   "mimetype": "text/x-python",
   "name": "python",
   "nbconvert_exporter": "python",
   "pygments_lexer": "ipython2",
   "version": "2.7.6"
  }
 },
 "nbformat": 4,
 "nbformat_minor": 0
}