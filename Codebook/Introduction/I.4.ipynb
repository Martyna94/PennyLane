{
 "cells": [
  {
   "cell_type": "markdown",
   "metadata": {
    "collapsed": true,
    "pycharm": {
     "name": "#%% md\n"
    }
   },
   "source": [
    "**Learning outcomes:**\n",
    "\n",
    "* Explain why we can understand how an operation works by applying it to the basis states.\n",
    "* Describe the action of the X gate, its matrix representation, and eigenvalues.\n",
    "* Describe the action of the Hadamard gate, its matrix representation, and eigenvalues."
   ]
  },
  {
   "cell_type": "code",
   "source": [
    "import numpy as np\n",
    "import pennylane as qml"
   ],
   "metadata": {
    "collapsed": false,
    "pycharm": {
     "name": "#%%\n"
    }
   },
   "execution_count": 1,
   "outputs": []
  },
  {
   "cell_type": "markdown",
   "source": [
    "**Codercise I.4.1.**\n",
    "  A common use of the `X` gate is in initializing the state of a qubit at the beginning of an algorithm. Quite often, we would like our qubits to start in `|0>` state  (which is the default in PennyLane), however there are many cases where we instead would like to start from `|1>`. Complete the function below by using `qml.PauliX` to initialize the qubit's state to `|0>` or `|1>` based on an input flag. Then, use `qml.QubitUnitary` to apply the provided U."
   ],
   "metadata": {
    "collapsed": false,
    "pycharm": {
     "name": "#%% md\n"
    }
   }
  },
  {
   "cell_type": "code",
   "execution_count": 2,
   "outputs": [],
   "source": [
    "dev = qml.device(\"default.qubit\", wires=1)\n",
    "\n",
    "U = np.array([[1, 1], [1, -1]]) / np.sqrt(2)\n",
    "\n",
    "@qml.qnode(dev)\n",
    "def varied_initial_state(state):\n",
    "    \"\"\"Complete the function such that we can apply the operation U to\n",
    "    either |0> or |1> depending on the input argument flag.\n",
    "\n",
    "    Args:\n",
    "        state (int): Either 0 or 1. If 1, prepare the qubit in state |1>,\n",
    "            otherwise, leave it in state 0.\n",
    "\n",
    "    Returns:\n",
    "        array[complex]: The state of the qubit after the operations.\n",
    "    \"\"\"\n",
    "    if(state == 1):\n",
    "        qml.PauliX(0)\n",
    "\n",
    "    qml.QubitUnitary(U,0)\n",
    "    return qml.state()"
   ],
   "metadata": {
    "collapsed": false,
    "pycharm": {
     "name": "#%%\n"
    }
   }
  },
  {
   "cell_type": "markdown",
   "source": [
    "**Codercise I.4.2.**\n",
    "What do you think is meant by `uniform superposition`? Let's explore this using PennyLane. Complete the quantum function below such that it:\n",
    "* applies a Hadamard gate to the qubit,\n",
    "* return the `state` of the qubit with `qml.state`"
   ],
   "metadata": {
    "collapsed": false,
    "pycharm": {
     "name": "#%% md\n"
    }
   }
  },
  {
   "cell_type": "code",
   "execution_count": 3,
   "outputs": [],
   "source": [
    "dev = qml.device(\"default.qubit\", wires=1)\n",
    "\n",
    "@qml.qnode(dev)\n",
    "def apply_hadamard():\n",
    "    qml.Hadamard(wires=0)\n",
    "\n",
    "    return qml.state()"
   ],
   "metadata": {
    "collapsed": false,
    "pycharm": {
     "name": "#%%\n"
    }
   }
  },
  {
   "cell_type": "markdown",
   "source": [
    "**Codercise I.4.3.**\n",
    "Combining your code from codercises I.4.1, and I.4.2, apply the Hadamard gate to both `|0>` and `|1>`. What do the two different output states look like? Do you notice anything special about them?"
   ],
   "metadata": {
    "collapsed": false,
    "pycharm": {
     "name": "#%% md\n"
    }
   }
  },
  {
   "cell_type": "code",
   "execution_count": 4,
   "outputs": [
    {
     "name": "stdout",
     "output_type": "stream",
     "text": [
      "[1.+0.j 0.+0.j]\n",
      "[ 0.+0.j -1.+0.j]\n"
     ]
    }
   ],
   "source": [
    "\n",
    "# CREATE A DEVICE\n",
    "dev = qml.device(\"default.qubit\", wires=1)\n",
    "\n",
    "@qml.qnode(dev)\n",
    "def apply_hxh(state):\n",
    "\n",
    "    if(state == 1):\n",
    "        qml.PauliX(0)\n",
    "\n",
    "    qml.Hadamard(wires=0)\n",
    "    qml.PauliX(0)\n",
    "    qml.Hadamard(wires=0)\n",
    "\n",
    "    return qml.state()\n",
    "\n",
    "# Print your results\n",
    "print(apply_hxh(0))\n",
    "print(apply_hxh(1))\n"
   ],
   "metadata": {
    "collapsed": false,
    "pycharm": {
     "name": "#%%\n"
    }
   }
  },
  {
   "cell_type": "markdown",
   "source": [
    "**Codercise I.4.4.**\n",
    "Now let's combine what we've just learned. Create a device with one qubit. Then, write a QNode (from scratch!) that applies the following circuit and returns the state.\n",
    "![circuit](./images/I.4.4.png)\n",
    "Determine its effect on the two basis states. What do you think this operation does? (we'll discuss this further in the next node). The signature of you function should be:\n",
    "`def apply_hxh(state):\n",
    "    ...\n",
    "    return qml.state()\n",
    "`\n",
    "where as in the previous exercises, `state   is an integer that indicates which basis state to prepare."
   ],
   "metadata": {
    "collapsed": false,
    "pycharm": {
     "name": "#%% md\n"
    }
   }
  },
  {
   "cell_type": "code",
   "execution_count": 15,
   "outputs": [
    {
     "name": "stdout",
     "output_type": "stream",
     "text": [
      "[1.+0.j 0.+0.j]\n",
      "[1.+0.j 0.+0.j]\n"
     ]
    }
   ],
   "source": [
    "\n",
    "# CREATE A DEVICE\n",
    "dev = qml.device(\"default.qubit\", wires=1)\n",
    "\n",
    "@qml.qnode(dev)\n",
    "def apply_hxh(state):\n",
    "\n",
    "    qml.Hadamard(wires=0)\n",
    "    qml.PauliX(0)\n",
    "    qml.Hadamard(wires=0)\n",
    "\n",
    "    return qml.state()\n",
    "\n",
    "# Print your results\n",
    "print(apply_hxh(0))\n",
    "print(apply_hxh(1))"
   ],
   "metadata": {
    "collapsed": false,
    "pycharm": {
     "name": "#%%\n"
    }
   }
  },
  {
   "cell_type": "code",
   "execution_count": null,
   "outputs": [],
   "source": [],
   "metadata": {
    "collapsed": false,
    "pycharm": {
     "name": "#%%\n"
    }
   }
  }
 ],
 "metadata": {
  "kernelspec": {
   "display_name": "Python 3",
   "language": "python",
   "name": "python3"
  },
  "language_info": {
   "codemirror_mode": {
    "name": "ipython",
    "version": 2
   },
   "file_extension": ".py",
   "mimetype": "text/x-python",
   "name": "python",
   "nbconvert_exporter": "python",
   "pygments_lexer": "ipython2",
   "version": "2.7.6"
  }
 },
 "nbformat": 4,
 "nbformat_minor": 0
}