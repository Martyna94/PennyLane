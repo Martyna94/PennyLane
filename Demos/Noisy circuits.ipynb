{
 "cells": [
  {
   "cell_type": "markdown",
   "source": [
    "Based on [Noisy circuits](https://pennylane.ai/qml/demos/tutorial_noisy_circuits/#noisy-circuits)"
   ],
   "metadata": {
    "collapsed": false
   }
  },
  {
   "cell_type": "markdown",
   "source": [
    "Noise is any unwanted transformation that corrupts the intended output of a quantum computation. It can be separated into two categories:\n",
    "* Coherent noise is described by unitary operations that maintain the purity of the output quantum state. A common source are systematic errors originating from imperfectly-calibrated devices that do not exactly apply the desired gates, e.g., applying a rotation by an angle\n",
    "$ϕ+ϵ$ instead of $ϕ$.\n",
    "\n",
    "* Incoherent noise is more problematic: it originates from a quantum computer becoming entangled with the environment, resulting in mixed states — probability distributions over different pure states. Incoherent noise thus leads to outputs that are always random, regardless of what basis we measure in.\n",
    "\n",
    "Mixed states are described by density matrices. They provide a more general method of describing quantum states that elegantly encodes a distribution over pure states in a single mathematical object. Mixed states are the most general description of a quantum state, of which pure states are a special case."
   ],
   "metadata": {
    "collapsed": false
   }
  },
  {
   "cell_type": "markdown",
   "source": [
    "The purpose of PennyLane’s `default.mixed` device is to provide native support for mixed states and for simulating noisy computations. Let’s use default.mixed to simulate a simple circuit for preparing the Bell state $\\Ket{\\psi}= \\frac{1}{\\sqrt{2}}(\\Ket{00} + \\Ket{11})$. We ask the QNode to return the expectation value of $Z_0 \\otimes Z_1$"
   ],
   "metadata": {
    "collapsed": false
   }
  },
  {
   "cell_type": "code",
   "execution_count": 2,
   "metadata": {
    "collapsed": true
   },
   "outputs": [
    {
     "name": "stdout",
     "output_type": "stream",
     "text": [
      "QNode output = 1.0000\n"
     ]
    }
   ],
   "source": [
    "import pennylane as qml\n",
    "\n",
    "dev = qml.device('default.mixed',wires = 2)\n",
    "\n",
    "@qml.qnode(dev)\n",
    "def circuit():\n",
    "    qml.Hadamard(wires = 0)\n",
    "    qml.CNOT(wires=[0,1])\n",
    "    return qml.expval(qml.PauliZ(0)@qml.PauliZ(1))\n",
    "\n",
    "print(f\"QNode output = {circuit():.4f}\")"
   ]
  },
  {
   "cell_type": "markdown",
   "source": [
    "With a small modification of the circuit we can also ask for density matrix. In this case, the density matrix is equal to $\\Ket{\\psi}\\Bra{\\psi}$, where $\\Ket{\\psi}= \\frac{1}{\\sqrt{2}}(\\Ket{00} + \\Ket{11})$"
   ],
   "metadata": {
    "collapsed": false
   }
  },
  {
   "cell_type": "code",
   "execution_count": 3,
   "outputs": [
    {
     "name": "stdout",
     "output_type": "stream",
     "text": [
      "Output density matrix is = \n",
      "[[0.5 0.  0.  0.5]\n",
      " [0.  0.  0.  0. ]\n",
      " [0.  0.  0.  0. ]\n",
      " [0.5 0.  0.  0.5]]\n"
     ]
    }
   ],
   "source": [
    "import numpy as np\n",
    "@qml.qnode(dev)\n",
    "def density_matrix_circuit():\n",
    "    qml.Hadamard(wires=0)\n",
    "    qml.CNOT(wires=[0,1])\n",
    "    return qml.state()\n",
    "\n",
    "matrix = density_matrix_circuit()\n",
    "print(f\"Output density matrix is = \\n{np.real(matrix)}\")"
   ],
   "metadata": {
    "collapsed": false,
    "pycharm": {
     "name": "#%%\n"
    }
   }
  },
  {
   "cell_type": "markdown",
   "source": [
    "Incoherent noise is modelled by quantum channels. Mathematically, a quantum channel is a linear, completely positive, and trace-preserving ([CPTP](https://www.quantiki.org/wiki/channel-cp-map)) map. A convenient strategy for representing quantum channels is to employ [Kraus operators](https://en.wikipedia.org/wiki/Quantum_operation#Kraus_operators) $\\{K_i\\}$ satisfying the condition $\\sum_i K_{i}^{\\dagger} K_i = I$. For\n",
    "an initial state $\\rho$, the output state after the action of a channel\n",
    "$\\Phi$ is:\n",
    "\n",
    "$$\\Phi(\\rho) = \\sum_i K_i \\rho K_{i}^{\\dagger}.$$\n",
    "\n",
    "Just like pure states are special cases of mixed states, unitary\n",
    "transformations are special cases of quantum channels. Unitary\n",
    "transformations are represented by a single Kraus operator, the unitary\n",
    "$U$, and they transform a state as $U\\rho U^\\dagger$.\n",
    "\n",
    "More generally, the action of a quantum channel can be interpreted as\n",
    "applying a transformation corresponding to the Kraus operator $K_i$ with\n",
    "some associated probability. More precisely, the channel applies the\n",
    "transformation $\\frac{1}{p_i}K_i\\rho K_i^\\dagger$ with probability\n",
    "$p_i = \\text{Tr}[K_i \\rho K_{i}^{\n",
    "\\dagger}]$. Quantum channels therefore represent a probability\n",
    "distribution over different possible transformations on a quantum state.\n",
    "For example, consider the bit flip channel. It describes a\n",
    "transformation that flips the state of a qubit (applies an X gate) with\n",
    "probability $p$ and leaves it unchanged with probability $1-p$. Its\n",
    "Kraus operators are\n",
    "\n",
    "$$\\begin{aligned}\n",
    "K_0 &= \\sqrt{1-p}\\begin{pmatrix}1 & 0\\\\ 0 & 1\\end{pmatrix}, \\\\\n",
    "K_1 &= \\sqrt{p}\\begin{pmatrix}0 & 1\\\\ 1 & 0\\end{pmatrix}.\n",
    "\\end{aligned}$$\n",
    "\n",
    "This channel can be implemented in PennyLane using the\n",
    "`qml.BitFlip <pennylane.BitFlip>`{.interpreted-text role=\"class\"}\n",
    "operation.\n",
    "\n",
    "Let\\'s see what happens when we simulate this type of noise acting on\n",
    "both qubits in the circuit. We\\'ll evaluate the QNode for different bit\n",
    "flip probabilities.\n"
   ],
   "metadata": {
    "collapsed": false
   }
  },
  {
   "cell_type": "code",
   "execution_count": 7,
   "outputs": [
    {
     "name": "stdout",
     "output_type": "stream",
     "text": [
      "QNode output for bit flip probability 0.001 is 0.9960\n",
      "QNode output for bit flip probability 0.01 is 0.9604\n",
      "QNode output for bit flip probability 0.1 is 0.6400\n",
      "QNode output for bit flip probability 0.2 is 0.3600\n"
     ]
    }
   ],
   "source": [
    "@qml.qnode(dev)\n",
    "def bitflip_circuit(p):\n",
    "    qml.Hadamard(wires=0)\n",
    "    qml.CNOT(wires=[0, 1])\n",
    "    qml.BitFlip(p, wires=0)\n",
    "    qml.BitFlip(p, wires=1)\n",
    "    return qml.expval(qml.PauliZ(0) @ qml.PauliZ(1))\n",
    "\n",
    "ps = [0.001, 0.01, 0.1, 0.2]\n",
    "for p in ps:\n",
    "    print(f\"QNode output for bit flip probability {p} is {bitflip_circuit(p):.4f}\")"
   ],
   "metadata": {
    "collapsed": false,
    "pycharm": {
     "name": "#%%\n"
    }
   }
  },
  {
   "cell_type": "markdown",
   "source": [
    "The circuit behaves quite differently in the presence of noise! This will be familiar to anyone that has run an algorithm on quantum hardware. It is also highlights why error mitigation and error correction are so important. We can use PennyLane to look under the hood and see the output state of the circuit for the largest noise parameter"
   ],
   "metadata": {
    "collapsed": false
   }
  },
  {
   "cell_type": "code",
   "execution_count": 8,
   "outputs": [
    {
     "name": "stdout",
     "output_type": "stream",
     "text": [
      "Output state for bit flip probability 0.2 is \n",
      "[[0.34 0.   0.   0.34]\n",
      " [0.   0.16 0.16 0.  ]\n",
      " [0.   0.16 0.16 0.  ]\n",
      " [0.34 0.   0.   0.34]]\n"
     ]
    }
   ],
   "source": [
    "print(f\"Output state for bit flip probability {p} is \\n{np.real(dev.state)}\")"
   ],
   "metadata": {
    "collapsed": false,
    "pycharm": {
     "name": "#%%\n"
    }
   }
  },
  {
   "cell_type": "markdown",
   "source": [
    "Let\\'s take a look at another example. The depolarizing channel is a\n",
    "generalization of the bit flip and phase flip channels, where each of\n",
    "the three possible Pauli errors can be applied to a single qubit. Its\n",
    "Kraus operators are given by\n",
    "\n",
    "$$\\begin{aligned}\n",
    "K_0 &= \\sqrt{1-p}\\begin{pmatrix}1 & 0\\\\ 0 & 1\\end{pmatrix}, \\\\\n",
    "K_1 &= \\sqrt{p/3}\\begin{pmatrix}0 & 1\\\\ 1 & 0\\end{pmatrix}, \\\\\n",
    "K_2 &= \\sqrt{p/3}\\begin{pmatrix}0 & -i\\\\ i & 0\\end{pmatrix}, \\\\\n",
    "K_3 &= \\sqrt{p/3}\\begin{pmatrix}1 & 0\\\\ 0 & -1\\end{pmatrix}.\n",
    "\\end{aligned}$$\n",
    "\n",
    "A circuit modelling the effect of depolarizing noise in preparing a Bell\n",
    "state is implemented below.\n"
   ],
   "metadata": {
    "collapsed": false
   }
  },
  {
   "cell_type": "code",
   "execution_count": 9,
   "outputs": [],
   "source": [
    "@qml.qnode(dev)\n",
    "def depolarizing_circuit(p):\n",
    "    qml.Hadamard(wires=0)\n",
    "    qml.CNOT(wires=[0, 1])\n",
    "    qml.DepolarizingChannel(p, wires=0)\n",
    "    qml.DepolarizingChannel(p, wires=1)\n",
    "    return qml.expval(qml.PauliZ(0) @ qml.PauliZ(1))"
   ],
   "metadata": {
    "collapsed": false,
    "pycharm": {
     "name": "#%%\n"
    }
   }
  },
  {
   "cell_type": "code",
   "execution_count": 10,
   "outputs": [
    {
     "name": "stdout",
     "output_type": "stream",
     "text": [
      "QNode output for depolarizing probability 0.001 is 0.9973\n",
      "QNode output for depolarizing probability 0.01 is 0.9735\n",
      "QNode output for depolarizing probability 0.1 is 0.7511\n",
      "QNode output for depolarizing probability 0.2 is 0.5378\n"
     ]
    }
   ],
   "source": [
    "ps = [0.001, 0.01, 0.1, 0.2]\n",
    "for p in ps:\n",
    "    print(f\"QNode output for depolarizing probability {p} is {depolarizing_circuit(p):.4f}\")"
   ],
   "metadata": {
    "collapsed": false,
    "pycharm": {
     "name": "#%%\n"
    }
   }
  },
  {
   "cell_type": "markdown",
   "source": [
    "As before, the output deviates from the desired value as the amount of noise increases. Modelling the noise that occurs in real experiments requires careful consideration. PennyLane offers the flexibility to experiment with different combinations of noisy channels to either mimic the performance of quantum algorithms when deployed on real devices, or to explore the effect of more general quantum transformations"
   ],
   "metadata": {
    "collapsed": false
   }
  },
  {
   "cell_type": "markdown",
   "source": [
    "## Channel gradients\n",
    "\n",
    "The ability to compute gradients of any operation is an essential\n",
    "ingredient of\n",
    "quantum differentiable programming. In PennyLane, it is possible to compute gradients of noisy\n",
    "channels and optimize them inside variational circuits. PennyLane\n",
    "supports analytical gradients for channels whose Kraus operators are\n",
    "proportional to unitary matrices. In other cases, gradients are\n",
    "evaluated using finite differences.\n",
    "\n",
    "To illustrate this property, we\\'ll consider an elementary example. We\n",
    "aim to learn the noise parameters of a circuit in order to reproduce an\n",
    "observed expectation value. So suppose that we run the circuit to\n",
    "prepare a Bell state on a hardware device and observe that the\n",
    "expectation value of $Z_0\\otimes Z_1$ is not equal to 1 (as would occur\n",
    "with an ideal device), but instead has the value 0.7781. In the\n",
    "experiment, it is known that the major source of noise is amplitude\n",
    "damping, for example as a result of photon loss. Amplitude damping\n",
    "projects a state to $|0\\rangle$ with probability $p$ and otherwise\n",
    "leaves it unchanged. It is described by the Kraus operators\n",
    "\n",
    "$$\\begin{aligned}\n",
    "K_0 = \\begin{pmatrix}1 & 0\\\\ 0 & \\sqrt{1-p}\\end{pmatrix}, \\quad\n",
    "K_1 = \\begin{pmatrix}0 & \\sqrt{p}\\\\ 0 & 0\\end{pmatrix}.\n",
    "\\end{aligned}$$\n",
    "\n",
    "What damping parameter ($p$) explains the experimental outcome? We can\n",
    "answer this question by optimizing the channel parameters to reproduce\n",
    "the experimental observation! 💪 Since the parameter $p$ is a\n",
    "probability, we use a sigmoid function to ensure that the trainable\n",
    "parameters give rise to a valid channel parameter, i.e., a number\n",
    "between 0 and 1.\n"
   ],
   "metadata": {
    "collapsed": false
   }
  },
  {
   "cell_type": "code",
   "execution_count": 4,
   "outputs": [],
   "source": [
    "from jax import numpy as np\n",
    "import jax\n",
    "import jaxopt\n",
    "\n",
    "jax.config.update(\"jax_platform_name\", \"cpu\")\n",
    "jax.config.update('jax_enable_x64', True)\n",
    "\n",
    "ev = 0.7781  # observed expectation value\n",
    "\n",
    "def sigmoid(x):\n",
    "    return 1/(1+np.exp(-x))\n",
    "\n",
    "@qml.qnode(dev)\n",
    "def damping_circuit(x):\n",
    "    qml.Hadamard(wires=0)\n",
    "    qml.CNOT(wires=[0, 1])\n",
    "    qml.AmplitudeDamping(sigmoid(x), wires=0)  # p = sigmoid(x)\n",
    "    qml.AmplitudeDamping(sigmoid(x), wires=1)\n",
    "    return qml.expval(qml.PauliZ(0) @ qml.PauliZ(1))"
   ],
   "metadata": {
    "collapsed": false,
    "pycharm": {
     "name": "#%%\n"
    }
   }
  },
  {
   "cell_type": "markdown",
   "source": [
    "We optimaze the circuit with to a simple cost function that attains its minimum then the output of the QNode is equal to the experimental value:"
   ],
   "metadata": {
    "collapsed": false
   }
  },
  {
   "cell_type": "code",
   "execution_count": 16,
   "outputs": [],
   "source": [
    "def cost(x, target):\n",
    "    return (damping_circuit(x) - target)**2"
   ],
   "metadata": {
    "collapsed": false,
    "pycharm": {
     "name": "#%%\n"
    }
   }
  },
  {
   "cell_type": "markdown",
   "source": [
    "All that remains is to optimize the parameter. We use a straightforward gradient descent method."
   ],
   "metadata": {
    "collapsed": false,
    "pycharm": {
     "name": "#%% md\n"
    }
   }
  },
  {
   "cell_type": "code",
   "execution_count": 22,
   "outputs": [
    {
     "name": "stdout",
     "output_type": "stream",
     "text": [
      "Cost after step    10:  0.0772951\n",
      "Cost after step    20:  0.0770553\n",
      "Cost after step    30:  0.0755595\n",
      "Cost after step    40:  0.0673987\n",
      "Cost after step    50:  0.0420718\n",
      "Cost after step    60:  0.0164136\n",
      "Cost after step    70:  0.0057149\n",
      "Cost after step    80:  0.0021155\n",
      "Cost after step    90:  0.0008378\n",
      "Cost after step   100:  0.0003482\n",
      "Cost after step   110:  0.0001494\n",
      "Cost after step   120:  0.0000655\n",
      "Cost after step   130:  0.0000291\n",
      "Cost after step   140:  0.0000131\n",
      "Cost after step   150:  0.0000059\n",
      "Cost after step   160:  0.0000027\n",
      "Cost after step   170:  0.0000012\n",
      "Cost after step   180:  0.0000006\n",
      "Cost after step   190:  0.0000003\n",
      "Cost after step   200:  0.0000001\n",
      "Optimized x: 1.9247392364041398\n",
      "Optimized noise parameter p = 0.8727\n",
      "QNode output after optimization = 0.7778\n",
      "Experimental expectation value = 0.7781\n"
     ]
    }
   ],
   "source": [
    "steps = 200\n",
    "x = np.array(0.01)\n",
    "target_ev = 0.7781\n",
    "\n",
    "opt = jaxopt.GradientDescent(cost,stepsize=0.7, acceleration=False)\n",
    "params = x\n",
    "opt_state = opt.init_state(params)\n",
    "for i in range(steps):\n",
    "    params, opt_state = opt.update(params, opt_state,target= target_ev)\n",
    "    if (i + 1) % 10 == 0:\n",
    "        print(\"Cost after step {:5d}: {: .7f}\".format(i + 1, cost(params,target_ev)))\n",
    "\n",
    "print(\"Optimized x: {}\".format(params))\n",
    "print(f\"Optimized noise parameter p = {sigmoid(params.take(0)):.4f}\")\n",
    "print(f\"QNode output after optimization = {damping_circuit(params):.4f}\")\n",
    "print(f\"Experimental expectation value = {target_ev}\")\n"
   ],
   "metadata": {
    "collapsed": false,
    "pycharm": {
     "name": "#%%\n"
    }
   }
  },
  {
   "cell_type": "code",
   "execution_count": null,
   "outputs": [],
   "source": [],
   "metadata": {
    "collapsed": false,
    "pycharm": {
     "name": "#%%\n"
    }
   }
  }
 ],
 "metadata": {
  "kernelspec": {
   "display_name": "Python 3",
   "language": "python",
   "name": "python3"
  },
  "language_info": {
   "codemirror_mode": {
    "name": "ipython",
    "version": 2
   },
   "file_extension": ".py",
   "mimetype": "text/x-python",
   "name": "python",
   "nbconvert_exporter": "python",
   "pygments_lexer": "ipython2",
   "version": "2.7.6"
  }
 },
 "nbformat": 4,
 "nbformat_minor": 0
}