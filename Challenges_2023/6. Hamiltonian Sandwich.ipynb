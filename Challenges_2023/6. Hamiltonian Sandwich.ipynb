{
 "cells": [
  {
   "cell_type": "markdown",
   "source": [
    "*Useful resources*:\n",
    "* [qml.Hamiltonian](https://docs.pennylane.ai/en/stable/code/api/pennylane.Hamiltonian.html)\n",
    "* [How to construct and load hamiltonians in pennylane](https://pennylane.ai/blog/2021/05/how-to-construct-and-load-hamiltonians-in-pennylane/)\n",
    "* [Xanadu Codebook H4 - codercise H.4.2 (b)](https://codebook.xanadu.ai/H.4)"
   ],
   "metadata": {
    "collapsed": false
   }
  },
  {
   "cell_type": "markdown",
   "metadata": {
    "collapsed": true,
    "pycharm": {
     "name": "#%% md\n"
    }
   },
   "source": [
    "**Tutorial #6 — Hamiltonians**\n",
    "You will be tasked with creating the Hamiltonian\n",
    "$$H = \\frac{1}{3} \\sum_{i<j} X_iX_j - \\sum_{i=0}^{n-1}Z_i $$\n",
    "where $n$ is the number of qubits, $X_i$ and $Z_i$ are familiar Pauli X and Z operators, respectively, and $\\sum_{i<j}$ denotes a sum over all pair (e.g. for $n=3$, the pairs are $(i,j) = (0,1),(0,2),(1,2)$). Note that we're indexing from 0!In this challenge, you need to create the following quantum circuit simulation that returns the expectation value of this Hamiltonian.\n",
    "\n",
    "In this challenge, you need to create the following quantum circuit simulation that returns the expectation value of this Hamiltonian.\n",
    "![circuit](./images/6.%20Hamiltonian%20Sandwich-1.png)\n",
    "\n",
    "To be clear, each wire represents $n$ qubits, and $\\Ket{0}$ really means $\\Ket{0}^{\\otimes n}$, i.e. the $\\Ket{0}$ state for each of these $n$ qubits. Also, be mindful that the $H$ gates represent the Hadamard gate, not the Hamiltonian (which is not unitary, in general)!"
   ]
  },
  {
   "cell_type": "code",
   "execution_count": 6,
   "outputs": [],
   "source": [
    "import json\n",
    "import pennylane as qml\n",
    "import pennylane.numpy as np"
   ],
   "metadata": {
    "collapsed": false,
    "pycharm": {
     "name": "#%%\n"
    }
   }
  },
  {
   "cell_type": "code",
   "execution_count": 61,
   "outputs": [
    {
     "name": "stdout",
     "output_type": "stream",
     "text": [
      "--------- n =  4 ------------------------\n",
      "[(0, 1), (0, 2), (0, 3), (1, 2), (1, 3), (2, 3)]\n",
      "Lenght of list  6  binomial Newtona:  6\n",
      "[[0, 1], [0, 2], [0, 3], [1, 2], [1, 3], [2, 3]]\n",
      "Lenght of list  6  binomial Newtona:  6\n",
      "--------- n =  5 ------------------------\n",
      "[(0, 1), (0, 2), (0, 3), (0, 4), (1, 2), (1, 3), (1, 4), (2, 3), (2, 4), (3, 4)]\n",
      "Lenght of list  10  binomial Newtona:  10\n",
      "[[0, 1], [0, 2], [0, 3], [0, 4], [1, 2], [1, 3], [1, 4], [2, 3], [2, 4], [3, 4]]\n",
      "Lenght of list  10  binomial Newtona:  10\n",
      "--------- n =  6 ------------------------\n",
      "[(0, 1), (0, 2), (0, 3), (0, 4), (0, 5), (1, 2), (1, 3), (1, 4), (1, 5), (2, 3), (2, 4), (2, 5), (3, 4), (3, 5), (4, 5)]\n",
      "Lenght of list  15  binomial Newtona:  15\n",
      "[[0, 1], [0, 2], [0, 3], [0, 4], [0, 5], [1, 2], [1, 3], [1, 4], [1, 5], [2, 3], [2, 4], [2, 5], [3, 4], [3, 5], [4, 5]]\n",
      "Lenght of list  15  binomial Newtona:  15\n",
      "--------- n =  7 ------------------------\n",
      "[(0, 1), (0, 2), (0, 3), (0, 4), (0, 5), (0, 6), (1, 2), (1, 3), (1, 4), (1, 5), (1, 6), (2, 3), (2, 4), (2, 5), (2, 6), (3, 4), (3, 5), (3, 6), (4, 5), (4, 6), (5, 6)]\n",
      "Lenght of list  21  binomial Newtona:  21\n",
      "[[0, 1], [0, 2], [0, 3], [0, 4], [0, 5], [0, 6], [1, 2], [1, 3], [1, 4], [1, 5], [1, 6], [2, 3], [2, 4], [2, 5], [2, 6], [3, 4], [3, 5], [3, 6], [4, 5], [4, 6], [5, 6]]\n",
      "Lenght of list  21  binomial Newtona:  21\n"
     ]
    }
   ],
   "source": [
    "from itertools import combinations\n",
    "from scipy.special import comb\n",
    "k = 2\n",
    "def comb2(s):\n",
    "    for i, v1 in enumerate(s):\n",
    "        for j in range(i+1, len(s)):\n",
    "            yield [v1, s[j]]\n",
    "\n",
    "for n in range(4,8):\n",
    "    my_list = list(combinations(range(n), k))\n",
    "    my_list_2 = list(comb2(range(n)))\n",
    "    binomial = comb(n,k,exact=True)\n",
    "    print(\"--------- n = \",n,\"------------------------\")\n",
    "    print(my_list)\n",
    "    print(\"Lenght of list \",len(my_list), \" binomial Newtona: \",binomial)\n",
    "    print(my_list_2)\n",
    "    print(\"Lenght of list \",len(my_list_2), \" binomial Newtona: \",binomial)"
   ],
   "metadata": {
    "collapsed": false,
    "pycharm": {
     "name": "#%%\n"
    }
   }
  },
  {
   "cell_type": "code",
   "execution_count": 46,
   "outputs": [
    {
     "name": "stdout",
     "output_type": "stream",
     "text": [
      "[PauliX(wires=[0]) @ PauliX(wires=[1]), PauliX(wires=[0]) @ PauliX(wires=[2]), PauliX(wires=[0]) @ PauliX(wires=[3]), PauliX(wires=[1]) @ PauliX(wires=[2]), PauliX(wires=[1]) @ PauliX(wires=[3]), PauliX(wires=[2]) @ PauliX(wires=[3]), PauliZ(wires=[0]), PauliZ(wires=[1]), PauliZ(wires=[2]), PauliZ(wires=[3])]\n",
      "[0.3333333333333333, 0.3333333333333333, 0.3333333333333333, 0.3333333333333333, 0.3333333333333333, 0.3333333333333333, -1, -1, -1, -1]\n"
     ]
    }
   ],
   "source": [
    "num_wires=4\n",
    "\n",
    "combo_list = list(combinations(range(num_wires), 2))\n",
    "binomial_newtona = range(len(combo_list))\n",
    "\n",
    "obs = [qml.PauliX(combo_list[i][0])@qml.PauliX(combo_list[i][1]) for i in binomial_newtona]\n",
    "coeffs = [1/3 for _ in binomial_newtona]\n",
    "\n",
    "for i in range(num_wires):\n",
    "    obs.append(qml.PauliZ(i))\n",
    "    coeffs.append(-1)\n",
    "\n",
    "print(obs)\n",
    "print(coeffs)"
   ],
   "metadata": {
    "collapsed": false,
    "pycharm": {
     "name": "#%%\n"
    }
   }
  },
  {
   "cell_type": "code",
   "execution_count": 63,
   "outputs": [
    {
     "name": "stdout",
     "output_type": "stream",
     "text": [
      "  (-1) [Z0]\n",
      "+ (-1) [Z1]\n",
      "+ (-1) [Z2]\n",
      "+ (0.3333333333333333) [X0 X1]\n",
      "+ (0.3333333333333333) [X0 X2]\n",
      "+ (0.3333333333333333) [X1 X2]\n"
     ]
    }
   ],
   "source": [
    "def hamiltonian_forbidden(num_wires):\n",
    "    \"\"\"A function for creating the Hamiltonian in question for a general\n",
    "    number of qubits.\n",
    "\n",
    "    Args:\n",
    "        num_wires (int): The number of qubits.\n",
    "\n",
    "    Returns:\n",
    "        (qml.Hamiltonian): A PennyLane Hamiltonian.\n",
    "    \"\"\"\n",
    "    combo_list = list(combinations(range(num_wires), 2))\n",
    "    binomial_newtona = range(len(combo_list))\n",
    "\n",
    "    obs = [qml.PauliX(combo_list[i][0])@qml.PauliX(combo_list[i][1]) for i in binomial_newtona]\n",
    "    coeffs = [1/3 for _ in binomial_newtona]\n",
    "\n",
    "    for i in range(num_wires):\n",
    "        obs.append(qml.PauliZ(i))\n",
    "        coeffs.append(-1)\n",
    "\n",
    "    return qml.Hamiltonian(coeffs, obs)\n",
    "\n",
    "print(hamiltonian_forbidden(3))"
   ],
   "metadata": {
    "collapsed": false,
    "pycharm": {
     "name": "#%%\n"
    }
   }
  },
  {
   "cell_type": "code",
   "execution_count": 15,
   "outputs": [],
   "source": [
    "def Hamiltonian(num_wires):\n",
    "    coeffs = []\n",
    "    obs = []\n",
    "\n",
    "    for i in range(0, num_wires-1):\n",
    "        for j in range(i+1,num_wires):\n",
    "            coeffs.append(1/3)\n",
    "            obs.append(qml.PauliX(i) @ qml.PauliX(j))\n",
    "\n",
    "    for i in range(num_wires):\n",
    "        obs.append(qml.PauliZ(i))\n",
    "        coeffs.append(-1)\n",
    "\n",
    "    return  qml.Hamiltonian(coeffs, obs)"
   ],
   "metadata": {
    "collapsed": false,
    "pycharm": {
     "name": "#%%\n"
    }
   }
  },
  {
   "cell_type": "code",
   "execution_count": 16,
   "outputs": [],
   "source": [
    "def expectation_value(num_wires):\n",
    "    \"\"\"Simulates the circuit in question and returns the expectation value of the\n",
    "    Hamiltonian in question.\n",
    "\n",
    "    Args:\n",
    "        num_wires (int): The number of qubits.\n",
    "\n",
    "    Returns:\n",
    "        (float): The expectation value of the Hamiltonian.\n",
    "    \"\"\"\n",
    "    # Put your solution here #\n",
    "    h  = Hamiltonian(num_wires) # we can use also hamiltonian_forbidden(num_wires)\n",
    "    # Define a device using qml.device\n",
    "    dev = dev = qml.device(\"default.qubit\", wires=num_wires)\n",
    "    @qml.qnode(dev)\n",
    "    def circuit(num_wires):\n",
    "        \"\"\"A quantum circuit with Hadamard gates on every qubit and that measures\n",
    "        the expectation value of the Hamiltonian in question.\n",
    "        \"\"\"\n",
    "        # Put Hadamard gates here #\n",
    "        qml.broadcast(qml.Hadamard, wires=[i for i in range(num_wires)], pattern=\"single\")\n",
    "\n",
    "        # Then return the expectation value of the Hamiltonian using qml.expval\n",
    "        return qml.expval(h)\n",
    "    return circuit(num_wires)"
   ],
   "metadata": {
    "collapsed": false,
    "pycharm": {
     "name": "#%%\n"
    }
   }
  },
  {
   "cell_type": "code",
   "execution_count": 18,
   "outputs": [],
   "source": [
    "# These functions are responsible for testing the solution.\n",
    "def run(test_case_input: str) -> str:\n",
    "    num_wires = json.loads(test_case_input)\n",
    "    output = expectation_value(num_wires)\n",
    "\n",
    "    return str(output)\n",
    "\n",
    "def check(solution_output: str, expected_output: str) -> None:\n",
    "    solution_output = json.loads(solution_output)\n",
    "    expected_output = json.loads(expected_output)\n",
    "    assert np.allclose(solution_output, expected_output, rtol=1e-4)"
   ],
   "metadata": {
    "collapsed": false,
    "pycharm": {
     "name": "#%%\n"
    }
   }
  },
  {
   "cell_type": "code",
   "execution_count": 19,
   "outputs": [],
   "source": [
    "test_cases = [['8', '9.33333']]"
   ],
   "metadata": {
    "collapsed": false,
    "pycharm": {
     "name": "#%%\n"
    }
   }
  },
  {
   "cell_type": "code",
   "execution_count": 20,
   "outputs": [
    {
     "name": "stdout",
     "output_type": "stream",
     "text": [
      "Running test case 0 with input '8'...\n",
      "Correct!\n"
     ]
    }
   ],
   "source": [
    "for i, (input_, expected_output) in enumerate(test_cases):\n",
    "    print(f\"Running test case {i} with input '{input_}'...\")\n",
    "\n",
    "    try:\n",
    "        output = run(input_)\n",
    "\n",
    "    except Exception as exc:\n",
    "        print(f\"Runtime Error. {exc}\")\n",
    "\n",
    "    else:\n",
    "        if message := check(output, expected_output):\n",
    "            print(f\"Wrong Answer. Have: '{output}'. Want: '{expected_output}'.\")\n",
    "\n",
    "        else:\n",
    "            print(\"Correct!\")"
   ],
   "metadata": {
    "collapsed": false,
    "pycharm": {
     "name": "#%%\n"
    }
   }
  },
  {
   "cell_type": "code",
   "execution_count": null,
   "outputs": [],
   "source": [],
   "metadata": {
    "collapsed": false,
    "pycharm": {
     "name": "#%%\n"
    }
   }
  }
 ],
 "metadata": {
  "kernelspec": {
   "display_name": "Python 3",
   "language": "python",
   "name": "python3"
  },
  "language_info": {
   "codemirror_mode": {
    "name": "ipython",
    "version": 2
   },
   "file_extension": ".py",
   "mimetype": "text/x-python",
   "name": "python",
   "nbconvert_exporter": "python",
   "pygments_lexer": "ipython2",
   "version": "2.7.6"
  }
 },
 "nbformat": 4,
 "nbformat_minor": 0
}