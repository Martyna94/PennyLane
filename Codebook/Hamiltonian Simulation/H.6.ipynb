{
 "cells": [
  {
   "cell_type": "markdown",
   "metadata": {
    "collapsed": true,
    "pycharm": {
     "name": "#%% md\n"
    }
   },
   "source": [
    "**Learning outcomes**\n",
    "\n",
    "* Implement a linear combination of unitaries."
   ]
  },
  {
   "cell_type": "code",
   "execution_count": 67,
   "outputs": [],
   "source": [
    "import numpy as np\n",
    "import pennylane as qml"
   ],
   "metadata": {
    "collapsed": false,
    "pycharm": {
     "name": "#%%\n"
    }
   }
  },
  {
   "cell_type": "markdown",
   "source": [
    "Trotterization approximates time evolution by reexpressing the full Taylor series as a product of simpler Taylor series. Another way to approximate this evolution is to truncate the Taylor series at some term $K$:\n",
    "$$e^{-it\\hat{H}/\\hbar} \\approx 1 + (\\frac{it\\hat{H}}{\\hbar}) + ... + \\frac{1}{k!}(\\frac{it\\hat{H}}{\\hbar})^K$$\n",
    "If $K$ is large, this should be a good approsimation. if $\\hat{H}$ is a weighted sum of unitary operators (as in the case of spin, where terms are built of out Pauli operators, e.g., $\\alpha Z\\otimes Z$), then each term in the sum will be proportional to a unitary, since a product of unitary matrices is unitary. So the problem reduces to impelemnting a **linear combination of unitaries (LCU)**"
   ],
   "metadata": {
    "collapsed": false
   }
  },
  {
   "cell_type": "markdown",
   "source": [
    "As a warm-up, let's consider the problem of adding two unitaries, $U$ and $V$ and applying them to an arbitrary state:\n",
    "$$\\Ket{\\psi} \\rightarrow (U + V)\\Ket{\\psi}$$\n",
    "\n",
    "The sum $U+V$ won't be unitary in general, so there is no gate which applies it with certainty. However, we can *non-deterministically* apply it, in the sense that we can write down a circuit which applies it with some probability less than one. Here is the circuit:\n",
    "![circuit](./images/H.6.1.1.png)\n",
    "\n",
    "The top wire is an auxiliary qubit we measure as part of our circuit, while the bottom wire is the main register carrying the state we want to apply the combined operation to. If the outcome is $0$, then the outcome (up to normalization) is\n",
    "$$(U + V)\\Ket{\\psi}$$\n",
    "Let's code this up and check it works for a concrete example.\n"
   ],
   "metadata": {
    "collapsed": false
   }
  },
  {
   "cell_type": "markdown",
   "source": [
    "\n",
    "**Codercise H.6.1.**\n",
    "(a) Write a circuit for applying a sum of unitaries non-deterministically. Don't worry about initialization of the state just yet.\n",
    "\n",
    "Tip. Use [qml.ControlledQubitUnitary](https://docs.pennylane.ai/en/stable/code/api/pennylane.ControlledQubitUnitary.html) to apply these unitaries with control bits."
   ],
   "metadata": {
    "collapsed": false
   }
  },
  {
   "cell_type": "code",
   "execution_count": 68,
   "outputs": [],
   "source": [
    "aux = 0\n",
    "main = 1\n",
    "n_bits = 2\n",
    "dev = qml.device(\"default.qubit\", wires=n_bits)\n",
    "\n",
    "def add_two_unitaries(U, V):\n",
    "    \"\"\"A circuit to apply the sum of two unitaries non-deterministically.\n",
    "\n",
    "    Args:\n",
    "        U (array): A unitary matrix, stored as a complex array.\n",
    "        V (array): A unitary matrix, stored as a complex array.\n",
    "    \"\"\"\n",
    "    qml.Hadamard(wires=aux)\n",
    "\n",
    "    qml.ControlledQubitUnitary(U,control_wires=[0], wires=1, control_values=\"0\")\n",
    "    qml.ControlledQubitUnitary(V, control_wires=[0], wires=1, control_values=\"1\")\n",
    "\n",
    "    qml.Hadamard(wires=aux)"
   ],
   "metadata": {
    "collapsed": false,
    "pycharm": {
     "name": "#%%\n"
    }
   }
  },
  {
   "cell_type": "markdown",
   "source": [
    "(b) Complete the code below to apply the sum $X + Z$ to the state $\\Ket{0}$ (on the main register). You can invoke `add_two_unitaries(U, V)` from the last challenge, and access the matrix form of the Paulis using, e.g., `qml.PauliX.matrix`.\n"
   ],
   "metadata": {
    "collapsed": false
   }
  },
  {
   "cell_type": "code",
   "execution_count": 69,
   "outputs": [
    {
     "name": "stdout",
     "output_type": "stream",
     "text": [
      "The amplitudes on the main register are proportional to [0.5+0.j 0.5+0.j] .\n",
      "0: ──H─╭○─────╭●──────H─┤  State\n",
      "1: ────╰U(M0)─╰U(M1)────┤  State\n"
     ]
    }
   ],
   "source": [
    "@qml.qnode(dev)\n",
    "def X_plus_Z():\n",
    "    \"\"\"Apply X + Z to |0> and return the state.\"\"\"\n",
    "    U = qml.PauliX.compute_matrix()\n",
    "    V = qml.PauliZ.compute_matrix()\n",
    "    add_two_unitaries(U,V)\n",
    "    return qml.state()\n",
    "\n",
    "print(\"The amplitudes on the main register are proportional to\", X_plus_Z()[:2], \".\")\n",
    "print(qml.draw(X_plus_Z)())"
   ],
   "metadata": {
    "collapsed": false,
    "pycharm": {
     "name": "#%%\n"
    }
   }
  },
  {
   "cell_type": "markdown",
   "source": [
    "IT turns out that this circuit generalizes to a sum of unitaries\n",
    "$$\\widetilde{U} = U_0 + U_1 + ... + U_{K-1}$$\n",
    "provided the number of unitaries happens to be a binary power, $K = 2^k$. In that case, we can associate a binary control string to each component unitary $U_j$, which is just the expansion of $j$ in binary. Here is the circuit:\n",
    "![circuit](./images/H.6.2.1.png)\n",
    "The section in yhe middle is called the *multiplexer* or **SELECT subroutine**. The Hadamards acting on the auxiliary are called the **PREPARE subroutine**."
   ],
   "metadata": {
    "collapsed": false
   }
  },
  {
   "cell_type": "markdown",
   "source": [
    "**Codercise H.6.2.**\n",
    "(a) Finish the code below to implement the SELECT subcircuit."
   ],
   "metadata": {
    "collapsed": false
   }
  },
  {
   "cell_type": "code",
   "execution_count": 70,
   "outputs": [],
   "source": [
    "k_bits = 2\n",
    "n_bits = 2\n",
    "all_bits = k_bits + n_bits\n",
    "aux = range(k_bits)\n",
    "main = range(k_bits, all_bits)\n",
    "dev = qml.device(\"default.qubit\", wires=all_bits)\n",
    "\n",
    "def SELECT_uniform(U_list):\n",
    "    \"\"\"Implement the SELECT subroutine for 2^k unitaries.\n",
    "\n",
    "    Args:\n",
    "        U_list (list[array[complex]]): A list of unitary matrices, stored as\n",
    "        complex arrays.\n",
    "    \"\"\"\n",
    "    for index in range(2**k_bits):\n",
    "        ctrl_str =  np.binary_repr(index, k_bits) # Create binary representation\n",
    "        qml.ControlledQubitUnitary(U_list[index], control_wires=[ _ for _ in aux], wires=[_ for _ in main], control_values=ctrl_str)"
   ],
   "metadata": {
    "collapsed": false,
    "pycharm": {
     "name": "#%%\n"
    }
   }
  },
  {
   "cell_type": "markdown",
   "source": [
    "(b) Write a circuit to apply\n",
    "$$X \\otimes H + H \\otimes Z = X \\otimes X + Z \\otimes Z + X \\otimes Z + Z \\otimes X = U_0 + U_1 + U_2 + U_3$$\n",
    "to the state $\\Ket{01}$, state on the `main` register. You can access the auxiliary wires as `aux` and the `SELECT_uniform` function from the previous exercise is available. Note that\n",
    "$$U_0 + U_1 + U_2 + U_3  \\varpropto H \\otimes H$$"
   ],
   "metadata": {
    "collapsed": false
   }
  },
  {
   "cell_type": "code",
   "execution_count": 71,
   "outputs": [
    {
     "name": "stdout",
     "output_type": "stream",
     "text": [
      "The amplitudes on the main register are proportional to [ 0.25+0.j -0.25+0.j  0.25+0.j -0.25+0.j] .\n",
      "0: ──H─╭○─────╭○─────╭●─────╭●──────H─┤  State\n",
      "1: ──H─├○─────├●─────├○─────├●──────H─┤  State\n",
      "2: ────├U(M0)─├U(M1)─├U(M2)─├U(M3)────┤  State\n",
      "3: ──X─╰U(M0)─╰U(M1)─╰U(M2)─╰U(M3)────┤  State\n"
     ]
    }
   ],
   "source": [
    "@qml.qnode(dev)\n",
    "def XH_plus_HZ():\n",
    "    \"\"\"Apply XH + HZ to |01> and return the state.\"\"\"\n",
    "    U_list = [np.kron(qml.PauliX.compute_matrix(), qml.PauliX.compute_matrix()),\n",
    "              np.kron(qml.PauliZ.compute_matrix(), qml.PauliZ.compute_matrix()),\n",
    "              np.kron(qml.PauliX.compute_matrix(), qml.PauliZ.compute_matrix()),\n",
    "              np.kron(qml.PauliZ.compute_matrix(), qml.PauliX.compute_matrix())]\n",
    "    # state preparation |01>\n",
    "    qml.PauliX(wires= main[-1])\n",
    "\n",
    "    #PREPARE subroutine\n",
    "    qml.broadcast(qml.Hadamard, wires=[i for i in aux], pattern=\"single\")\n",
    "\n",
    "    #multiplexer\n",
    "    SELECT_uniform(U_list)\n",
    "\n",
    "    qml.broadcast(qml.Hadamard, wires=[i for i in aux], pattern=\"single\")\n",
    "    return qml.state()\n",
    "\n",
    "print(\"The amplitudes on the main register are proportional to\", XH_plus_HZ()[:4], \".\")\n",
    "\n",
    "print(qml.draw(XH_plus_HZ)())"
   ],
   "metadata": {
    "collapsed": false,
    "pycharm": {
     "name": "#%%\n"
    }
   }
  },
  {
   "cell_type": "markdown",
   "source": [
    "This state is proportional tp $\\Ket{+} \\otimes \\Ket{-}= (H \\otimes H)\\Ket{01}$"
   ],
   "metadata": {
    "collapsed": false,
    "pycharm": {
     "name": "#%% md\n"
    }
   }
  },
  {
   "cell_type": "markdown",
   "source": [
    "So far, we have only dealt with equally weighted unitaries. To perform an unequally weighted linea combination,\n",
    "$$\\tilde{U} = \\kappa U + V,$$\n",
    "we require the sightly more involved circuit:\n",
    "![circuit](./images/H.6.3.1.png)\n",
    "where we have replaced The Hadamard gate with a more complicated gate:\n",
    "$$V_{\\kappa} = \\frac{1}{\\sqrt{\\kappa +1}}\\begin{bmatrix}\n",
    "\\sqrt{\\kappa} & -1 \\\\\n",
    "1 & \\sqrt{\\kappa}\n",
    "\\end{bmatrix}$$\n",
    "\n",
    "Once again, we apply the weighted sum if we observe $0$ on the auxiliary qubit. It turns out that this two-unitary circuit is all you need to implement a general linear combination of unitaries, since you can iteratively nest this circuit to perform a weighted sum of multiple unitaries. We can finally revisit our original goal of approximating a Taylor series. The case for exponentiating a Hamiltonian which is itself a linear combination of unitaries is very similar, just more complicated, so we'll just focun on $e^{tU}$."
   ],
   "metadata": {
    "collapsed": false
   }
  },
  {
   "cell_type": "markdown",
   "source": [
    "**Codercise H.6.3.** (a) COnsider the matrix exponential of a unitary operator $U$:\n",
    "$$e^{tU} = I +tU+\\frac{1}{2}t^2U^2 + ...$$\n",
    "Code up the circuit to non-deterministically implement the first-order approximation of this Taylor series,\n",
    "$$I + tU = U_0 + tU_1$$\n",
    "this is fiven by the circuit:\n",
    "![circuit](./images/H.6.3.2.png)\n",
    "The auxiliary qubit is on wire `aux = 0` and the main qubit on `main=1`. Ass with `add_two_unitaries`, don't initialize the sate just yet."
   ],
   "metadata": {
    "collapsed": false
   }
  },
  {
   "cell_type": "code",
   "execution_count": 85,
   "outputs": [],
   "source": [
    "def V(t):\n",
    "    \"\"\"Matrix for the PREPARE subroutine.\"\"\"\n",
    "    return np.array([[np.sqrt(t)/np.sqrt(t+1), -1/np.sqrt(t+1)],\n",
    "                     [1/np.sqrt(t+1), np.sqrt(t)/np.sqrt(t+1)]])\n",
    "\n",
    "def exp_U_first(U, t):\n",
    "    \"\"\"Implement the first two terms in the Taylor series for exp(tU).\n",
    "\n",
    "    Args:\n",
    "        U (array): A unitary matrix, stored as a complex array.\n",
    "        t (float): A time to evolve by.\n",
    "    \"\"\"\n",
    "\n",
    "    qml.QubitUnitary(V(t), wires=0)\n",
    "\n",
    "    qml.ControlledQubitUnitary(U,control_wires=0, wires=1 ,control_values=\"0\")\n",
    "\n",
    "    qml.adjoint(qml.QubitUnitary)(V(t),wires=0)\n"
   ],
   "metadata": {
    "collapsed": false,
    "pycharm": {
     "name": "#%%\n"
    }
   }
  },
  {
   "cell_type": "markdown",
   "source": [
    "(b) Now implement the second-order approximation to $e^{tU}$:\n",
    "$$I+tU+\\frac{1}{2}t^2U^2 = U_0 + t(U^1 + \\frac{1}{2}tU^2)$$\n",
    "Now `aux = [0,1]` and `main =2`. the trick here is to create a circuit corresponding to the term inn brackets:\n",
    "![circuit](./images/H.6.3.3.png)\n",
    "In other words, we have a *controlled subcircuit* realizing this second term.\n",
    "Tip. You can create controlled subcircuits using [qml.ctrl](https://docs.pennylane.ai/en/stable/code/api/pennylane.ctrl.html). Make sure to properly specify the control values!"
   ],
   "metadata": {
    "collapsed": false
   }
  },
  {
   "cell_type": "code",
   "execution_count": 96,
   "outputs": [],
   "source": [
    "def exp_U_second(U, t):\n",
    "    \"\"\"Implement the second-order approximation of exp(tU).\n",
    "\n",
    "    Args:\n",
    "        U (array): A unitary matrix, stored as a complex array.\n",
    "        t (float): A time to evolve by.\n",
    "    \"\"\"\n",
    "    qml.QubitUnitary(V(t), wires=aux[0])\n",
    "\n",
    "    def subcircuit():\n",
    "        qml.QubitUnitary(V(t/2), wires=aux[1])\n",
    "        qml.ControlledQubitUnitary(np.matmul(U,U),control_wires=aux[1], wires=main ,control_values=\"0\")\n",
    "        qml.ControlledQubitUnitary(U,control_wires=aux[1], wires=main ,control_values=\"1\")\n",
    "        qml.adjoint(qml.QubitUnitary)(V(t/2),wires=aux[1])\n",
    "\n",
    "    # ADD CONTROLLED OPERATION HERE\n",
    "    qml.PauliX(wires=aux[0])\n",
    "    ctr = qml.ctrl(subcircuit,aux[0])\n",
    "    ctr()\n",
    "    qml.PauliX(wires=aux[0])\n",
    "    qml.adjoint(qml.QubitUnitary)(V(t),wires=aux[0])"
   ],
   "metadata": {
    "collapsed": false,
    "pycharm": {
     "name": "#%%\n"
    }
   }
  },
  {
   "cell_type": "markdown",
   "source": [
    "(c) Finally, write circuits which implement the evolution $e^{itX}$, starting in the $\\Ket{0}$ state, using the (i) the first-order approximation, (ii) the second-order approximation, and (iii) the full series via `qml.RX`. The functions `exp_U_first` and `exp_U_second` from the previous two exercises are available.\n",
    "Hitting the submit button will plot the normalized coefficient of  for the main register qubit. The first-order results are red, second-order blue and full series is green. Do the results make sense?"
   ],
   "metadata": {
    "collapsed": false
   }
  },
  {
   "cell_type": "code",
   "execution_count": 98,
   "outputs": [],
   "source": [
    "aux = [0, 1]\n",
    "main = 2\n",
    "all_bits = range(3)\n",
    "dev = qml.device(\"default.qubit\", wires=all_bits)\n",
    "\n",
    "# Part (i)\n",
    "\n",
    "@qml.qnode(dev)\n",
    "def first_approx(t):\n",
    "    exp_U_first(1j*qml.PauliX.compute_matrix(),t)\n",
    "    return qml.state()\n",
    "\n",
    "# Part (ii)\n",
    "\n",
    "@qml.qnode(dev)\n",
    "def second_approx(t):\n",
    "    exp_U_second(1j*qml.PauliX.compute_matrix(),t)\n",
    "    return qml.state()\n",
    "\n",
    "# Part (iii)\n",
    "\n",
    "@qml.qnode(dev)\n",
    "def full_series(t):\n",
    "    qml.RX(-2*t, wires=main)\n",
    "    return qml.state()\n",
    "\n",
    "##################\n",
    "# HIT SUBMIT FOR #\n",
    "# PLOTTING MAGIC #\n",
    "##################"
   ],
   "metadata": {
    "collapsed": false,
    "pycharm": {
     "name": "#%%\n"
    }
   }
  },
  {
   "cell_type": "markdown",
   "source": [
    "![plot](./images/H.6.3.4.png)"
   ],
   "metadata": {
    "collapsed": false
   }
  },
  {
   "cell_type": "code",
   "execution_count": null,
   "outputs": [],
   "source": [],
   "metadata": {
    "collapsed": false,
    "pycharm": {
     "name": "#%%\n"
    }
   }
  }
 ],
 "metadata": {
  "kernelspec": {
   "display_name": "Python 3",
   "language": "python",
   "name": "python3"
  },
  "language_info": {
   "codemirror_mode": {
    "name": "ipython",
    "version": 2
   },
   "file_extension": ".py",
   "mimetype": "text/x-python",
   "name": "python",
   "nbconvert_exporter": "python",
   "pygments_lexer": "ipython2",
   "version": "2.7.6"
  }
 },
 "nbformat": 4,
 "nbformat_minor": 0
}