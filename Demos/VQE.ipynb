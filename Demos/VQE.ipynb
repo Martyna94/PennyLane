{
 "cells": [
  {
   "cell_type": "markdown",
   "source": [
    "Based on [Variational Quantum Eigensolver (VQE) | PennyLane Tutorial](https://www.youtube.com/watch?v=4Xnxa6tzPeA)\n",
    "[Molecure geometry optimization](https://pennylane.ai/qml/demos/tutorial_mol_geo_opt/)\n",
    "[A brief overview of VQE](https://pennylane.ai/qml/demos/tutorial_vqe/)\n",
    "Useful resources:\n",
    "\n",
    "[Variantional Qunatum EigenSolver](https://github.com/qiskit-community/qgss-2023/blob/main/Lecture%20Notes/Lecture%208.2%20-%20Variational%20Quantum%20Eigensolver.pdf)\n",
    "![VQE](./images/VQE_2.png)"
   ],
   "metadata": {
    "collapsed": false
   }
  },
  {
   "cell_type": "markdown",
   "source": [
    "VQE goal\n",
    "------------------\n",
    "The goal of the variational algorithm is to find the global minimum of\n",
    "the cost function $g(\\theta, x) = \\langle \\Psi(\\theta) \\vert H(x) \\vert \\Psi(\\theta) \\rangle$ with respect to the circuit parameters $\\theta$ and the nuclear\n",
    "coordinates $x$ entering the electronic Hamiltonian of the molecule.\n",
    "\n",
    "In this tutorial we demonstrate how to use PennyLane to implement\n",
    "quantum optimization of molecular geometries. The algorithm consists of\n",
    "the following steps:\n",
    "\n",
    "1.  Build the parametrized electronic Hamiltonian $H(x)$ of the\n",
    "    molecule.\n",
    "\n",
    "2.  Design the variational quantum circuit to prepare the electronic\n",
    "    trial state of the molecule, $\\vert \\Psi(\\theta) \\rangle$.\n",
    "\n",
    "3.  Define the cost function\n",
    "    $g(\\theta, x) = \\langle \\Psi(\\theta) \\vert H(x) \\vert\n",
    "    \\Psi(\\theta) \\rangle$.\n",
    "\n",
    "4.  Initialize the variational parameters $\\theta$ and $x$. Perform a\n",
    "    joint optimization of the circuit and Hamiltonian parameters to\n",
    "    minimize the cost function $g(\\theta, x)$. The gradient with respect\n",
    "    to the circuit parameters can be obtained using a variety of\n",
    "    established methods, which are natively supported in PennyLane. The\n",
    "    gradients with respect to the nuclear coordinates can be computed\n",
    "    using the formula\n",
    "\n",
    "    $$\\nabla_x g(\\theta, x) = \\langle \\Psi(\\theta) \\vert \\nabla_x H(x) \\vert \\Psi(\\theta) \\rangle.$$\n",
    "\n",
    "Once the optimization is finalized, the circuit parameters determine the\n",
    "energy of the electronic state, and the nuclear coordinates determine\n",
    "the equilibrium geometry of the molecule in this state.\n",
    "\n",
    "Let\\'s get started! ⚛️"
   ],
   "metadata": {
    "collapsed": false
   }
  },
  {
   "cell_type": "code",
   "execution_count": 22,
   "outputs": [],
   "source": [
    "from pennylane import numpy as np\n",
    "import pennylane as qml\n",
    "\n",
    "symbols = [\"H\", \"H\", \"H\"]\n",
    "x = np.array([0.028, 0.054, 0.0, 0.986, 1.610, 0.0, 1.855, 0.002, 0.0], requires_grad=True)\n",
    "def H(x):\n",
    "    return qml.qchem.molecular_hamiltonian(symbols, x, charge=1)[0]"
   ],
   "metadata": {
    "collapsed": false,
    "pycharm": {
     "name": "#%%\n"
    }
   }
  },
  {
   "cell_type": "code",
   "execution_count": 23,
   "outputs": [
    {
     "name": "stdout",
     "output_type": "stream",
     "text": [
      "[1 1 0 0 0 0]\n"
     ]
    }
   ],
   "source": [
    "hf = qml.qchem.hf_state(electrons=2, orbitals=6)\n",
    "print(hf)"
   ],
   "metadata": {
    "collapsed": false,
    "pycharm": {
     "name": "#%%\n"
    }
   }
  },
  {
   "cell_type": "code",
   "execution_count": 24,
   "outputs": [],
   "source": [
    "num_wires = 6\n",
    "dev = qml.device(\"lightning.qubit\", wires=num_wires)\n",
    "\n",
    "\n",
    "@qml.qnode(dev, interface=\"autograd\")\n",
    "def circuit(params, obs, wires):\n",
    "    qml.BasisState(hf, wires=wires)\n",
    "    qml.DoubleExcitation(params[0], wires=[0, 1, 2, 3])\n",
    "    qml.DoubleExcitation(params[1], wires=[0, 1, 4, 5])\n",
    "\n",
    "    return qml.expval(obs)"
   ],
   "metadata": {
    "collapsed": false,
    "pycharm": {
     "name": "#%%\n"
    }
   }
  },
  {
   "cell_type": "markdown",
   "source": [
    "This circuit prepares the trial state\n",
    "$$\\vert\\Psi(\\theta_1, \\theta_2)\\rangle =\n",
    "\\mathrm{cos}(\\theta_1)\\mathrm{cos}(\\theta_2)\\vert110000\\rangle -\n",
    "\\mathrm{cos}(\\theta_1)\\mathrm{sin}(\\theta_2)\\vert000011\\rangle -\n",
    "\\mathrm{sin}(\\theta_1)\\vert001100\\rangle,$$"
   ],
   "metadata": {
    "collapsed": false
   }
  },
  {
   "cell_type": "markdown",
   "source": [
    "The cost function and the nuclear gradients\n",
    "===========================================\n",
    "\n",
    "The third step of the algorithm is to define the cost function\n",
    "$g(\\theta, x) = \\langle \\Psi(\\theta) \\vert H(x) \\vert\\Psi(\\theta) \\rangle$.\n",
    "It evaluates the expectation value of the parametrized Hamiltonian\n",
    "$H(x)$ in the trial state $\\vert\\Psi(\\theta)\\rangle$."
   ],
   "metadata": {
    "collapsed": false
   }
  },
  {
   "cell_type": "markdown",
   "source": [
    "Next, we define the `cost` function $g(\\theta, x)$ which depends on both the circuit and the Hamiltonian parameters. Specifically we consider the expectation values of the Hamiltonian."
   ],
   "metadata": {
    "collapsed": false
   }
  },
  {
   "cell_type": "code",
   "execution_count": 25,
   "outputs": [],
   "source": [
    "def cost(params,x):\n",
    "    hamiltonian = H(x)\n",
    "    return circuit(params,obs=hamiltonian,wires=range(num_wires))"
   ],
   "metadata": {
    "collapsed": false,
    "pycharm": {
     "name": "#%%\n"
    }
   }
  },
  {
   "cell_type": "markdown",
   "source": [
    "We use the `finite_diff()` function tocompute the gradient of the Hamiltonian using a central-difference approximation. Then, we evaluate the expectation value of the gradient components $\\frac{\\partial H(x)}{\\partial x_i}$. This is implemented by the function `grad_x`:"
   ],
   "metadata": {
    "collapsed": false
   }
  },
  {
   "cell_type": "code",
   "execution_count": 26,
   "outputs": [],
   "source": [
    "def finite_diff(f, x, delta=0.01):\n",
    "    \"\"\"Compute the central-difference finite difference of a function\"\"\"\n",
    "    gradient = []\n",
    "\n",
    "    for i in range(len(x)):\n",
    "        shift = np.zeros_like(x)\n",
    "        shift[i] += 0.5 * delta\n",
    "        res = (f(x + shift) - f(x - shift)) * delta**-1\n",
    "        gradient.append(res)\n",
    "\n",
    "    return gradient\n",
    "\n",
    "\n",
    "def grad_x(params, x):\n",
    "    grad_h = finite_diff(H, x)\n",
    "    grad = [circuit(params, obs=obs, wires=range(num_wires)) for obs in grad_h]\n",
    "    return np.array(grad)"
   ],
   "metadata": {
    "collapsed": false,
    "pycharm": {
     "name": "#%%\n"
    }
   }
  },
  {
   "cell_type": "markdown",
   "source": [
    "Optimization of the molecular geometry\n",
    "======================================\n",
    "\n",
    "Finally, we proceed to minimize our cost function to find the ground\n",
    "state equilibrium geometry of the $\\mathrm{H}_3^+$ molecule. As a\n",
    "reminder, the circuit parameters and the nuclear coordinates will be\n",
    "jointly optimized at each optimization step. This approach does not\n",
    "require nested VQE optimization of the circuit parameters for each set\n",
    "of nuclear coordinates.\n",
    "\n",
    "We start by defining the classical optimizers:"
   ],
   "metadata": {
    "collapsed": false
   }
  },
  {
   "cell_type": "code",
   "execution_count": 28,
   "outputs": [],
   "source": [
    "opt_theta = qml.GradientDescentOptimizer(stepsize=0.4)\n",
    "opt_x = qml.GradientDescentOptimizer(stepsize=0.8)"
   ],
   "metadata": {
    "collapsed": false,
    "pycharm": {
     "name": "#%%\n"
    }
   }
  },
  {
   "cell_type": "code",
   "execution_count": 29,
   "outputs": [],
   "source": [
    "theta = np.array([0.0, 0.0], requires_grad=True)"
   ],
   "metadata": {
    "collapsed": false,
    "pycharm": {
     "name": "#%%\n"
    }
   }
  },
  {
   "cell_type": "code",
   "execution_count": 30,
   "outputs": [
    {
     "name": "stdout",
     "output_type": "stream",
     "text": [
      "Step = 0,  E = -1.26094338 Ha,  bond length = 0.96762 A\n",
      "Step = 4,  E = -1.27360653 Ha,  bond length = 0.97619 A\n",
      "Step = 8,  E = -1.27437809 Ha,  bond length = 0.98223 A\n",
      "Step = 12,  E = -1.27443305 Ha,  bond length = 0.98457 A\n",
      "Step = 16,  E = -1.27443729 Ha,  bond length = 0.98533 A\n",
      "Step = 20,  E = -1.27443763 Ha,  bond length = 0.98556 A\n",
      "Step = 24,  E = -1.27443766 Ha,  bond length = 0.98563 A\n",
      "\n",
      "Final value of the ground-state energy = -1.27443766 Ha\n",
      "\n",
      "Ground-state equilibrium geometry\n",
      "symbol    x        y        z\n",
      "  H    0.0102   0.0442   0.0000\n",
      "  H    0.9867   1.6303   0.0000\n",
      "  H    1.8720   -0.0085   0.0000\n"
     ]
    }
   ],
   "source": [
    "from functools import partial\n",
    "\n",
    "# store the values of the cost function\n",
    "energy = []\n",
    "\n",
    "# store the values of the bond length\n",
    "bond_length = []\n",
    "\n",
    "# Factor to convert from Bohrs to Angstroms\n",
    "bohr_angs = 0.529177210903\n",
    "\n",
    "for n in range(100):\n",
    "\n",
    "    # Optimize the circuit parameters\n",
    "    theta.requires_grad = True\n",
    "    x.requires_grad = False\n",
    "    theta, _ = opt_theta.step(cost, theta, x)\n",
    "\n",
    "    # Optimize the nuclear coordinates\n",
    "    x.requires_grad = True\n",
    "    theta.requires_grad = False\n",
    "    _, x = opt_x.step(cost, theta, x, grad_fn=grad_x)\n",
    "\n",
    "    energy.append(cost(theta, x))\n",
    "    bond_length.append(np.linalg.norm(x[0:3] - x[3:6]) * bohr_angs)\n",
    "\n",
    "    if n % 4 == 0:\n",
    "        print(f\"Step = {n},  E = {energy[-1]:.8f} Ha,  bond length = {bond_length[-1]:.5f} A\")\n",
    "\n",
    "    # Check maximum component of the nuclear gradient\n",
    "    if np.max(grad_x(theta, x)) <= 1e-05:\n",
    "        break\n",
    "\n",
    "print(\"\\n\" f\"Final value of the ground-state energy = {energy[-1]:.8f} Ha\")\n",
    "print(\"\\n\" \"Ground-state equilibrium geometry\")\n",
    "print(\"%s %4s %8s %8s\" % (\"symbol\", \"x\", \"y\", \"z\"))\n",
    "for i, atom in enumerate(symbols):\n",
    "    print(f\"  {atom}    {x[3 * i]:.4f}   {x[3 * i + 1]:.4f}   {x[3 * i + 2]:.4f}\")"
   ],
   "metadata": {
    "collapsed": false,
    "pycharm": {
     "name": "#%%\n"
    }
   }
  },
  {
   "cell_type": "markdown",
   "source": [],
   "metadata": {
    "collapsed": false
   }
  },
  {
   "cell_type": "markdown",
   "source": [
    "\n",
    "![chart](./images/VQE_1.png)\n",
    "\n",
    "![chart](./images/VQE_5.png)"
   ],
   "metadata": {
    "collapsed": false
   }
  },
  {
   "cell_type": "markdown",
   "source": [
    "We're going to use VQE to find ground state of this three molecular.\n",
    "We'll do this by three steps:\n",
    "1. Find molecular Hamiltonian\n",
    "2. Prepare trial ground state\n",
    "3. Minimize $\\langle \\hat{H} \\rangle$"
   ],
   "metadata": {
    "collapsed": false
   }
  },
  {
   "cell_type": "markdown",
   "source": [
    "# 1. Finding molecular Hamiltonian\n"
   ],
   "metadata": {
    "collapsed": false
   }
  },
  {
   "cell_type": "code",
   "execution_count": 1,
   "metadata": {
    "collapsed": true
   },
   "outputs": [],
   "source": [
    "import pennylane as qml\n",
    "from pennylane import numpy as np\n",
    "from pennylane import qchem"
   ]
  },
  {
   "cell_type": "code",
   "execution_count": 2,
   "outputs": [],
   "source": [
    "symbols = [\"H\",\"H\",\"H\"]\n",
    "coordinates = np.array([[0.028, 0.054, 0.0], [0.986, 1.610, 0.0],[ 1.855, 0.002, 0.0]]) # where are located\n",
    "hamiltonian, qubits = qchem.molecular_hamiltonian(symbols,coordinates,charge=1)"
   ],
   "metadata": {
    "collapsed": false,
    "pycharm": {
     "name": "#%%\n"
    }
   }
  },
  {
   "cell_type": "code",
   "execution_count": 3,
   "outputs": [
    {
     "name": "stdout",
     "output_type": "stream",
     "text": [
      "6\n"
     ]
    }
   ],
   "source": [
    "print(qubits)"
   ],
   "metadata": {
    "collapsed": false,
    "pycharm": {
     "name": "#%%\n"
    }
   }
  },
  {
   "cell_type": "code",
   "execution_count": 4,
   "outputs": [
    {
     "name": "stdout",
     "output_type": "stream",
     "text": [
      "[1 1 0 0 0 0]\n"
     ]
    }
   ],
   "source": [
    "hf = qchem.hf_state(electrons=2,orbitals=6)#Hartree -Fock State\n",
    "print(hf)"
   ],
   "metadata": {
    "collapsed": false,
    "pycharm": {
     "name": "#%%\n"
    }
   }
  },
  {
   "cell_type": "code",
   "execution_count": 5,
   "outputs": [],
   "source": [
    "num_wires = qubits\n",
    "dev = qml.device(\"default.qubit\",wires = num_wires)"
   ],
   "metadata": {
    "collapsed": false,
    "pycharm": {
     "name": "#%%\n"
    }
   }
  },
  {
   "cell_type": "code",
   "execution_count": 6,
   "outputs": [],
   "source": [
    "@qml.qnode(dev)\n",
    "def exp_energy(state):\n",
    "    qml.BasisState(np.array(state),wires=range(num_wires))\n",
    "    return qml.expval(hamiltonian)"
   ],
   "metadata": {
    "collapsed": false,
    "pycharm": {
     "name": "#%%\n"
    }
   }
  },
  {
   "cell_type": "code",
   "execution_count": 7,
   "outputs": [
    {
     "data": {
      "text/plain": "tensor(-1.24685995, requires_grad=True)"
     },
     "execution_count": 7,
     "metadata": {},
     "output_type": "execute_result"
    }
   ],
   "source": [
    "exp_energy(hf)"
   ],
   "metadata": {
    "collapsed": false,
    "pycharm": {
     "name": "#%%\n"
    }
   }
  },
  {
   "cell_type": "markdown",
   "source": [
    "## 2. Prepare trial ground state\n",
    "Double excitation gate -\n",
    "Ansatz\n",
    "![chart](./images/VQE_6.png)"
   ],
   "metadata": {
    "collapsed": false
   }
  },
  {
   "cell_type": "code",
   "execution_count": 8,
   "outputs": [],
   "source": [
    "def ansatz(params):\n",
    "    qml.BasisState(hf, wires=range(num_wires))\n",
    "    qml.DoubleExcitation(params[0],wires = [0,1,2,3])\n",
    "    qml.DoubleExcitation(params[1], wires=[0,1,4,5])"
   ],
   "metadata": {
    "collapsed": false,
    "pycharm": {
     "name": "#%%\n"
    }
   }
  },
  {
   "cell_type": "markdown",
   "source": [
    "## 3. Minimizing the expectation value of the Hamiltonian\n",
    "Ritz variational principle\n"
   ],
   "metadata": {
    "collapsed": false
   }
  },
  {
   "cell_type": "code",
   "execution_count": 9,
   "outputs": [],
   "source": [
    "@qml.qnode(dev)\n",
    "def cost_function(params):\n",
    "    ansatz(params)\n",
    "    return qml.expval(hamiltonian)"
   ],
   "metadata": {
    "collapsed": false,
    "pycharm": {
     "name": "#%%\n"
    }
   }
  },
  {
   "cell_type": "code",
   "execution_count": 10,
   "outputs": [
    {
     "data": {
      "text/plain": "tensor(-1.26810417, requires_grad=True)"
     },
     "execution_count": 10,
     "metadata": {},
     "output_type": "execute_result"
    }
   ],
   "source": [
    "cost_function([0.1,0.1])"
   ],
   "metadata": {
    "collapsed": false,
    "pycharm": {
     "name": "#%%\n"
    }
   }
  },
  {
   "cell_type": "code",
   "execution_count": 14,
   "outputs": [
    {
     "name": "stdout",
     "output_type": "stream",
     "text": [
      "Step = 0, Energy = -1.26094188 Ha\n",
      "Step = 2, Energy = -1.27110529 Ha\n",
      "Step = 4, Energy = -1.27345238 Ha\n",
      "Step = 6, Energy = -1.27399097 Ha\n",
      "Step = 8, Energy = -1.27411455 Ha\n",
      "Step = 10, Energy = -1.27414292 Ha\n",
      "Step = 12, Energy = -1.27414944 Ha\n",
      "Step = 14, Energy = -1.27415094 Ha\n",
      "Step = 16, Energy = -1.27415128 Ha\n",
      "Step = 18, Energy = -1.27415136 Ha\n"
     ]
    }
   ],
   "source": [
    "opt = qml.GradientDescentOptimizer(stepsize=0.4)\n",
    "theta = np.array([0.0,0.0], requires_grad = True)\n",
    "\n",
    "energy = [cost_function(theta)]\n",
    "angle = [theta]\n",
    "max_iterations = 20\n",
    "\n",
    "for n in range(max_iterations):\n",
    "    theta,prev_energy = opt.step_and_cost(cost_function,theta)\n",
    "\n",
    "    energy.append(cost_function(theta))\n",
    "    angle.append(theta)\n",
    "\n",
    "    if n%2 == 0:\n",
    "        print(f\"Step = {n}, Energy = {energy[-1]:.8f} Ha\")"
   ],
   "metadata": {
    "collapsed": false,
    "pycharm": {
     "name": "#%%\n"
    }
   }
  },
  {
   "cell_type": "code",
   "execution_count": 15,
   "outputs": [
    {
     "name": "stdout",
     "output_type": "stream",
     "text": [
      "\n",
      "Final ground energy: -1.27415138Ha\n",
      "\n",
      "Final angle parameters: 0.18814175 0.18891605\n"
     ]
    }
   ],
   "source": [
    "print(\"\\n\" f\"Final ground energy: {energy[-1]: .8f}Ha\")\n",
    "print(\"\\n\" f\"Final angle parameters: {theta[0]:.8f} {theta[1]:.8f}\")"
   ],
   "metadata": {
    "collapsed": false,
    "pycharm": {
     "name": "#%%\n"
    }
   }
  },
  {
   "cell_type": "code",
   "execution_count": 16,
   "outputs": [],
   "source": [
    "@qml.qnode(dev)\n",
    "def ground_state(params):\n",
    "    ansatz(params)\n",
    "    return qml.state()"
   ],
   "metadata": {
    "collapsed": false,
    "pycharm": {
     "name": "#%%\n"
    }
   }
  },
  {
   "cell_type": "code",
   "execution_count": 18,
   "outputs": [
    {
     "data": {
      "text/plain": "pennylane.numpy.tensor.tensor"
     },
     "execution_count": 18,
     "metadata": {},
     "output_type": "execute_result"
    }
   ],
   "source": [
    "type(ground_state(theta))"
   ],
   "metadata": {
    "collapsed": false,
    "pycharm": {
     "name": "#%%\n"
    }
   }
  },
  {
   "cell_type": "code",
   "execution_count": null,
   "outputs": [],
   "source": [],
   "metadata": {
    "collapsed": false,
    "pycharm": {
     "name": "#%%\n"
    }
   }
  }
 ],
 "metadata": {
  "kernelspec": {
   "display_name": "Python 3",
   "language": "python",
   "name": "python3"
  },
  "language_info": {
   "codemirror_mode": {
    "name": "ipython",
    "version": 2
   },
   "file_extension": ".py",
   "mimetype": "text/x-python",
   "name": "python",
   "nbconvert_exporter": "python",
   "pygments_lexer": "ipython2",
   "version": "2.7.6"
  }
 },
 "nbformat": 4,
 "nbformat_minor": 0
}