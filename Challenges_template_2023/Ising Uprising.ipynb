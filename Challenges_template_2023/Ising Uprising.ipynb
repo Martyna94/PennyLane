{
 "cells": [
  {
   "cell_type": "code",
   "execution_count": 1,
   "outputs": [],
   "source": [
    "import pennylane as qml\n",
    "import pennylane.numpy as np"
   ],
   "metadata": {
    "collapsed": false,
    "pycharm": {
     "name": "#%%\n"
    }
   }
  },
  {
   "cell_type": "markdown",
   "source": [
    "$H = - \\sum^{N}_{i=1}Z_i \\otimes Z_{i+1} - h\\sum^{N}_{i}X_i$"
   ],
   "metadata": {
    "collapsed": false,
    "pycharm": {
     "name": "#%% md\n"
    }
   }
  },
  {
   "cell_type": "code",
   "execution_count": 10,
   "outputs": [],
   "source": [
    "num_qubits = 4\n",
    "def create_Hamiltonian(h):\n",
    "    coeffs1 =  num_qubits*[-1]\n",
    "    obs1 = [qml.PauliZ(wire)@ qml.PauliZ((wire+1)% num_qubits) for wire in range(num_qubits)]\n",
    "\n",
    "    coeffs2 = num_qubits*[-h]\n",
    "    obs2 = [qml.PauliX(wire) for wire in range(num_qubits)]\n",
    "\n",
    "    coeffs = coeffs1 + coeffs2\n",
    "    obs = obs1 + obs2\n",
    "\n",
    "    return qml.Hamiltonian(coeffs,obs)"
   ],
   "metadata": {
    "collapsed": false,
    "pycharm": {
     "name": "#%%\n"
    }
   }
  },
  {
   "cell_type": "code",
   "execution_count": 4,
   "outputs": [],
   "source": [
    "dev = qml.device(\"default.qubit\",wires=num_qubits)\n",
    "\n",
    "@qml.qnode(dev)\n",
    "def model(params, H):\n",
    "    qml.BasicEntanglerLayers(weights=params[0],wires=range(4),rotation=qml.RX)\n",
    "    qml.BasicEntanglerLayers(weights=params[1],wires=range(4),rotation=qml.RY)\n",
    "    qml.BasicEntanglerLayers(weights=params[2],wires=range(4),rotation=qml.RZ)\n",
    "\n",
    "    return  qml.expval(H)"
   ],
   "metadata": {
    "collapsed": false,
    "pycharm": {
     "name": "#%%\n"
    }
   }
  },
  {
   "cell_type": "code",
   "execution_count": 8,
   "outputs": [],
   "source": [
    "def train(h):\n",
    "    opt = qml.GradientDescentOptimizer(stepsize=0.1)\n",
    "    max_iterations = 1000\n",
    "    conv_tol = 1e-4\n",
    "\n",
    "    Hamiltonian = create_Hamiltonian(h)\n",
    "    params = np.random.rand(3,3,4, requires_grad=True)\n",
    "\n",
    "    for n in range(max_iterations):\n",
    "        params, prev_cost = opt.step_and_cost(model,params,H = Hamiltonian)\n",
    "        new_cost = model(params, Hamiltonian)\n",
    "\n",
    "        if n % 20 == 0:\n",
    "            print(f\"Step = {n}, Cost function = {new_cost: 0f}\")\n",
    "        if np.abs(new_cost - prev_cost) <= conv_tol:\n",
    "            break\n",
    "    return params"
   ],
   "metadata": {
    "collapsed": false,
    "pycharm": {
     "name": "#%%\n"
    }
   }
  },
  {
   "cell_type": "code",
   "execution_count": 11,
   "outputs": [
    {
     "name": "stdout",
     "output_type": "stream",
     "text": [
      "Step = 0, Cost function = -1.347378\n",
      "Step = 20, Cost function = -4.001592\n",
      "Step = 40, Cost function = -4.655360\n",
      "Step = 60, Cost function = -4.870438\n",
      "Step = 80, Cost function = -4.910694\n",
      "Step = 100, Cost function = -4.940990\n",
      "Step = 120, Cost function = -4.973631\n",
      "Step = 140, Cost function = -5.013870\n",
      "Step = 160, Cost function = -5.066217\n",
      "Step = 180, Cost function = -5.125195\n",
      "Step = 200, Cost function = -5.172557\n",
      "Step = 220, Cost function = -5.200302\n",
      "Step = 240, Cost function = -5.213252\n",
      "Step = 260, Cost function = -5.218681\n"
     ]
    }
   ],
   "source": [
    "inp = 1.0\n",
    "\n",
    "param = train(inp)"
   ],
   "metadata": {
    "collapsed": false,
    "pycharm": {
     "name": "#%%\n"
    }
   }
  },
  {
   "cell_type": "markdown",
   "metadata": {
    "collapsed": true,
    "pycharm": {
     "name": "#%% md\n"
    }
   },
   "source": [
    "## Ising Uprising\n",
    "\n",
    "**Backstory**\n",
    "Zenda and Reece model Sqynet as a spin chain, and they come up with a strategy. What if, in addition to using plasma bombs and missiles to increase the temperature of the device, they use a strong magnetic field? After all, magnetic fields might pass through Sqynet's outer shell more easily. The scientists proceed to simulate the effect of a magnetic field on a closed spin chain to quantify the effects.\n",
    "\n",
    "**Ground state of an Ising spin chain**\n",
    "A simple way to model Sqynet is by considering it as a closed spin chain of length $N$. A spin chain contains particles of spin $1/2$ in each of its $N$ sites. The spins may be pointing in the positive or negative $z$ direction, and we consider that there may be an external magnetic field acting on the system.\n",
    "![system](./images/Ising%20Uprising_1.png)\n",
    "Such a quantum system is described by the Transverse Ising Hamiltonian. For closed spin chain with a transverse magnetic field of intensity , the Transverse Ising Hamiltonian reads\n",
    "$$H = - \\sum_{i=1}^{N}(Z_i\\otimes Z_{i+1} - h\\sum_{i=1}^{N}X_i.$$\n",
    "The subindices $i$ indicate the spin site where the operators act. In a closed spin chain, we identify site $N+1$ with the first site.\n",
    "\n",
    "A possible plan for Zenda and Reece is to use a strong magnetic field that changes the ground energy of Sqynet, causing it to malfunction.\n",
    "Your task is to help Zenda and Reece calculate the effect of external magnetic forces on the ground energy. Using the Variational Quantum Eigensolver (VQE) algorithm, you will compute the ground energy of a closed spin chain of length $N=4$"
   ]
  },
  {
   "cell_type": "markdown",
   "source": [
    "**Challenge code**\n",
    "\n",
    "In this challenge you will be given the following functions:\n",
    "\n",
    "* create_Hamiltonian: In which you build the Transverse Ising Hamiltonian for $N=4$ and a magnetic field intensity h. You must complete this function.\n",
    "* model: This QNode builds a general enough ansatz for the ground state. This circuit must depend on some parameters params, which you will later optimize. It returns the expectation value of the Hamiltonian for the output state of the circuit. You must complete this function.\n",
    "* train: This function returns the parameters that minimize the output of model. You must complete this function.\n",
    "\n",
    "**Input**\n",
    "As input to this problem, you are given:\n",
    "\n",
    "* h (float): Magnetic field intensity applied to the spin chain.\n",
    "\n",
    "**Output**\n",
    "This code will output a float corresponding to the energy of the ground state.\n"
   ],
   "metadata": {
    "collapsed": false
   }
  },
  {
   "cell_type": "code",
   "execution_count": 13,
   "outputs": [
    {
     "name": "stdout",
     "output_type": "stream",
     "text": [
      "Running test case 0 with input '1.0'...\n",
      "Correct!\n",
      "Running test case 1 with input '2.3'...\n",
      "Correct!\n"
     ]
    }
   ],
   "source": [
    "import json\n",
    "import pennylane as qml\n",
    "import pennylane.numpy as np\n",
    "\n",
    "def create_Hamiltonian(h):\n",
    "    \"\"\"\n",
    "    Function in charge of generating the Hamiltonian of the statement.\n",
    "\n",
    "    Args:\n",
    "        h (float): magnetic field strength\n",
    "\n",
    "    Returns:\n",
    "        (qml.Hamiltonian): Hamiltonian of the statement associated to h\n",
    "    \"\"\"\n",
    "    coeffs1 =  num_qubits*[-1]\n",
    "    obs1 = [qml.PauliZ(wire)@ qml.PauliZ((wire+1)% num_qubits) for wire in range(num_qubits)]\n",
    "\n",
    "    coeffs2 = num_qubits*[-h]\n",
    "    obs2 = [qml.PauliX(wire) for wire in range(num_qubits)]\n",
    "\n",
    "    coeffs = coeffs1 + coeffs2\n",
    "    obs = obs1 + obs2\n",
    "\n",
    "    return qml.Hamiltonian(coeffs,obs)\n",
    "\n",
    "\n",
    "dev = qml.device(\"default.qubit\", wires=4)\n",
    "\n",
    "@qml.qnode(dev)\n",
    "def model(params, H):\n",
    "    \"\"\"\n",
    "    To implement VQE you need an ansatz for the candidate ground state!\n",
    "    Define here the VQE ansatz in terms of some parameters (params) that\n",
    "    create the candidate ground state. These parameters will\n",
    "    be optimized later.\n",
    "\n",
    "    Args:\n",
    "        params (numpy.array): parameters to be used in the variational circuit\n",
    "        H (qml.Hamiltonian): Hamiltonian used to calculate the expected value\n",
    "\n",
    "    Returns:\n",
    "        (float): Expected value with respect to the Hamiltonian H\n",
    "    \"\"\"\n",
    "    qml.BasicEntanglerLayers(weights=params[0],wires=range(4),rotation=qml.RX)\n",
    "    qml.BasicEntanglerLayers(weights=params[1],wires=range(4),rotation=qml.RY)\n",
    "    qml.BasicEntanglerLayers(weights=params[2],wires=range(4),rotation=qml.RZ)\n",
    "\n",
    "    return  qml.expval(H)\n",
    "\n",
    "\n",
    "def train(h):\n",
    "    \"\"\"\n",
    "    In this function you must design a subroutine that returns the\n",
    "    parameters that best approximate the ground state.\n",
    "\n",
    "    Args:\n",
    "        h (float): magnetic field strength\n",
    "\n",
    "    Returns:\n",
    "        (numpy.array): parameters that best approximate the ground state.\n",
    "    \"\"\"\n",
    "    opt = qml.GradientDescentOptimizer(stepsize=0.1)\n",
    "    max_iterations = 1000\n",
    "    conv_tol = 1e-4\n",
    "\n",
    "    Hamiltonian = create_Hamiltonian(h)\n",
    "    params = np.random.rand(3,3,4, requires_grad=True)\n",
    "\n",
    "    for n in range(max_iterations):\n",
    "        params, prev_cost = opt.step_and_cost(model,params,H = Hamiltonian)\n",
    "        new_cost = model(params, Hamiltonian)\n",
    "\n",
    "        if np.abs(new_cost - prev_cost) <= conv_tol:\n",
    "            break\n",
    "    return params\n",
    "\n",
    "\n",
    "# These functions are responsible for testing the solution.\n",
    "def run(test_case_input: str) -> str:\n",
    "    ins = json.loads(test_case_input)\n",
    "    params = train(ins)\n",
    "    return str(model(params, create_Hamiltonian(ins)))\n",
    "\n",
    "\n",
    "def check(solution_output: str, expected_output: str) -> None:\n",
    "    solution_output = json.loads(solution_output)\n",
    "    expected_output = json.loads(expected_output)\n",
    "    assert np.allclose(\n",
    "        solution_output, expected_output, rtol=1e-1\n",
    "    ), \"The expected value is not correct.\"\n",
    "\n",
    "\n",
    "test_cases = [['1.0', '-5.226251859505506'], ['2.3', '-9.66382463698038']]\n",
    "\n",
    "for i, (input_, expected_output) in enumerate(test_cases):\n",
    "    print(f\"Running test case {i} with input '{input_}'...\")\n",
    "\n",
    "    try:\n",
    "        output = run(input_)\n",
    "\n",
    "    except Exception as exc:\n",
    "        print(f\"Runtime Error. {exc}\")\n",
    "\n",
    "    else:\n",
    "        if message := check(output, expected_output):\n",
    "            print(f\"Wrong Answer. Have: '{output}'. Want: '{expected_output}'.\")\n",
    "\n",
    "        else:\n",
    "            print(\"Correct!\")"
   ],
   "metadata": {
    "collapsed": false,
    "pycharm": {
     "name": "#%%\n"
    }
   }
  },
  {
   "cell_type": "code",
   "execution_count": null,
   "outputs": [],
   "source": [],
   "metadata": {
    "collapsed": false,
    "pycharm": {
     "name": "#%%\n"
    }
   }
  }
 ],
 "metadata": {
  "kernelspec": {
   "display_name": "Python 3",
   "language": "python",
   "name": "python3"
  },
  "language_info": {
   "codemirror_mode": {
    "name": "ipython",
    "version": 2
   },
   "file_extension": ".py",
   "mimetype": "text/x-python",
   "name": "python",
   "nbconvert_exporter": "python",
   "pygments_lexer": "ipython2",
   "version": "2.7.6"
  }
 },
 "nbformat": 4,
 "nbformat_minor": 0
}