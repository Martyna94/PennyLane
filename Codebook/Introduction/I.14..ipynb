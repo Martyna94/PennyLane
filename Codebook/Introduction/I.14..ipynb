{
 "cells": [
  {
   "cell_type": "markdown",
   "metadata": {
    "collapsed": true,
    "pycharm": {
     "name": "#%% md\n"
    }
   },
   "source": [
    "**Multi-qubit gate reference**\n",
    "![circuit](./images/I.14.1.1.png)\n",
    "![circuit](./images/I.14.1.2.png)\n",
    "![circuit](./images/I.14.1.3.png)\n",
    "![circuit](./images/I.14.1.4.png)"
   ]
  },
  {
   "cell_type": "markdown",
   "source": [
    "**Single-qubit gate reference**\n",
    "![circuit](./images/I.14.1.5.png)\n",
    "![circuit](./images/I.14.1.6.png)\n",
    "![circuit](./images/I.14.1.7.png)"
   ],
   "metadata": {
    "collapsed": false,
    "pycharm": {
     "name": "#%% md\n"
    }
   }
  },
  {
   "cell_type": "code",
   "execution_count": 1,
   "outputs": [],
   "source": [
    "import numpy as np\n",
    "import pennylane as qml"
   ],
   "metadata": {
    "collapsed": false,
    "pycharm": {
     "name": "#%%\n"
    }
   }
  },
  {
   "cell_type": "markdown",
   "source": [
    "**Codercise I.14.1** Consider again the entangled state that we saw earlier,\n",
    "![circuit](./images/I.14.1.8.png)\n",
    "This state is called a **Bell state**, and it has 3 siblings:\n",
    "![circuit](./images/I.14.1.9.png)\n",
    "Together, these states form the **Bell basis**. Write a set of 4 circuits that prepare and return each of the four Bell states."
   ],
   "metadata": {
    "collapsed": false,
    "pycharm": {
     "name": "#%% md\n"
    }
   }
  },
  {
   "cell_type": "code",
   "execution_count": 2,
   "outputs": [],
   "source": [
    "dev = qml.device('default.qubit', wires=2)\n",
    "\n",
    "# Starting from the state |00>, implement a PennyLane circuit\n",
    "# to construct each of the Bell basis states.\n",
    "\n",
    "@qml.qnode(dev)\n",
    "def prepare_psi_plus():\n",
    "    # PREPARE (1/sqrt(2)) (|00> + |11>)\n",
    "    qml.Hadamard(wires=0)\n",
    "    qml.CNOT(wires=[0,1])\n",
    "\n",
    "    return qml.state()\n",
    "\n",
    "\n",
    "@qml.qnode(dev)\n",
    "def prepare_psi_minus():\n",
    "    # PREPARE (1/sqrt(2)) (|00> - |11>)\n",
    "    qml.Hadamard(wires=0)\n",
    "    qml.CNOT(wires=[0,1])\n",
    "    qml.PauliZ(wires=0)\n",
    "\n",
    "    # alternative approach\n",
    "    # qml.PauliX(wires=0)\n",
    "    # qml.Hadamard(wires=0)\n",
    "    # qml.CNOT(wires=[0,1])\n",
    "\n",
    "    return qml.state()\n",
    "\n",
    "\n",
    "@qml.qnode(dev)\n",
    "def prepare_phi_plus():\n",
    "    # PREPARE  (1/sqrt(2)) (|01> + |10>)\n",
    "    qml.Hadamard(wires=0)\n",
    "    qml.CNOT(wires=[0,1])\n",
    "    qml.PauliX(wires=1)\n",
    "\n",
    "    # alternative approach\n",
    "    # qml.PauliX(wires=1)\n",
    "    # qml.Hadamard(wires=0)\n",
    "    # qml.CNOT(wires=[0,1])\n",
    "\n",
    "    return qml.state()\n",
    "\n",
    "\n",
    "@qml.qnode(dev)\n",
    "def prepare_phi_minus():\n",
    "    # PREPARE  (1/sqrt(2)) (|01> - |10>)\n",
    "    qml.Hadamard(wires=0)\n",
    "    qml.CNOT(wires=[0,1])\n",
    "    qml.PauliZ(wires=0)\n",
    "    qml.PauliX(wires=1)\n",
    "\n",
    "    # alternative approach\n",
    "    # qml.PauliX(wires=0)\n",
    "    # qml.PauliX(wires=1)\n",
    "    # qml.Hadamard(wires=0)\n",
    "    # qml.CNOT(wires=[0,1])\n",
    "\n",
    "    return qml.state()\n",
    "\n",
    "\n",
    "psi_plus = prepare_psi_plus()\n",
    "psi_minus = prepare_psi_minus()\n",
    "phi_plus = prepare_phi_plus()\n",
    "phi_minus = prepare_phi_minus()\n",
    "\n",
    "# Uncomment to print results\n",
    "#print(f\"|ψ_+> = {psi_plus}\")\n",
    "#print(f\"|ψ_-> = {psi_minus}\")\n",
    "#print(f\"|ϕ_+> = {phi_plus}\")\n",
    "#print(f\"|ϕ_-> = {phi_minus}\")"
   ],
   "metadata": {
    "collapsed": false,
    "pycharm": {
     "name": "#%%\n"
    }
   }
  },
  {
   "cell_type": "markdown",
   "source": [
    "![circuit](./images/I.14.1.10.png)"
   ],
   "metadata": {
    "collapsed": false
   }
  },
  {
   "cell_type": "markdown",
   "source": [
    "Codercise I.14.2. Implement a 3-qubit circuit in PannyLane that can perform the following:\n",
    "* if the first two qubits are both $|0>$, do nothing\n",
    "* if the first qubit is $|0>$ and the second is $|1>$, apply `PauliX` to the third qubit\n",
    "* if the first qubit is $|1>$ and the second is $|0>$, apply `PauliZ` to the third qubit\n",
    "* if the two qubit are both $|1>$, apply a `PauliY` the third qubit\n",
    "\n",
    "The circuit must produce the exact state that would be obtained by applying these operations, i.e., not just up to a global phase.\n",
    "There is no nedd to use `if` statements in your part of the quantum function; it can all be implemented using quantum operations alone!\n",
    "Tip. This type of operation is called **quantum multiplexer**. When all $2^n$ possible cases of $n$ control qubits are implemented, and the target operation is a single-qubit roation, it is called a uniformly controlled rotation."
   ],
   "metadata": {
    "collapsed": false,
    "pycharm": {
     "name": "#%% md\n"
    }
   }
  },
  {
   "cell_type": "code",
   "execution_count": 4,
   "outputs": [
    {
     "name": "stdout",
     "output_type": "stream",
     "text": [
      "[ 0.        +0.j  0.        +0.j -0.70710678+0.j  0.70710678+0.j\n",
      "  0.        +0.j  0.        +0.j  0.        +0.j  0.        +0.j]\n"
     ]
    }
   ],
   "source": [
    "dev = qml.device(\"default.qubit\", wires=3)\n",
    "\n",
    "# State of first 2 qubits\n",
    "state = [0, 1]\n",
    "\n",
    "@qml.qnode(device=dev)\n",
    "def apply_control_sequence(state):\n",
    "    # Set up initial state of the first two qubits\n",
    "    if state[0] == 1:\n",
    "        qml.PauliX(wires=0)\n",
    "    if state[1] == 1:\n",
    "        qml.PauliX(wires=1)\n",
    "\n",
    "    # Set up initial state of the third qubit - use |->\n",
    "    # so we can see the effect on the output\n",
    "    qml.PauliX(wires=2)\n",
    "    qml.Hadamard(wires=2)\n",
    "\n",
    "\n",
    "    # IMPLEMENT THE MULTIPLEXER\n",
    "    # IF STATE OF FIRST TWO QUBITS IS 01, APPLY X TO THIRD QUBIT\n",
    "    qml.MultiControlledX(wires=[0,1,2], control_values=\"01\")\n",
    "\n",
    "    # IF STATE OF FIRST TWO QUBITS IS 10, APPLY Z TO THIRD QUBIT\n",
    "    qml.Hadamard(wires=2)\n",
    "    qml.MultiControlledX(wires=[0,1,2], control_values=\"10\")\n",
    "    qml.Hadamard(wires=2)\n",
    "\n",
    "    # IF STATE OF FIRST TWO QUBITS IS 11, APPLY Y TO THIRD QUBIT\n",
    "    qml.adjoint(qml.S)(wires=2)\n",
    "    qml.Toffoli(wires=[0,1,2])\n",
    "    qml.S(wires=2)\n",
    "\n",
    "    # Proposed solution by codebook\n",
    "    # qml.PauliX(wires=0)\n",
    "    # qml.Toffoli(wires=[0,1,2])\n",
    "    # qml.PauliX(wires=0)\n",
    "\n",
    "    # qml.PauliX(wires=1)\n",
    "    # qml.Hadamard(wires=2)\n",
    "    # qml.Toffoli(wires=[0,1,2])\n",
    "    # qml.PauliX(wires=1)\n",
    "    # qml.Hadamard(wires=2)\n",
    "\n",
    "    # qml.adjoint(qml.S)(wires=2)\n",
    "    # qml.Toffoli(wires=[0,1,2])\n",
    "    # qml.S(wires=2)\n",
    "\n",
    "    return qml.state()\n",
    "\n",
    "\n",
    "print(apply_control_sequence(state))"
   ],
   "metadata": {
    "collapsed": false,
    "pycharm": {
     "name": "#%%\n"
    }
   }
  },
  {
   "cell_type": "markdown",
   "source": [
    "<em>Proposed Solution by codebook</em>\n",
    "All of these operations can be expressed as controlled operations, but controlled on different states. Since each operation will 'trigger' only on a specific input state, we can apply them one after another in a circuit:\n",
    "![circuit](./images/I.14.2.1.png)\n",
    "\n",
    "We now need to re-express, or compile these gates in terms of the Toffoli available in PennyLane.\n",
    "\n",
    "For the first gate, a controlled-controlled-X is simply a Toffoli. Since one of the controls is controlling on 0, we must apply an **X** both before and after the controls.\n",
    "\n",
    "For the second gate, recall that $Z=HXH$, and that a controlled $Z$ consisted of $H$. Thus, a Toffoli has a similar identity, and a controlled-controlled-Z (CCZ) can be implemented using a Toffoli and aplication of $H$ on both sides of the target qubit. Again, since one of the controls i $0$, we have to apply $X$ before and after.\n",
    "\n",
    "For the final gate, we need the identity $Y = SXS^*$, meaning we can implement a  controlled-controlled-Y by applying $S^*$ and $S$ before and after a toffoli respectively. Our final circuit is thus:\n",
    "![circuit](./images/I.14.2.2.png)"
   ],
   "metadata": {
    "collapsed": false,
    "pycharm": {
     "name": "#%% md\n"
    }
   }
  },
  {
   "cell_type": "code",
   "execution_count": null,
   "outputs": [],
   "source": [],
   "metadata": {
    "collapsed": false,
    "pycharm": {
     "name": "#%%\n"
    }
   }
  }
 ],
 "metadata": {
  "kernelspec": {
   "display_name": "Python 3",
   "language": "python",
   "name": "python3"
  },
  "language_info": {
   "codemirror_mode": {
    "name": "ipython",
    "version": 2
   },
   "file_extension": ".py",
   "mimetype": "text/x-python",
   "name": "python",
   "nbconvert_exporter": "python",
   "pygments_lexer": "ipython2",
   "version": "2.7.6"
  }
 },
 "nbformat": 4,
 "nbformat_minor": 0
}