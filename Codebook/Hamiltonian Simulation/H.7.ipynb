{
 "cells": [
  {
   "cell_type": "markdown",
   "metadata": {
    "collapsed": true,
    "pycharm": {
     "name": "#%% md\n"
    }
   },
   "source": [
    "## Generalizing PREPARE and SELECT\n",
    "\n",
    "**Learning outcomes**\n",
    "\n",
    "* Understand the action of SELECT and PREPARE oracles."
   ]
  },
  {
   "cell_type": "code",
   "execution_count": 8,
   "outputs": [],
   "source": [
    "import numpy as np\n",
    "import pennylane as qml"
   ],
   "metadata": {
    "collapsed": false,
    "pycharm": {
     "name": "#%%\n"
    }
   }
  },
  {
   "cell_type": "markdown",
   "source": [
    "In the last node, we found a circuit for applying an arbitrary linear combination of unitaries. It pslit naturally into two subroutines, PREPARE, which prepared the state and coefficients, and SELECT which applied the unitaries. These were somewhat messily defined using nested circuit, but it turns there is a clean generalization of PREPARE and SELECT."
   ],
   "metadata": {
    "collapsed": false,
    "pycharm": {
     "name": "#%% md\n"
    }
   }
  },
  {
   "cell_type": "markdown",
   "source": [
    "For a linear combination of unitaries:\n",
    "$$\\tilde{U} = \\sum_{j} \\alpha_j U_J $$\n",
    "which $\\alpha_j > 0$, we'll define PREPARE and SELECT as oracle (black boxes) with the following behaviour:\n",
    "$$SELECT\\Ket{j} \\Ket{\\psi} = \\Ket{j}*U_J* \\Ket{\\psi} $$\n",
    "$$PREPARE\\Ket{0} = \\frac{1}{\\sqrt{\\alpha}}\\sum_{j} \\sqrt{\\alpha_j} \\Ket{j}$$\n",
    "\n",
    "For a linear combination of unitaries:\n",
    "$$\\tilde{U} = \\sum_{j} \\alpha_j U_J $$\n",
    "which $\\alpha_j > 0$, we'll define PREPARE and SELECT as oracle (black boxes) with the following behaviour:\n",
    "$$SELECT\\Ket{j} \\Ket{\\psi} = \\Ket{j}*U_J* \\Ket{\\psi} $$\n",
    "$$PREPARE\\Ket{0} = \\frac{1}{\\sqrt{\\alpha}}\\sum_{j} \\sqrt{\\alpha_j} \\Ket{j} = \\Ket{\\alpha}$$\n",
    ",where $\\alpha  = \\sum_{j} \\alpha_j$, and $\\Ket{j}$ is an orthonormal basis for the auxiliary system with initial state $\\Ket{0}$\n",
    "\n",
    "Since we have only specified hot the PREPARE oracle acts on the state $\\Ket{0}$, we have the freedom to chooose *any* unitary which perfoms this. It doesn't matter what it does to the stets orthogonal to $\\Ket{0}$! A convenient  chhoice is the *Householder transformation*. For a state $\\Ket{v}$, this is defined as\n",
    "$$R_v = I - 2\\Ket{v}\\Braket{v}$$"
   ],
   "metadata": {
    "collapsed": false
   }
  },
  {
   "cell_type": "markdown",
   "source": [
    "**Codercise H.7.1.** Write a fuction for a creating the Householder transformation as a matrix, assuming the inout a normalized state. You will [np.outer](https://numpy.org/doc/stable/reference/generated/numpy.outer.html) helpful."
   ],
   "metadata": {
    "collapsed": false
   }
  },
  {
   "cell_type": "code",
   "execution_count": 7,
   "outputs": [
    {
     "data": {
      "text/plain": "array([[ 1.,  0.],\n       [ 0., -1.]])"
     },
     "execution_count": 7,
     "metadata": {},
     "output_type": "execute_result"
    }
   ],
   "source": [
    "def householder(state):\n",
    "    \"\"\"Create the matrix form of a Householder transformation.\n",
    "\n",
    "    Args:\n",
    "        state (array[complex]): A list of amplitudes representing a state.\n",
    "\n",
    "    Returns:\n",
    "        array[complex]: The matrix representation of the Householder transformation.\n",
    "    \"\"\"\n",
    "    matrix = np.identity(2) - 2* np.outer(state,np.conjugate(state))\n",
    "    return matrix\n",
    "householder([0,1])"
   ],
   "metadata": {
    "collapsed": false,
    "pycharm": {
     "name": "#%%\n"
    }
   }
  },
  {
   "cell_type": "markdown",
   "source": [
    "We'll define the PREPARE oracke as the HOuseholder transformation of the state:\n",
    "$$\\Ket{0-\\alpha} = \\frac{\\Ket{0} - \\Ket{\\alpha}}{\\Ket{\\Ket{0} - \\Ket{\\alpha}}}.$$\n",
    "This requires a little explanation. First, $\\Ket{\\alpha}$ is a vector of coefficients which has been normalized and can therefore be interpreted as a state. Then $\\Ket{0} - \\Ket{\\alpha}$ is a difference of state, and is normalized by the denominator."
   ],
   "metadata": {
    "collapsed": false
   }
  },
  {
   "cell_type": "markdown",
   "source": [
    "**Codercise H.7.2** (a) Implement the PREPARE oracle using the Householder transformation; this is available from the previous exercise. For simplicity, we work with a sum of $2^k$ unitaries. This means our auxiliary register will have $k$ qubits, and the state $\\Ket{0}$ is the all-zero state (usually denoted $\\Ket{0}$)."
   ],
   "metadata": {
    "collapsed": false
   }
  },
  {
   "cell_type": "code",
   "execution_count": 11,
   "outputs": [
    {
     "name": "stdout",
     "output_type": "stream",
     "text": [
      "[1 0 0 0 0 0 0 0]\n"
     ]
    }
   ],
   "source": [
    "k_bits = 3\n",
    "zero_vec = np.array([1] + [0]*(2**k_bits - 1))\n",
    "print(zero_vec)"
   ],
   "metadata": {
    "collapsed": false,
    "pycharm": {
     "name": "#%%\n"
    }
   }
  },
  {
   "cell_type": "code",
   "execution_count": 15,
   "outputs": [],
   "source": [
    "k_bits = 2\n",
    "n_bits = 2\n",
    "all_bits = k_bits + n_bits\n",
    "aux = range(k_bits)\n",
    "main = range(k_bits, all_bits)\n",
    "dev = qml.device(\"default.qubit\", wires=all_bits)\n",
    "\n",
    "def PREPARE(alpha_list):\n",
    "    \"\"\"Create the PREPARE oracle as a matrix.\n",
    "\n",
    "    Args:\n",
    "        alpha_list (array[float]): A list of coefficients.\n",
    "\n",
    "    Returns:\n",
    "        array[complex]: The matrix representation of the PREPARE routine.\n",
    "    \"\"\"\n",
    "    zero_vec = np.array([1] + [0]*(2**k_bits - 1))\n",
    "\n",
    "    alpha_list = np.sqrt(alpha_list)/np.linalg.norm(alpha_list)\n",
    "    numerator = zero_vec - alpha_list\n",
    "    denominator = np.linalg.norm(numerator)\n",
    "    state = numerator/denominator\n",
    "\n",
    "    return householder(state)"
   ],
   "metadata": {
    "collapsed": false,
    "pycharm": {
     "name": "#%%\n"
    }
   }
  },
  {
   "cell_type": "markdown",
   "source": [
    "(b) The circuit below shows a PREPARE oracle (red), followed by a SELECT oracle (blue), followed by PREPARE+ (red):\n",
    "![circuit](./images/H.7.2.1.png)\n",
    "if $\\Ket{0}$ is measured on the auxuliary register, this circuit applies the linear combination $\\tilde{U}$ to $\\Ket(\\psi)$. Implement the LCU circuit shown above. SELECT is provided for you."
   ],
   "metadata": {
    "collapsed": false,
    "pycharm": {
     "name": "#%% md\n"
    }
   }
  },
  {
   "cell_type": "code",
   "execution_count": 44,
   "outputs": [],
   "source": [
    "k_bits = 2\n",
    "n_bits = 2\n",
    "all_bits = k_bits + n_bits\n",
    "aux = range(k_bits)\n",
    "main = range(k_bits, all_bits)\n"
   ],
   "metadata": {
    "collapsed": false,
    "pycharm": {
     "name": "#%%\n"
    }
   }
  },
  {
   "cell_type": "code",
   "execution_count": 19,
   "outputs": [],
   "source": [
    "def SELECT(U_list):\n",
    "    \"\"\"Implement the SELECT oracle for 2^k unitaries.\"\"\"\n",
    "    for index in range(2**k_bits):\n",
    "        ctrl_str = np.binary_repr(index, k_bits) # Create binary representation\n",
    "        qml.ControlledQubitUnitary(U_list[index], control_wires=aux,wires=main,control_values=ctrl_str)\n",
    "\n",
    "def LCU(alpha_list, U_list):\n",
    "    \"\"\"Implement LCU using PREPARE and SELECT oracles for 2^k unitaries.\n",
    "\n",
    "    Args:\n",
    "        alpha_list (list[float]): A list of coefficients.\n",
    "        U_list (list[array[complex]]): A list of unitary matrices, stored as\n",
    "        complex arrays.\n",
    "    \"\"\"\n",
    "    qml.QubitUnitary(PREPARE(alpha_list), wires=aux)\n",
    "    SELECT(U_list)\n",
    "    qml.adjoint(qml.QubitUnitary)(PREPARE(alpha_list), wires=aux)"
   ],
   "metadata": {
    "collapsed": false,
    "pycharm": {
     "name": "#%%\n"
    }
   }
  },
  {
   "cell_type": "markdown",
   "source": [
    "(c) Finally, consider the combination of unitarie\n",
    "$$\\tilde{U} = \\sum_{j} \\alpha_j U_j = X \\otimes X + \\frac{1}{2}Z \\otimes Z + \\frac{1}{2}X \\otimes Z + Z \\otimes X = H \\otimes \\begin{bmatrix}\n",
    "1/2 & 1 \\\\\n",
    "1 & -1/2\n",
    "\\end{bmatrix}$$\n",
    "Create a circuit which applies this tp $|11>$. Note that\n",
    "$$H \\otimes \\begin{bmatrix}\n",
    "1/2 & 1 \\\\\n",
    "1 & -1/2\n",
    "\\end{bmatrix} \\Ket{11}  \\propto\\Ket{00} - \\frac{1}{2} \\Ket{01} - \\Ket{10} + \\frac{1}{2}\\Ket{11}$$\n",
    "so the unnormalized amplitudes should be proportional to this."
   ],
   "metadata": {
    "collapsed": false
   }
  },
  {
   "cell_type": "code",
   "execution_count": 46,
   "outputs": [
    {
     "ename": "ValueError",
     "evalue": "operands could not be broadcast together with shapes (4,) (2,) ",
     "output_type": "error",
     "traceback": [
      "\u001B[1;31m---------------------------------------------------------------------------\u001B[0m",
      "\u001B[1;31mValueError\u001B[0m                                Traceback (most recent call last)",
      "Input \u001B[1;32mIn [46]\u001B[0m, in \u001B[0;36m<cell line: 14>\u001B[1;34m()\u001B[0m\n\u001B[0;32m     11\u001B[0m     LCU(alpha_list, U_list)\n\u001B[0;32m     12\u001B[0m     \u001B[38;5;28;01mreturn\u001B[39;00m qml\u001B[38;5;241m.\u001B[39mstate()\n\u001B[1;32m---> 14\u001B[0m \u001B[38;5;28mprint\u001B[39m(\u001B[38;5;124m\"\u001B[39m\u001B[38;5;124mThe amplitudes on the main register are proportional to\u001B[39m\u001B[38;5;124m\"\u001B[39m, \u001B[43mmy_circuit\u001B[49m\u001B[43m(\u001B[49m\u001B[43m)\u001B[49m[:\u001B[38;5;241m4\u001B[39m], \u001B[38;5;124m\"\u001B[39m\u001B[38;5;124m.\u001B[39m\u001B[38;5;124m\"\u001B[39m)\n",
      "File \u001B[1;32m~\\anaconda3\\lib\\site-packages\\pennylane\\qnode.py:618\u001B[0m, in \u001B[0;36mQNode.__call__\u001B[1;34m(self, *args, **kwargs)\u001B[0m\n\u001B[0;32m    615\u001B[0m         set_shots(\u001B[38;5;28mself\u001B[39m\u001B[38;5;241m.\u001B[39m_original_device, override_shots)(\u001B[38;5;28mself\u001B[39m\u001B[38;5;241m.\u001B[39m_update_gradient_fn)()\n\u001B[0;32m    617\u001B[0m \u001B[38;5;66;03m# construct the tape\u001B[39;00m\n\u001B[1;32m--> 618\u001B[0m \u001B[38;5;28;43mself\u001B[39;49m\u001B[38;5;241;43m.\u001B[39;49m\u001B[43mconstruct\u001B[49m\u001B[43m(\u001B[49m\u001B[43margs\u001B[49m\u001B[43m,\u001B[49m\u001B[43m \u001B[49m\u001B[43mkwargs\u001B[49m\u001B[43m)\u001B[49m\n\u001B[0;32m    620\u001B[0m cache \u001B[38;5;241m=\u001B[39m \u001B[38;5;28mself\u001B[39m\u001B[38;5;241m.\u001B[39mexecute_kwargs\u001B[38;5;241m.\u001B[39mget(\u001B[38;5;124m\"\u001B[39m\u001B[38;5;124mcache\u001B[39m\u001B[38;5;124m\"\u001B[39m, \u001B[38;5;28;01mFalse\u001B[39;00m)\n\u001B[0;32m    621\u001B[0m using_custom_cache \u001B[38;5;241m=\u001B[39m (\n\u001B[0;32m    622\u001B[0m     \u001B[38;5;28mhasattr\u001B[39m(cache, \u001B[38;5;124m\"\u001B[39m\u001B[38;5;124m__getitem__\u001B[39m\u001B[38;5;124m\"\u001B[39m)\n\u001B[0;32m    623\u001B[0m     \u001B[38;5;129;01mand\u001B[39;00m \u001B[38;5;28mhasattr\u001B[39m(cache, \u001B[38;5;124m\"\u001B[39m\u001B[38;5;124m__setitem__\u001B[39m\u001B[38;5;124m\"\u001B[39m)\n\u001B[0;32m    624\u001B[0m     \u001B[38;5;129;01mand\u001B[39;00m \u001B[38;5;28mhasattr\u001B[39m(cache, \u001B[38;5;124m\"\u001B[39m\u001B[38;5;124m__delitem__\u001B[39m\u001B[38;5;124m\"\u001B[39m)\n\u001B[0;32m    625\u001B[0m )\n",
      "File \u001B[1;32m~\\anaconda3\\lib\\site-packages\\pennylane\\qnode.py:528\u001B[0m, in \u001B[0;36mQNode.construct\u001B[1;34m(self, args, kwargs)\u001B[0m\n\u001B[0;32m    525\u001B[0m \u001B[38;5;28mself\u001B[39m\u001B[38;5;241m.\u001B[39m_tape \u001B[38;5;241m=\u001B[39m qml\u001B[38;5;241m.\u001B[39mtape\u001B[38;5;241m.\u001B[39mQuantumTape()\n\u001B[0;32m    527\u001B[0m \u001B[38;5;28;01mwith\u001B[39;00m \u001B[38;5;28mself\u001B[39m\u001B[38;5;241m.\u001B[39mtape:\n\u001B[1;32m--> 528\u001B[0m     \u001B[38;5;28mself\u001B[39m\u001B[38;5;241m.\u001B[39m_qfunc_output \u001B[38;5;241m=\u001B[39m \u001B[38;5;28mself\u001B[39m\u001B[38;5;241m.\u001B[39mfunc(\u001B[38;5;241m*\u001B[39margs, \u001B[38;5;241m*\u001B[39m\u001B[38;5;241m*\u001B[39mkwargs)\n\u001B[0;32m    529\u001B[0m \u001B[38;5;28mself\u001B[39m\u001B[38;5;241m.\u001B[39m_tape\u001B[38;5;241m.\u001B[39m_qfunc_output \u001B[38;5;241m=\u001B[39m \u001B[38;5;28mself\u001B[39m\u001B[38;5;241m.\u001B[39m_qfunc_output\n\u001B[0;32m    531\u001B[0m params \u001B[38;5;241m=\u001B[39m \u001B[38;5;28mself\u001B[39m\u001B[38;5;241m.\u001B[39mtape\u001B[38;5;241m.\u001B[39mget_parameters(trainable_only\u001B[38;5;241m=\u001B[39m\u001B[38;5;28;01mFalse\u001B[39;00m)\n",
      "Input \u001B[1;32mIn [46]\u001B[0m, in \u001B[0;36mmy_circuit\u001B[1;34m()\u001B[0m\n\u001B[0;32m      9\u001B[0m \u001B[38;5;124;03m\"\"\"Apply H(X + Z/2) to the state |11> using LCU.\"\"\"\u001B[39;00m\n\u001B[0;32m     10\u001B[0m qml\u001B[38;5;241m.\u001B[39mbroadcast(qml\u001B[38;5;241m.\u001B[39mPauliX, wires\u001B[38;5;241m=\u001B[39mmain, pattern\u001B[38;5;241m=\u001B[39m\u001B[38;5;124m\"\u001B[39m\u001B[38;5;124msingle\u001B[39m\u001B[38;5;124m\"\u001B[39m)\n\u001B[1;32m---> 11\u001B[0m \u001B[43mLCU\u001B[49m\u001B[43m(\u001B[49m\u001B[43malpha_list\u001B[49m\u001B[43m,\u001B[49m\u001B[43m \u001B[49m\u001B[43mU_list\u001B[49m\u001B[43m)\u001B[49m\n\u001B[0;32m     12\u001B[0m \u001B[38;5;28;01mreturn\u001B[39;00m qml\u001B[38;5;241m.\u001B[39mstate()\n",
      "Input \u001B[1;32mIn [19]\u001B[0m, in \u001B[0;36mLCU\u001B[1;34m(alpha_list, U_list)\u001B[0m\n\u001B[0;32m      8\u001B[0m \u001B[38;5;124;03m\"\"\"Implement LCU using PREPARE and SELECT oracles for 2^k unitaries.\u001B[39;00m\n\u001B[0;32m      9\u001B[0m \n\u001B[0;32m     10\u001B[0m \u001B[38;5;124;03mArgs:\u001B[39;00m\n\u001B[1;32m   (...)\u001B[0m\n\u001B[0;32m     13\u001B[0m \u001B[38;5;124;03m    complex arrays.\u001B[39;00m\n\u001B[0;32m     14\u001B[0m \u001B[38;5;124;03m\"\"\"\u001B[39;00m\n\u001B[0;32m     15\u001B[0m aux_alpha_list \u001B[38;5;241m=\u001B[39m [alpha_list[i] \u001B[38;5;28;01mfor\u001B[39;00m i \u001B[38;5;129;01min\u001B[39;00m aux]\n\u001B[1;32m---> 16\u001B[0m prepare \u001B[38;5;241m=\u001B[39m qml\u001B[38;5;241m.\u001B[39mQubitUnitary(\u001B[43mPREPARE\u001B[49m\u001B[43m(\u001B[49m\u001B[43maux_alpha_list\u001B[49m\u001B[43m)\u001B[49m)\n\u001B[0;32m     18\u001B[0m qml\u001B[38;5;241m.\u001B[39mctrl(U_list)(U_list)\n\u001B[0;32m     19\u001B[0m qml\u001B[38;5;241m.\u001B[39madjoint(prepare)(aux_alpha_list)\n",
      "Input \u001B[1;32mIn [15]\u001B[0m, in \u001B[0;36mPREPARE\u001B[1;34m(alpha_list)\u001B[0m\n\u001B[0;32m     17\u001B[0m zero_vec \u001B[38;5;241m=\u001B[39m np\u001B[38;5;241m.\u001B[39marray([\u001B[38;5;241m1\u001B[39m] \u001B[38;5;241m+\u001B[39m [\u001B[38;5;241m0\u001B[39m]\u001B[38;5;241m*\u001B[39m(\u001B[38;5;241m2\u001B[39m\u001B[38;5;241m*\u001B[39m\u001B[38;5;241m*\u001B[39mk_bits \u001B[38;5;241m-\u001B[39m \u001B[38;5;241m1\u001B[39m))\n\u001B[0;32m     19\u001B[0m alpha_list \u001B[38;5;241m=\u001B[39m np\u001B[38;5;241m.\u001B[39msqrt(alpha_list)\u001B[38;5;241m/\u001B[39mnp\u001B[38;5;241m.\u001B[39mlinalg\u001B[38;5;241m.\u001B[39mnorm(alpha_list)\n\u001B[1;32m---> 20\u001B[0m numerator \u001B[38;5;241m=\u001B[39m \u001B[43mzero_vec\u001B[49m\u001B[43m \u001B[49m\u001B[38;5;241;43m-\u001B[39;49m\u001B[43m \u001B[49m\u001B[43malpha_list\u001B[49m\n\u001B[0;32m     21\u001B[0m denominator \u001B[38;5;241m=\u001B[39m np\u001B[38;5;241m.\u001B[39mlinalg\u001B[38;5;241m.\u001B[39mnorm(numerator)\n\u001B[0;32m     22\u001B[0m state \u001B[38;5;241m=\u001B[39m numerator\u001B[38;5;241m/\u001B[39mdenominator\n",
      "\u001B[1;31mValueError\u001B[0m: operands could not be broadcast together with shapes (4,) (2,) "
     ]
    }
   ],
   "source": [
    "U_list = [np.kron(qml.PauliX.compute_matrix(), qml.PauliX.compute_matrix()),\n",
    "          np.kron(qml.PauliZ.compute_matrix(), qml.PauliZ.compute_matrix()),\n",
    "          np.kron(qml.PauliX.compute_matrix(), qml.PauliZ.compute_matrix()),\n",
    "          np.kron(qml.PauliZ.compute_matrix(), qml.PauliX.compute_matrix())]\n",
    "alpha_list = [1, 0.5, 0.5, 1]\n",
    "\n",
    "@qml.qnode(dev)\n",
    "def my_circuit():\n",
    "    \"\"\"Apply H(X + Z/2) to the state |11> using LCU.\"\"\"\n",
    "    qml.broadcast(qml.PauliX, wires=main, pattern=\"single\")\n",
    "    LCU(alpha_list, U_list)\n",
    "    return qml.state()\n",
    "\n",
    "print(\"The amplitudes on the main register are proportional to\", my_circuit()[:4], \".\")"
   ],
   "metadata": {
    "collapsed": false,
    "pycharm": {
     "name": "#%%\n"
    }
   }
  },
  {
   "cell_type": "markdown",
   "source": [
    "We know that PREPARE and SELECT are useful for Hamiltonian simulation. BUt it turns out that we can also use them to implement memory on a quantum computer! We imagine that the auxiliary states $\\Ket{j}_A$ are memory addresses and the main register stores data $\\Ket{D_j}_D$, prepared from some initial state $\\Ket{0}_D$ by acting with a unitary, $\\Ket{D_j}_D = U_j\\Ket{0}_D$ (we've added subscripts for clarity). The quantum computer may wish not only to retrieve individual states from their addresses, but to create an arbitrary superposition of data states. In order to remember which data belongs where, we assume they remain correlated with their addresses, so our task is to take the initial state $\\Ket{0}_A \\Ket{0}_D$ to a state of the form:\n",
    "$$\\Ket{\\beta} = \\sum_{j} \\beta_j \\Ket{j}_A \\Ket{D_j}_D$$\n",
    "for $\\beta_j \\geqslant 0$, this can be created using the PREPARE and SELECT oracles associated with the LCU $\\tilde{U} = \\sum_{j}\\beta_j^2U_j$. Specifically,\n",
    "$$\\Ket{\\beta} = SELECT * PREPARE \\Ket{0}_A \\Ket{0}_D.$$\n",
    "It's possible to modify this to allow for *arbitrary* superpositions, but in the last codercise, you can implement the simpler case of positive coefficients."
   ],
   "metadata": {
    "collapsed": false
   }
  },
  {
   "cell_type": "markdown",
   "source": [
    "*Codercise H.7.3* Use the PREPARE and SELECT procedures you defined above to generate superpositions of two-qubit computational basis states,\n",
    "$$\\Ket{\\beta} = \\beta_00\\Ket{00} + \\beta_01\\Ket{01} + \\beta_10\\Ket{10} + \\beta_11\\Ket{11}.$$\n",
    "Is this correctly producing the maximally entangled state, $\\frac{1}{\\sqrt{2}}(\\Ket{00} + \\Ket{11})$?"
   ],
   "metadata": {
    "collapsed": false
   }
  },
  {
   "cell_type": "code",
   "execution_count": null,
   "outputs": [],
   "source": [
    "@qml.qnode(dev)\n",
    "def quantum_memory(beta_list):\n",
    "    \"\"\"Produce a data state with positive coefficients beta_list.\n",
    "\n",
    "    Args:\n",
    "        beta_list (array[float]): The amplitudes for our superposition.\n",
    "\n",
    "    Returns:\n",
    "        array[float]: The state on both address and data registers.\n",
    "    \"\"\"\n",
    "    U_list = [np.identity(2), np.identity(2),\n",
    "              np.identity(2), np.identity(2)] # MODIFY THIS\n",
    "\n",
    "    return qml.state()\n",
    "\n",
    "beta_list = [1, 0, 0, 1]\n",
    "normalized_coefficients = [quantum_memory(beta_list)[i].item() for i in range(0, 20, 5)]\n",
    "print(\"The amplitudes on the main register are proportional to\", normalized_coefficients, \".\")\n"
   ],
   "metadata": {
    "collapsed": false,
    "pycharm": {
     "name": "#%%\n"
    }
   }
  }
 ],
 "metadata": {
  "kernelspec": {
   "display_name": "Python 3",
   "language": "python",
   "name": "python3"
  },
  "language_info": {
   "codemirror_mode": {
    "name": "ipython",
    "version": 2
   },
   "file_extension": ".py",
   "mimetype": "text/x-python",
   "name": "python",
   "nbconvert_exporter": "python",
   "pygments_lexer": "ipython2",
   "version": "2.7.6"
  }
 },
 "nbformat": 4,
 "nbformat_minor": 0
}