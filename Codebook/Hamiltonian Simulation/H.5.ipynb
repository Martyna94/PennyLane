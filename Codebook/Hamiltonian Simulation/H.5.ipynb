{
 "cells": [
  {
   "cell_type": "markdown",
   "source": [
    "**Learning outcomes**\n",
    "\n",
    "* Derive the Trotter-Suzuki decomposition.\n",
    "* Use Trotterization to simulate a simple physical system."
   ],
   "metadata": {
    "collapsed": false
   }
  },
  {
   "cell_type": "code",
   "execution_count": 2,
   "metadata": {
    "collapsed": true
   },
   "outputs": [],
   "source": [
    "import numpy as np\n",
    "import pennylane as qml"
   ]
  },
  {
   "cell_type": "markdown",
   "source": [
    "Let's now consider two electrons in a magnetic field. If they are far away from each other, then the total Hamiltonian (energy) will just be a sum of Hamiltonians:\n",
    "![equation](./images/H.5.1.1.png)\n",
    "where $Z_0 = Z\\otimes I$ is the Pauli Z acting on the first electron, and $Z_1 = I \\otimes Z$ acts on the second. Since the electrons are independent, the unitary which evolves this two-electron system in time is two copies of the unitary $e^{i\\alpha tZ}$, $\\alpha = eB/2m_e$. In circuit form:\n",
    "![equation](./images/H.5.1.2.png)"
   ],
   "metadata": {
    "collapsed": false
   }
  },
  {
   "cell_type": "markdown",
   "source": [
    "**Codercise H.5.1.**\n",
    "Complete the function below for simulating two distant electrons in a magnetic field."
   ],
   "metadata": {
    "collapsed": false
   }
  },
  {
   "cell_type": "code",
   "execution_count": 3,
   "outputs": [],
   "source": [
    "n_bits=2\n",
    "dev = qml.device(\"default.qubit\", wires=range(n_bits))\n",
    "\n",
    "@qml.qnode(dev)\n",
    "def two_distant_spins(B, time):\n",
    "    \"\"\"Circuit for evolving the state of two distant electrons in a magnetic field.\n",
    "\n",
    "    Args:\n",
    "        B (float): The strength of the field, assumed to point in the z direction.\n",
    "        time (float): The time we evolve the electron wavefunction for.\n",
    "\n",
    "    Returns:\n",
    "        array[complex]: The quantum state after evolution.\n",
    "    \"\"\"\n",
    "    e = 1.6e-19\n",
    "    m_e = 9.1e-31\n",
    "    alpha = B*e/(2*m_e)\n",
    "\n",
    "    qml.RZ(phi=-2 * alpha * time, wires=0)\n",
    "    qml.RZ(phi=-2 * alpha * time, wires=1)\n",
    "\n",
    "    return qml.state()"
   ],
   "metadata": {
    "collapsed": false,
    "pycharm": {
     "name": "#%%\n"
    }
   }
  },
  {
   "cell_type": "markdown",
   "source": [
    "Another way to express this circuit is in matrix form,$U(t) = e^{i\\alpha tZ_0}e^{i\\alpha tZ_1}$ . Schrödinger's equation tells us, on the other hand, that $U(t) = e^{-i\\hat{H}/\\hbar} = e^{i \\alpha t(Z_0 Z_1)}$. These two expressions appear to be equal by virtue of the rule $e^{x+y} = e^xe^y$. But not so fast! We are dealing with matrices rather than numbers, and this makes a huge change.\n",
    "It turns out that, for matrices $A$ and $B$,$e^{A+B} = e^Ae^B$ is only tru when $A$ and $B$ can be freely reordered (commute), or $AB = BA$. We say such metrices **commute**. When term do not commute, exponentiating their sum is hard. As a concrete example, consider two nearby electrons, who can feel each other's magnetic field. The Hamiltonian will now include an interaction term since the spins of these electrons would like to anti-align:\n",
    "![picture](./images/H.5.2.1.png)\n",
    "For simplicity, we'll make this interaction term proportional to $X_0X_1$:\n",
    "![equation](./images/H.5.2.2.png)\n",
    "where $J$ depends on how close they are. (The factor of $(\\hbar / 2)^2$) comes from converting spins into Pauli operators). To time evolve this system, we need to exponentiate these non-commuting terms, which is hard."
   ],
   "metadata": {
    "collapsed": false
   }
  },
  {
   "cell_type": "markdown",
   "source": [
    "Thankfully, there is a beautiful approximation called the **Trotter-Suzuki decomposition**:\n",
    "$$e^{A+B} = \\lim_{n\\to\\infty}(e^{A/n}e^{B/n})^n$$\n",
    "This lead to a simple algorithm called **Trotterization** for simulating a quantum system."
   ],
   "metadata": {
    "collapsed": false
   }
  },
  {
   "cell_type": "code",
   "execution_count": null,
   "outputs": [],
   "source": [],
   "metadata": {
    "collapsed": false,
    "pycharm": {
     "name": "#%%\n"
    }
   }
  }
 ],
 "metadata": {
  "kernelspec": {
   "display_name": "Python 3",
   "language": "python",
   "name": "python3"
  },
  "language_info": {
   "codemirror_mode": {
    "name": "ipython",
    "version": 2
   },
   "file_extension": ".py",
   "mimetype": "text/x-python",
   "name": "python",
   "nbconvert_exporter": "python",
   "pygments_lexer": "ipython2",
   "version": "2.7.6"
  }
 },
 "nbformat": 4,
 "nbformat_minor": 0
}