{
 "cells": [
  {
   "cell_type": "markdown",
   "metadata": {
    "collapsed": true,
    "pycharm": {
     "name": "#%% md\n"
    }
   },
   "source": [
    "# I.2 Quantum circuit\n",
    "**Codercise I.2.1.**\n",
    "The code below is a quantum function with all the gates from the above circuit (which we reproduce here for convenience). However, the gates are out of order! Re-arrange the lines of the function to match the order of operations in the circuit."
   ]
  },
  {
   "cell_type": "code",
   "execution_count": 1,
   "outputs": [],
   "source": [
    "import numpy as np\n",
    "import pennylane as qml"
   ],
   "metadata": {
    "collapsed": false,
    "pycharm": {
     "name": "#%%\n"
    }
   }
  },
  {
   "cell_type": "code",
   "execution_count": 2,
   "outputs": [],
   "source": [
    "def my_circuit(theta, phi):\n",
    "    qml.CNOT(wires=[0, 1])\n",
    "    qml.RX(theta, wires=2)\n",
    "    qml.Hadamard(wires=0)\n",
    "    qml.CNOT(wires=[2, 0])\n",
    "    qml.RY(phi, wires=1)\n",
    "\n",
    "    # This is the measurement; we return the probabilities of all possible output states\n",
    "    # You'll learn more about what types of measurements are available in a later node\n",
    "    return qml.probs(wires=[0, 1, 2])"
   ],
   "metadata": {
    "collapsed": false,
    "pycharm": {
     "name": "#%%\n"
    }
   }
  },
  {
   "cell_type": "markdown",
   "source": [
    "While quantum circuits are represented as quantum functions, a quantum function alone isn't enough to run and execute a circuit.For this we nee two extra parts:\n",
    "* a device to run the circuit on\n",
    "* a QNode, which binds the circuit to the device, and executes it.\n",
    "\n",
    "In this tutorial we use quantum simulators (our device),but Pennylane provides plugins that enable us to run on real quantum hardware as well! To construct a device in Pennylane, we need to know the name or type of the device, and the number of qubits (wires) it has:\n",
    "[qml.device documentation](https://docs.pennylane.ai/en/stable/code/api/pennylane.device.html)"
   ],
   "metadata": {
    "collapsed": false,
    "pycharm": {
     "name": "#%% md\n"
    }
   }
  },
  {
   "cell_type": "code",
   "execution_count": 4,
   "outputs": [],
   "source": [
    "num_qubits = 3\n",
    "dev = qml.device('default.qubit', wires = num_qubits)"
   ],
   "metadata": {
    "collapsed": false,
    "pycharm": {
     "name": "#%%\n"
    }
   }
  },
  {
   "cell_type": "markdown",
   "source": [
    "Once we have a device, we can construct a **QNode**. QNodes are the main unit of quantum computation in PennyLane\n",
    "![QNode](https://uploads-ssl.webflow.com/5f44b6c70fbca212a2676405/60500126f402ab0b89bcbba9_Untitled.png)\n",
    "\n",
    "We have to ways to contruct a QNode:\n",
    "* from device\n",
    "* quantum function\n",
    "\n",
    "`my_qnode = qml.QNode(my_circuit, my_device)`"
   ],
   "metadata": {
    "collapsed": false,
    "pycharm": {
     "name": "#%% md\n"
    }
   }
  },
  {
   "cell_type": "markdown",
   "source": [
    "**Codercise I.2.2.**\n",
    "Complete the quantum function in the PennyLane code below to implement the following quantum circuit. We'll then construct a QNode, and run the circuit on the provided device.![QNode](./images/I.2.2.png)"
   ],
   "metadata": {
    "collapsed": false
   }
  },
  {
   "cell_type": "code",
   "execution_count": 5,
   "outputs": [
    {
     "data": {
      "text/plain": "tensor([9.87560268e-01, 0.00000000e+00, 9.94181506e-03, 0.00000000e+00,\n        2.48960206e-05, 0.00000000e+00, 2.47302134e-03, 0.00000000e+00], requires_grad=True)"
     },
     "execution_count": 5,
     "metadata": {},
     "output_type": "execute_result"
    }
   ],
   "source": [
    "# This creates a device with three wires on which PennyLane can run computations\n",
    "dev = qml.device(\"default.qubit\", wires=3)\n",
    "\n",
    "\n",
    "def my_circuit(theta, phi, omega):\n",
    "    qml.RX(theta, wires=0)\n",
    "    qml.RY(phi, wires=1)\n",
    "    qml.RZ(omega, wires=2)\n",
    "\n",
    "    qml.CNOT(wires=[0,1])\n",
    "    qml.CNOT(wires=[0,1])\n",
    "    qml.CNOT(wires=[0,1])\n",
    "\n",
    "    return qml.probs(wires=[0, 1, 2])\n",
    "\n",
    "\n",
    "# This creates a QNode, binding the function and device\n",
    "my_qnode = qml.QNode(my_circuit, dev)\n",
    "\n",
    "# We set up some values for the input parameters\n",
    "theta, phi, omega = 0.1, 0.2, 0.3\n",
    "\n",
    "# Now we can execute the QNode by calling it like we would a regular function\n",
    "my_qnode(theta, phi, omega)"
   ],
   "metadata": {
    "collapsed": false,
    "pycharm": {
     "name": "#%%\n"
    }
   }
  },
  {
   "cell_type": "markdown",
   "source": [
    "**Codercise I.2.3.**\n",
    " The quantum function below implements the circuit from the previous exercise. Apply a decorator to the quantum function to construct a QNode, then run it using the provided input parameters."
   ],
   "metadata": {
    "collapsed": false
   }
  },
  {
   "cell_type": "code",
   "execution_count": null,
   "outputs": [],
   "source": [
    "dev = qml.device(\"default.qubit\", wires=3)\n",
    "@qml.qnode(dev)\n",
    "def my_circuit(theta, phi, omega):\n",
    "    qml.RX(theta, wires=0)\n",
    "    qml.RY(phi, wires=1)\n",
    "    qml.RZ(omega, wires=2)\n",
    "    qml.CNOT(wires=[0, 1])\n",
    "    qml.CNOT(wires=[1, 2])\n",
    "    qml.CNOT(wires=[2, 0])\n",
    "    return qml.probs(wires=[0, 1, 2])\n",
    "\n",
    "\n",
    "theta, phi, omega = 0.1, 0.2, 0.3\n",
    "\n",
    "##################\n",
    "# YOUR CODE HERE #\n",
    "##################\n",
    "\n",
    "# RUN THE QNODE WITH THE PROVIDED PARAMETERS\n",
    "\n",
    "\n"
   ],
   "metadata": {
    "collapsed": false,
    "pycharm": {
     "name": "#%%\n"
    }
   }
  }
 ],
 "metadata": {
  "kernelspec": {
   "display_name": "Python 3",
   "language": "python",
   "name": "python3"
  },
  "language_info": {
   "codemirror_mode": {
    "name": "ipython",
    "version": 2
   },
   "file_extension": ".py",
   "mimetype": "text/x-python",
   "name": "python",
   "nbconvert_exporter": "python",
   "pygments_lexer": "ipython2",
   "version": "2.7.6"
  }
 },
 "nbformat": 4,
 "nbformat_minor": 0
}