{
 "cells": [
  {
   "cell_type": "markdown",
   "metadata": {
    "collapsed": true,
    "pycharm": {
     "name": "#%% md\n"
    }
   },
   "source": [
    "**Learning outcomes**\n",
    "* Define an observable, and compute its possible measurement outcomes.\n",
    "* Compute the expectation value of an observable."
   ]
  },
  {
   "cell_type": "markdown",
   "source": [
    "Rather than simply measuring outcome probabilities, when solving physical problems, we need too compute a measurable quantity that relates to some property os system (i.e. energy, momentum).Such properties are called **observables**. Mathematically, observables correspond to Hermitian matrics, i.e., matrices $B$ such that $B=B^*$. Each observable has some set of possible measurement outcomes, corresponding to their real eigenvalues. HOwever, since measurement is probabilistic, we usually want to look for the **expectation value**, demoted by $<B>$, of that physical property."
   ],
   "metadata": {
    "collapsed": false,
    "pycharm": {
     "name": "#%% md\n"
    }
   }
  },
  {
   "cell_type": "markdown",
   "source": [
    "It is very straightforward to compute expectation values in PennyLane. We can simplify replace the `qml.probs` of the previous sections with `qml.expval`, and specify the observables to be measured. Common choices are `qml.PauliX, qml.PauliY, qml.PauliZ` as many algorithms that solve physical problems require computing the expectation values of the Pauli operators. The possible outcomes of measuring any Pauli-based expectation value are either $1$ or $-1$, as these are their eigenvalues.\n",
    "These three Pauli operators are unitary and Hermitian, so can be used as gates in circuit, and as observables."
   ],
   "metadata": {
    "collapsed": false,
    "pycharm": {
     "name": "#%% md\n"
    }
   }
  },
  {
   "cell_type": "markdown",
   "source": [
    "[qml.probs documentation](https://docs.pennylane.ai/en/stable/code/api/pennylane.probs.html)\n",
    "[qml.expval documentation](https://docs.pennylane.ai/en/stable/code/api/pennylane.expval.html)"
   ],
   "metadata": {
    "collapsed": false
   }
  },
  {
   "cell_type": "code",
   "execution_count": 1,
   "outputs": [],
   "source": [
    "import numpy as np\n",
    "import pennylane as qml"
   ],
   "metadata": {
    "collapsed": false,
    "pycharm": {
     "name": "#%%\n"
    }
   }
  },
  {
   "cell_type": "markdown",
   "source": [
    "**Codercise I.10.1**\n",
    "Design and run a PennyLane circuit that performs the following, where $<Y>$ indicates measurement of the `PauliY` observable.\n",
    "![circuit](./images/I.10.1.png)"
   ],
   "metadata": {
    "collapsed": false
   }
  },
  {
   "cell_type": "code",
   "execution_count": 2,
   "outputs": [
    {
     "name": "stdout",
     "output_type": "stream",
     "text": [
      "-0.7071067811865471\n"
     ]
    }
   ],
   "source": [
    "dev = qml.device('default.qubit', wires=1)\n",
    "\n",
    "@qml.qnode(dev)\n",
    "def circuit():\n",
    "    # IMPLEMENT THE CIRCUIT IN THE PICTURE AND MEASURE PAULI Y\n",
    "    qml.RX(np.pi/4, wires=0)\n",
    "    qml.Hadamard(wires=0)\n",
    "    qml.PauliZ(wires=0)\n",
    "\n",
    "    return qml.expval(qml.PauliY(0))\n",
    "\n",
    "print(circuit())"
   ],
   "metadata": {
    "collapsed": false,
    "pycharm": {
     "name": "#%%\n"
    }
   }
  },
  {
   "cell_type": "markdown",
   "source": [
    "You can also specify a custom observable using `qml.Hermitian`\n",
    "[qml.Hermitian](https://docs.pennylane.ai/en/stable/code/api/pennylane.Hermitian.html)\n",
    "`#single-qubit Hemitian observable`\n",
    "`Obs = np.array([[3,4i],[-4i,3]])`\n",
    "`@qml.qnode(dev)`\n",
    "`def circuit():`\n",
    "`...`\n",
    "`return qml.expval(qml.Hermitian(Obs, wires=0))`"
   ],
   "metadata": {
    "collapsed": false
   }
  },
  {
   "cell_type": "markdown",
   "source": [
    "In the previous sections, we computed measurement outcome probabilities and expectation values analytically. Of course, this is impossible to do on hardware. When we run a circuit and take a measurement, we get a single data point that tells us in which state we observed a qubit for a particular run. Since this process is random, in order to get a clearer picture of the statistics we must perform the experiment many, many times. Each time is typically called a shot, or a sample. We can sample from the output distribution in order to estimate expectation values and measurement outcome probabilities in situations where it isn't possible to do so analytically.\n",
    "In PennyLane, the number of shots to take during an experiment is specified upon device construction\n",
    "`dev = qml.device('default.qubit', wires=1, shots=1000)`"
   ],
   "metadata": {
    "collapsed": false
   }
  },
  {
   "cell_type": "markdown",
   "source": [
    "**CoderciseI.10.2.**\n",
    "In the code below is a list of possible numbers of shots. For each value, initialize a device, then create and QNode that runs circuit from the previous exercise (reproduced below for convenience). What happens to the expectation value as you increase the number shots?\n",
    "[qml.math.unwrap](https://docs.pennylane.ai/en/stable/code/api/pennylane.math.unwrap.html)"
   ],
   "metadata": {
    "collapsed": false
   }
  },
  {
   "cell_type": "code",
   "execution_count": 8,
   "outputs": [
    {
     "name": "stdout",
     "output_type": "stream",
     "text": [
      "-0.707826\n",
      "-0.706678\n",
      "-0.706304\n",
      "-0.70585\n",
      "-0.70684\n",
      "[-0.707826, -0.706678, -0.706304, -0.70585, -0.70684]\n"
     ]
    }
   ],
   "source": [
    "# An array to store your results\n",
    "shot_results = []\n",
    "\n",
    "# Different numbers of shots\n",
    "shot_values = [100, 1000, 10000, 100000, 1000000]\n",
    "\n",
    "for shots in shot_values:\n",
    "# CREATE A DEVICE, CREATE A QNODE, AND RUN IT\n",
    "# STORE RESULT IN SHOT_RESULTS ARRAY\n",
    "    dev = qml.device('default.qubit', wires = 1, shots =shots)\n",
    "    shot_results.append(circuit())\n",
    "    print(shot_results[-1])\n",
    "\n",
    "\n",
    "\n",
    "print(qml.math.unwrap(shot_results))\n"
   ],
   "metadata": {
    "collapsed": false,
    "pycharm": {
     "name": "#%%\n"
    }
   }
  },
  {
   "cell_type": "markdown",
   "source": [
    "What happens under the hood in the exercise above is that the circuit is run multiple times, and a measurement is made, yielding on of the two eigenvalues($1$ aor $-1$). We can use the result of these samples to compute the expectation value in the same way as we would normally take a `weighted average`,i.e.,\n",
    "$$<Y> = 1*(number of 1s)+(-1)*(number of -1s)\\over number of shots$$"
   ],
   "metadata": {
    "collapsed": false
   }
  },
  {
   "cell_type": "markdown",
   "source": [
    "In PennyLane, we can access samples directly by returning `qml.sample` rather than `qml.expval`."
   ],
   "metadata": {
    "collapsed": false,
    "pycharm": {
     "name": "#%% md\n"
    }
   }
  },
  {
   "cell_type": "markdown",
   "source": [
    "**Codercise I.10.3.** Using the circuit from earlier, replace the `qml.expval` measurement with `qml.sample.` Then, write a function to compute an estimate of the expectation value based on the samples."
   ],
   "metadata": {
    "collapsed": false
   }
  },
  {
   "cell_type": "code",
   "execution_count": 9,
   "outputs": [
    {
     "name": "stdout",
     "output_type": "stream",
     "text": [
      "-0.7046\n"
     ]
    }
   ],
   "source": [
    "dev = qml.device(\"default.qubit\", wires=1, shots=100000)\n",
    "\n",
    "@qml.qnode(dev)\n",
    "def circuit():\n",
    "    qml.RX(np.pi/4, wires=0)\n",
    "    qml.Hadamard(wires=0)\n",
    "    qml.PauliZ(wires=0)\n",
    "\n",
    "    # RETURN THE MEASUREMENT SAMPLES OF THE CORRECT OBSERVABLE\n",
    "    return qml.sample(qml.PauliY(0))\n",
    "\n",
    "\n",
    "def compute_expval_from_samples(samples):\n",
    "    \"\"\"Compute the expectation value of an observable given a set of\n",
    "    sample outputs. You can assume that there are two possible outcomes,\n",
    "    1 and -1.\n",
    "\n",
    "    Args:\n",
    "        samples (array[float]): 100000 samples representing the results of\n",
    "            running the above circuit.\n",
    "\n",
    "    Returns:\n",
    "        float: the expectation value computed based on samples.\n",
    "    \"\"\"\n",
    "\n",
    "    estimated_expval = 0\n",
    "    number_shots = 100000\n",
    "    eigenvalue_one = 1\n",
    "    eigenvalue_two = -1\n",
    "\n",
    "    # USE THE SAMPLES TO ESTIMATE THE EXPECTATION VALUE\n",
    "    count_eigenvalue_one = np.count_nonzero(samples == eigenvalue_one)\n",
    "    count_eigenvalue_two = np.count_nonzero(samples == eigenvalue_two)\n",
    "    estimated_expval = (eigenvalue_one*count_eigenvalue_one + eigenvalue_two*count_eigenvalue_two)/number_shots\n",
    "\n",
    "    return estimated_expval\n",
    "\n",
    "\n",
    "samples = circuit()\n",
    "print(compute_expval_from_samples(samples))"
   ],
   "metadata": {
    "collapsed": false,
    "pycharm": {
     "name": "#%%\n"
    }
   }
  },
  {
   "cell_type": "markdown",
   "source": [
    "**Codercise I.10.4**\n",
    "Using the code below as a staring point, explore how the accuracy of the expectation value depends on the number of shots.For example, if we run 100 experiments with 100 shots each, what are the mean and variance of the distribution od expectation values obtained? HOw does this variance scale with the number of sots?\n",
    "\n",
    "To accomplish this, we will use a very simple circuit that consists of a Hadamard and a measurement of the `qml.PauliZ` observable, which will allow us to directly extract the dependence of variance on the number of shots. We will plot your result; based on the plot, complete the `variance_scaling` function below to define the relationship between variance and shots."
   ],
   "metadata": {
    "collapsed": false,
    "pycharm": {
     "name": "#%% md\n"
    }
   }
  },
  {
   "cell_type": "code",
   "execution_count": 11,
   "outputs": [],
   "source": [
    "def variance_experiment(n_shots):\n",
    "    \"\"\"Run an experiment to determine the variance in an expectation\n",
    "    value computed with a given number of shots.\n",
    "\n",
    "    Args:\n",
    "        n_shots (int): The number of shots\n",
    "\n",
    "    Returns:\n",
    "        float: The variance in expectation value we obtain running the\n",
    "        circuit 100 times with n_shots shots each.\n",
    "    \"\"\"\n",
    "\n",
    "    # To obtain a variance, we run the circuit multiple times at each shot value.\n",
    "    n_trials = 100\n",
    "    array_expvals = []\n",
    "\n",
    "\n",
    "    # CREATE A DEVICE WITH GIVEN NUMBER OF SHOTS\n",
    "    dev = qml.device('default.qubit', wires=1, shots = n_shots)\n",
    "    # DECORATE THE CIRCUIT BELOW TO CREATE A QNODE\n",
    "    @qml.qnode(dev)\n",
    "    def circuit():\n",
    "        qml.Hadamard(wires=0)\n",
    "        return qml.expval(qml.PauliZ(wires=0))\n",
    "\n",
    "    # RUN THE QNODE N_TRIALS TIMES AND RETURN THE VARIANCE OF THE RESULTS\n",
    "    array_expvals.append(circuit() for i in n_trials)\n",
    "\n",
    "   #mean = np.mean(array_expval)\n",
    "    variance = np.var(array_expvals)\n",
    "\n",
    "    return variance\n",
    "\n",
    "\n",
    "def variance_scaling(n_shots):\n",
    "    \"\"\"Once you have determined how the variance in expectation value scales\n",
    "    with the number of shots, complete this function to programmatically\n",
    "    represent the relationship.\n",
    "\n",
    "    Args:\n",
    "        n_shots (int): The number of shots\n",
    "\n",
    "    Returns:\n",
    "        float: The variance in expectation value we expect to see when we run\n",
    "        an experiment with n_shots shots.\n",
    "    \"\"\"\n",
    "\n",
    "    estimated_variance = 0\n",
    "    eigenvalue_one = 1\n",
    "    eigenvalue_two = -1\n",
    "\n",
    "    # ESTIMATE THE VARIANCE BASED ON SHOT NUMBER\n",
    "    # CREATE A DEVICE WITH GIVEN NUMBER OF SHOTS\n",
    "    dev = qml.device('default.qubit', wires=1, shots = n_shots)\n",
    "    # DECORATE THE CIRCUIT BELOW TO CREATE A QNODE\n",
    "    @qml.qnode(dev)\n",
    "    def circuit():\n",
    "        qml.Hadamard(wires=0)\n",
    "        return qml.sample(qml.PauliZ(wires=0))\n",
    "    samples = circuit()\n",
    "    count_eigenvalues_one = np.count_nonzero(samples == eigenvalue_one)\n",
    "    count_eigenvalues_two = np.count_nonzero(samples == eigenvalue_two)\n",
    "    estimated_variance = (eigenvalue_one * count_eigenvalues_one + eigenvalue_two * count_eigenvalues_two)/n_shots\n",
    "    return estimated_variance\n",
    "\n",
    "# Various numbers of shots; you can change this\n",
    "shot_vals = [10, 20, 40, 100, 200, 400, 1000, 2000, 4000]\n",
    "\n",
    "# Used to plot your results\n",
    "#results_experiment = [variance_experiment(shots) for shots in shot_vals]\n",
    "results_scaling = [variance_scaling(shots) for shots in shot_vals]\n",
    "#plot = plotter(shot_vals, results_experiment, results_scaling)"
   ],
   "metadata": {
    "collapsed": false,
    "pycharm": {
     "name": "#%%\n"
    }
   }
  },
  {
   "cell_type": "code",
   "execution_count": null,
   "outputs": [],
   "source": [],
   "metadata": {
    "collapsed": false,
    "pycharm": {
     "name": "#%%\n"
    }
   }
  }
 ],
 "metadata": {
  "kernelspec": {
   "display_name": "Python 3",
   "language": "python",
   "name": "python3"
  },
  "language_info": {
   "codemirror_mode": {
    "name": "ipython",
    "version": 2
   },
   "file_extension": ".py",
   "mimetype": "text/x-python",
   "name": "python",
   "nbconvert_exporter": "python",
   "pygments_lexer": "ipython2",
   "version": "2.7.6"
  }
 },
 "nbformat": 4,
 "nbformat_minor": 0
}