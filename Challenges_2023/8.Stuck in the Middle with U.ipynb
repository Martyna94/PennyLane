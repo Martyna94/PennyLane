{
 "cells": [
  {
   "cell_type": "markdown",
   "metadata": {
    "collapsed": true,
    "pycharm": {
     "name": "#%% md\n"
    }
   },
   "source": [
    "## Tutorial #8 - Mid-circuit measurements\n",
    "In classical computations, inserting control flow — e.g, if statements — right in the middle of a large computation is no problem at all since measuring variables does not affect the output of the computation. The same can't be said about quantum computations — if we measure, we better be careful!\n",
    "\n",
    "In this challenge, you'll look at how mid-circuit measurements work in PennyLane.\n",
    "\n",
    "**Challenge code**\n",
    "In the code below, you are given a function called circuit. You must complete this function by constructing the following four-qubit circuit:\n",
    "![circuit](./images/8.Stuck%20in%20the%20Middle%20with%20U_1.png)\n",
    "The circuit has a Hadamard gate on every qubit, an $R_x$ gate, a couple of CNOTs, and then the mid-circuit measurements. Note here that the measurements happen on the first and third qubits, and that the [qml.U3](https://docs.pennylane.ai/en/stable/code/api/pennylane.U3.html) gate is only applied to the fourth qubit if the following condition is met upon measuring the first and third wires: $m_0 + m_2 >=1$ (i.e. at least one of them is $1$). The last operator, `qml.PauliZ` on the fourth qubit, is applied regardless.\n",
    "\n",
    "The [qml.measure](https://docs.pennylane.ai/en/stable/code/api/pennylane.measure.html) function should be helpful to you!"
   ]
  },
  {
   "cell_type": "markdown",
   "source": [
    "**Input**\n",
    "As input to this problem, you are given:\n",
    "\n",
    "* angles (list(float)): a list of angles containing $\\theta_0$,$\\theta_1$ , $\\theta_2$, and $\\theta_3$ in that order. Use this to create the circuit!\n",
    "\n",
    "**Output**\n",
    "This code must output a numpy.tensor containing the probabilities associated to a computational basis measurement on the fourth"
   ],
   "metadata": {
    "collapsed": false
   }
  },
  {
   "cell_type": "code",
   "execution_count": null,
   "outputs": [],
   "source": [],
   "metadata": {
    "collapsed": false,
    "pycharm": {
     "name": "#%%\n"
    }
   }
  },
  {
   "cell_type": "code",
   "execution_count": null,
   "outputs": [],
   "source": [
    "import json\n",
    "import pennylane as qml\n",
    "import pennylane.numpy as np\n",
    "\n",
    "n_qubits = 4\n",
    "dev = qml.device(\"default.qubit\", wires=n_qubits)\n",
    "\n",
    "@qml.qnode(dev)\n",
    "def circuit(angles):\n",
    "    \"\"\"A quantum circuit made from the quantum function U.\n",
    "\n",
    "    Args:\n",
    "        angles (list(float)): A list of angles containing theta_0, theta_1, theta_2, and theta_3 in that order.\n",
    "    Returns:\n",
    "        (numpy.tensor): The probability of the fourth qubit.\n",
    "    \"\"\"\n",
    "\n",
    "\n",
    "    # Put your code here #\n",
    "\n",
    "\n",
    "    return qml.probs(wires=3)\n",
    "\n",
    "\n",
    "# These functions are responsible for testing the solution.\n",
    "def run(test_case_input: str) -> str:\n",
    "    angles = json.loads(test_case_input)\n",
    "    output = circuit(angles).tolist()\n",
    "    return str(output)\n",
    "\n",
    "def check(solution_output: str, expected_output: str) -> None:\n",
    "    solution_output = json.loads(solution_output)\n",
    "    expected_output = json.loads(expected_output)\n",
    "\n",
    "    assert np.allclose(solution_output, expected_output, rtol=1e-4)\n",
    "\n",
    "\n",
    "test_cases = [['[1.0, 1.5, 2.0, 2.5]', '[0.79967628, 0.20032372]']]\n",
    "\n",
    "for i, (input_, expected_output) in enumerate(test_cases):\n",
    "    print(f\"Running test case {i} with input '{input_}'...\")\n",
    "\n",
    "    try:\n",
    "        output = run(input_)\n",
    "\n",
    "    except Exception as exc:\n",
    "        print(f\"Runtime Error. {exc}\")\n",
    "\n",
    "    else:\n",
    "        if message := check(output, expected_output):\n",
    "            print(f\"Wrong Answer. Have: '{output}'. Want: '{expected_output}'.\")\n",
    "\n",
    "        else:\n",
    "            print(\"Correct!\")"
   ],
   "metadata": {
    "collapsed": false,
    "pycharm": {
     "name": "#%%\n"
    }
   }
  }
 ],
 "metadata": {
  "kernelspec": {
   "display_name": "Python 3",
   "language": "python",
   "name": "python3"
  },
  "language_info": {
   "codemirror_mode": {
    "name": "ipython",
    "version": 2
   },
   "file_extension": ".py",
   "mimetype": "text/x-python",
   "name": "python",
   "nbconvert_exporter": "python",
   "pygments_lexer": "ipython2",
   "version": "2.7.6"
  }
 },
 "nbformat": 4,
 "nbformat_minor": 0
}