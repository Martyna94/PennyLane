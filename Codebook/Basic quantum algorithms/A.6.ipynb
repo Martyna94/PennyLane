{
 "cells": [
  {
   "cell_type": "markdown",
   "metadata": {
    "collapsed": true,
    "pycharm": {
     "name": "#%% md\n"
    }
   },
   "source": [
    "**Learning objectives**\n",
    "\n",
    "* Implement the Deutsch-Jozsa algorithm.\n",
    "* Compare the algorithmic performance of Deutsch-Jozsa to deterministic and classically random strategies."
   ]
  },
  {
   "cell_type": "code",
   "execution_count": 1,
   "outputs": [],
   "source": [
    "import numpy as np\n",
    "import pennylane as qml"
   ],
   "metadata": {
    "collapsed": false,
    "pycharm": {
     "name": "#%%\n"
    }
   }
  },
  {
   "cell_type": "markdown",
   "source": [
    "![circuit](./images/A.6.1.png)"
   ],
   "metadata": {
    "collapsed": false
   }
  },
  {
   "cell_type": "markdown",
   "source": [
    "**Codercise A.6.1.** Implement the circuit above for a set of solutions `combos`, and return probabilities. As before, you are given `multisol_oracle_matrix(combos)`, which returns the associated oracle in matrix form.\n",
    "\n",
    "Hitting submit will plot the probability of observing $0$ as a function of the size of the solution set; as for a single solution, this does not depend on the secret combinations themselves. What pattern do you observe?"
   ],
   "metadata": {
    "collapsed": false
   }
  },
  {
   "cell_type": "code",
   "execution_count": 2,
   "outputs": [],
   "source": [
    "def multisol_oracle_matrix(combos):\n",
    "    \"\"\"Return the oracle matrix for a set of solutions.\n",
    "\n",
    "    Args:\n",
    "        combos (list[list[int]]): A list of secret bit strings.\n",
    "\n",
    "    Returns:\n",
    "        array[float]: The matrix representation of the oracle.\n",
    "    \"\"\"\n",
    "    indices = [np.ravel_multi_index(combo, [2]*len(combo)) for combo in combos]\n",
    "    my_array = np.identity(2**len(combos[0])) # Create the identity matrix\n",
    "    for i in indices:\n",
    "        my_array[i,i] = -1\n",
    "    return my_array\n"
   ],
   "metadata": {
    "collapsed": false,
    "pycharm": {
     "name": "#%%\n"
    }
   }
  },
  {
   "cell_type": "code",
   "execution_count": 3,
   "outputs": [],
   "source": [
    "n_bits = 4\n",
    "dev = qml.device(\"default.qubit\", wires=n_bits)\n",
    "\n",
    "@qml.qnode(dev)\n",
    "def multisol_hoh_circuit(combos):\n",
    "    \"\"\"A circuit which applies Hadamard, multi-solution oracle, then Hadamard.\n",
    "\n",
    "    Args:\n",
    "        combos (list[list[int]]): A list of secret bit strings.\n",
    "\n",
    "    Returns:\n",
    "        array[float]: Probabilities for observing different outcomes.\n",
    "    \"\"\"\n",
    "    qml.broadcast(qml.Hadamard,pattern=\"single\",wires=[i for i in range(n_bits)])\n",
    "\n",
    "    oracle = multisol_oracle_matrix(combos)\n",
    "    qml.QubitUnitary(oracle,wires=[i for i in range(n_bits)])\n",
    "\n",
    "    qml.broadcast(qml.Hadamard, pattern=\"single\", wires=[i for i in range(n_bits)])\n",
    "\n",
    "    return qml.probs(wires=range(n_bits))"
   ],
   "metadata": {
    "collapsed": false,
    "pycharm": {
     "name": "#%%\n"
    }
   }
  },
  {
   "cell_type": "markdown",
   "source": [
    "![circuit](./images/A.6.1.2.png)"
   ],
   "metadata": {
    "collapsed": false
   }
  },
  {
   "cell_type": "markdown",
   "source": [
    "The probability of observing $0$ appears to be $1$ when there are no solutions, and decreases until it hits zero at the halfway point. It then climbs symmetrically back up again to hit $1$ when all the combinations are solutions. The probability to observe $0$ turns out to be $|A_0|^2$, where\n",
    "![circuit](./images/A.6.1.3.png)\n",
    "for a set od solutions $S$ and non-solutions $T$. If half the combinations are solutions, $|S| = |T| = 2^{n-1}$ then $|A_0|^2 = 0$. We call such a function *balanced*. If all or none are solutions, $|S| = 0$ or $|S| = 2^n$ then $$|A_0|^2$ = 1$, and we call the function $constant$, since it always output the same bit."
   ],
   "metadata": {
    "collapsed": false
   }
  },
  {
   "cell_type": "markdown",
   "source": [
    "**Codercise A.6.2.** Implement the Deutsch-Jozsa algorithm. Given a constant or balanced function based on the `promise_var` flag, implement the circuit from above to determine which it is. The function `multisol_hoh_circuit` from the previous exercise is available for you to use."
   ],
   "metadata": {
    "collapsed": false
   }
  },
  {
   "cell_type": "code",
   "execution_count": null,
   "outputs": [],
   "source": [
    "def deutsch_jozsa(promise_var):\n",
    "    \"\"\"Implement the Deutsch-Jozsa algorithm and guess the promise variable.\n",
    "\n",
    "    Args:\n",
    "        promise_var (int): Indicates whether the function is balanced (0) or constant (1).\n",
    "\n",
    "    Returns:\n",
    "        int: A guess at the promise variable.\n",
    "    \"\"\"\n",
    "    if promise_var == 0:\n",
    "        how_many = 2**(n_bits - 1)\n",
    "    else:\n",
    "        how_many = np.random.choice([0, 2**n_bits]) # Choose all or nothing randomly\n",
    "    combos = multisol_combo(n_bits, how_many) # Generate random combinations\n",
    "\n",
    "    probs = multisol_hoh_circuit(combos)\n",
    "    if np.isclose(probs[0], 1):\n",
    "        return 1\n",
    "    else:\n",
    "        return 0\n",
    "\n"
   ],
   "metadata": {
    "collapsed": false,
    "pycharm": {
     "name": "#%%\n"
    }
   }
  }
 ],
 "metadata": {
  "kernelspec": {
   "display_name": "Python 3",
   "language": "python",
   "name": "python3"
  },
  "language_info": {
   "codemirror_mode": {
    "name": "ipython",
    "version": 2
   },
   "file_extension": ".py",
   "mimetype": "text/x-python",
   "name": "python",
   "nbconvert_exporter": "python",
   "pygments_lexer": "ipython2",
   "version": "2.7.6"
  }
 },
 "nbformat": 4,
 "nbformat_minor": 0
}