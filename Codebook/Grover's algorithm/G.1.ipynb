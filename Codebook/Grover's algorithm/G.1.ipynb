{
 "cells": [
  {
   "cell_type": "markdown",
   "source": [
    "**Learning outcomes**\n",
    "\n",
    "* Describe the strategy of amplitude amplification.\n",
    "* Define the diffusion operator and visualize its effect on the uniform superposition."
   ],
   "metadata": {
    "collapsed": false
   }
  },
  {
   "cell_type": "code",
   "execution_count": 1,
   "outputs": [],
   "source": [
    "import json\n",
    "import pennylane as qml\n",
    "import pennylane.numpy as np"
   ],
   "metadata": {
    "collapsed": false,
    "pycharm": {
     "name": "#%%\n"
    }
   }
  },
  {
   "cell_type": "markdown",
   "metadata": {
    "collapsed": true,
    "pycharm": {
     "name": "#%% md\n"
    }
   },
   "source": [
    "**Codercise G.1.1.**\n",
    " Complete the following code for returning the amplitudes after applying the oracle to the uniform superposition. The oracle is accessible as oracle_matrix(combo), where combo is the secret combination. Amplitudes will be plotted for combo = [0, 0, 0, 1]."
   ]
  },
  {
   "cell_type": "code",
   "execution_count": 3,
   "outputs": [],
   "source": [
    "n_bits = 4\n",
    "dev = qml.device(\"default.qubit\", wires=n_bits)\n",
    "\n",
    "def oracle_matrix(combo):\n",
    "    \"\"\"Return the oracle matrix for a secret combination.\n",
    "\n",
    "    Args:\n",
    "        combo (list[int]): A list of bits representing a secret combination.\n",
    "\n",
    "    Returns:\n",
    "        array[float]: The matrix representation of the oracle.\n",
    "    \"\"\"\n",
    "    index = np.ravel_multi_index(combo, [2]*len(combo)) # Index of solution\n",
    "    my_array = np.identity(2**len(combo)) # Create the identity matrix\n",
    "    my_array[index, index] = -1\n",
    "    return my_array\n",
    "\n",
    "@qml.qnode(dev)\n",
    "def oracle_amp(combo):\n",
    "    \"\"\"Prepare the uniform superposition and apply the oracle.\n",
    "\n",
    "    Args:\n",
    "        combo (list[int]): A list of bits representing the secret combination.\n",
    "\n",
    "    Returns:\n",
    "        array[complex]: The quantum state (amplitudes) after applying the oracle.\n",
    "    \"\"\"\n",
    "    ## superposition\n",
    "    qml.broadcast(qml.Hadamard, wires=[i for i in range(n_bits)], pattern=\"single\")\n",
    "    ## apply the oracle\n",
    "    oracle = oracle_matrix(combo)\n",
    "    qml.QubitUnitary(oracle,wires=[i for i in range(n_bits)])\n",
    "    return qml.state()"
   ],
   "metadata": {
    "collapsed": false,
    "pycharm": {
     "name": "#%%\n"
    }
   }
  },
  {
   "cell_type": "markdown",
   "source": [
    "**Codercise G.1.2.**\n",
    "(a) Define the diffusion operator as a matrix, and visualize its effect on the amplitudes in the post-oracle state. We'll plot the amplitudes for combo=[0, 0, 0, 0]. Note that 'oracle_matrix(combo)' remains available.Hint.\n",
    "Hint. The diffusion matrix can be written  $D = \\frac{1}{2^{n-1}}1-I$,\n",
    "where $1$ is the $2^n x 2^n$ matrix with $1$ in each entry. You will therefore find `np.ones()` useful in addition to `np.eye()`."
   ],
   "metadata": {
    "collapsed": false
   }
  },
  {
   "cell_type": "code",
   "execution_count": 4,
   "outputs": [],
   "source": [
    "n_bits = 4\n",
    "\n",
    "def diffusion_matrix():\n",
    "    \"\"\"Return the diffusion matrix.\n",
    "\n",
    "    Returns:\n",
    "        array[float]: The matrix representation of the diffusion operator.\n",
    "    \"\"\"\n",
    "    size = 2**n_bits\n",
    "    I = np.eye(size)\n",
    "    fraction = 1/(2**(n_bits-1))\n",
    "    diffusion = fraction * np.ones(shape = size)\n",
    "    diffusion = diffusion - I\n",
    "    return diffusion\n",
    "\n",
    "@qml.qnode(dev)\n",
    "def difforacle_amp(combo):\n",
    "    \"\"\"Apply the oracle and diffusion matrix to the uniform superposition.\n",
    "\n",
    "    Args:\n",
    "        combo (list[int]): A list of bits representing the secret combination.\n",
    "\n",
    "    Returns:\n",
    "        array[complex]: The quantum state (amplitudes) after applying the oracle\n",
    "        and diffusion.\n",
    "    \"\"\"\n",
    "    ## superposition\n",
    "    qml.broadcast(qml.Hadamard, wires=[i for i in range(n_bits)], pattern=\"single\")\n",
    "    ## apply the oracle\n",
    "    oracle = oracle_matrix(combo)\n",
    "    qml.QubitUnitary(oracle,wires=[i for i in range(n_bits)])\n",
    "    diffusion = diffusion_matrix()\n",
    "    qml.QubitUnitary(diffusion,wires=[i for i in range(n_bits)])\n",
    "    return qml.state()"
   ],
   "metadata": {
    "collapsed": false,
    "pycharm": {
     "name": "#%%\n"
    }
   }
  },
  {
   "cell_type": "markdown",
   "source": [
    "(b) Complete the code below and verify that after two Grover iterations, the amplitude for the solution state is amplified. The functions `oracle_matrix(combo)` and `diffusion_matrix()` remain available."
   ],
   "metadata": {
    "collapsed": false
   }
  },
  {
   "cell_type": "code",
   "execution_count": null,
   "outputs": [],
   "source": [
    "@qml.qnode(dev)\n",
    "def two_difforacle_amp(combo):\n",
    "    \"\"\"Apply the Grover operator twice to the uniform superposition.\n",
    "\n",
    "    Args:\n",
    "        combo (list[int]): A list of bits representing the secret combination.\n",
    "\n",
    "    Returns:\n",
    "        array[complex]: The resulting quantum state.\n",
    "    \"\"\"\n",
    "    qml.broadcast(qml.Hadamard, wires=[i for i in range(n_bits)], pattern=\"single\")\n",
    "\n",
    "    oracle = oracle_matrix(combo)\n",
    "    diffusion = diffusion_matrix()\n",
    "\n",
    "    for i in range(2):\n",
    "        qml.QubitUnitary(oracle,wires=[i for i in range(n_bits)])\n",
    "        qml.QubitUnitary(diffusion,wires=[i for i in range(n_bits)])\n",
    "\n",
    "    return qml.state()\n"
   ],
   "metadata": {
    "collapsed": false,
    "pycharm": {
     "name": "#%%\n"
    }
   }
  }
 ],
 "metadata": {
  "kernelspec": {
   "display_name": "Python 3",
   "language": "python",
   "name": "python3"
  },
  "language_info": {
   "codemirror_mode": {
    "name": "ipython",
    "version": 2
   },
   "file_extension": ".py",
   "mimetype": "text/x-python",
   "name": "python",
   "nbconvert_exporter": "python",
   "pygments_lexer": "ipython2",
   "version": "2.7.6"
  }
 },
 "nbformat": 4,
 "nbformat_minor": 0
}