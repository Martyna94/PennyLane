{
 "cells": [
  {
   "cell_type": "markdown",
   "metadata": {
    "collapsed": true,
    "pycharm": {
     "name": "#%% md\n"
    }
   },
   "source": [
    "**Learning outcomes**\n",
    "\n",
    "* Prove why we cannot design a quantum circuit that can clone arbitrary states.\n",
    "* Describe the quantum teleportation protocol."
   ]
  },
  {
   "cell_type": "code",
   "execution_count": 2,
   "outputs": [],
   "source": [
    "import numpy as np\n",
    "import pennylane as qml"
   ],
   "metadata": {
    "collapsed": false,
    "pycharm": {
     "name": "#%%\n"
    }
   }
  },
  {
   "cell_type": "markdown",
   "source": [
    "**Codercise I.15.1.** (a) Prepare your favourite single-qubit quantum state on the first qubit in the `state_preparation` function below. It can be anything, as long as it's a single qubit state (you can even leave the function as-is, or make it parametrized!).\n",
    "\n",
    "Note that this quantum function will be used as a subroutine; therefore you do not need to return a measurement or create a QNode."
   ],
   "metadata": {
    "collapsed": false
   }
  },
  {
   "cell_type": "code",
   "execution_count": null,
   "outputs": [],
   "source": [
    "def state_preparation(phi, theta, omega):\n",
    "\n",
    "    # OPTIONALLY UPDATE THIS STATE PREPARATION ROUTINE\n",
    "\n",
    "    qml.Hadamard(wires=0)\n",
    "    qml.Rot(phi,theta,omega, wires = 0)"
   ],
   "metadata": {
    "collapsed": false,
    "pycharm": {
     "name": "#%%\n"
    }
   }
  },
  {
   "cell_type": "markdown",
   "source": [
    "(b) Run your circuit below to see the state you will teleport. If you made a custom state preparation function, please copy it down from the cell above and use it as a replacement for the `state_preparation` function below."
   ],
   "metadata": {
    "collapsed": false
   }
  },
  {
   "cell_type": "code",
   "execution_count": 3,
   "outputs": [
    {
     "name": "stdout",
     "output_type": "stream",
     "text": [
      "[0.61930934-0.13273109j 0.75978977+0.14682614j]\n"
     ]
    }
   ],
   "source": [
    "dev = qml.device(\"default.qubit\", wires=1)\n",
    "\n",
    "# OPTIONALLY REPLACE THIS STATE PREPARATION ROUTINE WITH\n",
    "# THE ONE FROM THE PREVIOUS EXERCISE\n",
    "\n",
    "def state_preparation(phi, theta, omega):\n",
    "\n",
    "    # OPTIONALLY UPDATE THIS STATE PREPARATION ROUTINE\n",
    "\n",
    "    qml.Hadamard(wires=0)\n",
    "    qml.Rot(phi,theta,omega, wires = 0)\n",
    "\n",
    "\n",
    "@qml.qnode(dev)\n",
    "def state_prep_only():\n",
    "    state_preparation(phi = 0.1, theta=0.2, omega=0.3)\n",
    "    return qml.state()\n",
    "\n",
    "print(state_prep_only())"
   ],
   "metadata": {
    "collapsed": false,
    "pycharm": {
     "name": "#%%\n"
    }
   }
  },
  {
   "cell_type": "markdown",
   "source": [
    "**Codercise I.15.2.**\n",
    "Write a quantum function that prepares a shared entangled state on the second and third qubits.\n",
    "\n",
    "Recall the teleportation circuit looks like this:\n",
    "![circuit](./images/I.15.2.1.png)\n",
    "This function will also be used as a subroutine, so you do not need to return any measurements."
   ],
   "metadata": {
    "collapsed": false,
    "pycharm": {
     "name": "#%% md\n"
    }
   }
  },
  {
   "cell_type": "code",
   "execution_count": null,
   "outputs": [],
   "source": [
    "def entangle_qubits():\n",
    "\n",
    "# ENTANGLE THE SECOND QUBIT (WIRES=1) AND THE THIRD QUBIT\n",
    "\n"
   ],
   "metadata": {
    "collapsed": false,
    "pycharm": {
     "name": "#%%\n"
    }
   }
  }
 ],
 "metadata": {
  "kernelspec": {
   "display_name": "Python 3",
   "language": "python",
   "name": "python3"
  },
  "language_info": {
   "codemirror_mode": {
    "name": "ipython",
    "version": 2
   },
   "file_extension": ".py",
   "mimetype": "text/x-python",
   "name": "python",
   "nbconvert_exporter": "python",
   "pygments_lexer": "ipython2",
   "version": "2.7.6"
  }
 },
 "nbformat": 4,
 "nbformat_minor": 0
}