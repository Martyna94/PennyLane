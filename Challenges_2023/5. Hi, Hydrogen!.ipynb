{
 "cells": [
  {
   "cell_type": "markdown",
   "metadata": {
    "collapsed": true,
    "pycharm": {
     "name": "#%% md\n"
    }
   },
   "source": [
    "## Tutorial #5 - Hi, Hydrogen!\n",
    "The Variational Quantum Eigensolver (VQE) algorithm has been touted as a game-changing near-term quantum algorithm. In particular, VQE is able to efficiently simulate low-energy properties of small molecules. In this challenge, you will calculate the energy of the hydrogen molecule for various molecular charges and bond length combinations.\n",
    "![chart](./images/5.Hi,Hydrogen_1.png)"
   ]
  },
  {
   "cell_type": "markdown",
   "source": [
    "**Challenge code**\n",
    "In the code below, you are given a few functions:\n",
    "\n",
    "* hydrogen_hamiltonian: This function will return the qubit Hamiltonian of the hydrogen molecule, H, given the coordinates of both hydrogen atoms and the net molecular charge. You'll usually find H with a charge of 0, but here we'll spice it up with a non-zero charge!\n",
    "* num_electrons: In subsequent functions, we'll need the total number of electrons in the hydrogen molecule we're looking at. With a charge of 0, H usually has just 2 electrons, one per hydrogen atom. Given the charge, how many electrons should H have? You must complete this function.\n",
    "* hf: The \"HF\" stands for Hartree–Fock. This function's purpose is calculate the HF approximation — treat every electron as independent, electrons move under a Coulomb potential from the positively charged nuclei, and there's a mean field from the other electrons — for the ground state of the hydrogen molecule we're interested in. We'll use this later, so you must complete this function.\n",
    "* run_VQE: This function takes the coordinates, charge, generates the HF state, defines a cost function and minimizes it. You must complete this function by:\n",
    "    * defining the gates within the cost function, using the qml.AllSinglesDoubles template with singles and doubles arguments defined below; and\n",
    "    * returning what we want to minimize, namely the expectation value of the hydrogen Hamiltonian!\n",
    "\n",
    "\n",
    "Here are some helpful resources:\n",
    "\n",
    "* [Building molecular Hamiltonians](https://pennylane.ai/qml/demos/tutorial_quantum_chemistry.html)\n",
    "* [A brief overview of VQE](https://pennylane.ai/qml/demos/tutorial_vqe.html)\n",
    "* [Variational Quantum Eigensolver](https://www.youtube.com/watch?v=4Xnxa6tzPeA)\n",
    "* [Quantum Chemistry documentation](https://docs.pennylane.ai/en/stable/introduction/chemistry.html)"
   ],
   "metadata": {
    "collapsed": false
   }
  },
  {
   "cell_type": "markdown",
   "source": [
    "**Input**\n",
    "As input to this problem, you are given:\n",
    "\n",
    "* coordinates (list(float)): the x, y, and z coordinates of each hydrogen atom\n",
    "* charge (int): the charge of the hydrogen molecule. It could be positive, negative, or zero!\n",
    "\n",
    "**Output**\n",
    "This code must output the ground state energy (float) of the hydrogen molecule in question."
   ],
   "metadata": {
    "collapsed": false
   }
  },
  {
   "cell_type": "code",
   "execution_count": 2,
   "outputs": [],
   "source": [
    "import json\n",
    "import pennylane as qml\n",
    "import pennylane.numpy as np"
   ],
   "metadata": {
    "collapsed": false,
    "pycharm": {
     "name": "#%%\n"
    }
   }
  },
  {
   "cell_type": "code",
   "execution_count": 3,
   "outputs": [],
   "source": [
    "def hydrogen_hamiltonian(coordinates, charge):\n",
    "    \"\"\"Calculates the qubit Hamiltonian of the hydrogen molecule.\n",
    "\n",
    "    Args:\n",
    "        coordinates (list(float)): Cartesian coordinates of each hydrogen molecule.\n",
    "        charge (int): The electric charge given to the hydrogen molecule.\n",
    "\n",
    "    Returns:\n",
    "        (qml.Hamiltonian): A PennyLane Hamiltonian.\n",
    "    \"\"\"\n",
    "    return qml.qchem.molecular_hamiltonian(\n",
    "        [\"H\", \"H\"], coordinates, charge, basis=\"STO-3G\"\n",
    "    )[0]\n",
    "\n",
    "def num_electrons(charge):\n",
    "    \"\"\"The total number of electrons in the hydrogen molecule.\n",
    "\n",
    "    Args:\n",
    "        charge (int): The electric charge given to the hydrogen molecule.\n",
    "\n",
    "    Returns:\n",
    "        (int): The number of electrons.\n",
    "    \"\"\"\n",
    "    return -charge +2"
   ],
   "metadata": {
    "collapsed": false,
    "pycharm": {
     "name": "#%%\n"
    }
   }
  },
  {
   "cell_type": "code",
   "execution_count": 4,
   "outputs": [],
   "source": [
    "def hf(electrons, num_qubits):\n",
    "    \"\"\"Calculates the Hartree-Fock state of the hydrogen molecule.\n",
    "\n",
    "    Args:\n",
    "        electrons (int): The number of electrons in the hydrogen molecule.\n",
    "        num_qubits (int): The number of qubits needed to represent the hydrogen molecule Hamiltonian.\n",
    "\n",
    "    Returns:\n",
    "        (numpy.tensor): The HF state.\n",
    "    \"\"\"\n",
    "    return qml.qchem.hf_state(electrons,num_qubits)"
   ],
   "metadata": {
    "collapsed": false,
    "pycharm": {
     "name": "#%%\n"
    }
   }
  },
  {
   "cell_type": "code",
   "execution_count": 11,
   "outputs": [],
   "source": [
    "def run_VQE(coordinates, charge):\n",
    "    \"\"\"Performs a VQE routine for the given hydrogen molecule.\n",
    "\n",
    "    Args:\n",
    "        coordinates (list(float)): Cartesian coordinates of each hydrogen molecule.\n",
    "        charge (int): The electric charge given to the hydrogen molecule.:\n",
    "\n",
    "    Returns:\n",
    "        (float): The expectation value of the hydrogen Hamiltonian.\n",
    "    \"\"\"\n",
    "\n",
    "    hamiltonian = hydrogen_hamiltonian(np.array(coordinates), charge)\n",
    "\n",
    "    electrons = num_electrons(charge)\n",
    "    num_qubits = len(hamiltonian.wires)\n",
    "\n",
    "    hf_state = hf(electrons, num_qubits)\n",
    "    # singles and doubles are used to make the AllSinglesDoubles template\n",
    "    singles, doubles = qml.qchem.excitations(electrons, num_qubits)\n",
    "\n",
    "    dev = qml.device(\"default.qubit\", wires=num_qubits)\n",
    "\n",
    "    @qml.qnode(dev)\n",
    "    def cost(weights):\n",
    "        \"\"\"A circuit with tunable parameters/weights that measures the expectation value of the hydrogen Hamiltonian.\n",
    "\n",
    "        Args:\n",
    "            weights (numpy.array): An array of tunable parameters.\n",
    "\n",
    "        Returns:\n",
    "            (float): The expectation value of the hydrogen Hamiltonian.\n",
    "        \"\"\"\n",
    "        qml.AllSinglesDoubles(weights,range(num_qubits),hf_state,singles= singles,doubles=doubles)\n",
    "        return qml.expval(hamiltonian)\n",
    "\n",
    "    np.random.seed = 1234\n",
    "    weights = np.random.normal(\n",
    "    0, np.pi, len(singles) + len(doubles), requires_grad=True\n",
    ")\n",
    "    opt = qml.AdamOptimizer(0.5)\n",
    "\n",
    "    for n in range(200):\n",
    "        weights = opt.step(cost, weights)\n",
    "        if n%20 == 0:\n",
    "            print(f\"step :{n} weights: {weights}\")\n",
    "\n",
    "    return cost(weights)"
   ],
   "metadata": {
    "collapsed": false,
    "pycharm": {
     "name": "#%%\n"
    }
   }
  },
  {
   "cell_type": "code",
   "execution_count": 12,
   "outputs": [],
   "source": [
    "# These functions are responsible for testing the solution.\n",
    "def run(test_case_input: str) -> str:\n",
    "    coordinates, charge = json.loads(test_case_input)\n",
    "    energy = run_VQE(coordinates, charge)\n",
    "\n",
    "    return str(energy)\n",
    "\n",
    "def check(solution_output: str, expected_output: str) -> None:\n",
    "    solution_output = json.loads(solution_output)\n",
    "    expected_output = json.loads(expected_output)\n",
    "    assert np.allclose(solution_output, expected_output, rtol=1e-3)"
   ],
   "metadata": {
    "collapsed": false,
    "pycharm": {
     "name": "#%%\n"
    }
   }
  },
  {
   "cell_type": "code",
   "execution_count": 13,
   "outputs": [],
   "source": [
    "test_cases = [['[[0.0, 0.0, -0.8, 0.0, 0.0, 0.8], -1]', '-0.53168359'], ['[[0.0, 0.0, -0.6614, 0.0, 0.0, 0.6614], 0]', '-1.13618883']]"
   ],
   "metadata": {
    "collapsed": false,
    "pycharm": {
     "name": "#%%\n"
    }
   }
  },
  {
   "cell_type": "code",
   "execution_count": 14,
   "outputs": [
    {
     "name": "stdout",
     "output_type": "stream",
     "text": [
      "Running test case 0 with input '[[0.0, 0.0, -0.8, 0.0, 0.0, 0.8], -1]'...\n",
      "step :0 weights: [-0.07281311]\n",
      "step :20 weights: [-0.14354935]\n",
      "step :40 weights: [-0.0152277]\n",
      "step :60 weights: [-0.00584732]\n",
      "step :80 weights: [-0.00733932]\n",
      "step :100 weights: [0.00273649]\n",
      "step :120 weights: [-0.00053026]\n",
      "step :140 weights: [-0.00034921]\n",
      "step :160 weights: [-8.15738702e-05]\n",
      "step :180 weights: [4.67418045e-05]\n",
      "Correct!\n",
      "Running test case 1 with input '[[0.0, 0.0, -0.6614, 0.0, 0.0, 0.6614], 0]'...\n",
      "step :0 weights: [ 2.19912675 -2.06672029  2.37029751]\n",
      "step :20 weights: [ 3.35071718 -3.28918813  2.82494773]\n",
      "step :40 weights: [ 3.21579199 -3.24859084  2.93698698]\n",
      "step :60 weights: [ 3.1032138  -3.09971825  2.91885848]\n",
      "step :80 weights: [ 3.14907775 -3.15648364  2.93117547]\n",
      "step :100 weights: [ 3.1469671  -3.14178759  2.93026826]\n",
      "step :120 weights: [ 3.14268631 -3.14020613  2.93223064]\n",
      "step :140 weights: [ 3.14220215 -3.14112868  2.93183717]\n",
      "step :160 weights: [ 3.14187225 -3.14162176  2.9317363 ]\n",
      "step :180 weights: [ 3.14149265 -3.14166363  2.93189885]\n",
      "Correct!\n"
     ]
    }
   ],
   "source": [
    "for i, (input_, expected_output) in enumerate(test_cases):\n",
    "    print(f\"Running test case {i} with input '{input_}'...\")\n",
    "\n",
    "    try:\n",
    "        output = run(input_)\n",
    "\n",
    "    except Exception as exc:\n",
    "        print(f\"Runtime Error. {exc}\")\n",
    "\n",
    "    else:\n",
    "        if message := check(output, expected_output):\n",
    "            print(f\"Wrong Answer. Have: '{output}'. Want: '{expected_output}'.\")\n",
    "\n",
    "        else:\n",
    "            print(\"Correct!\")"
   ],
   "metadata": {
    "collapsed": false,
    "pycharm": {
     "name": "#%%\n"
    }
   }
  },
  {
   "cell_type": "code",
   "execution_count": null,
   "outputs": [],
   "source": [],
   "metadata": {
    "collapsed": false,
    "pycharm": {
     "name": "#%%\n"
    }
   }
  }
 ],
 "metadata": {
  "kernelspec": {
   "display_name": "Python 3",
   "language": "python",
   "name": "python3"
  },
  "language_info": {
   "codemirror_mode": {
    "name": "ipython",
    "version": 2
   },
   "file_extension": ".py",
   "mimetype": "text/x-python",
   "name": "python",
   "nbconvert_exporter": "python",
   "pygments_lexer": "ipython2",
   "version": "2.7.6"
  }
 },
 "nbformat": 4,
 "nbformat_minor": 0
}