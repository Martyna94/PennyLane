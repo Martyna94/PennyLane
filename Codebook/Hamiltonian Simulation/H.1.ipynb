{
 "cells": [
  {
   "cell_type": "markdown",
   "metadata": {
    "collapsed": true,
    "pycharm": {
     "name": "#%% md\n"
    }
   },
   "source": [
    "**Learning outcomes**\n",
    "\n",
    "* Describe the distinction between the behaviour of deterministic, random, and quantum systems."
   ]
  },
  {
   "cell_type": "code",
   "execution_count": 1,
   "outputs": [],
   "source": [
    "import numpy as np\n",
    "import pennylane as qml"
   ],
   "metadata": {
    "collapsed": false,
    "pycharm": {
     "name": "#%%\n"
    }
   }
  },
  {
   "cell_type": "markdown",
   "source": [
    "Let's start with a simple deterministic warm-up example, where the same input always leads to the same output\n",
    "![circuit](./images/H.1.1.1.png)"
   ],
   "metadata": {
    "collapsed": false
   }
  },
  {
   "cell_type": "markdown",
   "source": [
    "**Codercise H.1.1.** Generate some examples using the provided code and guess the secret deterministic rule."
   ],
   "metadata": {
    "collapsed": false
   }
  },
  {
   "cell_type": "code",
   "execution_count": 3,
   "outputs": [
    {
     "name": "stdout",
     "output_type": "stream",
     "text": [
      "The result of applying the secret box to  [1, 1, 0] is \n",
      "[1, 0, 1]\n"
     ]
    }
   ],
   "source": [
    "input = [1, 1, 0] # MODIFY EXAMPLE\n",
    "print(\"The result of applying the secret box to \", input, \"is \")\n",
    "# We will secretly apply the function and return the result!\n",
    "\n",
    "def deterministic_box(bits):\n",
    "    \"\"\"Guess the secret deterministic rule.\n",
    "\n",
    "    Args:\n",
    "        bits (list[int]): A list of bits representing an initial condition.\n",
    "\n",
    "    Returns:\n",
    "        list[int]: The output bits measured after deterministic evolution.\n",
    "    \"\"\"\n",
    "\n",
    "    return bits[1:] + [bits[0]]\n",
    "print(deterministic_box(input))"
   ],
   "metadata": {
    "collapsed": false,
    "pycharm": {
     "name": "#%%\n"
    }
   }
  },
  {
   "cell_type": "markdown",
   "source": [
    "Let's try to guess the rule for a random example.\n",
    "![circuit](./images/H.1.2.1.png)"
   ],
   "metadata": {
    "collapsed": false
   }
  },
  {
   "cell_type": "markdown",
   "source": [
    "**Codercise H.1.2.**\n",
    "Your goal is to estimate the random update rule. You can run the black box a number of times (controlled by a variable `trials`) and estimate the probability distribution using the provided code.\n",
    "\n",
    "Tip. Use NumPy's [np.random.choice()](https://numpy.org/doc/stable/reference/random/generated/numpy.random.choice.html) function"
   ],
   "metadata": {
    "collapsed": false
   }
  },
  {
   "cell_type": "code",
   "execution_count": 4,
   "outputs": [
    {
     "name": "stdout",
     "output_type": "stream",
     "text": [
      "On input 0 the approximate probability distribution is\n"
     ]
    }
   ],
   "source": [
    "input = 0 # MODIFY EXAMPLE\n",
    "\n",
    "trials = 100 # INCREASE TRIALS TO IMPROVE APPROXIMATION\n",
    "print(\"On input\", input, \"the approximate probability distribution is\")\n",
    "# We will secretly apply the function and return the result!\n",
    "\n",
    "def random_box(bit):\n",
    "    \"\"\"Guess the secret random rule.\n",
    "\n",
    "    Args:\n",
    "        bit (int): A bit representing the initial condition.\n",
    "\n",
    "    Returns:\n",
    "        int: The output bit measured after random evolution.\n",
    "    \"\"\"\n",
    "    return np.random.choice(2)"
   ],
   "metadata": {
    "collapsed": false,
    "pycharm": {
     "name": "#%%\n"
    }
   }
  },
  {
   "cell_type": "markdown",
   "source": [
    "Quantum mechanics isn't too different from a random black box, since it induces random measurement outcomes:\n",
    "![circuit](./images/H.1.3.1.png)\n",
    "However, there are some peculiar differences between classical and quantum randomness."
   ],
   "metadata": {
    "collapsed": false
   }
  },
  {
   "cell_type": "markdown",
   "source": [
    "**Codercise H.1.3.**\n",
    "Check the probability distribution for different input bits and a number of applications of the box. From these examples, what do you think the secret quantum rule is? To be clear, this is a gate you will implement in PennyLane.\n",
    "*Hint*\n",
    "What do two boxes seem to do?"
   ],
   "metadata": {
    "collapsed": false
   }
  },
  {
   "cell_type": "code",
   "execution_count": null,
   "outputs": [],
   "source": [
    "dev = qml.device(\"default.qubit\", wires=1)\n",
    "\n",
    "input = 0 # MODIFY EXAMPLE\n",
    "reps = 1\n",
    "print(\"The probability distribution after applying the secret box to \", input)\n",
    "print(\"a total of \", reps, \"time(s) is \")\n",
    "# We will secretly apply the function and return the result!\n",
    "\n",
    "@qml.qnode(dev)\n",
    "def quantum_box(bit, reps):\n",
    "    \"\"\"Implements the secret quantum rule on a single (qu)bit.\n",
    "\n",
    "    Args:\n",
    "        bit (int): A bit representing an initial condition.\n",
    "        reps (int): Number of times gate is repeated.\n",
    "\n",
    "    Returns:\n",
    "        list[float]: The output probability distribution.\n",
    "    \"\"\"\n",
    "    if bit == 1:\n",
    "        qml.PauliX(wires=0)\n",
    "    for _ in range(reps):\n",
    "        qml.Hadamard(wires=0)\n",
    "\n",
    "    return qml.probs(wires=0)\n"
   ],
   "metadata": {
    "collapsed": false,
    "pycharm": {
     "name": "#%%\n"
    }
   }
  }
 ],
 "metadata": {
  "kernelspec": {
   "display_name": "Python 3",
   "language": "python",
   "name": "python3"
  },
  "language_info": {
   "codemirror_mode": {
    "name": "ipython",
    "version": 2
   },
   "file_extension": ".py",
   "mimetype": "text/x-python",
   "name": "python",
   "nbconvert_exporter": "python",
   "pygments_lexer": "ipython2",
   "version": "2.7.6"
  }
 },
 "nbformat": 4,
 "nbformat_minor": 0
}