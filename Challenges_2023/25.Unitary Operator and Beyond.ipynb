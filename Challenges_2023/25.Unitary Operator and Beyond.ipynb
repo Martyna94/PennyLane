{
 "cells": [
  {
   "cell_type": "markdown",
   "source": [
    "Useful resource:\n",
    "* https://codebook.xanadu.ai/H.6"
   ],
   "metadata": {
    "collapsed": false
   }
  },
  {
   "cell_type": "code",
   "execution_count": 1,
   "outputs": [],
   "source": [
    "import pennylane as qml\n",
    "import pennylane.numpy as np"
   ],
   "metadata": {
    "collapsed": false,
    "pycharm": {
     "name": "#%%\n"
    }
   }
  },
  {
   "cell_type": "code",
   "execution_count": 2,
   "outputs": [],
   "source": [
    "def W(alpha, beta):\n",
    "    return (1/np.sqrt(alpha + beta))*np.array([[np.sqrt(alpha), np.sqrt(beta)],\n",
    "                     [np.sqrt(beta), np.sqrt(alpha)]])"
   ],
   "metadata": {
    "collapsed": false,
    "pycharm": {
     "name": "#%%\n"
    }
   }
  },
  {
   "cell_type": "code",
   "execution_count": 9,
   "outputs": [],
   "source": [
    "dev = qml.device('default.qubit', wires = 2)\n",
    "\n",
    "@qml.qnode(dev)\n",
    "def linear_combination(U, V,  alpha, beta):\n",
    "    qml.QubitUnitary(W(alpha,beta),wires=0)\n",
    "    qml.ControlledQubitUnitary(U,control_wires=0, wires=1 ,control_values=[0])\n",
    "    qml.ControlledQubitUnitary(V,control_wires=0, wires=1 ,control_values=[1])\n",
    "    qml.adjoint(qml.QubitUnitary)(W(alpha,beta),wires=0)\n",
    "\n",
    "    return qml.probs([0])"
   ],
   "metadata": {
    "collapsed": false,
    "pycharm": {
     "name": "#%%\n"
    }
   }
  },
  {
   "cell_type": "code",
   "execution_count": 10,
   "outputs": [],
   "source": [
    "U = [[ 0.70710678,  0.70710678],\n",
    "    [ 0.70710678, -0.70710678]]\n",
    "V = [[1, 0], [0, -1]]\n",
    "alpha = 1\n",
    "beta = 3\n",
    "#expected_output: 0.8901650422902458"
   ],
   "metadata": {
    "collapsed": false,
    "pycharm": {
     "name": "#%%\n"
    }
   }
  },
  {
   "cell_type": "code",
   "execution_count": 11,
   "outputs": [
    {
     "name": "stdout",
     "output_type": "stream",
     "text": [
      "0: ──U(M0)─╭○─────╭●──────U(M0)†─┤  Probs\n",
      "1: ────────╰U(M1)─╰U(M2)─────────┤       \n",
      "\n",
      "M0 = \n",
      "[[0.5       0.8660254]\n",
      " [0.8660254 0.5      ]]\n",
      "M1 = \n",
      "[[ 0.70710678  0.70710678]\n",
      " [ 0.70710678 -0.70710678]]\n",
      "M2 = \n",
      "[[ 1  0]\n",
      " [ 0 -1]] \n",
      "\n",
      "[0.89016504 0.64016504]\n"
     ]
    }
   ],
   "source": [
    "print(qml.draw(linear_combination)(U,V,alpha,beta),'\\n')\n",
    "print(linear_combination(U,V,alpha,beta))"
   ],
   "metadata": {
    "collapsed": false,
    "pycharm": {
     "name": "#%%\n"
    }
   }
  },
  {
   "cell_type": "markdown",
   "metadata": {
    "collapsed": true,
    "pycharm": {
     "name": "#%% md\n"
    }
   },
   "source": [
    "## Unitary Operator and Beyond\n",
    "\n",
    "**Backstory**\n",
    "Zenda and Reece try to figure out Sqynet's Hamiltonian, before this eerie conscious quantum computer conquers the entirety of sector III. For this, they need to use their own (non-sentient) quantum computer to simulate the action of a Hamiltonian on a quantum state. How do they do this, if a Hamiltonian is, in general, not a unitary?\n",
    "\n",
    "**Linear combination of unitaries**\n",
    "Zenda and Reece know that the Hamiltonian that describes Sqynet is a linear combination of unitaries, that is\n",
    "$$H = \\sum_{i}\\alpha_i U_i$$\n",
    "We know that quantum circuits can implement unitary operations really easily, but is there a way to implement a sum of unitaries? Note that the sum of unitaries is not always a unitary, so how can we even do this? We can use measurements!\n",
    "\n",
    "A circuit of the form\n",
    "![circuit](./images/Unitary%20Operator%20and%20Beyond_1.png)\n",
    "will probabilistically implement the combination of unitaries $\\alpha U+ \\beta U$ on the bottom (main) register, where $\\alpha$ and $\\beta$ are positive real numbers, without loss of generality. Here, the single-qubit unitary $W(\\alpha, \\beta)$ is represented by the matrix\n",
    "$$W(\\alpha, \\beta) = \\frac{1}{\\sqrt{\\alpha +\\beta}}\\begin{pmatrix}\n",
    "\\sqrt{\\alpha} & -\\sqrt{\\beta} \\\\\n",
    "\\sqrt{\\beta} & \\sqrt{\\alpha}\n",
    "\\end{pmatrix}$$\n",
    "The combination will only be applied on the bottom (main) register when we measure the state of the of the top (auxiliary) register to be $\\Ket{0}$.\n",
    "Your task is to calculate the probability that this the linear combination of unitaries is implemented with the circuit above.\n",
    "\n",
    "This algorithm is often used for Hamiltonian simulation. Check out the [Xanadu Quantum Codebook](https://codebook.xanadu.ai/H.6) to learn more!"
   ]
  },
  {
   "cell_type": "markdown",
   "source": [
    "**Challenge code**\n",
    "You must complete the linear_combination function to build the above circuit that implements the linear combination\n",
    "$$\\alpha U+ \\beta U$$\n",
    "of two single-qubit unitaries U and V, and returns the probabilities on the auxiliary register. For simplicity, we take $\\alpha$ and $\\beta$ to be positive real numbers.\n",
    "As a helper function, you are also asked to complete the W function, which returns the unitary $W(\\alpha, \\beta)$.\n",
    "\n",
    "**Input**\n",
    "\n",
    "As input to this problem, you are given:\n",
    "\n",
    "* U (list(list(float))): A  matrix representing the single-qubit unitary operator .\n",
    "* V (list(list(float))): A  matrix representing the single-qubit unitary operator\n",
    "* alpha (float): The prefactor  of  in the linear combination, as above.\n",
    "* beta (float): The prefactor  of  in the linear combination, as above.\n",
    "\n",
    "\n",
    "**Output**\n",
    "\n",
    "The output used to test your solution is a float corresponding to the probability of measuring  on the main register. This is the first element of your output of linear_combination. We will extract this element for you in our testing functions!"
   ],
   "metadata": {
    "collapsed": false
   }
  },
  {
   "cell_type": "code",
   "execution_count": 12,
   "outputs": [
    {
     "name": "stdout",
     "output_type": "stream",
     "text": [
      "Running test case 0 with input '[[[ 0.70710678,  0.70710678], [ 0.70710678, -0.70710678]],[[1, 0], [0, -1]], 1, 3]'...\n",
      "Correct!\n"
     ]
    }
   ],
   "source": [
    "import json\n",
    "import pennylane as qml\n",
    "import pennylane.numpy as np\n",
    "\n",
    "def W(alpha, beta):\n",
    "    \"\"\" This function returns the matrix W in terms of\n",
    "    the coefficients alpha and beta\n",
    "\n",
    "    Args:\n",
    "        - alpha (float): The prefactor alpha of U in the linear combination, as in the\n",
    "        challenge statement.\n",
    "        - beta (float): The prefactor beta of V in the linear combination, as in the\n",
    "        challenge statement.\n",
    "    Returns\n",
    "        -(numpy.ndarray): A 2x2 matrix representing the operator W,\n",
    "        as defined in the challenge statement\n",
    "    \"\"\"\n",
    "    return (1/np.sqrt(alpha + beta))*np.array([[np.sqrt(alpha), np.sqrt(beta)],\n",
    "                                               [np.sqrt(beta), np.sqrt(alpha)]])\n",
    "\n",
    "\n",
    "dev = qml.device('default.qubit', wires = 2)\n",
    "\n",
    "@qml.qnode(dev)\n",
    "def linear_combination(U, V,  alpha, beta):\n",
    "    \"\"\"This circuit implements the circuit that probabilistically calculates the linear combination\n",
    "    of the unitaries.\n",
    "\n",
    "    Args:\n",
    "        - U (list(list(float))): A 2x2 matrix representing the single-qubit unitary operator U.\n",
    "        - V (list(list(float))): A 2x2 matrix representing the single-qubit unitary operator U.\n",
    "        - alpha (float): The prefactor alpha of U in the linear combination, as above.\n",
    "        - beta (float): The prefactor beta of V in the linear combination, as above.\n",
    "\n",
    "    Returns:\n",
    "        -(numpy.tensor): Probabilities of measuring the computational\n",
    "        basis states on the auxiliary wire.\n",
    "    \"\"\"\n",
    "\n",
    "\n",
    "    qml.QubitUnitary(W(alpha,beta),wires=0)\n",
    "    qml.ControlledQubitUnitary(U,control_wires=0, wires=1 ,control_values=[0])\n",
    "    qml.ControlledQubitUnitary(V,control_wires=0, wires=1 ,control_values=[1])\n",
    "    qml.adjoint(qml.QubitUnitary)(W(alpha,beta),wires=0)\n",
    "\n",
    "    return qml.probs([0])\n",
    "\n",
    "\n",
    "# These functions are responsible for testing the solution.\n",
    "\n",
    "def run(test_case_input: str) -> str:\n",
    "    dev = qml.device('default.qubit', wires = 2)\n",
    "    ins = json.loads(test_case_input)\n",
    "    output = linear_combination(*ins)[0].numpy()\n",
    "\n",
    "    return str(output)\n",
    "\n",
    "def check(solution_output: str, expected_output: str) -> None:\n",
    "    solution_output = json.loads(solution_output)\n",
    "    expected_output = json.loads(expected_output)\n",
    "    assert np.allclose(\n",
    "        solution_output, expected_output, rtol=1e-4\n",
    "    ), \"Your circuit doesn't look quite right \"\n",
    "\n",
    "\n",
    "test_cases = [['[[[ 0.70710678,  0.70710678], [ 0.70710678, -0.70710678]],[[1, 0], [0, -1]], 1, 3]', '0.8901650422902458']]\n",
    "\n",
    "for i, (input_, expected_output) in enumerate(test_cases):\n",
    "    print(f\"Running test case {i} with input '{input_}'...\")\n",
    "\n",
    "    try:\n",
    "        output = run(input_)\n",
    "\n",
    "    except Exception as exc:\n",
    "        print(f\"Runtime Error. {exc}\")\n",
    "\n",
    "    else:\n",
    "        if message := check(output, expected_output):\n",
    "            print(f\"Wrong Answer. Have: '{output}'. Want: '{expected_output}'.\")\n",
    "\n",
    "        else:\n",
    "            print(\"Correct!\")"
   ],
   "metadata": {
    "collapsed": false,
    "pycharm": {
     "name": "#%%\n"
    }
   }
  },
  {
   "cell_type": "code",
   "execution_count": null,
   "outputs": [],
   "source": [],
   "metadata": {
    "collapsed": false,
    "pycharm": {
     "name": "#%%\n"
    }
   }
  }
 ],
 "metadata": {
  "kernelspec": {
   "display_name": "Python 3",
   "language": "python",
   "name": "python3"
  },
  "language_info": {
   "codemirror_mode": {
    "name": "ipython",
    "version": 2
   },
   "file_extension": ".py",
   "mimetype": "text/x-python",
   "name": "python",
   "nbconvert_exporter": "python",
   "pygments_lexer": "ipython2",
   "version": "2.7.6"
  }
 },
 "nbformat": 4,
 "nbformat_minor": 0
}