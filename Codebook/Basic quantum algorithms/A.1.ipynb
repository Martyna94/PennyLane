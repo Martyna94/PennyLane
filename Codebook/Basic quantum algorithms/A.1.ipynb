{
 "cells": [
  {
   "cell_type": "markdown",
   "metadata": {
    "collapsed": true,
    "pycharm": {
     "name": "#%% md\n"
    }
   },
   "source": []
  },
  {
   "cell_type": "code",
   "execution_count": 1,
   "outputs": [],
   "source": [
    "import numpy as np\n",
    "import pennylane as qml"
   ],
   "metadata": {
    "collapsed": false,
    "pycharm": {
     "name": "#%%\n"
    }
   }
  },
  {
   "cell_type": "markdown",
   "source": [
    "**Codercise A.1.1.**\n",
    " Fill in the following code to create the uniform superposition over $n$ qubits. It will plot the probability of observing different outcomes. Does putting the circuit in a uniform superposition help us break the lock?\n",
    " ![circuit](./images/A.1.1.1.png)"
   ],
   "metadata": {
    "collapsed": false,
    "pycharm": {
     "name": "#%% md\n"
    }
   }
  },
  {
   "cell_type": "code",
   "execution_count": 2,
   "outputs": [],
   "source": [
    "n_bits = 4\n",
    "dev = qml.device(\"default.qubit\", wires=n_bits)\n",
    "\n",
    "@qml.qnode(dev)\n",
    "def naive_circuit():\n",
    "    \"\"\"Create a uniform superposition and return the probabilities.\n",
    "\n",
    "    Returns:\n",
    "        array[float]: Probabilities for observing different outcomes.\n",
    "    \"\"\"\n",
    "    for wire in range(n_bits):\n",
    "        qml.Hadamard(wires= wire)\n",
    "\n",
    "    return qml.probs(wires=range(n_bits))"
   ],
   "metadata": {
    "collapsed": false,
    "pycharm": {
     "name": "#%%\n"
    }
   }
  },
  {
   "cell_type": "markdown",
   "source": [
    "![circuit](./images/A.1.1.2.png)\n",
    "\n",
    " Our chances of finding the solution using this circuit are therefore no better than a random guess!"
   ],
   "metadata": {
    "collapsed": false
   }
  },
  {
   "cell_type": "code",
   "execution_count": null,
   "outputs": [],
   "source": [],
   "metadata": {
    "collapsed": false,
    "pycharm": {
     "name": "#%%\n"
    }
   }
  }
 ],
 "metadata": {
  "kernelspec": {
   "display_name": "Python 3",
   "language": "python",
   "name": "python3"
  },
  "language_info": {
   "codemirror_mode": {
    "name": "ipython",
    "version": 2
   },
   "file_extension": ".py",
   "mimetype": "text/x-python",
   "name": "python",
   "nbconvert_exporter": "python",
   "pygments_lexer": "ipython2",
   "version": "2.7.6"
  }
 },
 "nbformat": 4,
 "nbformat_minor": 0
}