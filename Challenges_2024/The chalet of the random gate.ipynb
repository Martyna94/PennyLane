{
 "cells": [
  {
   "cell_type": "markdown",
   "source": [],
   "metadata": {
    "collapsed": false,
    "pycharm": {
     "name": "#%% md\n"
    }
   }
  },
  {
   "cell_type": "code",
   "execution_count": 3,
   "outputs": [],
   "source": [
    "gamma, p = [0.1, 0.92]"
   ],
   "metadata": {
    "collapsed": false,
    "pycharm": {
     "name": "#%%\n"
    }
   }
  },
  {
   "cell_type": "code",
   "execution_count": 4,
   "outputs": [
    {
     "data": {
      "text/plain": "9.0446"
     },
     "execution_count": 4,
     "metadata": {},
     "output_type": "execute_result"
    }
   ],
   "source": [
    "half_life(gamma,p)"
   ],
   "metadata": {
    "collapsed": false,
    "pycharm": {
     "name": "#%%\n"
    }
   }
  },
  {
   "cell_type": "markdown",
   "source": [
    "Second approach"
   ],
   "metadata": {
    "collapsed": false
   }
  },
  {
   "cell_type": "code",
   "execution_count": 9,
   "outputs": [],
   "source": [
    "def half_life(gamma, p):\n",
    "    num_wires = 1\n",
    "\n",
    "    dev = qml.device(\"default.mixed\", wires=num_wires)\n",
    "\n",
    "    @qml.qnode(dev)\n",
    "    def noise(gamma,p,dt,n):\n",
    "        qml.Hadamard(wires=0)\n",
    "        for _ in range(n):\n",
    "            qml.GeneralizedAmplitudeDamping(gamma* dt,p,wires=0 )\n",
    "        return qml.probs(wires=0)\n",
    "    dt = 0.001\n",
    "    tmin =0\n",
    "    tmax = 100\n",
    "    while(tmax-tmin)> dt:\n",
    "        tmid = (tmax+tmin)/2\n",
    "        prob = noise(gamma, p, dt, int(tmid/dt))[1]\n",
    "        if prob > 1/4:\n",
    "            tmin = tmid\n",
    "        else:\n",
    "           tmax=tmid\n",
    "\n",
    "    return tmid"
   ],
   "metadata": {
    "collapsed": false,
    "pycharm": {
     "name": "#%%\n"
    }
   }
  },
  {
   "cell_type": "code",
   "execution_count": 10,
   "outputs": [
    {
     "data": {
      "text/plain": "9.044647216796875"
     },
     "execution_count": 10,
     "metadata": {},
     "output_type": "execute_result"
    }
   ],
   "source": [
    "half_life(gamma, p)"
   ],
   "metadata": {
    "collapsed": false,
    "pycharm": {
     "name": "#%%\n"
    }
   }
  },
  {
   "cell_type": "markdown",
   "source": [
    "# The chalet of the random gate\n",
    "## Challenge statement\n",
    "The Tensor Tundra's environment is so cold, it's an excellent place to build quantum devices. A safe haven for those who venture into these icy plains is the Chalet of the Random Gate.\n",
    "\n",
    "The front entrance of the chalet is a quantum gate, and its action will take us to different entry points: if it's an X gate, it takes us through the backdoor, if it's a Y gate, it takes us through the chimney, and if it's a Z gate, we just go through the front door.\n",
    "\n",
    "This gate is a programmable device, so that we can choose where to end up (for some reason, people tend to avoid the Y gate). But when a strong blizzard strikes, the controls become frozen solid. Instead of being stuck in one setting, the noise coming from the blizzard makes the gate act randomly.\n",
    "\n",
    "In this challenge, we explore what happens when the application of a quantum gate is not done deterministically. Suppose that we have a single qubit |0⟩ on which a single gate acts at random. This gate can be:\n",
    "* The Pauli X gate, acting with probability p,\n",
    "* The Pauli Y gate, acting with probability q,\n",
    "* The Pauli Z gate, acting with probability r,\n",
    "* The Identity I, acting with probability 1−p−q−r.\n",
    "\n",
    "You are asked to calculate the measurement probabilities in the computational basis upon the application of these random gates.\n",
    "\n",
    "Fingers crossed that you don't get stuck in the chimney!\n",
    "## Challenge Code\n",
    "In the challenge template, you must complete the random_gate QNode which, given the probabilities p, q, and r (float) return the measurement probabilities (np.array(float)) in the computational basis.\n",
    "\n",
    "## Input\n",
    "As an input to this challenge, you are given the probabilities p, q and r (float) representing the application probabilities of the Pauli X, Y, and Z gates respectively.\n",
    "\n",
    "## Output\n",
    "The output is an np.tensor$[p_0,p_1]$ containing the probabilities of measuring 0 or 1 in the computational basis after the random application of the gate.\n",
    "\n",
    "Test cases\n",
    "The following public test cases are available for you to check your work. There are also some hidden test cases which we will use to check that your solution works in full generality.\n",
    "\n",
    "test_input: [0.25,0.25,0.25]\n",
    "expected_ouput: [0.5,0.5]\n",
    "\n",
    "test_input: [0.125,0.25,0.2]\n",
    "expected_ouput: [0.625, 0.375]\n"
   ],
   "metadata": {
    "collapsed": false
   }
  },
  {
   "cell_type": "code",
   "execution_count": 88,
   "metadata": {
    "collapsed": true,
    "pycharm": {
     "name": "#%%\n"
    }
   },
   "outputs": [
    {
     "name": "stdout",
     "output_type": "stream",
     "text": [
      "Running test case 0 with input '[0.25, 0.25, 0.25]'...\n",
      "Correct!\n",
      "Running test case 1 with input '[0.125, 0.25, 0.2]'...\n",
      "Correct!\n"
     ]
    }
   ],
   "source": [
    "import json\n",
    "import pennylane as qml\n",
    "import pennylane.numpy as np\n",
    "def half_life(gamma, p):\n",
    "    \"\"\"Calculates the relaxation half-life of a quantum system that exchanges energy with its environment.\n",
    "    This process is modeled via Generalized Amplitude Damping.\n",
    "\n",
    "    Args:\n",
    "        gamma (float):\n",
    "            The probability per unit time of the system losing a quantum of energy\n",
    "            to the environment.\n",
    "        p (float): The de-excitation probability due to environmental effect\n",
    "\n",
    "    Returns:\n",
    "        (float): The relaxation haf-life of the system, as explained in the problem statement.\n",
    "    \"\"\"\n",
    "\n",
    "    num_wires = 1\n",
    "\n",
    "    dev = qml.device(\"default.mixed\", wires=num_wires)\n",
    "\n",
    "    # Put your code here\n",
    "\n",
    "# These functions are responsible for testing the solution.\n",
    "def run(test_case_input: str) -> str:\n",
    "\n",
    "    ins = json.loads(test_case_input)\n",
    "    output = half_life(*ins)\n",
    "\n",
    "    return str(output)\n",
    "\n",
    "def check(solution_output: str, expected_output: str) -> None:\n",
    "    solution_output = json.loads(solution_output)\n",
    "    expected_output = json.loads(expected_output)\n",
    "    assert np.allclose(\n",
    "        solution_output, expected_output, atol=2e-1\n",
    "    ), \"The relaxation half-life is not quite right.\"\n",
    "\n",
    "# These are the public test cases\n",
    "test_cases = [\n",
    "    ('[0.1,0.92]', '9.05'),\n",
    "    ('[0.2,0.83]', '7.09')\n",
    "]\n",
    "# This will run the public test cases locally\n",
    "for i, (input_, expected_output) in enumerate(test_cases):\n",
    "    print(f\"Running test case {i} with input '{input_}'...\")\n",
    "\n",
    "    try:\n",
    "        output = run(input_)\n",
    "\n",
    "    except Exception as exc:\n",
    "        print(f\"Runtime Error. {exc}\")\n",
    "\n",
    "    else:\n",
    "        if message := check(output, expected_output):\n",
    "            print(f\"Wrong Answer. Have: '{output}'. Want: '{expected_output}'.\")\n",
    "\n",
    "        else:\n",
    "            print(\"Correct!\")"
   ]
  },
  {
   "cell_type": "markdown",
   "source": [
    "Solution based on:\n",
    "* [Quantum Error Correction](https://codebook.xanadu.ai/E.1)\n",
    "* [Noisy circuits](https://pennylane.ai/qml/demos/tutorial_noisy_circuits/)\n",
    "* [qml.operation.Channel](https://docs.pennylane.ai/en/stable/code/api/pennylane.operation.Channel.html)"
   ],
   "metadata": {
    "collapsed": false
   }
  },
  {
   "cell_type": "code",
   "execution_count": null,
   "outputs": [],
   "source": [],
   "metadata": {
    "collapsed": false,
    "pycharm": {
     "name": "#%%\n"
    }
   }
  }
 ],
 "metadata": {
  "kernelspec": {
   "display_name": "Python 3",
   "language": "python",
   "name": "python3"
  },
  "language_info": {
   "codemirror_mode": {
    "name": "ipython",
    "version": 2
   },
   "file_extension": ".py",
   "mimetype": "text/x-python",
   "name": "python",
   "nbconvert_exporter": "python",
   "pygments_lexer": "ipython2",
   "version": "2.7.6"
  }
 },
 "nbformat": 4,
 "nbformat_minor": 0
}