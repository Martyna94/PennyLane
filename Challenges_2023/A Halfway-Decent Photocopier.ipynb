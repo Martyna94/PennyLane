{
 "cells": [
  {
   "cell_type": "markdown",
   "metadata": {
    "collapsed": true,
    "pycharm": {
     "name": "#%% md\n"
    }
   },
   "source": [
    "## A Halfway-Decent Photocopier\n",
    "\n",
    "**Backstory**\n",
    "\n",
    "Trine is getting bored. \"So, we've finished the usual [Laws of Infodynamics](https://en.wikipedia.org/wiki/Bennett%27s_laws). Let's make things more interesting!\" She shows Zenda and Reece to the office photocopier. \"I figured out a way to turn this into a quantum resource! Pretty cool huh?\" Zenda and Reece look at each other, puzzled as ever by Trine's unconventional ideas about office equipment. Trine pats the photocopier. \"Yup, this old thang can photocopy a basis state. You can use it to make Bell pairs! In fact, we can introduce the photocopier into our superdense and teleportation protocols in such a way that it turns infodynamic inequalities into equalities. We'll find that a photocopier is halfway between a qubit and an entangled bit! I always said this was a halfway-decent photocopier.\" Zenda and Reece shrug and start feeding qubits into the machine."
   ]
  },
  {
   "cell_type": "markdown",
   "source": [
    "**Coherent protocols**\n",
    "Zenda and Reece are having a bit too much fun feeding qubits into the photocopy machine. It's not very good at photocopying qubits, but it can copy basis states into new registers in the following way\n",
    "$$\\Ket{j} \\rightarrow \\Ket{j}\\Ket{j},$$\n",
    "\n",
    "and extending linearly to the whole space. From linearity, you can prove yourself that the operator the photocopy machine is applying does not allow for copying arbitrary states!\n",
    "\n",
    "Zenda ponders the meaning of Trine's words. She wonders if she can use the photocopy machine as a quantum fax machine instead. That should be equivalent to quantum teleportation... except that I wouldn't need to do mid-circuit measurements. She convinces Reece to join on the mischief, sharing with him half of the Bell state\n",
    "$$\\Ket{\\Phi} = \\frac{1}{\\sqrt{2}}(\\Ket{0}_{Z_1}\\Ket{0}_{R_1} + \\Ket{1}_{Z_1}\\Ket{1}_{R_1}).$$\n",
    "\n",
    "Let's see how Zenda and Reece get away with this. Zenda has a state $\\Ket{\\psi}$ that she wants to transfer to Reece, and half of the Bell pair above. After doing some operations $Z$ on her two qubits, she can perform the copier operation that copies basis states into two registers inside the copy machine's server. That information is then transfered to Reece's printer where, after performing the print operation with his states, he prints the state $\\Ket{\\psi}$ into his half of the entangled pair.\n",
    "\n",
    "Zenda shows Reece the schematics for the above:\n",
    "![circuit](./images/A%20Halfway-Decent%20Photocopier_1.png)\n",
    "Your task is to build the operator  that Zenda must perform on her qubit, as well as the copier and printer operators needed to teleport the state. For the copier operator, the simplest way is to use the basis copying operator introduced at the beginning:\n",
    "$$\\Ket{j}\\Ket{0} \\rightarrow \\Ket{j}\\Ket{j}$$\n",
    "Which well-known gate achieves this?"
   ],
   "metadata": {
    "collapsed": false
   }
  },
  {
   "cell_type": "markdown",
   "source": [
    "**Laws of Infodyamics Part IV: Coherent versions of the Third and Fourth Laws**\n",
    "This box contains some interesting but nonessential details.\n",
    "\n",
    "The operation\n",
    "$$\\Ket{j}\\Ket{0} \\rightarrow \\Ket{j}\\Ket{j},$$\n",
    "we introduced in this challenge is knows as a cobit.\n",
    "As a simple application of cobits, we can make a Bell pair by applying the photocopier to the $\\Ket{+}$ state:\n",
    "$$\\frac{1}{\\sqrt{2}}(\\Ket{0}+\\Ket{1})\\rightarrow \\frac{1}{\\sqrt{2}}(\\Ket{00} + \\Ket{11}).$$\n",
    "But cobits are much more interesting! As a first example, one can modify superdense coding so that Zenda and Reece can copy two bits:\n",
    "$$\\Ket{j,k}_Z \\rightarrow \\Ket{j,k}_Z\\Ket{j,k}_R,$$\n",
    "The basic idea is to replace the act of sending two classical bits, $j$ and $k$, with the act of copying two basis states:\n",
    "$$\\Ket{j,k}_Z \\rightarrow \\Ket{j,k}_Z\\Ket{j,k}_R,$$\n",
    "We can rewrite the Third Law of Infodynamics (superdense coding) in terms of cobits as\n",
    "$$1 qubit +1 ebit \\geqslant 2 cobits$$\n",
    "where $x \\geqslant y$ means having resource $x$ also provide resource $y$, and \"ebit\" means \"entangled bit\", i.e. half a Bell pair. Similarly, it is possible to perform teleportation coherently, so that sending random bits $j,k$ to correct the teleported state is instead a unitary involving $\\Ket{j,k}$ .This leads to a new version of the Fourth Law of Infodynamics (teleportation):\n",
    "$$1 ebit +2 cbits \\geqslant 1 qubit + 2 ebits$$\n",
    "If we subtract an ebit from both sides and combine with the modified Third Law, we obtain the equality\n",
    "$$2 cobits = 1 qubit + 1 ebit$$\n",
    "Photocopying basis states is precisely halfway between an ebit and a qubit!"
   ],
   "metadata": {
    "collapsed": false
   }
  },
  {
   "cell_type": "markdown",
   "source": [
    "**Challenge code**\n",
    "In this challenge, you will be asked to complete the zenda_operator, copierand printer functions. All of them are quantum functions where you will only have to place the necessary gates.\n",
    "\n",
    "**Inputs**\n",
    "The inputs of this challenge correspond to the three coefficients of a $U3$ gate in charge of encoding the state $\\Ket{\\Phi}$ that Zenda wants to send.\n",
    "\n",
    "**Outputs**\n",
    "To check the solution, we will calculate the expected value with respect to a particular observable to see that it coincides with the same one generated by Zenda. If your solution matches the correct one within the given tolerance specified in check (in this case it's a 1e-2 absolute error tolerance), the output will be \"Correct!\" Otherwise, you will receive a \"Wrong answer\" prompt."
   ],
   "metadata": {
    "collapsed": false
   }
  },
  {
   "cell_type": "code",
   "execution_count": 1,
   "outputs": [
    {
     "name": "stdout",
     "output_type": "stream",
     "text": [
      "Running test case 0 with input '[1,1,1]'...\n"
     ]
    },
    {
     "ename": "AssertionError",
     "evalue": "The expected output is not quite right.",
     "output_type": "error",
     "traceback": [
      "\u001B[1;31m---------------------------------------------------------------------------\u001B[0m",
      "\u001B[1;31mAssertionError\u001B[0m                            Traceback (most recent call last)",
      "Input \u001B[1;32mIn [1]\u001B[0m, in \u001B[0;36m<cell line: 118>\u001B[1;34m()\u001B[0m\n\u001B[0;32m    125\u001B[0m     \u001B[38;5;28mprint\u001B[39m(\u001B[38;5;124mf\u001B[39m\u001B[38;5;124m\"\u001B[39m\u001B[38;5;124mRuntime Error. \u001B[39m\u001B[38;5;132;01m{\u001B[39;00mexc\u001B[38;5;132;01m}\u001B[39;00m\u001B[38;5;124m\"\u001B[39m)\n\u001B[0;32m    127\u001B[0m \u001B[38;5;28;01melse\u001B[39;00m:\n\u001B[1;32m--> 128\u001B[0m     \u001B[38;5;28;01mif\u001B[39;00m message \u001B[38;5;241m:=\u001B[39m \u001B[43mcheck\u001B[49m\u001B[43m(\u001B[49m\u001B[43moutput\u001B[49m\u001B[43m,\u001B[49m\u001B[43m \u001B[49m\u001B[43mexpected_output\u001B[49m\u001B[43m)\u001B[49m:\n\u001B[0;32m    129\u001B[0m         \u001B[38;5;28mprint\u001B[39m(\u001B[38;5;124mf\u001B[39m\u001B[38;5;124m\"\u001B[39m\u001B[38;5;124mWrong Answer. Have: \u001B[39m\u001B[38;5;124m'\u001B[39m\u001B[38;5;132;01m{\u001B[39;00moutput\u001B[38;5;132;01m}\u001B[39;00m\u001B[38;5;124m'\u001B[39m\u001B[38;5;124m. Want: \u001B[39m\u001B[38;5;124m'\u001B[39m\u001B[38;5;132;01m{\u001B[39;00mexpected_output\u001B[38;5;132;01m}\u001B[39;00m\u001B[38;5;124m'\u001B[39m\u001B[38;5;124m.\u001B[39m\u001B[38;5;124m\"\u001B[39m)\n\u001B[0;32m    131\u001B[0m     \u001B[38;5;28;01melse\u001B[39;00m:\n",
      "Input \u001B[1;32mIn [1]\u001B[0m, in \u001B[0;36mcheck\u001B[1;34m(solution_output, expected_output)\u001B[0m\n\u001B[0;32m     78\u001B[0m solution_output \u001B[38;5;241m=\u001B[39m json\u001B[38;5;241m.\u001B[39mloads(solution_output)\n\u001B[0;32m     79\u001B[0m expected_output \u001B[38;5;241m=\u001B[39m json\u001B[38;5;241m.\u001B[39mloads(expected_output)\n\u001B[1;32m---> 80\u001B[0m \u001B[38;5;28;01massert\u001B[39;00m np\u001B[38;5;241m.\u001B[39mallclose(\n\u001B[0;32m     81\u001B[0m     solution_output, expected_output, atol\u001B[38;5;241m=\u001B[39m\u001B[38;5;241m2e-1\u001B[39m\n\u001B[0;32m     82\u001B[0m ), \u001B[38;5;124m\"\u001B[39m\u001B[38;5;124mThe expected output is not quite right.\u001B[39m\u001B[38;5;124m\"\u001B[39m\n\u001B[0;32m     84\u001B[0m \u001B[38;5;28;01mtry\u001B[39;00m:\n\u001B[0;32m     85\u001B[0m     dev1 \u001B[38;5;241m=\u001B[39m qml\u001B[38;5;241m.\u001B[39mdevice(\u001B[38;5;124m\"\u001B[39m\u001B[38;5;124mdefault.qubit\u001B[39m\u001B[38;5;124m\"\u001B[39m, wires \u001B[38;5;241m=\u001B[39m [\u001B[38;5;124m\"\u001B[39m\u001B[38;5;124mz0\u001B[39m\u001B[38;5;124m\"\u001B[39m, \u001B[38;5;124m\"\u001B[39m\u001B[38;5;124mz1\u001B[39m\u001B[38;5;124m\"\u001B[39m])\n",
      "\u001B[1;31mAssertionError\u001B[0m: The expected output is not quite right."
     ]
    }
   ],
   "source": [
    "import json\n",
    "import pennylane as qml\n",
    "import pennylane.numpy as np\n",
    "\n",
    "def zenda_operator():\n",
    "    \"\"\"\n",
    "    Quantum function corresponding to the operator to be applied by\n",
    "    Zenda on her qubits. This function does not return anything,\n",
    "    you must simply write the necessary gates.\n",
    "    \"\"\"\n",
    "\n",
    "\n",
    "    # Put your code here #\n",
    "\n",
    "\n",
    "def copier():\n",
    "    \"\"\"\n",
    "    Quantum function encoding the copy operation cone by Zenda, on each qubit.\n",
    "    This function does not return anything, you must simply write the necessary gates.\n",
    "    \"\"\"\n",
    "\n",
    "\n",
    "    # Put your code here #\n",
    "\n",
    "\n",
    "def printer():\n",
    "    \"\"\"\n",
    "    Quantum function encoding the print operation done by Reece's printer.\n",
    "    This function does not return anything, you must simply write the necessary gates.\n",
    "    \"\"\"\n",
    "\n",
    "\n",
    "    # Put your code here #\n",
    "\n",
    "\n",
    "def bell_generator():\n",
    "    \"\"\"\n",
    "    Quantum function preparing bell state shared by Reece and Zenda.\n",
    "    \"\"\"\n",
    "\n",
    "    qml.Hadamard(wires=[\"z1\"])\n",
    "    qml.CNOT(wires=[\"z1\", \"r1\"])\n",
    "\n",
    "\n",
    "dev = qml.device(\"default.qubit\", wires=[\"z0\", \"z1\", \"r1\", \"s0\", \"s1\"])\n",
    "\n",
    "@qml.qnode(dev)\n",
    "def circuit(alpha, beta, gamma):\n",
    "\n",
    "    # we encode the initial state\n",
    "    qml.U3(alpha, beta, gamma, wires = \"z0\")\n",
    "\n",
    "    bell_generator()\n",
    "\n",
    "    # Zenda acts on her qubits and establishes and copies them.\n",
    "    zenda_operator()\n",
    "    copier()\n",
    "\n",
    "\n",
    "    # Reece programs his printer\n",
    "    printer()\n",
    "\n",
    "    # Here we are returning the expected value with respect to any observable,\n",
    "    # the choice of observable is not important in this exercise.\n",
    "\n",
    "    return qml.expval(0.25 * qml.PauliX(\"r1\") + qml.PauliY(\"r1\"))\n",
    "\n",
    "\n",
    "# These functions are responsible for testing the solution.\n",
    "def run(test_case_input: str) -> str:\n",
    "    angles = json.loads(test_case_input)\n",
    "    output = circuit(*angles)\n",
    "    return str(output)\n",
    "\n",
    "\n",
    "def check(solution_output: str, expected_output: str) -> None:\n",
    "\n",
    "    solution_output = json.loads(solution_output)\n",
    "    expected_output = json.loads(expected_output)\n",
    "    assert np.allclose(\n",
    "        solution_output, expected_output, atol=2e-1\n",
    "    ), \"The expected output is not quite right.\"\n",
    "\n",
    "    try:\n",
    "        dev1 = qml.device(\"default.qubit\", wires = [\"z0\", \"z1\"])\n",
    "        @qml.qnode(dev1)\n",
    "        def circuit1():\n",
    "            zenda_operator()\n",
    "            return qml.probs(dev1.wires)\n",
    "        circuit1()\n",
    "    except:\n",
    "        assert False, \"zenda_operator can only act on z0 and z1 wires\"\n",
    "\n",
    "    try:\n",
    "        dev1 = qml.device(\"default.qubit\", wires = [\"z0\", \"z1\", \"s0\", \"s1\"])\n",
    "        @qml.qnode(dev1)\n",
    "        def circuit1():\n",
    "            copier()\n",
    "            return qml.probs(dev1.wires)\n",
    "        circuit1()\n",
    "    except:\n",
    "        assert False, \"copy can only act on z0, z1, s0 and s1 wires\"\n",
    "\n",
    "\n",
    "    try:\n",
    "        dev1 = qml.device(\"default.qubit\", wires = [\"s0\", \"s1\", \"r1\"])\n",
    "        @qml.qnode(dev1)\n",
    "        def circuit1():\n",
    "            printer()\n",
    "            return qml.probs(dev1.wires)\n",
    "        circuit1()\n",
    "    except:\n",
    "        assert False, \"Reece's printer can only act on s0, s1 and r1 wires\"\n",
    "\n",
    "\n",
    "test_cases = [['[1,1,1]', '0.8217355966267811'], ['[1.2,1.3,1.4]', '0.9604037313446201']]\n",
    "\n",
    "for i, (input_, expected_output) in enumerate(test_cases):\n",
    "    print(f\"Running test case {i} with input '{input_}'...\")\n",
    "\n",
    "    try:\n",
    "        output = run(input_)\n",
    "\n",
    "    except Exception as exc:\n",
    "        print(f\"Runtime Error. {exc}\")\n",
    "\n",
    "    else:\n",
    "        if message := check(output, expected_output):\n",
    "            print(f\"Wrong Answer. Have: '{output}'. Want: '{expected_output}'.\")\n",
    "\n",
    "        else:\n",
    "            print(\"Correct!\")"
   ],
   "metadata": {
    "collapsed": false,
    "pycharm": {
     "name": "#%%\n"
    }
   }
  },
  {
   "cell_type": "code",
   "execution_count": null,
   "outputs": [],
   "source": [],
   "metadata": {
    "collapsed": false,
    "pycharm": {
     "name": "#%%\n"
    }
   }
  }
 ],
 "metadata": {
  "kernelspec": {
   "display_name": "Python 3",
   "language": "python",
   "name": "python3"
  },
  "language_info": {
   "codemirror_mode": {
    "name": "ipython",
    "version": 2
   },
   "file_extension": ".py",
   "mimetype": "text/x-python",
   "name": "python",
   "nbconvert_exporter": "python",
   "pygments_lexer": "ipython2",
   "version": "2.7.6"
  }
 },
 "nbformat": 4,
 "nbformat_minor": 0
}