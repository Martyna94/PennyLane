{
 "cells": [
  {
   "cell_type": "markdown",
   "metadata": {
    "collapsed": true,
    "pycharm": {
     "name": "#%% md\n"
    }
   },
   "source": [
    "**Learning outcomes**\n",
    "\n",
    "* Describe how unitarity arises from preservation of marginal probabilities."
   ]
  },
  {
   "cell_type": "code",
   "execution_count": 2,
   "outputs": [],
   "source": [
    "import numpy as np\n",
    "import pennylane as qml"
   ],
   "metadata": {
    "collapsed": false,
    "pycharm": {
     "name": "#%%\n"
    }
   }
  },
  {
   "cell_type": "markdown",
   "source": [
    "Adjoint $U^+ = (U^*)^T$\n",
    "Unitary matrix:\n",
    "* $U*U^+ = U^+*U = I$"
   ],
   "metadata": {
    "collapsed": false
   }
  },
  {
   "cell_type": "markdown",
   "source": [
    "**Codercise H.2.1.**\n",
    "Write a function which checks if an array of complex numbers is unitary.\n",
    "Tip. You will find the [np.identity](https://numpy.org/doc/stable/reference/generated/numpy.identity.html), [np.allclose](https://numpy.org/doc/stable/reference/generated/numpy.allclose.html), [np.conjugate](https://numpy.org/doc/stable/reference/generated/numpy.conjugate.html) and [np.transpose](https://numpy.org/doc/stable/reference/generated/numpy.transpose.html) methods useful."
   ],
   "metadata": {
    "collapsed": false,
    "pycharm": {
     "name": "#%% md\n"
    }
   }
  },
  {
   "cell_type": "code",
   "execution_count": 3,
   "outputs": [
    {
     "name": "stdout",
     "output_type": "stream",
     "text": [
      "False\n"
     ]
    }
   ],
   "source": [
    "def unitary_check(operator):\n",
    "    \"\"\"Checks if a complex-valued matrix is unitary.\n",
    "\n",
    "    Args:\n",
    "        operator (array[complex]): A square complex-valued array.\n",
    "\n",
    "    Returns:\n",
    "        bool: Whether the matrix is unitary or not.\n",
    "    \"\"\"\n",
    "    adjoint = np.transpose(np.conjugate(operator))\n",
    "    check = False\n",
    "\n",
    "    #operator @ adjoint\n",
    "    left = np.matmul(operator,adjoint)\n",
    "    check =  np.allclose(left, np.identity(len(operator)))\n",
    "\n",
    "    right = np.matmul(adjoint,operator)\n",
    "    check = np.allclose(right, np.identity(len(operator)))\n",
    "\n",
    "    return check\n",
    "\n",
    "operator = [[1,0,0],[0,-1j,0],[1j,0,1]]\n",
    "result = unitary_check(operator)\n",
    "print(result)"
   ],
   "metadata": {
    "collapsed": false,
    "pycharm": {
     "name": "#%%\n"
    }
   }
  },
  {
   "cell_type": "markdown",
   "source": [
    "**Codercise H.2.2.**\n",
    "Create a circuit which applies a matrix if it is correctly sized and unitary using `unitary_check(operator)`, and otherwise does nothing. You will need the [qml.QubitUnitary](https://docs.pennylane.ai/en/stable/code/api/pennylane.QubitUnitary.html) gate from PennyLane."
   ],
   "metadata": {
    "collapsed": false
   }
  },
  {
   "cell_type": "code",
   "execution_count": null,
   "outputs": [],
   "source": [
    "n_bits = 1\n",
    "dev = qml.device(\"default.qubit\", wires=n_bits)\n",
    "\n",
    "@qml.qnode(dev)\n",
    "def unitary_circuit(operator):\n",
    "    \"\"\"Applies a matrix to the state if it is unitary and correctly sized.\n",
    "\n",
    "    Args:\n",
    "        operator (array[complex]): A square complex-valued array.\n",
    "\n",
    "    Returns:\n",
    "        array[complex]: The state of the quantum system, after applying the\n",
    "        operator, if valid.\n",
    "    \"\"\"\n",
    "    if unitary_check(operator) and operator.shape[0] == 2**n_bits:\n",
    "        qml.QubitUnitary(operator, wires=[i for i in range(n_bits)])\n",
    "\n",
    "    return qml.state()\n"
   ],
   "metadata": {
    "collapsed": false,
    "pycharm": {
     "name": "#%%\n"
    }
   }
  },
  {
   "cell_type": "markdown",
   "source": [],
   "metadata": {
    "collapsed": false
   }
  }
 ],
 "metadata": {
  "kernelspec": {
   "display_name": "Python 3",
   "language": "python",
   "name": "python3"
  },
  "language_info": {
   "codemirror_mode": {
    "name": "ipython",
    "version": 2
   },
   "file_extension": ".py",
   "mimetype": "text/x-python",
   "name": "python",
   "nbconvert_exporter": "python",
   "pygments_lexer": "ipython2",
   "version": "2.7.6"
  }
 },
 "nbformat": 4,
 "nbformat_minor": 0
}