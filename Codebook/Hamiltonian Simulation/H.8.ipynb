{
 "cells": [
  {
   "cell_type": "markdown",
   "metadata": {
    "collapsed": true,
    "pycharm": {
     "name": "#%% md\n"
    }
   },
   "source": [
    "## Comparing methods\n",
    "**Learning outcomes**\n",
    "\n",
    "* Apply the Zassenhaus formula to Trotterization errors and higher-order formulas.\n",
    "* Describe how the desired error size influences the gate count for LCU and Trotterization."
   ]
  },
  {
   "cell_type": "markdown",
   "source": [
    "**Trotter-Suzuki Decomposition**\n"
   ],
   "metadata": {
    "collapsed": false
   }
  },
  {
   "cell_type": "markdown",
   "source": [
    "Since this can be exponentiated analytically, we can compare the results of Trotterization to the exact result. Instead of looking at the difference between the \"Trotterized\" and exact unitaries, we may instead compare how each unitary acts on a given state $\\Ket{\\psi}$. Let's write a function to compute the *error* : $\\epsilon = \\vert \\Ket{\\tilde{\\psi(t)}} - \\Ket{\\psi(t)}$: the norm of the difference between the Trotterized result $\\Ket{\\tilde{\\psi(t)}}$ and the exact result $\\Ket{\\psi(t)}$."
   ],
   "metadata": {
    "collapsed": false
   }
  },
  {
   "cell_type": "markdown",
   "source": [
    "**Codercise H.8.1**\n",
    "(a) Complete the  code for `trotter_XandZ` below to Trotterize evolution with the hamiltonian $\\hat{H} = \\alpha\\hat{Z} + \\beta\\hat{X}$. The exact result `exact_result_XandZ` is provided for you."
   ],
   "metadata": {
    "collapsed": false
   }
  },
  {
   "cell_type": "code",
   "execution_count": null,
   "outputs": [],
   "source": [
    "dev = qml.device(\"default.qubit\", wires=1)\n",
    "\n",
    "def exact_result_XandZ(alpha, beta, time):\n",
    "    \"\"\"Exact circuit for evolving a qubit with H = alpha Z + beta X.\n",
    "\n",
    "    Args:\n",
    "        alpha (float): The coefficient of Z in the Hamiltonian.\n",
    "        beta (float): The coefficient of X in the Hamiltonian.\n",
    "        time (float): The time we evolve the state for.\n",
    "\n",
    "    Returns:\n",
    "        array[complex]: The exact state after evolution.\n",
    "    \"\"\"\n",
    "    root = np.sqrt(alpha**2 + beta**2)\n",
    "    c_0 = np.cos(root*time) - (alpha/root)*np.sin(root*time)*1.j\n",
    "    c_1 = -(beta/root)*np.sin(root*time)*1.j\n",
    "    return np.array([c_0, c_1])\n",
    "\n",
    "@qml.qnode(dev)\n",
    "def trotter_XandZ(alpha, beta, time, n):\n",
    "    \"\"\"Trotterized circuit for evolving a qubit with H = alpha Z + beta X.\n",
    "\n",
    "    Args:\n",
    "        alpha (float): The coefficient of Z in the Hamiltonian.\n",
    "        beta (float): The coefficient of X in the Hamiltonian.\n",
    "        time (float): The time we evolve the state for.\n",
    "        n (int): The number of steps in our Trotterization.\n",
    "\n",
    "    Returns:\n",
    "        array[complex]: The state after applying the Trotterized circuit.\n",
    "    \"\"\"\n",
    "    ##################\n",
    "    # YOUR CODE HERE #\n",
    "    ##################\n",
    "\n",
    "    return qml.state()\n",
    "\n",
    "def trotter_error_XandZ(alpha, beta, time, n):\n",
    "    \"\"\"Difference between the exact and Trotterized result.\n",
    "\n",
    "    Args:\n",
    "        alpha (float): The coefficient of Z in the Hamiltonian.\n",
    "        beta (float): The coefficient of X in the Hamiltonian.\n",
    "        time (float): The time we evolve the state for.\n",
    "        n (int): The number of steps in our Trotterization.\n",
    "\n",
    "    Returns:\n",
    "        float: The distance between the exact and Trotterized result.\n",
    "    \"\"\"\n",
    "    diff = np.abs(trotter_XandZ(alpha, beta, time, n) - exact_result_XandZ(alpha, beta, time))\n",
    "    return np.sqrt(sum(diff*diff))\n"
   ],
   "metadata": {
    "collapsed": false,
    "pycharm": {
     "name": "#%%\n"
    }
   }
  }
 ],
 "metadata": {
  "kernelspec": {
   "display_name": "Python 3",
   "language": "python",
   "name": "python3"
  },
  "language_info": {
   "codemirror_mode": {
    "name": "ipython",
    "version": 2
   },
   "file_extension": ".py",
   "mimetype": "text/x-python",
   "name": "python",
   "nbconvert_exporter": "python",
   "pygments_lexer": "ipython2",
   "version": "2.7.6"
  }
 },
 "nbformat": 4,
 "nbformat_minor": 0
}