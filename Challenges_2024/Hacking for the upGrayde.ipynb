{
 "cells": [
  {
   "cell_type": "markdown",
   "source": [
    "Challenge statement\n",
    "----------------------\n",
    "\n",
    "The classiest way for travellers to arrive at the Boson Beach, a home to quantum fun and games, is Gray's Cruise. But only the most curious and cunning passengers are allowed into the first class suites. To access them, the door asks you to decrypt some code by programming a quantum device.\n",
    "\n",
    "After a few hints (namely in the Cruise's name) and trial-and-error, it has become widely known that the decryption scheme is to transform binary code into the so-called Gray code. But not everyone knows how to program a quantum device to do this. Can you do it?\n",
    "\n",
    "Quantum computers require clever ways to encode information. For example, suppose that we want to encode a list with N integer numbers. Using the computational basis, the list can be represented using $\\left\\lceil \\log_{2} N \\right\\rceil$ qubits. For example, the number 3 can be represented as the bitstring 011, which is mapped into the quantum state ∣011⟩.\n",
    "However, this is not the end of the story! We can use different encodings that suit different problems better. For example, let's take a look at the reflected binary code or Gray Code.\n",
    "\n",
    "A way to construct the Gray code from the binary code is as follows. Suppose that at some point in the binary string we have a 1. Then, to obtain the Gray code, the bit x following the 1 must take the value 1−x in Gray code. For instance\n",
    "$$10011 (binary) $$\n",
    "Here, the second digit from the left changed from a 0 to a 1 since it's preceded by a 1. For the same reason, the fifth digit changed from a 1 to a 0.\n",
    "\n",
    "The Gray code is usually applied in classical processing for error correction. On the quantum side, it is used as a resource-efficient representation for Hamiltonian simulation for many-body problems.\n",
    "\n",
    "Let's try to build a simple quantum function that converts a set of qubits states from binary to Gray encoding, and get access to those sweet first-class suites!\n",
    "\n",
    "Challenge Code\n",
    "---------------\n",
    "Complete the binary_to_gray quantum function for changing a qubit-encoded binary string, to Gray representation. The circuit takes an initial state encoded as a binary string and converts it to a Gray encoding representation. For example, this function should map\n",
    "$$∣10011⟩↦∣11010⟩$$.\n",
    "This quantum function takes the number of bits encoded in the quantum state num_wires (int). Since this function is a subcircuit, it does not return anything.\n",
    "\n",
    "Input\n",
    "--------\n",
    "As an input to this problem, you are given a binary input (list(int)) corresponding to the binary string that is input into your subcircuit.\n",
    "\n",
    "Output\n",
    "----------\n",
    "We will check your output by calculating the probabilities of measuring each of the computational basis states. The probability of measuring the Gray-encoded basis state should be equal to 1."
   ],
   "metadata": {
    "collapsed": false,
    "pycharm": {
     "name": "#%% md\n"
    }
   }
  },
  {
   "cell_type": "code",
   "execution_count": 4,
   "metadata": {
    "collapsed": true
   },
   "outputs": [
    {
     "name": "stdout",
     "output_type": "stream",
     "text": [
      "Running test case 0 with input '[0,1,0]'...\n",
      "i : 2 CNOT wires: 1 2\n",
      "i : 1 CNOT wires: 0 1\n",
      "[0.0, 0.0, 0.0, 1.0, 0.0, 0.0, 0.0, 0.0]\n",
      "Correct!\n",
      "Running test case 1 with input '[0,1,1]'...\n",
      "i : 2 CNOT wires: 1 2\n",
      "i : 1 CNOT wires: 0 1\n",
      "[0.0, 0.0, 1.0, 0.0, 0.0, 0.0, 0.0, 0.0]\n",
      "Correct!\n"
     ]
    }
   ],
   "source": [
    "import json\n",
    "import pennylane as qml\n",
    "import pennylane.numpy as np\n",
    "\n",
    "def binary_to_grey(num_wires):\n",
    "\n",
    "    \"\"\"\n",
    "    A function mapping binary encoded qubits to gray code.\n",
    "\n",
    "    Args:\n",
    "        num_wires (int): The number of qubits.\n",
    "\n",
    "    \"\"\"\n",
    "    for i in range(num_wires - 1, 0, -1):\n",
    "        print(f'i : {i} CNOT wires: {i-1} {i}')\n",
    "        qml.CNOT(wires=[i-1, i])\n",
    "\n",
    "\n",
    "def run(test_case_input: str) -> str:\n",
    "    binary_string = json.loads(test_case_input)\n",
    "    n_wires = int(len(binary_string))\n",
    "\n",
    "    dev = qml.device(\"default.qubit\", wires = n_wires)\n",
    "    @qml.qnode(dev)\n",
    "    def circuit():\n",
    "        qml.BasisEmbedding(binary_string, range(n_wires))\n",
    "        binary_to_grey(n_wires)\n",
    "        return qml.probs()\n",
    "\n",
    "    output = circuit().tolist()\n",
    "    print(str(output))\n",
    "    return str(output)\n",
    "\n",
    "def check(solution_output: str, expected_output: str) -> None:\n",
    "    solution_output = json.loads(solution_output)\n",
    "    expected_output = json.loads(expected_output)\n",
    "    assert np.allclose(solution_output, expected_output, rtol=1e-4)\n",
    "\n",
    "\n",
    "# These are the public test cases\n",
    "test_cases = [\n",
    "    ('[0,1,0]', '[0, 0, 0, 1, 0, 0, 0, 0]'),\n",
    "    ('[0,1,1]', '[0, 0, 1, 0, 0, 0, 0, 0]')\n",
    "]\n",
    "\n",
    "# This will run the public test cases locally\n",
    "for i, (input_, expected_output) in enumerate(test_cases):\n",
    "    print(f\"Running test case {i} with input '{input_}'...\")\n",
    "\n",
    "    try:\n",
    "        output = run(input_)\n",
    "\n",
    "    except Exception as exc:\n",
    "        print(f\"Runtime Error. {exc}\")\n",
    "\n",
    "    else:\n",
    "        if message := check(output, expected_output):\n",
    "            print(f\"Wrong Answer. Have: '{output}'. Want: '{expected_output}'.\")\n",
    "\n",
    "        else:\n",
    "            print(\"Correct!\")"
   ]
  },
  {
   "cell_type": "code",
   "execution_count": null,
   "outputs": [],
   "source": [],
   "metadata": {
    "collapsed": false,
    "pycharm": {
     "name": "#%%\n"
    }
   }
  }
 ],
 "metadata": {
  "kernelspec": {
   "display_name": "Python 3",
   "language": "python",
   "name": "python3"
  },
  "language_info": {
   "codemirror_mode": {
    "name": "ipython",
    "version": 2
   },
   "file_extension": ".py",
   "mimetype": "text/x-python",
   "name": "python",
   "nbconvert_exporter": "python",
   "pygments_lexer": "ipython2",
   "version": "2.7.6"
  }
 },
 "nbformat": 4,
 "nbformat_minor": 0
}