{
 "cells": [
  {
   "cell_type": "markdown",
   "source": [
    "**Learning outcomes**\n",
    "\n",
    "* Derive the Trotter-Suzuki decomposition.\n",
    "* Use Trotterization to simulate a simple physical system."
   ],
   "metadata": {
    "collapsed": false
   }
  },
  {
   "cell_type": "code",
   "execution_count": 4,
   "metadata": {
    "collapsed": true
   },
   "outputs": [],
   "source": [
    "import numpy as np\n",
    "import pennylane as qml"
   ]
  },
  {
   "cell_type": "markdown",
   "source": [
    "Let's now consider two electrons in a magnetic field. If they are far away from each other, then the total Hamiltonian (energy) will just be a sum of Hamiltonians:\n",
    "![equation](./images/H.5.1.1.png)\n",
    "where $Z_0 = Z\\otimes I$ is the Pauli Z acting on the first electron, and $Z_1 = I \\otimes Z$ acts on the second. Since the electrons are independent, the unitary which evolves this two-electron system in time is two copies of the unitary $e^{i\\alpha tZ}$, $\\alpha = eB/2m_e$. In circuit form:\n",
    "![equation](./images/H.5.1.2.png)"
   ],
   "metadata": {
    "collapsed": false
   }
  },
  {
   "cell_type": "markdown",
   "source": [
    "**Codercise H.5.1.**\n",
    "Complete the function below for simulating two distant electrons in a magnetic field."
   ],
   "metadata": {
    "collapsed": false
   }
  },
  {
   "cell_type": "code",
   "execution_count": 6,
   "outputs": [],
   "source": [
    "n_bits=2\n",
    "dev = qml.device(\"default.qubit\", wires=range(n_bits))\n",
    "\n",
    "@qml.qnode(dev)\n",
    "def two_distant_spins(B, time):\n",
    "    \"\"\"Circuit for evolving the state of two distant electrons in a magnetic field.\n",
    "\n",
    "    Args:\n",
    "        B (float): The strength of the field, assumed to point in the z direction.\n",
    "        time (float): The time we evolve the electron wavefunction for.\n",
    "\n",
    "    Returns:\n",
    "        array[complex]: The quantum state after evolution.\n",
    "    \"\"\"\n",
    "    e = 1.6e-19\n",
    "    m_e = 9.1e-31\n",
    "    alpha = B*e/(2*m_e)\n",
    "\n",
    "    qml.RZ(phi=-2 * alpha * time, wires=0)\n",
    "    qml.RZ(phi=-2 * alpha * time, wires=1)\n",
    "\n",
    "    return qml.state()"
   ],
   "metadata": {
    "collapsed": false,
    "pycharm": {
     "name": "#%%\n"
    }
   }
  },
  {
   "cell_type": "markdown",
   "source": [
    "Another way to express this circuit is in matrix form,$U(t) = e^{i\\alpha tZ_0}e^{i\\alpha tZ_1}$ . Schrödinger's equation tells us, on the other hand, that $U(t) = e^{-i\\hat{H}/\\hbar} = e^{i \\alpha t(Z_0 Z_1)}$. These two expressions appear to be equal by virtue of the rule $e^{x+y} = e^xe^y$. But not so fast! We are dealing with matrices rather than numbers, and this makes a huge change.\n",
    "It turns out that, for matrices $A$ and $B$,$e^{A+B} = e^Ae^B$ is only tru when $A$ and $B$ can be freely reordered (commute), or $AB = BA$. We say such metrices **commute**. When term do not commute, exponentiating their sum is hard. As a concrete example, consider two nearby electrons, who can feel each other's magnetic field. The Hamiltonian will now include an interaction term since the spins of these electrons would like to anti-align:\n",
    "![picture](./images/H.5.2.1.png)\n",
    "For simplicity, we'll make this interaction term proportional to $X_0X_1$:\n",
    "![equation](./images/H.5.2.2.png)\n",
    "where $J$ depends on how close they are. (The factor of $(\\hbar / 2)^2$) comes from converting spins into Pauli operators). To time evolve this system, we need to exponentiate these non-commuting terms, which is hard."
   ],
   "metadata": {
    "collapsed": false
   }
  },
  {
   "cell_type": "markdown",
   "source": [
    "Thankfully, there is a beautiful approximation called the **Trotter-Suzuki decomposition**:\n",
    "$$e^{A+B} = \\lim_{n\\to\\infty}(e^{A/n}e^{B/n})^n$$\n",
    "This lead to a simple algorithm called **Trotterization** for simulating a quantum system.\n",
    "Suppose we have a Hamiltonian $\\hat{H} = \\hat{H_1} + \\hat{H_2}$, where $\\hat{H_1}$ and $\\hat{H_2}$ can be easily exponentiated in our computer, but don't commute. Then Trotter-Suzuki tells us that, for some large number of steps $n$:\n",
    "$$U(t) = e^{-it\\hat{H}/\\hbar} = e^{(-it\\hat{H_1}/\\hbar) + (-it\\hat{H_2}/\\hbar)} \\approx [e^{-i(t/n)\\hat{H_1}/\\hbar} e^{-i(t/n)\\hat{H_2}/\\hbar}] = [U_1(t/n)U_2(t/n)]^n$$\n",
    ", where $U_1(t)$ and $U_2(t)$ are the unitaries associated with exponentiating the terms $\\hat{H_1}$ and $\\hat{H_2}$. Thus, we can approximate $U(t)$ with the circuit:\n",
    "![circuit](./images/H.5.2.3.png)\n",
    "for some large $n$."
   ],
   "metadata": {
    "collapsed": false
   }
  },
  {
   "cell_type": "markdown",
   "source": [
    "**Codercise H.5.2.**\n",
    "Write a circuit to Trotterize the evolution of two electrons with Hamiltonian:\n",
    "$$\\hat{H} = -\\frac{\\hbar Be}{2m_e}(Z_0 +Z_1)+\\frac{J\\hbar^2}{4}X_0X_1$$\n",
    "We've defined constants $\\alpha = Be/2m_e$ and $\\beta = -J\\hbar/4$, so that\n",
    "$$-\\frac{\\hat{H}}{\\hbar} = \\alpha(Z_0 +Z_1)+ \\beta X_0X_1$$.\n",
    "*Tip* For exponentiating $X_0X_1$, you will find [qml.PauliRot](https://docs.pennylane.ai/en/stable/code/api/pennylane.PauliRot.html) helpful.\n",
    "\n",
    "Solution(calculations are included in the notes):\n",
    "$U(t) = e^{-it\\hat{H}/\\hbar} = e^{i\\alpha t(Z_0 + Z_1) +i \\beta t X_0X_1} = [e^{i \\alpha t(Z_0 + Z_1)/n}e^{i \\beta t X_0X_1}]^n = [e^{i \\alpha t Z_0/n}e^{i \\alpha t Z_1/n}e^{i \\beta t X_0X_1/n}]^n$"
   ],
   "metadata": {
    "collapsed": false
   }
  },
  {
   "cell_type": "code",
   "execution_count": 8,
   "outputs": [],
   "source": [
    "@qml.qnode(dev)\n",
    "def two_close_spins_X(B, J, time, n):\n",
    "    \"\"\"Circuit for evolving the state of two electrons with an X coupling.\n",
    "\n",
    "    Args:\n",
    "        B (float): The strength of the field, assumed to point in the z direction.\n",
    "        J (float): The strength of the coupling between electrons.\n",
    "        time (float): The time we evolve the electron wavefunction for.\n",
    "        n (int): The number of steps in our Trotterization.\n",
    "\n",
    "    Returns:\n",
    "        array[complex]: The quantum state after evolution.\n",
    "    \"\"\"\n",
    "    e = 1.6e-19\n",
    "    m_e = 9.1e-31\n",
    "    alpha = B*e/(2*m_e)\n",
    "    hbar = 1e-34\n",
    "    beta = -J*hbar/4\n",
    "\n",
    "    # [exp(i*alfa*t*Z_0\\n)exp(i*alfa*t*Z_1\\n)exp(i*beta*t*X_0*X_1\\n)]^n\n",
    "    for _ in range(n):\n",
    "        # PauliRot(phi, P) = exp(-i phi/2 P)\n",
    "\n",
    "        # exp(i*beta*t*X_0*X_1\\n)\n",
    "        qml.PauliRot(-2*beta * time/n,'XX',wires=[0,1])\n",
    "        # exp(i*alfa*t*Z_1\\n)\n",
    "        qml.PauliRot(-2*alpha*time/n,'Z',wires=1)\n",
    "        # exp(i*alfa*t*Z_0\\n)\n",
    "        qml.PauliRot(-2*alpha*time/n,'Z',wires=0)\n",
    "\n",
    "    return qml.state()"
   ],
   "metadata": {
    "collapsed": false,
    "pycharm": {
     "name": "#%%\n"
    }
   }
  },
  {
   "cell_type": "markdown",
   "source": [
    "A more realistic Hamiltonian for two nearby electrons involves interactions proportional to $Y_0Y_1$ and $Z_0Z_1$ in addition to $X_0X_1$:\n",
    "$$\\hat{H} = -\\frac{\\hbar Be}{2m_e}(Z_0+Z_1)+\\frac{\\hbar^2}{4}(J_xX_0X_1+J_YY_0Y_1+J_ZZ_0Z_1).$$\n",
    "For case like this, we can use a generalization of the Trotter-Suzuki formula for a sum of $L$ terms:\n",
    "$$e^{A_1+A_2+...+A_L} = \\lim_{n\\to\\infty}(e^{A_1/n}e^{A_2/n}...e^{A_L/n})^n$$\n",
    "Thus, for a Hamiltonian $\\hat{H} = \\hat{H_1} + \\hat{H_2} + ... + \\hat{H_L}$, we can replace the unitary $U(t)$ with a circuit:\n",
    "![circuit](./images/H.5.2.4.png)\n",
    "Although we can code this time evolution by hand, it quickly becomes tedious. Thankfully, in Pennylane we can input the Hamiltonian and automatically Trotterize."
   ],
   "metadata": {
    "collapsed": false
   }
  },
  {
   "cell_type": "markdown",
   "source": [
    "Solution(calculations are included in the notes):\n",
    "$\\frac{\\hat{H}}{\\hbar} = -\\alpha(Z_0 +Z_1) + \\frac{\\hbar}{4}(J_xX_0X_1 +J_yY_0Y_1+J_zZ_0Z_1)$"
   ],
   "metadata": {
    "collapsed": false,
    "pycharm": {
     "name": "#%% md\n"
    }
   }
  },
  {
   "cell_type": "code",
   "execution_count": 10,
   "outputs": [
    {
     "name": "stdout",
     "output_type": "stream",
     "text": [
      "  (-439560439560.4396) [Z1]\n",
      "+ (-439560439560.4396) [Z0]\n",
      "+ (2.5e-35) [X0 X1]\n",
      "+ (5e-35) [Y0 Y1]\n",
      "+ (7.5e-35) [Z0 Z1]\n"
     ]
    }
   ],
   "source": [
    "def ham_close_spins(B, J):\n",
    "    \"\"\"Creates the Hamiltonian for two close spins.\n",
    "\n",
    "    Args:\n",
    "        B (float): The strength of the field, assumed to point in the z direction.\n",
    "        J (list[float]): A vector of couplings [J_X, J_Y, J_Z].\n",
    "\n",
    "    Returns:\n",
    "        qml.Hamiltonian: The Hamiltonian of the system.\n",
    "    \"\"\"\n",
    "    e = 1.6e-19\n",
    "    m_e = 9.1e-31\n",
    "    alpha = B*e/(2*m_e)\n",
    "    hbar = 1e-34\n",
    "\n",
    "    beta = hbar/4\n",
    "    coeffs = [beta*J[2],beta*J[1],beta*J[0],-alpha,-alpha]\n",
    "    obs = [qml.PauliZ(wires=0)@qml.PauliZ(wires=1),qml.PauliY(wires=0)@qml.PauliY(wires=1), qml.PauliX(wires=0)@qml.PauliX(wires=1),qml.PauliZ(wires=1),qml.PauliZ(wires=0)]\n",
    "\n",
    "    return qml.Hamiltonian(coeffs, obs)\n",
    "print(ham_close_spins(5, [1,2,3]))"
   ],
   "metadata": {
    "collapsed": false,
    "pycharm": {
     "name": "#%%\n"
    }
   }
  },
  {
   "cell_type": "markdown",
   "source": [
    "To Trotterize, we can use [qml.ApproxTimeEvolution](https://docs.pennylane.ai/en/stable/code/api/pennylane.ApproxTimeEvolution.html), which simply takes a Hamiltonian, a time to evolve, and a number of steps for the Trotterization."
   ],
   "metadata": {
    "collapsed": false
   }
  },
  {
   "cell_type": "markdown",
   "source": [
    "**Codercise H.5.4.** Use the function `ham_close_spins(B, J)` from the previous exercise, along with the `qml.ApproxTimeEvolution` method, to simulate evolution under couplings $J = (J_x,J_y,J_z)$ and a magnetic field of strength B in the $z$-direction.\n",
    "Hint:\n",
    "we calculate $\\frac{\\hat{H}}{\\hbar}$, because `qml.ApproxTimeEvolution` utility the general time-evolution operator for a time-independent Hamiltonian given by:\n",
    "$$U(t) = e^{-iHt}$$"
   ],
   "metadata": {
    "collapsed": false
   }
  },
  {
   "cell_type": "code",
   "execution_count": null,
   "outputs": [],
   "source": [
    "@qml.qnode(dev)\n",
    "def two_close_spins(B, J, time, n):\n",
    "    \"\"\"Circuit for evolving the state of two nearby electrons with an arbitrary coupling.\n",
    "\n",
    "    Args:\n",
    "        B (float): The strength of the field, assumed to point in the z direction.\n",
    "        J (array[float]): The coupling strengths J = [J_X, J_Y, J_Z] between electrons.\n",
    "        time (float): The time we evolve the electron wavefunction for.\n",
    "        n (int): The number of steps in our Trotterization.\n",
    "\n",
    "    Returns:\n",
    "        array[complex]: The quantum state after evolution.\n",
    "    \"\"\"\n",
    "    hamiltonian = ham_close_spins(B, J)\n",
    "    qml.ApproxTimeEvolution(hamiltonian,time,n)\n",
    "\n",
    "    return qml.state()\n"
   ],
   "metadata": {
    "collapsed": false,
    "pycharm": {
     "name": "#%%\n"
    }
   }
  }
 ],
 "metadata": {
  "kernelspec": {
   "display_name": "Python 3",
   "language": "python",
   "name": "python3"
  },
  "language_info": {
   "codemirror_mode": {
    "name": "ipython",
    "version": 2
   },
   "file_extension": ".py",
   "mimetype": "text/x-python",
   "name": "python",
   "nbconvert_exporter": "python",
   "pygments_lexer": "ipython2",
   "version": "2.7.6"
  }
 },
 "nbformat": 4,
 "nbformat_minor": 0
}