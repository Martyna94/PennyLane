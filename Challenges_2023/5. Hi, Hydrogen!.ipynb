{
 "cells": [
  {
   "cell_type": "markdown",
   "metadata": {
    "collapsed": true,
    "pycharm": {
     "name": "#%% md\n"
    }
   },
   "source": [
    "## Tutorial #5 - Hi, Hydrogen!\n",
    "The Variational Quantum Eigensolver (VQE) algorithm has been touted as a game-changing near-term quantum algorithm. In particular, VQE is able to efficiently simulate low-energy properties of small molecules. In this challenge, you will calculate the energy of the hydrogen molecule for various molecular charges and bond length combinations.\n",
    "![chart](./images/5.Hi,Hydrogen_1.png)"
   ]
  },
  {
   "cell_type": "markdown",
   "source": [
    "**Challenge code**\n",
    "In the code below, you are given a few functions:\n",
    "\n",
    "* hydrogen_hamiltonian: This function will return the qubit Hamiltonian of the hydrogen molecule, H, given the coordinates of both hydrogen atoms and the net molecular charge. You'll usually find H with a charge of 0, but here we'll spice it up with a non-zero charge!\n",
    "* num_electrons: In subsequent functions, we'll need the total number of electrons in the hydrogen molecule we're looking at. With a charge of 0, H usually has just 2 electrons, one per hydrogen atom. Given the charge, how many electrons should H have? You must complete this function.\n",
    "* hf: The \"HF\" stands for Hartree–Fock. This function's purpose is calculate the HF approximation — treat every electron as independent, electrons move under a Coulomb potential from the positively charged nuclei, and there's a mean field from the other electrons — for the ground state of the hydrogen molecule we're interested in. We'll use this later, so you must complete this function.\n",
    "* run_VQE: This function takes the coordinates, charge, generates the HF state, defines a cost function and minimizes it. You must complete this function by:\n",
    "    * defining the gates within the cost function, using the qml.AllSinglesDoubles template with singles and doubles arguments defined below; and\n",
    "    * returning what we want to minimize, namely the expectation value of the hydrogen Hamiltonian!\n",
    "\n",
    "\n",
    "Here are some helpful resources:\n",
    "\n",
    "* [Building molecular Hamiltonians](https://pennylane.ai/qml/demos/tutorial_quantum_chemistry.html)\n",
    "* [A brief overview of VQE](https://pennylane.ai/qml/demos/tutorial_vqe.html)\n",
    "* [Variational Quantum Eigensolver](https://www.youtube.com/watch?v=4Xnxa6tzPeA)\n",
    "* [Quantum Chemistry documentation](https://docs.pennylane.ai/en/stable/introduction/chemistry.html)"
   ],
   "metadata": {
    "collapsed": false
   }
  },
  {
   "cell_type": "markdown",
   "source": [
    "**Input**\n",
    "As input to this problem, you are given:\n",
    "\n",
    "* coordinates (list(float)): the x, y, and z coordinates of each hydrogen atom\n",
    "* charge (int): the charge of the hydrogen molecule. It could be positive, negative, or zero!\n",
    "\n",
    "**Output**\n",
    "This code must output the ground state energy (float) of the hydrogen molecule in question."
   ],
   "metadata": {
    "collapsed": false
   }
  },
  {
   "cell_type": "code",
   "execution_count": 1,
   "outputs": [],
   "source": [
    "import json\n",
    "import pennylane as qml\n",
    "import pennylane.numpy as np"
   ],
   "metadata": {
    "collapsed": false,
    "pycharm": {
     "name": "#%%\n"
    }
   }
  },
  {
   "cell_type": "code",
   "execution_count": 3,
   "outputs": [],
   "source": [
    "def hydrogen_hamiltonian(coordinates, charge):\n",
    "    \"\"\"Calculates the qubit Hamiltonian of the hydrogen molecule.\n",
    "\n",
    "    Args:\n",
    "        coordinates (list(float)): Cartesian coordinates of each hydrogen molecule.\n",
    "        charge (int): The electric charge given to the hydrogen molecule.\n",
    "\n",
    "    Returns:\n",
    "        (qml.Hamiltonian): A PennyLane Hamiltonian.\n",
    "    \"\"\"\n",
    "    return qml.qchem.molecular_hamiltonian(\n",
    "        [\"H\", \"H\"], coordinates, charge, basis=\"STO-3G\"\n",
    "    )[0]\n",
    "\n",
    "def num_electrons(charge):\n",
    "    \"\"\"The total number of electrons in the hydrogen molecule.\n",
    "\n",
    "    Args:\n",
    "        charge (int): The electric charge given to the hydrogen molecule.\n",
    "\n",
    "    Returns:\n",
    "        (int): The number of electrons.\n",
    "    \"\"\"\n",
    "    # Put your solution here #\n",
    "    return"
   ],
   "metadata": {
    "collapsed": false,
    "pycharm": {
     "name": "#%%\n"
    }
   }
  },
  {
   "cell_type": "code",
   "execution_count": 4,
   "outputs": [],
   "source": [
    "def hf(electrons, num_qubits):\n",
    "    \"\"\"Calculates the Hartree-Fock state of the hydrogen molecule.\n",
    "\n",
    "    Args:\n",
    "        electrons (int): The number of electrons in the hydrogen molecule.\n",
    "        num_qubits (int): The number of qubits needed to represent the hydrogen molecule Hamiltonian.\n",
    "\n",
    "    Returns:\n",
    "        (numpy.tensor): The HF state.\n",
    "    \"\"\"\n",
    "    # Put your solution here #\n",
    "    return"
   ],
   "metadata": {
    "collapsed": false,
    "pycharm": {
     "name": "#%%\n"
    }
   }
  },
  {
   "cell_type": "code",
   "execution_count": 5,
   "outputs": [],
   "source": [
    "def run_VQE(coordinates, charge):\n",
    "    \"\"\"Performs a VQE routine for the given hydrogen molecule.\n",
    "\n",
    "    Args:\n",
    "        coordinates (list(float)): Cartesian coordinates of each hydrogen molecule.\n",
    "        charge (int): The electric charge given to the hydrogen molecule.:\n",
    "\n",
    "    Returns:\n",
    "        (float): The expectation value of the hydrogen Hamiltonian.\n",
    "    \"\"\"\n",
    "\n",
    "    hamiltonian = hydrogen_hamiltonian(np.array(coordinates), charge)\n",
    "\n",
    "    electrons = num_electrons(charge)\n",
    "    num_qubits = len(hamiltonian.wires)\n",
    "\n",
    "    hf_state = hf(electrons, num_qubits)\n",
    "    # singles and doubles are used to make the AllSinglesDoubles template\n",
    "    singles, doubles = qml.qchem.excitations(electrons, num_qubits)\n",
    "\n",
    "    dev = qml.device(\"default.qubit\", wires=num_qubits)\n",
    "\n",
    "    @qml.qnode(dev)\n",
    "    def cost(weights):\n",
    "        \"\"\"A circuit with tunable parameters/weights that measures the expectation value of the hydrogen Hamiltonian.\n",
    "\n",
    "        Args:\n",
    "            weights (numpy.array): An array of tunable parameters.\n",
    "\n",
    "        Returns:\n",
    "            (float): The expectation value of the hydrogen Hamiltonian.\n",
    "        \"\"\"\n",
    "        # Put your solution here #\n",
    "        return"
   ],
   "metadata": {
    "collapsed": false,
    "pycharm": {
     "name": "#%%\n"
    }
   }
  },
  {
   "cell_type": "code",
   "execution_count": 6,
   "outputs": [
    {
     "ename": "NameError",
     "evalue": "name 'singles' is not defined",
     "output_type": "error",
     "traceback": [
      "\u001B[1;31m---------------------------------------------------------------------------\u001B[0m",
      "\u001B[1;31mNameError\u001B[0m                                 Traceback (most recent call last)",
      "Input \u001B[1;32mIn [6]\u001B[0m, in \u001B[0;36m<cell line: 2>\u001B[1;34m()\u001B[0m\n\u001B[0;32m      1\u001B[0m np\u001B[38;5;241m.\u001B[39mrandom\u001B[38;5;241m.\u001B[39mseed \u001B[38;5;241m=\u001B[39m \u001B[38;5;241m1234\u001B[39m\n\u001B[0;32m      2\u001B[0m weights \u001B[38;5;241m=\u001B[39m np\u001B[38;5;241m.\u001B[39mrandom\u001B[38;5;241m.\u001B[39mnormal(\n\u001B[1;32m----> 3\u001B[0m \u001B[38;5;241m0\u001B[39m, np\u001B[38;5;241m.\u001B[39mpi, \u001B[38;5;28mlen\u001B[39m(\u001B[43msingles\u001B[49m) \u001B[38;5;241m+\u001B[39m \u001B[38;5;28mlen\u001B[39m(doubles), requires_grad\u001B[38;5;241m=\u001B[39m\u001B[38;5;28;01mTrue\u001B[39;00m\n\u001B[0;32m      4\u001B[0m )\n\u001B[0;32m      5\u001B[0m opt \u001B[38;5;241m=\u001B[39m qml\u001B[38;5;241m.\u001B[39mAdamOptimizer(\u001B[38;5;241m0.5\u001B[39m)\n\u001B[0;32m      7\u001B[0m \u001B[38;5;28;01mfor\u001B[39;00m _ \u001B[38;5;129;01min\u001B[39;00m \u001B[38;5;28mrange\u001B[39m(\u001B[38;5;241m200\u001B[39m):\n",
      "\u001B[1;31mNameError\u001B[0m: name 'singles' is not defined"
     ]
    }
   ],
   "source": [
    "    np.random.seed = 1234\n",
    "    weights = np.random.normal(\n",
    "    0, np.pi, len(singles) + len(doubles), requires_grad=True\n",
    ")\n",
    "    opt = qml.AdamOptimizer(0.5)\n",
    "\n",
    "    for _ in range(200):\n",
    "        weights = opt.step(cost, weights)\n",
    "\n",
    "    return cost(weights)"
   ],
   "metadata": {
    "collapsed": false,
    "pycharm": {
     "name": "#%%\n"
    }
   }
  },
  {
   "cell_type": "code",
   "execution_count": 7,
   "outputs": [],
   "source": [
    "# These functions are responsible for testing the solution.\n",
    "def run(test_case_input: str) -> str:\n",
    "    coordinates, charge = json.loads(test_case_input)\n",
    "    energy = run_VQE(coordinates, charge)\n",
    "\n",
    "    return str(energy)\n",
    "\n",
    "def check(solution_output: str, expected_output: str) -> None:\n",
    "    solution_output = json.loads(solution_output)\n",
    "    expected_output = json.loads(expected_output)\n",
    "    assert np.allclose(solution_output, expected_output, rtol=1e-3)"
   ],
   "metadata": {
    "collapsed": false,
    "pycharm": {
     "name": "#%%\n"
    }
   }
  },
  {
   "cell_type": "code",
   "execution_count": 8,
   "outputs": [],
   "source": [
    "test_cases = [['[[0.0, 0.0, -0.8, 0.0, 0.0, 0.8], -1]', '-0.53168359'], ['[[0.0, 0.0, -0.6614, 0.0, 0.0, 0.6614], 0]', '-1.13618883']]"
   ],
   "metadata": {
    "collapsed": false,
    "pycharm": {
     "name": "#%%\n"
    }
   }
  },
  {
   "cell_type": "code",
   "execution_count": 9,
   "outputs": [
    {
     "name": "stdout",
     "output_type": "stream",
     "text": [
      "Running test case 0 with input '[[0.0, 0.0, -0.8, 0.0, 0.0, 0.8], -1]'...\n",
      "Runtime Error. '>' not supported between instances of 'NoneType' and 'int'\n",
      "Running test case 1 with input '[[0.0, 0.0, -0.6614, 0.0, 0.0, 0.6614], 0]'...\n",
      "Runtime Error. '>' not supported between instances of 'NoneType' and 'int'\n"
     ]
    }
   ],
   "source": [
    "for i, (input_, expected_output) in enumerate(test_cases):\n",
    "    print(f\"Running test case {i} with input '{input_}'...\")\n",
    "\n",
    "    try:\n",
    "        output = run(input_)\n",
    "\n",
    "    except Exception as exc:\n",
    "        print(f\"Runtime Error. {exc}\")\n",
    "\n",
    "    else:\n",
    "        if message := check(output, expected_output):\n",
    "            print(f\"Wrong Answer. Have: '{output}'. Want: '{expected_output}'.\")\n",
    "\n",
    "        else:\n",
    "            print(\"Correct!\")"
   ],
   "metadata": {
    "collapsed": false,
    "pycharm": {
     "name": "#%%\n"
    }
   }
  },
  {
   "cell_type": "code",
   "execution_count": null,
   "outputs": [],
   "source": [],
   "metadata": {
    "collapsed": false,
    "pycharm": {
     "name": "#%%\n"
    }
   }
  }
 ],
 "metadata": {
  "kernelspec": {
   "display_name": "Python 3",
   "language": "python",
   "name": "python3"
  },
  "language_info": {
   "codemirror_mode": {
    "name": "ipython",
    "version": 2
   },
   "file_extension": ".py",
   "mimetype": "text/x-python",
   "name": "python",
   "nbconvert_exporter": "python",
   "pygments_lexer": "ipython2",
   "version": "2.7.6"
  }
 },
 "nbformat": 4,
 "nbformat_minor": 0
}