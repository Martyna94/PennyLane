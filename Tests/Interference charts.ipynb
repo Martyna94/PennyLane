{
 "cells": [
  {
   "cell_type": "markdown",
   "source": [
    "interference.gif"
   ],
   "metadata": {
    "collapsed": false
   }
  },
  {
   "cell_type": "code",
   "execution_count": null,
   "metadata": {
    "collapsed": true
   },
   "outputs": [],
   "source": [
    "# Corrected code to show both constructive and destructive interference\n",
    "\n",
    "import numpy as np\n",
    "import matplotlib.pyplot as plt\n",
    "from matplotlib.animation import FuncAnimation\n",
    "\n",
    "# Define the x-axis range and number of points\n",
    "x = np.linspace(0, 4 * np.pi, 1000)\n",
    "\n",
    "# Define wave parameters\n",
    "wave_amplitude = 1\n",
    "wavelength = 2 * np.pi\n",
    "\n",
    "# Define a function to update the plot for each frame\n",
    "def update(frame):\n",
    "    # Change the phase of the second wave to vary between 0 (constructive) and pi (destructive)\n",
    "    phase_shift = np.pi * np.sin(frame * np.pi / 20)\n",
    "\n",
    "    # Calculate the individual waves\n",
    "    wave1 = wave_amplitude * np.sin(x * 2 * np.pi / wavelength)\n",
    "    wave2 = wave_amplitude * np.sin(x * 2 * np.pi / wavelength + phase_shift)\n",
    "\n",
    "    # Calculate the interference pattern\n",
    "    interference_pattern = wave1 + wave2\n",
    "\n",
    "    # Update the data for all three lines\n",
    "    lines['wave1'].set_ydata(wave1)\n",
    "    lines['wave2'].set_ydata(wave2)\n",
    "    lines['interference'].set_ydata(interference_pattern)\n",
    "\n",
    "# Create the figure and the two subplots\n",
    "fig, axes = plt.subplots(3, 1, figsize=(10, 8))\n",
    "\n",
    "# Initialize the plots for each wave and the interference pattern\n",
    "lines = {}\n",
    "lines['wave1'], = axes[1].plot(x, np.zeros_like(x), label='Wave 1')\n",
    "lines['wave2'], = axes[1].plot(x, np.zeros_like(x), label='Wave 2 (changing phase)')\n",
    "lines['interference'], = axes[0].plot(x, np.zeros_like(x), label='Interference Pattern')\n",
    "\n",
    "# Formatting the plots\n",
    "for ax in axes:\n",
    "    ax.legend()\n",
    "    ax.set_ylim(-2.5, 2.5)\n",
    "    ax.axhline(0, color='black', linewidth=0.5, linestyle='--')\n",
    "axes[0].set_title('Interference Pattern')\n",
    "axes[1].set_title('Individual Waves')\n",
    "axes[2].set_title('Phase Shift Over Time')\n",
    "\n",
    "# Plot for phase shift over time\n",
    "phase_line, = axes[2].plot([], [], label='Phase Shift')\n",
    "axes[2].set_ylim(-1, 1)\n",
    "axes[2].legend()\n",
    "\n",
    "# Function to initialize the animation\n",
    "def init():\n",
    "    phase_line.set_data([], [])\n",
    "    for line in lines.values():\n",
    "        line.set_ydata(np.zeros_like(x))\n",
    "    return [phase_line] + list(lines.values())\n",
    "\n",
    "# Update function for the animation\n",
    "def animate(i):\n",
    "    update(i)\n",
    "    phase_shift = np.pi * np.sin(i * np.pi / 20)\n",
    "    phase_line.set_data(x, np.sin(i * np.pi / 20) * np.ones_like(x))\n",
    "    return [phase_line] + list(lines.values())\n",
    "\n",
    "# Animate the plot\n",
    "ani = FuncAnimation(fig, animate, init_func=init, frames=100, interval=100, blit=True)\n",
    "\n",
    "# Save the animation as a GIF\n",
    "ani.save('./interference.gif', writer='imagemagick', fps=10)\n",
    "\n",
    "# Close the plot to prevent it from displaying statically\n",
    "plt.close()"
   ]
  },
  {
   "cell_type": "markdown",
   "source": [
    "destructive_interference.gif"
   ],
   "metadata": {
    "collapsed": false
   }
  },
  {
   "cell_type": "code",
   "execution_count": null,
   "outputs": [],
   "source": [
    "import numpy as np\n",
    "import matplotlib.pyplot as plt\n",
    "import matplotlib.animation as animation\n",
    "\n",
    "# Parametry fal\n",
    "length = 1000  # Liczba punktów na wykresie\n",
    "x = np.linspace(0, 4 * np.pi, length)  # Zakres x od 0 do 4 Pi\n",
    "wavelength = 2 * np.pi  # Długość fali, 2 Pi oznacza jedno pełne oscylacje na 2 Pi jednostek\n",
    "\n",
    "# Fala nr 1\n",
    "wave1 = np.sin(x * 2 * np.pi / wavelength)\n",
    "\n",
    "# Fala nr 2 - przesunięta o Pi (180 stopni), co prowadzi do interferencji destruktywnej\n",
    "wave2 = np.sin(x * 2 * np.pi / wavelength + np.pi)\n",
    "\n",
    "# Suma obu fal\n",
    "resulting_wave = wave1 + wave2\n",
    "\n",
    "# Ustawienia wykresu\n",
    "fig, ax = plt.subplots()\n",
    "line1, = ax.plot(x, wave1, label='Fala 1')\n",
    "line2, = ax.plot(x, wave2, label='Fala 2')\n",
    "line3, = ax.plot(x, resulting_wave, label='Interferencja destruktywna', color='k')\n",
    "ax.set_ylim(-2, 2)\n",
    "plt.legend()\n",
    "\n",
    "# Funkcja animacji\n",
    "def animate(i):\n",
    "    phase_shift = i * np.pi / 20  # stopniowo zmieniające się przesunięcie fazy\n",
    "    wave2 = np.sin(x * 2 * np.pi / wavelength + np.pi + phase_shift)\n",
    "    resulting_wave = wave1 + wave2\n",
    "    line2.set_ydata(wave2)\n",
    "    line3.set_ydata(resulting_wave)\n",
    "\n",
    "# Tworzenie animacji\n",
    "ani = animation.FuncAnimation(fig, animate, frames=40, interval=50, blit=False)\n",
    "\n",
    "# Zapisywanie do pliku GIF\n",
    "ani.save('./destructive_interference.gif', writer='imagemagick', fps=20)\n",
    "\n",
    "plt.close()"
   ],
   "metadata": {
    "collapsed": false,
    "pycharm": {
     "name": "#%%\n"
    }
   }
  },
  {
   "cell_type": "code",
   "execution_count": 1,
   "outputs": [
    {
     "ename": "NameError",
     "evalue": "name 'Button' is not defined",
     "output_type": "error",
     "traceback": [
      "\u001B[1;31m---------------------------------------------------------------------------\u001B[0m",
      "\u001B[1;31mNameError\u001B[0m                                 Traceback (most recent call last)",
      "Cell \u001B[1;32mIn[1], line 65\u001B[0m\n\u001B[0;32m     63\u001B[0m \u001B[38;5;66;03m# Create a `matplotlib.widgets.Button` to reset the sliders to initial parameters.\u001B[39;00m\n\u001B[0;32m     64\u001B[0m resetax \u001B[38;5;241m=\u001B[39m plt\u001B[38;5;241m.\u001B[39maxes([\u001B[38;5;241m0.8\u001B[39m, \u001B[38;5;241m0.025\u001B[39m, \u001B[38;5;241m0.1\u001B[39m, \u001B[38;5;241m0.04\u001B[39m])\n\u001B[1;32m---> 65\u001B[0m button \u001B[38;5;241m=\u001B[39m \u001B[43mButton\u001B[49m(resetax, \u001B[38;5;124m'\u001B[39m\u001B[38;5;124mReset\u001B[39m\u001B[38;5;124m'\u001B[39m, color\u001B[38;5;241m=\u001B[39maxcolor, hovercolor\u001B[38;5;241m=\u001B[39m\u001B[38;5;124m'\u001B[39m\u001B[38;5;124m0.975\u001B[39m\u001B[38;5;124m'\u001B[39m)\n\u001B[0;32m     67\u001B[0m \u001B[38;5;28;01mdef\u001B[39;00m \u001B[38;5;21mreset\u001B[39m(event):\n\u001B[0;32m     68\u001B[0m     wavelength_slider\u001B[38;5;241m.\u001B[39mreset()\n",
      "\u001B[1;31mNameError\u001B[0m: name 'Button' is not defined"
     ]
    },
    {
     "data": {
      "text/plain": "<Figure size 800x600 with 6 Axes>",
      "image/png": "[encoded data removed]"
     },
     "metadata": {},
     "output_type": "display_data"
    }
   ],
   "source": [
    "import numpy as np\n",
    "import matplotlib.pyplot as plt\n",
    "from matplotlib.widgets import Slider\n",
    "\n",
    "# Initial parameters\n",
    "initial_wavelength = 2 * np.pi\n",
    "initial_amplitude = 1\n",
    "initial_phase = 0\n",
    "\n",
    "# Create the figure and the line that we will manipulate\n",
    "fig, axes = plt.subplots(2, 1, figsize=(8, 6))\n",
    "plt.subplots_adjust(bottom=0.25)\n",
    "ax_wave1, ax_wave2 = axes\n",
    "t = np.linspace(0, 10, 1000)\n",
    "wave1_line, = ax_wave1.plot(t, np.zeros_like(t), lw=2)\n",
    "wave2_line, = ax_wave1.plot(t, np.zeros_like(t), lw=2, color='red')\n",
    "interference_line, = ax_wave2.plot(t, np.zeros_like(t), lw=2, color='green')\n",
    "\n",
    "# adjust the main plot to make room for the sliders\n",
    "plt.subplots_adjust(left=0.25, bottom=0.25)\n",
    "\n",
    "# Make a horizontal slider to control the wavelength.\n",
    "axcolor = 'lightgoldenrodyellow'\n",
    "ax_wavelength = plt.axes([0.25, 0.1, 0.65, 0.03], facecolor=axcolor)\n",
    "wavelength_slider = Slider(ax=ax_wavelength, label='Wavelength', valmin=0.1, valmax=10.0, valinit=initial_wavelength)\n",
    "\n",
    "# Make a vertical slider to control the amplitude.\n",
    "ax_amplitude = plt.axes([0.25, 0.15, 0.65, 0.03], facecolor=axcolor)\n",
    "amplitude_slider = Slider(ax=ax_amplitude, label='Amplitude', valmin=0.1, valmax=2.0, valinit=initial_amplitude, orientation=\"horizontal\")\n",
    "\n",
    "# Make another slider to control the phase.\n",
    "ax_phase = plt.axes([0.25, 0.05, 0.65, 0.03], facecolor=axcolor)\n",
    "phase_slider = Slider(ax=ax_phase, label='Phase', valmin=0, valmax=2 * np.pi, valinit=initial_phase, orientation=\"horizontal\")\n",
    "\n",
    "# The function to be called anytime a slider's value changes\n",
    "def update(val):\n",
    "    wavelength = wavelength_slider.val\n",
    "    amplitude = amplitude_slider.val\n",
    "    phase = phase_slider.val\n",
    "    wave1 = amplitude * np.sin(2 * np.pi / wavelength * t)\n",
    "    wave2 = amplitude * np.sin(2 * np.pi / wavelength * t + phase)\n",
    "    interference = wave1 + wave2\n",
    "    wave1_line.set_ydata(wave1)\n",
    "    wave2_line.set_ydata(wave2)\n",
    "    interference_line.set_ydata(interference)\n",
    "    fig.canvas.draw_idle()\n",
    "\n",
    "# register the update function with each slider\n",
    "wavelength_slider.on_changed(update)\n",
    "amplitude_slider.on_changed(update)\n",
    "phase_slider.on_changed(update)\n",
    "\n",
    "# Set the layout of the plots and sliders\n",
    "ax_wave1.margins(x=0)\n",
    "ax_wave2.margins(x=0)\n",
    "ax_wave1.set_title('Waves')\n",
    "ax_wave2.set_title('Interference')\n",
    "\n",
    "# Set the range of y-axis for the interference plot to be more visible\n",
    "ax_wave1.set_ylim(-4, 4)\n",
    "ax_wave2.set_ylim(-4, 4)\n",
    "\n",
    "# Create a `matplotlib.widgets.Button` to reset the sliders to initial parameters.\n",
    "resetax = plt.axes([0.8, 0.025, 0.1, 0.04])\n",
    "button = Button(resetax, 'Reset', color=axcolor, hovercolor='0.975')\n",
    "\n",
    "def reset(event):\n",
    "    wavelength_slider.reset()\n",
    "    amplitude_slider.reset()\n",
    "    phase_slider.reset()\n",
    "button.on_clicked(reset)\n",
    "\n",
    "plt.show()"
   ],
   "metadata": {
    "collapsed": false,
    "pycharm": {
     "name": "#%%\n"
    }
   }
  },
  {
   "cell_type": "code",
   "execution_count": null,
   "outputs": [],
   "source": [],
   "metadata": {
    "collapsed": false,
    "pycharm": {
     "name": "#%%\n"
    }
   }
  }
 ],
 "metadata": {
  "kernelspec": {
   "display_name": "Python 3",
   "language": "python",
   "name": "python3"
  },
  "language_info": {
   "codemirror_mode": {
    "name": "ipython",
    "version": 2
   },
   "file_extension": ".py",
   "mimetype": "text/x-python",
   "name": "python",
   "nbconvert_exporter": "python",
   "pygments_lexer": "ipython2",
   "version": "2.7.6"
  }
 },
 "nbformat": 4,
 "nbformat_minor": 0
}