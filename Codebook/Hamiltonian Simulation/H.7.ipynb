{
 "cells": [
  {
   "cell_type": "markdown",
   "metadata": {
    "collapsed": true,
    "pycharm": {
     "name": "#%% md\n"
    }
   },
   "source": [
    "## Generalizing PREPARE and SELECT\n",
    "\n",
    "**Learning outcomes**\n",
    "\n",
    "* Understand the action of SELECT and PREPARE oracles."
   ]
  },
  {
   "cell_type": "code",
   "execution_count": 8,
   "outputs": [],
   "source": [
    "import numpy as np\n",
    "import pennylane as qml"
   ],
   "metadata": {
    "collapsed": false,
    "pycharm": {
     "name": "#%%\n"
    }
   }
  },
  {
   "cell_type": "markdown",
   "source": [
    "In the last node, we found a circuit for applying an arbitrary linear combination of unitaries. It pslit naturally into two subroutines, PREPARE, which prepared the state and coefficients, and SELECT which applied the unitaries. These were somewhat messily defined using nested circuit, but it turns there is a clean generalization of PREPARE and SELECT."
   ],
   "metadata": {
    "collapsed": false,
    "pycharm": {
     "name": "#%% md\n"
    }
   }
  },
  {
   "cell_type": "markdown",
   "source": [
    "For a linear combination of unitaries:\n",
    "$$\\tilde{U} = \\sum_{j} \\alpha_j U_J $$\n",
    "which $\\alpha_j > 0$, we'll define PREPARE and SELECT as oracle (black boxes) with the following behaviour:\n",
    "$$SELECT\\Ket{j} \\Ket{\\psi} = \\Ket{j}*U_J* \\Ket{\\psi} $$\n",
    "$$PREPARE\\Ket{0} = \\frac{1}{\\sqrt{\\alpha}}\\sum_{j} \\sqrt{\\alpha_j} \\Ket{j}$$\n",
    "\n",
    "For a linear combination of unitaries:\n",
    "$$\\tilde{U} = \\sum_{j} \\alpha_j U_J $$\n",
    "which $\\alpha_j > 0$, we'll define PREPARE and SELECT as oracle (black boxes) with the following behaviour:\n",
    "$$SELECT\\Ket{j} \\Ket{\\psi} = \\Ket{j}*U_J* \\Ket{\\psi} $$\n",
    "$$PREPARE\\Ket{0} = \\frac{1}{\\sqrt{\\alpha}}\\sum_{j} \\sqrt{\\alpha_j} \\Ket{j} = \\Ket{\\alpha}$$\n",
    ",where $\\alpha  = \\sum_{j} \\alpha_j$, and $\\Ket{j}$ is an orthonormal basis for the auxiliary system with initial state $\\Ket{0}$\n",
    "\n",
    "Since we have only specified hot the PREPARE oracle acts on the state $\\Ket{0}$, we have the freedom to chooose *any* unitary which perfoms this. It doesn't matter what it does to the stets orthogonal to $\\Ket{0}$! A convenient  chhoice is the *Householder transformation*. For a state $\\Ket{v}$, this is defined as\n",
    "$$R_v = I - 2\\Ket{v}\\Braket{v}$$"
   ],
   "metadata": {
    "collapsed": false
   }
  },
  {
   "cell_type": "markdown",
   "source": [
    "**Codercise H.7.1.** Write a fuction for a creating the Householder transformation as a matrix, assuming the inout a normalized state. You will [np.outer](https://numpy.org/doc/stable/reference/generated/numpy.outer.html) helpful."
   ],
   "metadata": {
    "collapsed": false
   }
  },
  {
   "cell_type": "code",
   "execution_count": 7,
   "outputs": [
    {
     "data": {
      "text/plain": "array([[ 1.,  0.],\n       [ 0., -1.]])"
     },
     "execution_count": 7,
     "metadata": {},
     "output_type": "execute_result"
    }
   ],
   "source": [
    "def householder(state):\n",
    "    \"\"\"Create the matrix form of a Householder transformation.\n",
    "\n",
    "    Args:\n",
    "        state (array[complex]): A list of amplitudes representing a state.\n",
    "\n",
    "    Returns:\n",
    "        array[complex]: The matrix representation of the Householder transformation.\n",
    "    \"\"\"\n",
    "    matrix = np.identity(2) - 2* np.outer(state,np.conjugate(state))\n",
    "    return matrix\n",
    "householder([0,1])"
   ],
   "metadata": {
    "collapsed": false,
    "pycharm": {
     "name": "#%%\n"
    }
   }
  },
  {
   "cell_type": "markdown",
   "source": [
    "We'll define the PREPARE oracke as the HOuseholder transformation of the state:\n",
    "$$\\Ket{0-\\alpha} = \\frac{\\Ket{0} - \\Ket{\\alpha}}{\\Ket{\\Ket{0} - \\Ket{\\alpha}}}.$$\n",
    "This requires a little explanation. First, $\\Ket{\\alpha}$ is a vector of coefficients which has been normalized and can therefore be interpreted as a state. Then $\\Ket{0} - \\Ket{\\alpha}$ is a difference of state, and is normalized by the denominator."
   ],
   "metadata": {
    "collapsed": false
   }
  },
  {
   "cell_type": "markdown",
   "source": [
    "**Codercise H.7.2** (a) Implement the PREPARE oracle using the Householder transformation; this is available from the previous exercise. For simplicity, we work with a sum of $2^k$ unitaries. This means our auxiliary register will have $k$ qubits, and the state $\\Ket{0}$ is the all-zero state (usually denoted $\\Ket{0}$)."
   ],
   "metadata": {
    "collapsed": false
   }
  },
  {
   "cell_type": "code",
   "execution_count": 11,
   "outputs": [
    {
     "name": "stdout",
     "output_type": "stream",
     "text": [
      "[1 0 0 0 0 0 0 0]\n"
     ]
    }
   ],
   "source": [
    "k_bits = 3\n",
    "zero_vec = np.array([1] + [0]*(2**k_bits - 1))\n",
    "print(zero_vec)"
   ],
   "metadata": {
    "collapsed": false,
    "pycharm": {
     "name": "#%%\n"
    }
   }
  },
  {
   "cell_type": "code",
   "execution_count": 15,
   "outputs": [],
   "source": [
    "k_bits = 2\n",
    "n_bits = 2\n",
    "all_bits = k_bits + n_bits\n",
    "aux = range(k_bits)\n",
    "main = range(k_bits, all_bits)\n",
    "dev = qml.device(\"default.qubit\", wires=all_bits)\n",
    "\n",
    "def PREPARE(alpha_list):\n",
    "    \"\"\"Create the PREPARE oracle as a matrix.\n",
    "\n",
    "    Args:\n",
    "        alpha_list (array[float]): A list of coefficients.\n",
    "\n",
    "    Returns:\n",
    "        array[complex]: The matrix representation of the PREPARE routine.\n",
    "    \"\"\"\n",
    "    zero_vec = np.array([1] + [0]*(2**k_bits - 1))\n",
    "\n",
    "    alpha_list = np.sqrt(alpha_list)/np.linalg.norm(alpha_list)\n",
    "    numerator = zero_vec - alpha_list\n",
    "    denominator = np.linalg.norm(numerator)\n",
    "    state = numerator/denominator\n",
    "\n",
    "    return householder(state)"
   ],
   "metadata": {
    "collapsed": false,
    "pycharm": {
     "name": "#%%\n"
    }
   }
  },
  {
   "cell_type": "markdown",
   "source": [
    "(b) The circuit below shows a PREPARE oracle (red), followed by a SELECT oracle (blue), followed by PREPARE+ (red):\n",
    "![circuit](./images/H.7.2.1.png)\n",
    "if $\\Ket{0}$ is measured on the auxuliary register, this circuit applies the linear combination $\\tilde{U}$ to $\\Ket(\\psi)$. Implement the LCU circuit shown above. SELECT is provided for you."
   ],
   "metadata": {
    "collapsed": false,
    "pycharm": {
     "name": "#%% md\n"
    }
   }
  },
  {
   "cell_type": "code",
   "execution_count": null,
   "outputs": [],
   "source": [
    "def SELECT(U_list):\n",
    "    \"\"\"Implement the SELECT oracle for 2^k unitaries.\"\"\"\n",
    "    for index in range(2**k_bits):\n",
    "        ctrl_str = np.binary_repr(index, k_bits) # Create binary representation\n",
    "        qml.ControlledQubitUnitary(U_list[index], control_wires=aux,\n",
    "                                   wires=main, control_values=ctrl_str)\n",
    "\n",
    "def LCU(alpha_list, U_list):\n",
    "    \"\"\"Implement LCU using PREPARE and SELECT oracles for 2^k unitaries.\n",
    "\n",
    "    Args:\n",
    "        alpha_list (list[float]): A list of coefficients.\n",
    "        U_list (list[array[complex]]): A list of unitary matrices, stored as\n",
    "        complex arrays.\n",
    "    \"\"\"\n",
    "    ##################\n",
    "    # YOUR CODE HERE #\n",
    "    ##################\n",
    "    pass\n"
   ],
   "metadata": {
    "collapsed": false,
    "pycharm": {
     "name": "#%%\n"
    }
   }
  }
 ],
 "metadata": {
  "kernelspec": {
   "display_name": "Python 3",
   "language": "python",
   "name": "python3"
  },
  "language_info": {
   "codemirror_mode": {
    "name": "ipython",
    "version": 2
   },
   "file_extension": ".py",
   "mimetype": "text/x-python",
   "name": "python",
   "nbconvert_exporter": "python",
   "pygments_lexer": "ipython2",
   "version": "2.7.6"
  }
 },
 "nbformat": 4,
 "nbformat_minor": 0
}