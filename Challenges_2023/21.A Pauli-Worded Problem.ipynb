{
 "cells": [
  {
   "cell_type": "markdown",
   "source": [
    "![qml.DepolarizingChannel](https://docs.pennylane.ai/en/stable/code/api/pennylane.DepolarizingChannel.html)\n",
    "![qml.pauli.PauliWord](https://docs.pennylane.ai/en/stable/code/api/pennylane.pauli.PauliWord.html)\n",
    "![qml.pauli.PauliSentence](https://docs.pennylane.ai/en/stable/code/api/pennylane.pauli.PauliSentence.html)\n"
   ],
   "metadata": {
    "collapsed": false,
    "pycharm": {
     "name": "#%% md\n"
    }
   }
  },
  {
   "cell_type": "code",
   "execution_count": 1,
   "outputs": [],
   "source": [
    "import pennylane as qml\n",
    "import pennylane.numpy as np\n",
    "import scipy"
   ],
   "metadata": {
    "collapsed": false,
    "pycharm": {
     "name": "#%%\n"
    }
   }
  },
  {
   "cell_type": "markdown",
   "source": [
    "Trace Distance:\n",
    "$T(\\rho,\\sigma) = \\frac{1}{2}Tr(|\\rho - \\sigma|)$, where $|A|= \\sqrt(A^{\\dagger}A)$"
   ],
   "metadata": {
    "collapsed": false
   }
  },
  {
   "cell_type": "code",
   "execution_count": 8,
   "outputs": [],
   "source": [
    "def abs_dist(rho, sigma):\n",
    "    \"\"\"A fucntion to compute the absolute value (rho - sigma).\"\"\"\n",
    "    polar = scipy.linalg.polar(rho-sigma)\n",
    "    return polar[1]"
   ],
   "metadata": {
    "collapsed": false,
    "pycharm": {
     "name": "#%%\n"
    }
   }
  },
  {
   "cell_type": "markdown",
   "source": [
    "For depolarizing noise with prob. $\\lambda$, $T(\\rho_p(\\lambda), \\rho_0)$ is bounded by:\n",
    "$$T(\\rho_p(\\lambda), \\rho_0) <= (1-\\lambda)^{| P |}$$"
   ],
   "metadata": {
    "collapsed": false
   }
  },
  {
   "cell_type": "code",
   "execution_count": 9,
   "outputs": [],
   "source": [
    "## |P|\n",
    "def word_dist(word):\n",
    "    \"\"\"A fucntion which counts the npn-identity operator in a Pauli word\"\"\"\n",
    "    return sum(word[i] != \"I\" for i in range(len(word)))"
   ],
   "metadata": {
    "collapsed": false,
    "pycharm": {
     "name": "#%%\n"
    }
   }
  },
  {
   "cell_type": "markdown",
   "source": [
    "First we need implement:\n",
    "$\\rho_p(\\lambda) = \\Delta_\\lambda^{\\otimes n} [\\rho_p]$"
   ],
   "metadata": {
    "collapsed": false
   }
  },
  {
   "cell_type": "code",
   "execution_count": 2,
   "outputs": [
    {
     "data": {
      "text/plain": "{0: 'X', 1: 'Y', 2: 'Z', 3: 'Z', 4: 'X'}"
     },
     "execution_count": 2,
     "metadata": {},
     "output_type": "execute_result"
    }
   ],
   "source": [
    "word = 'XYZZX'\n",
    "word_dict = {i: pauli for i, pauli in enumerate(word)}\n",
    "word_dict"
   ],
   "metadata": {
    "collapsed": false,
    "pycharm": {
     "name": "#%%\n"
    }
   }
  },
  {
   "cell_type": "markdown",
   "source": [
    "$\\rho_P = \\frac{1}{2^n}(I + P)$\n",
    "\n",
    "![theory](./images/Pauli_Word_1.png)"
   ],
   "metadata": {
    "collapsed": false,
    "pycharm": {
     "name": "#%% md\n"
    }
   }
  },
  {
   "cell_type": "code",
   "source": [
    "def noisy_Pauli_density(word, lmbda):\n",
    "    n_qubits = len(word)\n",
    "\n",
    "    word_dict = {i: pauli for i, pauli in enumerate(word)}\n",
    "    iden_dict = {i: \"I\" for i in range(n_qubits)}\n",
    "\n",
    "    pw1 = qml.pauli.PauliWord(iden_dict)\n",
    "    pw2 = qml.pauli.PauliWord(word_dict)\n",
    "    ps = qml.pauli.PauliSentence({pw1: 1/2**n_qubits,pw2: 1/2**n_qubits})\n",
    "\n",
    "    qml.QubitDensityMatrix(ps.to_mat(wire_order=range(n_qubits)),wires=range(n_qubits))\n",
    "\n",
    "    for wire in range(n_qubits):\n",
    "        qml.DepolarizingChannel(lmbda, wires=wire)"
   ],
   "metadata": {
    "collapsed": false,
    "pycharm": {
     "name": "#%%\n"
    }
   },
   "execution_count": 3,
   "outputs": []
  },
  {
   "cell_type": "markdown",
   "source": [
    "Function to compute the trace Distance\n",
    "$T(\\rho,\\sigma) = \\frac{1}{2}Tr(|\\rho - \\sigma|)$, where $|A|= \\sqrt(A^{\\dagger}A)$"
   ],
   "metadata": {
    "collapsed": false,
    "pycharm": {
     "name": "#%% md\n"
    }
   }
  },
  {
   "cell_type": "code",
   "execution_count": 4,
   "outputs": [],
   "source": [
    "def maxmix_trac_dist(word,lmbda):\n",
    "    n_qubits = len(word)\n",
    "    dev = qml.device('default.mixed',wires=n_qubits)\n",
    "\n",
    "    @qml.qnode(dev)\n",
    "    def rho():\n",
    "        noisy_Pauli_density(word,lmbda)\n",
    "        return qml.density_matrix(range(n_qubits))\n",
    "\n",
    "    rho = rho()\n",
    "    sigma = 1/2**n_qubits*np.eye(2**n_qubits)\n",
    "\n",
    "    return 1/2 * np.trace(abs_dist(rho,sigma))"
   ],
   "metadata": {
    "collapsed": false,
    "pycharm": {
     "name": "#%%\n"
    }
   }
  },
  {
   "cell_type": "markdown",
   "source": [
    "For depolarizin noise with prob. $\\lambda$:\n",
    "$$\n",
    "T(\\rho_P(\\lambda), \\rho_0) \\leq (1 - \\lambda)^{|P|},\n",
    "$$"
   ],
   "metadata": {
    "collapsed": false
   }
  },
  {
   "cell_type": "code",
   "execution_count": 5,
   "outputs": [],
   "source": [
    "def bound_verifier(word, lmbda):\n",
    "    return (1-lmbda)**word_dist(word) - maxmix_trac_dist(word,lmbda)"
   ],
   "metadata": {
    "collapsed": false,
    "pycharm": {
     "name": "#%%\n"
    }
   }
  },
  {
   "cell_type": "markdown",
   "source": [
    "Test\n",
    "test_cases = [\n",
    "    ('[\"XXI\", 0.7]', '0.0877777777777777'),\n",
    "    ('[\"XXIZ\", 0.1]', '0.4035185185185055'),\n",
    "    ('[\"YIZ\", 0.3]', '0.30999999999999284'),\n",
    "    ('[\"ZZZZZZZXXX\", 0.1]', '0.22914458207245006')"
   ],
   "metadata": {
    "collapsed": false
   }
  },
  {
   "cell_type": "code",
   "execution_count": 6,
   "outputs": [],
   "source": [
    "in1 = [\"XXI\", 0.7]\n",
    "in2 = [\"XXIZ\", 0.1]\n",
    "in3 = [\"YIZ\", 0.3]\n",
    "in4 = [\"ZZZZZZZXXX\", 0.1]"
   ],
   "metadata": {
    "collapsed": false,
    "pycharm": {
     "name": "#%%\n"
    }
   }
  },
  {
   "cell_type": "code",
   "execution_count": 14,
   "outputs": [
    {
     "data": {
      "text/plain": "0.22914458207245006"
     },
     "execution_count": 14,
     "metadata": {},
     "output_type": "execute_result"
    }
   ],
   "source": [
    "np.real(bound_verifier(*in4))"
   ],
   "metadata": {
    "collapsed": false,
    "pycharm": {
     "name": "#%%\n"
    }
   }
  },
  {
   "cell_type": "markdown",
   "metadata": {
    "collapsed": true,
    "pycharm": {
     "name": "#%% md\n"
    }
   },
   "source": [
    "### Backstory\n",
    "\n",
    "Now Zenda and Reece know where Trine is in hyperjail, and how to evade\n",
    "the quantum guard who patrols the hypercube.\n",
    "The only question is how to get there!\n",
    "Doc Trine's journal explains that the portal to hyperjail is held open by exotic\n",
    "matter, and the quantum sensor not only helps avoid the guard, but can\n",
    "be used to detect this matter!\n",
    "But the galaxy is a big place.\n",
    "How do Zenda and Reece find the entrance to hyperjail?\n",
    "\n",
    "Thankfully, they stumble onto a section of Trine's journal entitled\n",
    "'How to build a robot swarm'.\n",
    "This not only directs them to an old storage cupboard with hundreds of\n",
    "jetpack-equipped robots, but instructions for coordinating them using a special entangled state.\n",
    "Zenda and Reece need to search the office and see if this state can be\n",
    "found!\n",
    "There are several mysterious boxes which, at the push of a button,\n",
    "output a quantum state $\\rho.$\n",
    "Zenda and Reece would like to figure out if any of these states will do.\n",
    "Unfortunately, noise makes it harder to tell what the states are!\n",
    "\n",
    "### Blurry shadows\n",
    "\n",
    "Whenever Zenda and Reece push the button on a box and output a state in order to test it, it goes into a noisy circuit, where each qubit is subject to [depolarizing noise](https://docs.pennylane.ai/en/stable/code/api/pennylane.DepolarizingChannel.html), $\\Delta_\\lambda.$ If $\\rho$ is a single-qubit density matrix, $\\Delta_\\lambda$ is defined by\n",
    "\n",
    "$$\n",
    "\\Delta_\\lambda [\\rho] = (1 - \\lambda)\\rho + \\frac{\\lambda}{2}I,\n",
    "$$\n",
    "\n",
    "and with probability $\\lambda$, the state is deleted and replaced with something random.\n",
    "Zenda and Reece suspect that noisy is making the states coming out of the box very hard to distinguish from random, and would like some way to test just how badly blurred they are.\n",
    "\n",
    "To explore this, we first note that any density matrix on $n$ qubits can be written as a linear combination of a special set of \"Pauli\" density matrices. These have the form\n",
    "\n",
    "$$\n",
    "\\rho_P = \\frac{1}{2^n}(I + P),\n",
    "$$\n",
    "\n",
    "where $P \\in \\\\{I, X, Y, Z\\\\}^{\\otimes n}$ is a tensor product of $n$ single-qubit Pauli operators, called a [Pauli word](https://docs.pennylane.ai/en/stable/code/qml_pauli.html). We'll let $\\rho_P(\\lambda) = \\Delta_\\lambda^{\\otimes n}[\\rho_P]$ label the result of applying a layer of depolarizing noise to the Pauli density $\\rho_P.$\n",
    "\n",
    "If adding noise makes a Pauli density matrix look random, a combination of Pauli densities — in other words, any matrix! — will look random. Here, \"looks random\" means \"the expectation of any measurement is similar to the maximally mixed density matrix $\\rho_0 = I/2^n$\".\n",
    "Remarkably, we can capture all expectations at once using something called *trace\n",
    "distance* between density matrices. This is defined as\n",
    "\n",
    "$$\n",
    "T(\\rho, \\sigma) = \\frac{1}{2}\\text{Tr}|\\rho-\\sigma|,\n",
    "$$\n",
    "\n",
    "where $|A| = \\sqrt{A^\\dagger A}$ for a generic matrix $A$ (to calculate $|\\rho-\\sigma|$ you will be provided with the function `abs_dist`).\n",
    "For any (projective) measurement $M$, the trace distance between two density matrices $\\rho$ and $\\sigma$ bounds the difference in expectations:\n",
    "\n",
    "$$\n",
    "\\langle M\\rangle_\\rho - \\langle M\\rangle_\\sigma = \\text{Tr}[M(\\rho -\\sigma)] \\leq T(\\rho, \\sigma).\n",
    "$$\n",
    "\n",
    "If the trace distance is small, the two states are hard to tell apart with *any* measurement.\n",
    "\n",
    "Zenda and Reece suspect that the noise in their circuitry is blurring the states and making them hard to distinguish.\n",
    "Your goal is to write a function which verifies the bound\n",
    "\n",
    "$$\n",
    "T(\\rho_P(\\lambda), \\rho_0) \\leq (1 - \\lambda)^{|P|},\n",
    "$$\n",
    "\n",
    "by computing the difference between the right-hand side and left-hand side, where $|P|$ is the number of **non-identity** operators in the Pauli word $P.$ You should find this is always positive! Since a Pauli density matrix gets *exponentially* blurry, and all states can be built from these Pauli densities, most states will be exponentially hard to distinguish.\n",
    "\n",
    "\n",
    "## Challenge code\n",
    "\n",
    "In the code below, you are given various functions:\n",
    "- `word_dist`: which counts the number of non-identity operators in a\n",
    "  Pauli word.\n",
    "- `abs_dist`: which computes the distance $\\vert \\rho - \\sigma \\vert$ between density matrices (`rho` and `sigma`).\n",
    "- `noisy_Pauli_density`: a helper subcircuit which produces the density matrix $\\rho_P$\n",
    "  associated with a Pauli word $P$ (`word`) and applies depolarizing\n",
    "  noise to each qubit with parameter `lmbda`. It is merely a\n",
    "  collection of gates, and should not return anything. **You must complete this function**.\n",
    "- `maxmix_trace_dist`: a helper function which calculates the trace distance\n",
    "  $T(\\rho_P(\\lambda), \\rho_0)$, from the noisy\n",
    "  $\\rho_Q$ (specified by `word` and `lmbda`) to the maximally mixed\n",
    "  density $\\rho_0.$ **You must complete this function**.\n",
    "- `bound_verifier`: a function which computes the difference\n",
    "$$(1-\\lambda)^{|P|} - T(\\rho_P(\\lambda), \\rho_0),$$ with both terms specified by `lmbda` and `P`. **You must complete this function**.\n",
    "\n",
    "### Inputs\n",
    "\n",
    "The functions `noisy_Pauli_density`, `maxmix_trace_dist` and `bound_verifier` take as input a\n",
    "Pauli word  (`word (str)`) represented as a string of characters `I`,\n",
    "`X`, `Y` and `Z`, and a noise parameter `lmbda (float)` giving\n",
    "probability of erasing the state of a qubit.\n",
    "\n",
    "Note that, for `noisy_Pauli_density`, you are working with the\n",
    "`default.mixed` device and can create a density matrix using\n",
    "[`qml.QubitDensityMatrix`](https://docs.pennylane.ai/en/stable/code/api/pennylane.QubitDensityMatrix.html).\n",
    "\n",
    "### Output\n",
    "\n",
    "Your function `bound_verifier` must correctly compute the difference between the upper bound $(1 - \\lambda)^{|P|}$ and the trace distance $T(\\rho_P(\\lambda), \\rho_0)$ on test cases.\n",
    "\n",
    "If your solution matches the correct one within the given tolerance\n",
    "specified in `check` (in this case it's a `1e-4` relative error\n",
    "tolerance), the output will be `\"Correct!\"` Otherwise, you will\n",
    "receive a `\"Wrong answer\"` prompt."
   ]
  },
  {
   "cell_type": "code",
   "execution_count": 15,
   "outputs": [
    {
     "name": "stdout",
     "output_type": "stream",
     "text": [
      "Running test case 0 with input '[\"XXI\", 0.7]'...\n",
      "Correct!\n",
      "Running test case 1 with input '[\"XXIZ\", 0.1]'...\n",
      "Correct!\n",
      "Running test case 2 with input '[\"YIZ\", 0.3]'...\n",
      "Correct!\n",
      "Running test case 3 with input '[\"ZZZZZZZXXX\", 0.1]'...\n",
      "Correct!\n"
     ]
    }
   ],
   "source": [
    "import json\n",
    "import pennylane as qml\n",
    "import pennylane.numpy as np\n",
    "import scipy\n",
    "def abs_dist(rho, sigma):\n",
    "    \"\"\"A function to compute the absolute value |rho - sigma|.\"\"\"\n",
    "    polar = scipy.linalg.polar(rho - sigma)\n",
    "    return polar[1]\n",
    "\n",
    "def word_dist(word):\n",
    "    \"\"\"A function which counts the non-identity operators in a Pauli word\"\"\"\n",
    "    return sum(word[i] != \"I\" for i in range(len(word)))\n",
    "\n",
    "\n",
    "# Produce the Pauli density for a given Pauli word and apply noise\n",
    "\n",
    "def noisy_Pauli_density(word, lmbda):\n",
    "    \"\"\"\n",
    "       A subcircuit which prepares a density matrix (I + P)/2**n for a given Pauli\n",
    "       word P, and applies depolarizing noise to each qubit. Nothing is returned.\n",
    "\n",
    "    Args:\n",
    "            word (str): A Pauli word represented as a string with characters I,  X, Y and Z.\n",
    "            lmbda (float): The probability of replacing a qubit with something random.\n",
    "    \"\"\"\n",
    "    n_qubits = len(word)\n",
    "\n",
    "    word_dict = {i: pauli for i, pauli in enumerate(word)}\n",
    "    iden_dict = {i: \"I\" for i in range(n_qubits)}\n",
    "\n",
    "    pw1 = qml.pauli.PauliWord(iden_dict)\n",
    "    pw2 = qml.pauli.PauliWord(word_dict)\n",
    "    ps = qml.pauli.PauliSentence({pw1: 1/2**n_qubits,pw2: 1/2**n_qubits})\n",
    "\n",
    "    qml.QubitDensityMatrix(ps.to_mat(wire_order=range(n_qubits)),wires=range(n_qubits))\n",
    "\n",
    "    for wire in range(n_qubits):\n",
    "        qml.DepolarizingChannel(lmbda, wires=wire)\n",
    "\n",
    "# Compute the trace distance from a noisy Pauli density to the maximally mixed density\n",
    "\n",
    "def maxmix_trace_dist(word, lmbda):\n",
    "    \"\"\"\n",
    "       A function compute the trace distance between a noisy density matrix, specified\n",
    "       by a Pauli word, and the maximally mixed matrix.\n",
    "\n",
    "    Args:\n",
    "            word (str): A Pauli word represented as a string with characters I, X, Y and Z.\n",
    "            lmbda (float): The probability of replacing a qubit with something random.\n",
    "\n",
    "    Returns:\n",
    "            float: The trace distance between two matrices encoding Pauli words.\n",
    "    \"\"\"\n",
    "\n",
    "    n_qubits = len(word)\n",
    "    dev = qml.device('default.mixed',wires=n_qubits)\n",
    "\n",
    "    @qml.qnode(dev)\n",
    "    def rho():\n",
    "        noisy_Pauli_density(word,lmbda)\n",
    "        return qml.density_matrix(range(n_qubits))\n",
    "\n",
    "    rho = rho()\n",
    "    sigma = 1/2**n_qubits*np.eye(2**n_qubits)\n",
    "\n",
    "    return 1/2 * np.trace(abs_dist(rho,sigma))\n",
    "\n",
    "def bound_verifier(word, lmbda):\n",
    "    \"\"\"\n",
    "       A simple check function which verifies the trace distance from a noisy Pauli density\n",
    "       to the maximally mixed matrix is bounded by (1 - lambda)^|P|.\n",
    "\n",
    "    Args:\n",
    "            word (str): A Pauli word represented as a string with characters I, X, Y and Z.\n",
    "            lmbda (float): The probability of replacing a qubit with something random.\n",
    "\n",
    "    Returns:\n",
    "            float: The difference between (1 - lambda)^|P| and T(rho_P(lambda), rho_0).\n",
    "    \"\"\"\n",
    "\n",
    "    return  (1-lmbda)**word_dist(word) - maxmix_trac_dist(word,lmbda)\n",
    "\n",
    "# These functions are responsible for testing the solution.\n",
    "def run(test_case_input: str) -> str:\n",
    "\n",
    "    word, lmbda = json.loads(test_case_input)\n",
    "    output = np.real(bound_verifier(word, lmbda))\n",
    "\n",
    "    return str(output)\n",
    "\n",
    "\n",
    "def check(solution_output: str, expected_output: str) -> None:\n",
    "\n",
    "    solution_output = json.loads(solution_output)\n",
    "    expected_output = json.loads(expected_output)\n",
    "    assert np.allclose(\n",
    "        solution_output, expected_output, rtol=1e-4\n",
    "    ), \"Your trace distance isn't quite right!\"\n",
    "\n",
    "# These are the public test cases\n",
    "test_cases = [\n",
    "    ('[\"XXI\", 0.7]', '0.0877777777777777'),\n",
    "    ('[\"XXIZ\", 0.1]', '0.4035185185185055'),\n",
    "    ('[\"YIZ\", 0.3]', '0.30999999999999284'),\n",
    "    ('[\"ZZZZZZZXXX\", 0.1]', '0.22914458207245006')\n",
    "]\n",
    "# This will run the public test cases locally\n",
    "for i, (input_, expected_output) in enumerate(test_cases):\n",
    "    print(f\"Running test case {i} with input '{input_}'...\")\n",
    "\n",
    "    try:\n",
    "        output = run(input_)\n",
    "\n",
    "    except Exception as exc:\n",
    "        print(f\"Runtime Error. {exc}\")\n",
    "\n",
    "    else:\n",
    "        if message := check(output, expected_output):\n",
    "            print(f\"Wrong Answer. Have: '{output}'. Want: '{expected_output}'.\")\n",
    "\n",
    "        else:\n",
    "            print(\"Correct!\")"
   ],
   "metadata": {
    "collapsed": false,
    "pycharm": {
     "name": "#%%\n"
    }
   }
  },
  {
   "cell_type": "code",
   "execution_count": null,
   "outputs": [],
   "source": [],
   "metadata": {
    "collapsed": false,
    "pycharm": {
     "name": "#%%\n"
    }
   }
  }
 ],
 "metadata": {
  "kernelspec": {
   "display_name": "Python 3",
   "language": "python",
   "name": "python3"
  },
  "language_info": {
   "codemirror_mode": {
    "name": "ipython",
    "version": 2
   },
   "file_extension": ".py",
   "mimetype": "text/x-python",
   "name": "python",
   "nbconvert_exporter": "python",
   "pygments_lexer": "ipython2",
   "version": "2.7.6"
  }
 },
 "nbformat": 4,
 "nbformat_minor": 0
}