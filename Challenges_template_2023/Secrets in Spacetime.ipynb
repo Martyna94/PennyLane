{
 "cells": [
  {
   "cell_type": "markdown",
   "metadata": {
    "collapsed": true,
    "pycharm": {
     "name": "#%% md\n"
    }
   },
   "source": [
    "## Secrets in Spacetime\n",
    "\n",
    "**Backstory**\n",
    "Now Zenda and Reece have a cute way to send each other private messages using entangled qubits. Trine applauds them. \"Good work! But now that I think of it, superdense coding can be reversed, in a manner of speaking, to send quantum information using entanglement and classical bits. This will not only bring us to the last [Law of Infodynamics](https://en.wikipedia.org/wiki/Bennett%27s_laws), but teach us some basic facts about spacetime! Certain things have to be hidden from Nature itself.\" Zenda and Reece look perplexed. Trine smiles: \"Wait until I show you what timbits can do!\""
   ]
  },
  {
   "cell_type": "markdown",
   "source": [
    "**From causality to encryption**\n",
    "Zenda needs to send quantum states to Reece over a channel where someone could intercept the messages. They decide to encode the states they want to send with rotations on all of the qubits. To do this, they have chosen two real numbers, $\\alpha$ and $\\beta$, in advance, so that the states can be encoded as follows:\n",
    "![circuit](./images/Secrets%20in%20Spacetime_1.png)\n",
    "In this case, $U(\\Theta)$ is defined as the gate that generates the state $\\Ket{\\psi}$ — what Zenda wants to send to Reece — that depends on a real number $\\Theta$ .Thus, if someone intercepts the message, instead of getting state $\\Ket{\\psi}$ they will get state $(R_X(\\beta)R_Z(\\alpha))^{\\otimes 2}\\Ket{\\psi}$\n",
    "Although it seems like a super secure encoding procedure, it is not perfect! Once $\\alpha$ and $\\beta$ have been chosen, there are certain values of $\\Theta$ that could make $(R_X(\\beta)R_Z(\\alpha))^{\\otimes 2}\\Ket{\\psi}$ for certain states. This is a big problem — it means that someone is going to intercept the hidden state!\n",
    "We will say that $\\alpha$ and $\\beta$ are $\\epsilon$ - unsafe values if there exists a $\\Theta$ such that\n",
    "$$|\\Bra{0}*U^{}(\\Theta)(R_X(\\beta)R_Z(\\alpha))^{\\otimes 2} U(\\Theta)\\Ket{0}|^2 \\geqslant 1 - \\epsilon$$\n",
    "Your goal is to determine if $\\alpha$ and $\\beta$ are unsafe values given $\\epsilon$."
   ],
   "metadata": {
    "collapsed": false
   }
  },
  {
   "cell_type": "markdown",
   "source": [
    "**Laws of Infodynamics Part II: The Fourth Law**\n",
    "This box contains information that is not essential to solving the problem. Superdense coding sends two classical bits (cbits) via a qubit and half of an entangled Bell pair (ebit). Teleportation is a converse protocol, sending a qubit with two cbits and an ebit. Suppose Zenda has a state $\\Ket{\\psi}_{Z'}$ she wants to send to Reece, and they share a Bell state $\\Ket{\\beta (0,0)}_{ZR}$ , where\n",
    "$$$\\Ket{\\beta(j,k)}_{ZR} = \\frac{1}{\\sqrt(2)}(\\Ket{0}_Z \\Ket{k}_R + (-1)^j\\Ket{1}_Z\\Ket{k\\otimes1}_R)$$\n"
   ],
   "metadata": {
    "collapsed": false
   }
  },
  {
   "cell_type": "markdown",
   "source": [
    "We use the notation $\\Ket{\\Phi}=\\Ket{\\beta (0,0)}_{ZR}$ for the \"canonical\" Bell pair. Here, $Z'$ denotes Zenda's qubit where the state for teleportation is initially stored, and $Z$ the qubit which is initially entangled with Reece. Some algebra shows that the state of the whole system is\n",
    "$$\\Ket{\\psi}_{Z'} \\Ket{\\Phi}_{ZR}=\\frac{1}{2}\\sum_{jk}\\Ket{\\beta(j,k)}_{Z'Z}X^kZ^j\\Ket{\\psi}_R $$\n",
    "\n",
    "Note that in the operators $X^kZ^j$, $k$ comes before $j$. If Zenda performs a Bell measurement (i.e. measure in the basis ${\\ket{\\beta(j,k)}}$) on her system, she will learn two bits $j$ and $k$, and Reece will have Zenda's state in the disguised form $X^kZ^j\\Ket{\\psi}$ .For instance, if Zenda measures $j=k=0$, we apply the projector\n",
    "$$P = \\Ket{\\beta(0,0)}\\Bra{\\beta(0,0)}_{Z'Z} ,$$\n",
    "normalize, and obtain a post-measurement state\n",
    "$$\\Ket{\\beta(0,0)}_{Z'Z}\\Ket{\\psi}_R.$$"
   ],
   "metadata": {
    "collapsed": false
   }
  },
  {
   "cell_type": "markdown",
   "source": [
    "After she measures the cbits $j$ and $k$, Zenda can send them to Reece, who takes off the disguise $X^kZ^j$ to find $\\Ket{\\psi}$ .Since an ebit and two classical bits suffice to teleport a qubit in an arbitrary state, we have the Fourth Law of Infodynamics:\n",
    "$$1 ebit +2 cbits \\geqslant 1 qubit$$\n",
    "where $x \\geqslant y$ means having resource $x$ also provides resource $y$ .The disguising operators $X^kZ^j$ seem like a nuisance, but turn out to be essential to maintaining the fabric of spacetime! Since entanglement acts in a spooky, instantaneous way at a distance, if Zenda could magically teleport $\\Ket{\\psi}_{Z'}$ to Reece without the disguise, she could send information faster than light. If Reece knows nothing about $j$ and $k$, it turns out that the state is perfectly disguised, in the sense that\n",
    "$$\\rho_R = \\frac{1}{4} \\sum_{jk}X^kZ^j\\Ket{\\psi} \\Bra{\\psi}(X^kZ^j)^{\\dagger} = \\frac{1}{2} I$$\n",
    "This inspired Zenda and Reese to play around with $X$ and $Z$ rotations as a way of concealing information."
   ],
   "metadata": {
    "collapsed": false
   }
  },
  {
   "cell_type": "markdown",
   "source": [
    "**Challenge code**\n",
    "In the code below, you are given a function called is_unsafe. You must complete this function by coming up with a way — you are given total freedom, from making a variational circuit to finding an analytical solution — to determine if the given values of $\\alpha$ and $\\beta$ values are $\\epsilon$-unsafe.\n",
    "\n",
    "**Inputs**\n",
    "As input to this problem, you are given a list(float) containing the values of $\\beta$,$\\beta$ , and $\\epsilon$, in that order.\n",
    "\n",
    "**Output**\n",
    "This code must output a boolean — True or False — corresponding to whether the values of $\\alpha$ and $\\beta$ are $\\epsilon$-unsafe. For example, if you determine that the given values of $\\alpha$ and $\\beta$ aren't $\\epsilon$-unsafe, your code must output False."
   ],
   "metadata": {
    "collapsed": false
   }
  },
  {
   "cell_type": "code",
   "execution_count": null,
   "outputs": [],
   "source": [
    "import json\n",
    "import pennylane as qml\n",
    "import pennylane.numpy as np\n",
    "\n",
    "def U_psi(theta):\n",
    "    \"\"\"\n",
    "    Quantum function that generates |psi>, Zenda's state wants to send to Reece.\n",
    "\n",
    "    Args:\n",
    "        theta (float): Parameter that generates the state.\n",
    "\n",
    "    \"\"\"\n",
    "    qml.Hadamard(wires = 0)\n",
    "    qml.CRX(theta, wires = [0,1])\n",
    "    qml.CRZ(theta, wires = [0,1])\n",
    "\n",
    "def is_unsafe(alpha, beta, epsilon):\n",
    "    \"\"\"\n",
    "    Boolean function that we will use to know if a set of parameters is unsafe.\n",
    "\n",
    "    Args:\n",
    "        alpha (float): parameter used to encode the state.\n",
    "        beta (float): parameter used to encode the state.\n",
    "        epsilon (float): unsafe-tolerance.\n",
    "\n",
    "    Returns:\n",
    "        (bool): 'True' if alpha and beta are epsilon-unsafe coefficients. 'False' in the other case.\n",
    "\n",
    "    \"\"\"\n",
    "\n",
    "\n",
    "    # Put your code here #\n",
    "\n",
    "\n",
    "# These functions are responsible for testing the solution.\n",
    "def run(test_case_input: str) -> str:\n",
    "    ins = json.loads(test_case_input)\n",
    "    output = is_unsafe(*ins)\n",
    "    return str(output)\n",
    "\n",
    "def check(solution_output: str, expected_output: str) -> None:\n",
    "\n",
    "    def bool_to_int(string):\n",
    "        if string == \"True\":\n",
    "            return 1\n",
    "        return 0\n",
    "\n",
    "    solution_output = bool_to_int(solution_output)\n",
    "    expected_output = bool_to_int(expected_output)\n",
    "    assert solution_output == expected_output, \"The solution is not correct.\"\n",
    "\n",
    "\n",
    "test_cases = [['[0.1, 0.2, 0.3]', 'True'], ['[1.1, 1.2, 0.3]', 'False'], ['[1.1, 1.2, 0.4]', 'True'], ['[0.5, 1.9, 0.7]', 'True']]\n",
    "\n",
    "for i, (input_, expected_output) in enumerate(test_cases):\n",
    "    print(f\"Running test case {i} with input '{input_}'...\")\n",
    "\n",
    "    try:\n",
    "        output = run(input_)\n",
    "\n",
    "    except Exception as exc:\n",
    "        print(f\"Runtime Error. {exc}\")\n",
    "\n",
    "    else:\n",
    "        if message := check(output, expected_output):\n",
    "            print(f\"Wrong Answer. Have: '{output}'. Want: '{expected_output}'.\")\n",
    "\n",
    "        else:\n",
    "            print(\"Correct!\")"
   ],
   "metadata": {
    "collapsed": false,
    "pycharm": {
     "name": "#%%\n"
    }
   }
  }
 ],
 "metadata": {
  "kernelspec": {
   "display_name": "Python 3",
   "language": "python",
   "name": "python3"
  },
  "language_info": {
   "codemirror_mode": {
    "name": "ipython",
    "version": 2
   },
   "file_extension": ".py",
   "mimetype": "text/x-python",
   "name": "python",
   "nbconvert_exporter": "python",
   "pygments_lexer": "ipython2",
   "version": "2.7.6"
  }
 },
 "nbformat": 4,
 "nbformat_minor": 0
}