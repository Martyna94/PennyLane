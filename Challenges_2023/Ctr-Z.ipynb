{
 "cells": [
  {
   "cell_type": "markdown",
   "metadata": {
    "collapsed": true,
    "pycharm": {
     "name": "#%% md\n"
    }
   },
   "source": [
    "## Ctrl-Z\n",
    "\n",
    "**Backstory**\n",
    "Zenda and Reece work at Trine's Designs, a startup run by the eccentric inventor Doc Trine. Trine promises to tell Zenda and Reece about a revolutionary new type of quantum resource she has invented called \"timbits\". Before explaining timbits, she insists on demonstrating [Bennett's Laws of Infodynamics](https://en.wikipedia.org/wiki/Bennett%27s_laws), governing the behaviour of quantum information. \"Only then,\" she says, \"will the power of timbits be revealed in their full glory.\""
   ]
  },
  {
   "cell_type": "markdown",
   "source": [
    "**Reveersible computation**\n",
    "**Laws of Infodynamica Part 1: The First Law**\n",
    "This box contains some interesting but nonessential details. A qubit can be used to imitate a classical bit (which we'll call cbits), since instead of sending a cbit $j$, we can send a basis state $\\Ket{j}$. We can write this as an inequality, the First Law of Infodynamics:\n",
    "$$1 qubit  \\geqslant 1 cbit.(1)$$\n",
    "But although we can encode classical data into qubits, it's not obvious we can always compute in the same way."
   ],
   "metadata": {
    "collapsed": false
   }
  },
  {
   "cell_type": "markdown",
   "source": [
    "Some classical logical operations are irreversible. For instance,\n",
    "$$AND(0,0) = AND(0,1) = AND(1,0) = 0$$\n",
    "so given that $AND(j,k) = 0$, we can't tell the values of $j$ and $k$.\n",
    "![AND](./images/Ctrl-Z_1.png)\n",
    "Put differently, there is no way to press `ctrl-Z` and learn what went in! In contrast, quantum circuits are built out of unitary gates, which are always reversible. We can always press `ctrl-Z`! How can we encode something irreversible, like an AND gate, into a quantum circuit? Aptly, the answer is a controlled  $Z-$gate! It encodes the classical operation into a phase:\n",
    "$$CZ\\Ket{j,k} \\rightarrow (-1)^{AND(j,k)}\\Ket{j,k}$$\n",
    "A phase by itself is unobservable, so we need to interfere this state with some others to detect it. A simple way to do this is to use a controlled controlled $Z-$ gate, with some extra operations on either side:\n",
    "![circuit](./images/Ctrl-Z_2.png)\n",
    "Your job: figure out which operations to apply so that measurement on the first qubit is guaranteed to be in state $\\Ket{AND(j,k)}$."
   ],
   "metadata": {
    "collapsed": false
   }
  },
  {
   "cell_type": "markdown",
   "source": [
    "**Challenge code**\n",
    "In the code below, you are given a function called AND(j, k). You must complete this circuit and provide gates which implement a classical AND gate. More precisely, if the second and third qubits are in states \\Ket{j} and $\\Ket{k}$, the circuit should place the first qubit in state $\\Ket{AND(j,k)}$.\n",
    "\n",
    "**Inputs**\n",
    "As input to this problem, you are given two bits j (int) and k (int), encoded onto the second and third qubits for you.\n",
    "\n",
    "**Output**\n",
    "Your circuit must place the first qubit in basis state AND(j, k). This will be checked using qml.probs(wires = 0), which gives [1, 0] for  and [0, 1] for $\\Ket{1}$"
   ],
   "metadata": {
    "collapsed": false
   }
  },
  {
   "cell_type": "code",
   "execution_count": null,
   "outputs": [],
   "source": [
    "import json\n",
    "import pennylane as qml\n",
    "import pennylane.numpy as np\n",
    "\n",
    "dev = qml.device(\"default.qubit\", wires=3)\n",
    "\n",
    "@qml.qnode(dev)\n",
    "def AND(j, k):\n",
    "    \"\"\"Implements the AND gate using quantum gates and computes j AND k.\n",
    "\n",
    "    Args:\n",
    "        j (int): A classical bit, either 0 or 1. \n",
    "        k (int): A classical bit, either 0 or 1. \n",
    "\n",
    "    Returns:\n",
    "        float: The probabilities of measurement on wire 0.\n",
    "    \"\"\"\n",
    "\n",
    "    if j == 1:\n",
    "        qml.PauliX(wires=1)\n",
    "    if k == 1:\n",
    "        qml.PauliX(wires=2)\n",
    "\n",
    "\n",
    "    # Put your code here #\n",
    "\n",
    "\n",
    "    qml.ctrl(qml.PauliZ, control =[0, 1])(wires = [2])\n",
    "\n",
    "\n",
    "\n",
    "    # Your code here #\n",
    "\n",
    "    return qml.probs(wires=0)\n",
    "\n",
    "\n",
    "# These functions are responsible for testing the solution.\n",
    "def run(test_case_input: str) -> str:\n",
    "    j, k = json.loads(test_case_input)\n",
    "    output = AND(j, k).tolist()\n",
    "\n",
    "    return str(output)\n",
    "\n",
    "def check(solution_output: str, expected_output: str) -> None:\n",
    "    solution_output = json.loads(solution_output)\n",
    "    expected_output = json.loads(expected_output)\n",
    "    assert np.allclose(solution_output, expected_output, rtol=1e-4), \"Your classical operation isn't behaving correctly!\"\n",
    "\n",
    "\n",
    "test_cases = [['[0, 0]', '[1, 0]'], ['[1, 1]', '[0, 1]']]\n",
    "\n",
    "for i, (input_, expected_output) in enumerate(test_cases):\n",
    "    print(f\"Running test case {i} with input '{input_}'...\")\n",
    "\n",
    "    try:\n",
    "        output = run(input_)\n",
    "\n",
    "    except Exception as exc:\n",
    "        print(f\"Runtime Error. {exc}\")\n",
    "\n",
    "    else:\n",
    "        if message := check(output, expected_output):\n",
    "            print(f\"Wrong Answer. Have: '{output}'. Want: '{expected_output}'.\")\n",
    "\n",
    "        else:\n",
    "            print(\"Correct!\")"
   ],
   "metadata": {
    "collapsed": false,
    "pycharm": {
     "name": "#%%\n"
    }
   }
  }
 ],
 "metadata": {
  "kernelspec": {
   "display_name": "Python 3",
   "language": "python",
   "name": "python3"
  },
  "language_info": {
   "codemirror_mode": {
    "name": "ipython",
    "version": 2
   },
   "file_extension": ".py",
   "mimetype": "text/x-python",
   "name": "python",
   "nbconvert_exporter": "python",
   "pygments_lexer": "ipython2",
   "version": "2.7.6"
  }
 },
 "nbformat": 4,
 "nbformat_minor": 0
}