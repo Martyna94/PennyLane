{
 "cells": [
  {
   "cell_type": "markdown",
   "metadata": {
    "collapsed": true,
    "pycharm": {
     "name": "#%% md\n"
    }
   },
   "source": [
    "**Learning outcomes**\n",
    "\n",
    "* Construct the state of a multi-qubit system using the tensor product.\n",
    "* Define and apply separable operations to multiple qubits."
   ]
  },
  {
   "cell_type": "code",
   "source": [
    "import numpy as np\n",
    "import pennylane as qml"
   ],
   "metadata": {
    "collapsed": false,
    "pycharm": {
     "name": "#%%\n"
    }
   },
   "execution_count": 1,
   "outputs": []
  },
  {
   "cell_type": "markdown",
   "source": [
    "You may notice that these correspond to the numbers 0-3 in binary; this is not an accident! It is common to write out the integer value, especially for large number of qubits, e.g., ,\n",
    "$|10> -> |2>$, $|111> -> |7>$."
   ],
   "metadata": {
    "collapsed": false,
    "pycharm": {
     "name": "#%% md\n"
    }
   }
  },
  {
   "cell_type": "markdown",
   "source": [
    "**Important: qubit-ordering convention**\n",
    " In PennyLane, the qubits are indexed numerically from left to right. Therefore, a state such as $|10100>$ indicates that the first and third qubit (or, wires 0 and 2) are in state $|1>$, and the second, fourth, and fifth qubit are in state $|0>$. When drawing quantum circuits, our convention is that the leftmost (first) qubit is at the top of the circuit, such that qubits starting in state  corresponds to the circuit below:\n",
    "![circuit](./images/I.11.1.png)"
   ],
   "metadata": {
    "collapsed": false,
    "pycharm": {
     "name": "#%% md\n"
    }
   }
  },
  {
   "cell_type": "markdown",
   "source": [
    "**Codercise**\n",
    " Write a circuit in PennyLane that accepts an integer value, then prepares and returns the corresponding computational basis state vector $|n>$. (Assume a 3-qubit device). Try a few examples; does the appearance of the state vector match what you expect given the integer\n",
    "<em>Hint<em>\n",
    "You will find the numpy function `np.binary_repr` helpful for this challenge."
   ],
   "metadata": {
    "collapsed": false
   }
  },
  {
   "cell_type": "code",
   "execution_count": 22,
   "outputs": [
    {
     "name": "stdout",
     "output_type": "stream",
     "text": [
      "111\n",
      "Output state = [0.+0.j 0.+0.j 0.+0.j 0.+0.j 0.+0.j 0.+0.j 0.+0.j 1.+0.j]\n",
      "111\n"
     ]
    },
    {
     "data": {
      "text/plain": "(<Figure size 288x288 with 1 Axes>, <Axes:>)"
     },
     "execution_count": 22,
     "metadata": {},
     "output_type": "execute_result"
    },
    {
     "data": {
      "text/plain": "<Figure size 288x288 with 1 Axes>",
      "image/png": "[encoded data removed]"
     },
     "metadata": {},
     "output_type": "display_data"
    }
   ],
   "source": [
    "dev = qml.device('default.qubit', wires=3)\n",
    "\n",
    "@qml.qnode(dev)\n",
    "def make_basis_state(basis_id):\n",
    "    \"\"\"Produce the 3-qubit basis state corresponding to |basis_id>.\n",
    "\n",
    "    Note that the system starts in |000>.\n",
    "\n",
    "    Args:\n",
    "        basis_id (int): An integer value identifying the basis state to construct.\n",
    "\n",
    "    Returns:\n",
    "        array[complex]: The computational basis state |basis_id>.\n",
    "    \"\"\"\n",
    "    qubit_device = 3\n",
    "    # CREATE THE BASIS STATE\n",
    "\n",
    "    binary_repr = np.binary_repr(basis_id,qubit_device)\n",
    "    print(binary_repr)\n",
    "    for i, v in enumerate(binary_repr):\n",
    "        if v == '1':\n",
    "            qml.PauliX(i)\n",
    "\n",
    "    return qml.state()\n",
    "\n",
    "\n",
    "basis_id = 7\n",
    "print(f\"Output state = {make_basis_state(basis_id)}\")\n",
    "#qml.draw_mpl(make_basis_state)(basis_id )"
   ],
   "metadata": {
    "collapsed": false,
    "pycharm": {
     "name": "#%%\n"
    }
   }
  },
  {
   "cell_type": "markdown",
   "source": [
    "**Codercise I.11.2.**\n",
    "USe PannyLane to cr4eate the state $|+1> = |+>\\otimes |1>$. Then, return two measurements:\n",
    "* the expectation value of Y on the first qubit\n",
    "* the expectation value of Z on the second qubit\n",
    "\n",
    "In PennyLane, you can return measurements of multiple observable as a tuple, as long as they don't share wires."
   ],
   "metadata": {
    "collapsed": false,
    "pycharm": {
     "name": "#%% md\n"
    }
   }
  },
  {
   "cell_type": "code",
   "execution_count": 26,
   "outputs": [
    {
     "name": "stdout",
     "output_type": "stream",
     "text": [
      "[ 0. -1.]\n"
     ]
    }
   ],
   "source": [
    "# Creates a device with *two* qubits\n",
    "dev = qml.device('default.qubit', wires=2)\n",
    "\n",
    "@qml.qnode(dev)\n",
    "def two_qubit_circuit():\n",
    "\n",
    "    # PREPARE |+>|1>\n",
    "    qml.Hadamard(0)\n",
    "    qml.PauliX(1)\n",
    "    # RETURN TWO EXPECTATION VALUES, Y ON FIRST QUBIT, Z ON SECOND QUBIT\n",
    "\n",
    "    return (qml.expval(qml.PauliY(0)), qml.expval(qml.PauliZ(1)))\n",
    "\n",
    "\n",
    "print(two_qubit_circuit())"
   ],
   "metadata": {
    "collapsed": false,
    "pycharm": {
     "name": "#%%\n"
    }
   }
  },
  {
   "cell_type": "markdown",
   "source": [
    "**Codercise I.11.3**\n",
    "Write Pennylane circuit thet creates the satte $|1-> = |1> \\otimes |->$. Then, measure the expectation value of the <em>two-qubit observable $Z \\otimes X$<em>. In PennyLane, you can combine observables using the `@` symbol to represent the tensor product, e.g., `qml.PauliZ(0) @ qml.PauliZ(1)`."
   ],
   "metadata": {
    "collapsed": false,
    "pycharm": {
     "name": "#%% md\n"
    }
   }
  },
  {
   "cell_type": "code",
   "execution_count": 27,
   "outputs": [
    {
     "name": "stdout",
     "output_type": "stream",
     "text": [
      "0.9999999999999996\n"
     ]
    }
   ],
   "source": [
    "dev = qml.device(\"default.qubit\", wires=2)\n",
    "\n",
    "@qml.qnode(dev)\n",
    "def create_one_minus():\n",
    "\n",
    "    # PREPARE |1>|->\n",
    "    qml.PauliX(0)\n",
    "    qml.PauliX(1)\n",
    "    qml.Hadamard(1)\n",
    "    # RETURN A SINGLE EXPECTATION VALUE Z \\otimes X\n",
    "    expect_value = qml.expval(qml.PauliZ(0)@qml.PauliX(1))\n",
    "\n",
    "    return expect_value\n",
    "\n",
    "\n",
    "print(create_one_minus())"
   ],
   "metadata": {
    "collapsed": false,
    "pycharm": {
     "name": "#%%\n"
    }
   }
  },
  {
   "cell_type": "markdown",
   "source": [
    "**Codercise I.11.4**\n",
    "Implement the foolowing circuit twice. For one version, measure the observable $Z$ on the first qubit (i.e., $Z \\otimes I$), and $Z$ on the second qubit ($I \\otimes Z$). For other version, measure the observable $Z \\otimes Z$. How do think the results of the first circuit will relate to those of the second? Plot the results as a function of $\\theta$  to test your hypothesis.\n",
    "![circuit](./images/I.11.4.png)\n",
    "\n",
    "<em>Tip<em> In Pennylane, you don;t need to specify the indetity portion of observables. For example, $I \\otimes Z$ is simply `qml.PauliZ(1)` rather than `qml.Identity(0) @ qml.PauliZ(1)`"
   ],
   "metadata": {
    "collapsed": false,
    "pycharm": {
     "name": "#%% md\n"
    }
   }
  },
  {
   "cell_type": "code",
   "execution_count": 53,
   "outputs": [
    {
     "name": "stdout",
     "output_type": "stream",
     "text": [
      "ZI result [ 1.          0.99798668  0.99195481  0.9819287   0.9679487   0.95007112\n",
      "  0.92836793  0.90292654  0.87384938  0.84125353  0.80527026  0.76604444\n",
      "  0.72373404  0.67850941  0.63055267  0.58005691  0.52722547  0.47227107\n",
      "  0.41541501  0.35688622  0.29692038  0.23575894  0.17364818  0.1108382\n",
      "  0.04758192 -0.01586596 -0.07924996 -0.14231484 -0.20480667 -0.26647381\n",
      " -0.32706796 -0.38634513 -0.44406661 -0.5        -0.55392006 -0.60560969\n",
      " -0.65486073 -0.70147489 -0.74526445 -0.78605309 -0.82367658 -0.85798341\n",
      " -0.88883545 -0.91610846 -0.93969262 -0.95949297 -0.97542979 -0.98743889\n",
      " -0.99547192 -0.99949654 -0.99949654 -0.99547192 -0.98743889 -0.97542979\n",
      " -0.95949297 -0.93969262 -0.91610846 -0.88883545 -0.85798341 -0.82367658\n",
      " -0.78605309 -0.74526445 -0.70147489 -0.65486073 -0.60560969 -0.55392006\n",
      " -0.5        -0.44406661 -0.38634513 -0.32706796 -0.26647381 -0.20480667\n",
      " -0.14231484 -0.07924996 -0.01586596  0.04758192  0.1108382   0.17364818\n",
      "  0.23575894  0.29692038  0.35688622  0.41541501  0.47227107  0.52722547\n",
      "  0.58005691  0.63055267  0.67850941  0.72373404  0.76604444  0.80527026\n",
      "  0.84125353  0.87384938  0.90292654  0.92836793  0.95007112  0.9679487\n",
      "  0.9819287   0.99195481  0.99798668  1.        ]\n",
      "IZ result [ 1.          0.99195481  0.9679487   0.92836793  0.87384938  0.80527026\n",
      "  0.72373404  0.63055267  0.52722547  0.41541501  0.29692038  0.17364818\n",
      "  0.04758192 -0.07924996 -0.20480667 -0.32706796 -0.44406661 -0.55392006\n",
      " -0.65486073 -0.74526445 -0.82367658 -0.88883545 -0.93969262 -0.97542979\n",
      " -0.99547192 -0.99949654 -0.98743889 -0.95949297 -0.91610846 -0.85798341\n",
      " -0.78605309 -0.70147489 -0.60560969 -0.5        -0.38634513 -0.26647381\n",
      " -0.14231484 -0.01586596  0.1108382   0.23575894  0.35688622  0.47227107\n",
      "  0.58005691  0.67850941  0.76604444  0.84125353  0.90292654  0.95007112\n",
      "  0.9819287   0.99798668  0.99798668  0.9819287   0.95007112  0.90292654\n",
      "  0.84125353  0.76604444  0.67850941  0.58005691  0.47227107  0.35688622\n",
      "  0.23575894  0.1108382  -0.01586596 -0.14231484 -0.26647381 -0.38634513\n",
      " -0.5        -0.60560969 -0.70147489 -0.78605309 -0.85798341 -0.91610846\n",
      " -0.95949297 -0.98743889 -0.99949654 -0.99547192 -0.97542979 -0.93969262\n",
      " -0.88883545 -0.82367658 -0.74526445 -0.65486073 -0.55392006 -0.44406661\n",
      " -0.32706796 -0.20480667 -0.07924996  0.04758192  0.17364818  0.29692038\n",
      "  0.41541501  0.52722547  0.63055267  0.72373404  0.80527026  0.87384938\n",
      "  0.92836793  0.9679487   0.99195481  1.        ]\n",
      "combined result [ 1.          0.98995769  0.96016137  0.91159112  0.84584137  0.76506401\n",
      "  0.67189147  0.56934274  0.46071565  0.34946935  0.23910115  0.13302222\n",
      "  0.03443665 -0.05377184 -0.12914139 -0.18971803 -0.23412323 -0.26160042\n",
      " -0.27203898 -0.26597461 -0.24456636 -0.2095509  -0.16317591 -0.10811488\n",
      " -0.04736646  0.01585798  0.07825449  0.13655009  0.18762512  0.22863011\n",
      "  0.25709278  0.2710114   0.26893104  0.25        0.21400432  0.16137912\n",
      "  0.0931964   0.01112958 -0.08260377 -0.18531904 -0.29395882 -0.40520075\n",
      " -0.51557514 -0.62158821 -0.71984631 -0.80717685 -0.88074144 -0.93813717\n",
      " -0.97748245 -0.99748423 -0.99748423 -0.97748245 -0.93813717 -0.88074144\n",
      " -0.80717685 -0.71984631 -0.62158821 -0.51557514 -0.40520075 -0.29395882\n",
      " -0.18531904 -0.08260377  0.01112958  0.0931964   0.16137912  0.21400432\n",
      "  0.25        0.26893104  0.2710114   0.25709278  0.22863011  0.18762512\n",
      "  0.13655009  0.07825449  0.01585798 -0.04736646 -0.10811488 -0.16317591\n",
      " -0.2095509  -0.24456636 -0.26597461 -0.27203898 -0.26160042 -0.23412323\n",
      " -0.18971803 -0.12914139 -0.05377184  0.03443665  0.13302222  0.23910115\n",
      "  0.34946935  0.46071565  0.56934274  0.67189147  0.76506401  0.84584137\n",
      "  0.91159112  0.96016137  0.98995769  1.        ]\n",
      "ZZ_result [ 1.          0.98995769  0.96016137  0.91159112  0.84584137  0.76506401\n",
      "  0.67189147  0.56934274  0.46071565  0.34946935  0.23910115  0.13302222\n",
      "  0.03443665 -0.05377184 -0.12914139 -0.18971803 -0.23412323 -0.26160042\n",
      " -0.27203898 -0.26597461 -0.24456636 -0.2095509  -0.16317591 -0.10811488\n",
      " -0.04736646  0.01585798  0.07825449  0.13655009  0.18762512  0.22863011\n",
      "  0.25709278  0.2710114   0.26893104  0.25        0.21400432  0.16137912\n",
      "  0.0931964   0.01112958 -0.08260377 -0.18531904 -0.29395882 -0.40520075\n",
      " -0.51557514 -0.62158821 -0.71984631 -0.80717685 -0.88074144 -0.93813717\n",
      " -0.97748245 -0.99748423 -0.99748423 -0.97748245 -0.93813717 -0.88074144\n",
      " -0.80717685 -0.71984631 -0.62158821 -0.51557514 -0.40520075 -0.29395882\n",
      " -0.18531904 -0.08260377  0.01112958  0.0931964   0.16137912  0.21400432\n",
      "  0.25        0.26893104  0.2710114   0.25709278  0.22863011  0.18762512\n",
      "  0.13655009  0.07825449  0.01585798 -0.04736646 -0.10811488 -0.16317591\n",
      " -0.2095509  -0.24456636 -0.26597461 -0.27203898 -0.26160042 -0.23412323\n",
      " -0.18971803 -0.12914139 -0.05377184  0.03443665  0.13302222  0.23910115\n",
      "  0.34946935  0.46071565  0.56934274  0.67189147  0.76506401  0.84584137\n",
      "  0.91159112  0.96016137  0.98995769  1.        ]\n"
     ]
    }
   ],
   "source": [
    "dev = qml.device('default.qubit', wires=2)\n",
    "\n",
    "@qml.qnode(dev)\n",
    "def circuit_1(theta):\n",
    "    \"\"\"Implement the circuit and measure Z I and I Z.\n",
    "\n",
    "    Args:\n",
    "        theta (float): a rotation angle.\n",
    "\n",
    "    Returns:\n",
    "        float, float: The expectation values of the observables Z I, and I Z\n",
    "    \"\"\"\n",
    "    qml.RX(theta, wires=0)\n",
    "    qml.RY(2*theta, wires=1)\n",
    "\n",
    "    return (qml.expval(qml.PauliZ(0)),qml.expval(qml.PauliZ(1)))\n",
    "\n",
    "\n",
    "@qml.qnode(dev)\n",
    "def circuit_2(theta):\n",
    "    \"\"\"Implement the circuit and measure Z Z.\n",
    "\n",
    "    Args:\n",
    "        theta (float): a rotation angle.\n",
    "\n",
    "    Returns:\n",
    "        float: The expectation value of the observable Z Z\n",
    "    \"\"\"\n",
    "\n",
    "    qml.RX(theta, wires=0)\n",
    "    qml.RY(2*theta, wires=1)\n",
    "\n",
    "    return qml.expval(qml.PauliZ(0) @ qml.PauliZ(1))\n",
    "\n",
    "\n",
    "def zi_iz_combination(ZI_results, IZ_results):\n",
    "    \"\"\"Implement a function that acts on the ZI and IZ results to\n",
    "    produce the ZZ results. How do you think they should combine?\n",
    "\n",
    "    Args:\n",
    "        ZI_results (array[float]): Results from the expectation value of\n",
    "            ZI in circuit_1.\n",
    "        IZ_results (array[float]): Results from the expectation value of\n",
    "            IZ in circuit_2.\n",
    "\n",
    "    Returns:\n",
    "        array[float]: A combination of ZI_results and IZ_results that\n",
    "        produces results equivalent to measuring ZZ.\n",
    "    \"\"\"\n",
    "\n",
    "    combined_results = np.zeros(len(ZI_results))\n",
    "    combined_results = np.multiply(ZI_results, IZ_results)\n",
    "\n",
    "    return combined_results\n",
    "\n",
    "\n",
    "\n",
    "theta = np.linspace(0, 2 * np.pi, 100)\n",
    "\n",
    "# Run circuit 1, and process the results\n",
    "circuit_1_results = np.array([circuit_1(t) for t in theta])\n",
    "\n",
    "ZI_results = circuit_1_results[:, 0]\n",
    "IZ_results = circuit_1_results[:, 1]\n",
    "combined_results = zi_iz_combination(ZI_results, IZ_results)\n",
    "print('ZI result', ZI_results)\n",
    "print('IZ result', IZ_results)\n",
    "print('combined result', combined_results)\n",
    "\n",
    "# Run circuit 2\n",
    "ZZ_results = np.array([circuit_2(t) for t in theta])\n",
    "print('ZZ_result', ZZ_results)\n",
    "# Plot your results\n",
    "#plot = plotter(theta, ZI_results, IZ_results, ZZ_results, combined_results)"
   ],
   "metadata": {
    "collapsed": false,
    "pycharm": {
     "name": "#%%\n"
    }
   }
  },
  {
   "cell_type": "markdown",
   "source": [
    "![circuit](./images/I.11.4.2.png)"
   ],
   "metadata": {
    "collapsed": false,
    "pycharm": {
     "name": "#%% md\n"
    }
   }
  },
  {
   "cell_type": "code",
   "execution_count": null,
   "outputs": [],
   "source": [],
   "metadata": {
    "collapsed": false,
    "pycharm": {
     "name": "#%%\n"
    }
   }
  }
 ],
 "metadata": {
  "kernelspec": {
   "display_name": "Python 3",
   "language": "python",
   "name": "python3"
  },
  "language_info": {
   "codemirror_mode": {
    "name": "ipython",
    "version": 2
   },
   "file_extension": ".py",
   "mimetype": "text/x-python",
   "name": "python",
   "nbconvert_exporter": "python",
   "pygments_lexer": "ipython2",
   "version": "2.7.6"
  }
 },
 "nbformat": 4,
 "nbformat_minor": 0
}