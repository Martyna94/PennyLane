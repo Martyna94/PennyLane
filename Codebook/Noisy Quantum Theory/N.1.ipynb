{
 "cells": [
  {
   "cell_type": "markdown",
   "source": [
    "Learning outcomes\n",
    "\n",
    "* Define the concept of density operator and state its properties\n",
    "* Distinguish between pure and mixed states."
   ],
   "metadata": {
    "collapsed": false
   }
  },
  {
   "cell_type": "markdown",
   "source": [
    "If you're reading this, then you're probably already familiar with the representation of a quantum state as a vector in a Hilbert space $\\mathcal{H}$.  But it turns out this is not the most general scenario. When quantum states are prepared probabilistically, they are represented via a density operator $\\rho$ acting on $\\mathcal{H}$\n",
    "$$ \\rho = \\sum_{i=0}^{N}p_i\\Ket{i}\\Bra{i}$$\n",
    "Here, the state $\\Ket{i}$ is prepared with probability $p_i$. The states are normalized, but not necessarily linearly independent. The matrix form of $\\rho$ is known as the **density matrix**."
   ],
   "metadata": {
    "collapsed": false
   }
  },
  {
   "cell_type": "code",
   "execution_count": 3,
   "outputs": [],
   "source": [
    "import pennylane\n",
    "import numpy as np"
   ],
   "metadata": {
    "collapsed": false,
    "pycharm": {
     "name": "#%%\n"
    }
   }
  },
  {
   "cell_type": "markdown",
   "source": [
    "**Cordercise N.1.1**\n",
    "PennyLane can handle density matrices quite well, but for the sake of learning, let us build some density matrices by hand. Using np.outer or otherwise, complete the function below that returns the density matrix when the qubit `state_1` is prepared with probability `p_1`, and the qubit `state_2` with probability `p_2`. You may assume that the quantum states are normalized."
   ],
   "metadata": {
    "collapsed": false
   }
  },
  {
   "cell_type": "code",
   "execution_count": 2,
   "metadata": {
    "collapsed": true
   },
   "outputs": [
    {
     "name": "stdout",
     "output_type": "stream",
     "text": [
      "state_1 = |+y>, state_2 = |+x>, p_1 = 0.5, p_2 = 0.5\n",
      "density_matrix:\n",
      "[[0.5 +0.j   0.25-0.25j]\n",
      " [0.25+0.25j 0.5 +0.j  ]]\n"
     ]
    }
   ],
   "source": [
    "def build_density_matrix(state_1, state_2, p_1, p_2):\n",
    "    \"\"\"Build the density matrix for two randomly prepared states.\n",
    "\n",
    "    Args:\n",
    "        state_1 (array[complex]): A normalized quantum state vector\n",
    "        state_2 (array[complex]): A second normalized quantum state vector\n",
    "        p_1 (float): The probability of preparing state_1\n",
    "        p_2 (float): The probability of preparing state_2\n",
    "\n",
    "    Returns:\n",
    "        (np.array([array[complex]])): The density matrix for the preparation.\n",
    "    \"\"\"\n",
    "\n",
    "    projector_1 = np.outer(state_1,np.conjugate(state_1))# Compute the outer product of state_1 with itself\n",
    "    projector_2 = np.outer(state_2,np.conjugate(state_2))# Compute the outer product of state_2 with itself\n",
    "\n",
    "    density_matrix = p_1*projector_1 + p_2*projector_2# Build the density matrix\n",
    "\n",
    "    return density_matrix\n",
    "\n",
    "print(\"state_1 = |+y>, state_2 = |+x>, p_1 = 0.5, p_2 = 0.5\")\n",
    "print(\"density_matrix:\")\n",
    "print(build_density_matrix([1,1j]/np.sqrt(2), [1,1]/np.sqrt(2), 0.5, 0.5))\n"
   ]
  },
  {
   "cell_type": "markdown",
   "source": [
    "**Codercise N.1.2a**\n",
    " Complete the is_hermitian function below, which verifies whether a matrix is Hermitian. It should return True if the input matrix is Hermitian, and False otherwise."
   ],
   "metadata": {
    "collapsed": false
   }
  },
  {
   "cell_type": "code",
   "execution_count": 14,
   "outputs": [
    {
     "name": "stdout",
     "output_type": "stream",
     "text": [
      "Is matrix [[1,1j],[-1j,1]] Hermitian?\n",
      "True\n",
      "Is matrix [[1,2],[3,4]] Hermitian?\n",
      "False\n"
     ]
    }
   ],
   "source": [
    "def is_hermitian(matrix):\n",
    "    \"\"\"Check whether a matrix is hermitian.\n",
    "\n",
    "    Args:\n",
    "        matrix: (array(array[complex]))\n",
    "    Returns:\n",
    "        bool: True if the matrix is Hermitian, False otherwise\n",
    "    \"\"\"\n",
    "    #adjoint = np.transpose(np.conjugate(matrix))\n",
    "    return np.allclose(matrix.conj().T,matrix)# Return the boolean value\n",
    "\n",
    "matrix_1 = np.array([[1,1j],[-1j,1]])\n",
    "matrix_2 = np.array([[1,2],[3,4]])\n",
    "\n",
    "print(\"Is matrix [[1,1j],[-1j,1]] Hermitian?\")\n",
    "print(is_hermitian(matrix_1))\n",
    "print(\"Is matrix [[1,2],[3,4]] Hermitian?\")\n",
    "print(is_hermitian(matrix_2))\n"
   ],
   "metadata": {
    "collapsed": false,
    "pycharm": {
     "name": "#%%\n"
    }
   }
  },
  {
   "cell_type": "markdown",
   "source": [
    "**Codercise N.1.2b**\n",
    " Complete the has_trace_one function below, which verifies whether a matrix is has trace equal to $1$. It should return True if it does and False otherwise."
   ],
   "metadata": {
    "collapsed": false,
    "pycharm": {
     "name": "#%% md\n"
    }
   }
  },
  {
   "cell_type": "code",
   "execution_count": 8,
   "outputs": [
    {
     "name": "stdout",
     "output_type": "stream",
     "text": [
      "Does [[1/2,1j],[-1j,1/2]] have unit trace?\n",
      "True\n",
      "Does [[1,2],[3,4]] have unit trace?\n",
      "False\n"
     ]
    }
   ],
   "source": [
    "def has_trace_one(matrix):\n",
    "    \"\"\"Check whether a matrix has unit trace.\n",
    "\n",
    "    Args:\n",
    "        matrix: (array(array[complex]))\n",
    "    Returns:\n",
    "        bool: True if the trace of matrix is 1, False otherwise\n",
    "    \"\"\"\n",
    "\n",
    "    return np.allclose(1, np.trace(matrix))# Return the Boolean value\n",
    "\n",
    "matrix_1 = [[1/2,1j],[-1j,1/2]]\n",
    "matrix_2 = [[1,2],[3,4]]\n",
    "\n",
    "print(\"Does [[1/2,1j],[-1j,1/2]] have unit trace?\")\n",
    "print(has_trace_one(matrix_1))\n",
    "print(\"Does [[1,2],[3,4]] have unit trace?\")\n",
    "print(has_trace_one(matrix_2))\n",
    "\n"
   ],
   "metadata": {
    "collapsed": false,
    "pycharm": {
     "name": "#%%\n"
    }
   }
  },
  {
   "cell_type": "markdown",
   "source": [
    "**Codercise N.1.2c**\n",
    " Complete the is_semi_positive function below, which verifies whether a matrix is positive semidefinite. It should return True if it does and False otherwise. A way to verify this is to check whether all the eigenvalues of the matrix are non-negative. Using np.linalg.eigvals is probably the most straightforward way to tackle this!"
   ],
   "metadata": {
    "collapsed": false
   }
  },
  {
   "cell_type": "code",
   "execution_count": 13,
   "outputs": [
    {
     "name": "stdout",
     "output_type": "stream",
     "text": [
      "Is matrix [[3/4,1/4],[1/4,1/4]] positive semidefinite?\n",
      "True\n",
      "Is matrix [[0,1/4],[1/4,1/4]] positive semidefinite?\n",
      "False\n"
     ]
    }
   ],
   "source": [
    "def is_semi_positive(matrix):\n",
    "    \"\"\"Check whether a matrix is positive semidefinite.\n",
    "\n",
    "    Args:\n",
    "        matrix: (array(array[complex]))\n",
    "    Returns:\n",
    "        bool: True if the matrix is positive semidefinite, False otherwise\n",
    "    \"\"\"\n",
    "    eigenvalues = np.linalg.eigvals(matrix)\n",
    "#    for eigenvalue in eigenvalues:\n",
    "#    if eigenvalue < 0:\n",
    "#        return False\n",
    "#return True\n",
    "    return bool(np.all(eigenvalues >= 0))# Return the Boolean value\n",
    "\n",
    "\n",
    "matrix_1 = [[3/4,1/4],[1/4,1/4]]\n",
    "matrix_2 = [[0,1/4],[1/4,1/4]]\n",
    "\n",
    "print(\"Is matrix [[3/4,1/4],[1/4,1/4]] positive semidefinite?\")\n",
    "print(is_semi_positive(matrix_1))\n",
    "print(\"Is matrix [[0,1/4],[1/4,1/4]] positive semidefinite?\")\n",
    "print(is_semi_positive(matrix_2))\n"
   ],
   "metadata": {
    "collapsed": false,
    "pycharm": {
     "name": "#%%\n"
    }
   }
  },
  {
   "cell_type": "markdown",
   "source": [
    "**Codercise N.1.2d**\n",
    " Now let us put it all together. If a matrix statisfies the three properties above, then it must be a density matrix. Complete the function is_density_matrix below to determine whether a given matrix represents a density operator. The functions is_hermitian, has_trace_one, and is_semi_positive that you coded above are available for you to use."
   ],
   "metadata": {
    "collapsed": false
   }
  },
  {
   "cell_type": "code",
   "execution_count": 16,
   "outputs": [
    {
     "name": "stdout",
     "output_type": "stream",
     "text": [
      "Is [[3/4,0.25j],[-0.25j,1/4]] a density matrix?\n",
      "True\n",
      "Is matrix [[0,1/4],[1/4,1/4]] a density matrix?\n",
      "False\n"
     ]
    }
   ],
   "source": [
    "def is_density_matrix(matrix):\n",
    "    \"\"\"Check whether a matrix is a density matrix.\n",
    "\n",
    "    Args:\n",
    "        matrix: (array(array[complex]))\n",
    "    Returns:\n",
    "        bool: True if the matrix isa density matrix, False otherwise\n",
    "    \"\"\"\n",
    "    return all([is_hermitian(matrix),has_trace_one(matrix),is_semi_positive(matrix)])\n",
    "\n",
    "matrix_1 = np.array([[3/4,0.25j],[-0.25j,1/4]])\n",
    "matrix_2 = np.array([[0,1/4],[1/4,1/4]])\n",
    "\n",
    "print(\"Is [[3/4,0.25j],[-0.25j,1/4]] a density matrix?\")\n",
    "print(is_density_matrix(matrix_1))\n",
    "print(\"Is matrix [[0,1/4],[1/4,1/4]] a density matrix?\")\n",
    "print(is_density_matrix(matrix_2))\n"
   ],
   "metadata": {
    "collapsed": false,
    "pycharm": {
     "name": "#%%\n"
    }
   }
  },
  {
   "cell_type": "markdown",
   "source": [
    "## Pure state\n",
    "States that are not probabilistic mixtures are known as **pure states**. States that are not pure are called **mixed states**.\n",
    "\n",
    "Is there a way to determine whether a density operator  represents a pure or a mixed state? One method is to use the purity\n",
    "\n",
    "The state $\\rho$ is pure if\n",
    " $\\gamma(\\rho) = tr\\rho^2$ and only if  is equal to 1."
   ],
   "metadata": {
    "collapsed": false
   }
  },
  {
   "cell_type": "markdown",
   "source": [
    "**Cordercise N.1.3** Create a function purity that calculates the purity of a density operator."
   ],
   "metadata": {
    "collapsed": false
   }
  },
  {
   "cell_type": "code",
   "execution_count": 28,
   "outputs": [
    {
     "name": "stdout",
     "output_type": "stream",
     "text": [
      "The purity of [[1/2,1/2],[1/2,1/2]] is 1.0\n",
      "The purity of [[3/4,1/4],[1/4,1/4]] is 0.75\n"
     ]
    }
   ],
   "source": [
    "def purity(density_matrix):\n",
    "    \"\"\"Calculate the purity of a density operator.\n",
    "\n",
    "    Args:\n",
    "        density_matrix (array(array[complex])): A density matrix, assumed to satisfy all the defining properties\n",
    "    Returns:\n",
    "        (float): The purity of the density matrix\n",
    "    \"\"\"\n",
    "    squared_matrix = density_matrix @ density_matrix\n",
    "\n",
    "    return np.trace(squared_matrix)\n",
    "\n",
    "matrix_1 = np.array([[1/2,1/2],[1/2,1/2]])\n",
    "matrix_2 = np.array([[3/4,1/4],[1/4,1/4]])\n",
    "\n",
    "print(\"The purity of [[1/2,1/2],[1/2,1/2]] is {}\".format(purity(matrix_1)))\n",
    "print(\"The purity of [[3/4,1/4],[1/4,1/4]] is {}\".format(purity(matrix_2)))\n"
   ],
   "metadata": {
    "collapsed": false,
    "pycharm": {
     "name": "#%%\n"
    }
   }
  },
  {
   "cell_type": "code",
   "execution_count": null,
   "outputs": [],
   "source": [],
   "metadata": {
    "collapsed": false,
    "pycharm": {
     "name": "#%%\n"
    }
   }
  }
 ],
 "metadata": {
  "kernelspec": {
   "display_name": "Python 3",
   "language": "python",
   "name": "python3"
  },
  "language_info": {
   "codemirror_mode": {
    "name": "ipython",
    "version": 2
   },
   "file_extension": ".py",
   "mimetype": "text/x-python",
   "name": "python",
   "nbconvert_exporter": "python",
   "pygments_lexer": "ipython2",
   "version": "2.7.6"
  }
 },
 "nbformat": 4,
 "nbformat_minor": 0
}