{
 "cells": [
  {
   "cell_type": "markdown",
   "metadata": {
    "collapsed": true,
    "pycharm": {
     "name": "#%% md\n"
    }
   },
   "source": [
    "# I.1 All about qubits\n",
    "**Codercise I.1.1.**\n",
    "![State](https://miro.medium.com/max/1100/1*zOssvGb9QOjjTxQAGQ9E3g.png)\n",
    " ![Normalized](https://miro.medium.com/max/1100/1*SoEKP7FkWD_Id9oUhnlvSw.png)\n",
    " We can turn this into an equivalent, valid quantum state by *normalizing* it. Write a function that, given  and , normalizes this state."
   ]
  },
  {
   "cell_type": "code",
   "execution_count": 1,
   "outputs": [],
   "source": [
    "import numpy as np"
   ],
   "metadata": {
    "collapsed": false,
    "pycharm": {
     "name": "#%%\n"
    }
   }
  },
  {
   "cell_type": "code",
   "execution_count": 4,
   "outputs": [],
   "source": [
    "def normalize_state(alpha, beta):\n",
    "    \"\"\"Compute a normalized quantum state given arbitrary amplitudes.\n",
    "\n",
    "    Args:\n",
    "        alpha (complex): The amplitude associated with the |0> state.\n",
    "        beta (complex): The amplitude associated with the |1> state.\n",
    "\n",
    "    Returns:\n",
    "        array[complex]: A vector (numpy array) with 2 elements that represents\n",
    "        a normalized quantum state.\n",
    "    \"\"\"\n",
    "    inner_product = alpha * np.conjugate(alpha) + beta * np.conjugate(beta)\n",
    "    norm = np.sqrt(inner_product)\n",
    "\n",
    "    alpha2, beta2 = alpha/norm, beta/norm\n",
    "\n",
    "    # CREATE A VECTOR [a', b'] BASED ON alpha AND beta SUCH THAT |a'|^2 + |b'|^2 = 1\n",
    "\n",
    "    return np.array([alpha2,beta2])"
   ],
   "metadata": {
    "collapsed": false,
    "pycharm": {
     "name": "#%%\n"
    }
   }
  },
  {
   "cell_type": "markdown",
   "source": [
    "*Example:*\n",
    "Suppose we are given the inputs:\n",
    "\n",
    "``alpha = 2.0 +1.0j``\n",
    "``beta = -0.3 + 0.4j``\n",
    "\n",
    "The function should return the vector\n",
    "\n",
    "`` np.array([ 0.87287156+0.43643578j, -0.13093073+0.17457431j]) ``\n",
    "\n",
    "*Hint:*\n",
    "Paste image from notes."
   ],
   "metadata": {
    "collapsed": false
   }
  },
  {
   "cell_type": "code",
   "execution_count": 5,
   "outputs": [
    {
     "data": {
      "text/plain": "array([ 0.87287156+0.43643578j, -0.13093073+0.17457431j])"
     },
     "execution_count": 5,
     "metadata": {},
     "output_type": "execute_result"
    }
   ],
   "source": [
    "alpha = 2 + 1j\n",
    "beta = -0.3 + 0.4j\n",
    "normalize_state(alpha, beta)"
   ],
   "metadata": {
    "collapsed": false,
    "pycharm": {
     "name": "#%%\n"
    }
   }
  },
  {
   "cell_type": "markdown",
   "source": [
    "**Codercise I.1.2**\n",
    "Write a fucntion to zompute the inner product between two arbitrary states. Then, use it to verify that |0> and |1> form an orthonormal basis, i.e., the states are normalized and orthogonal."
   ],
   "metadata": {
    "collapsed": false
   }
  },
  {
   "cell_type": "code",
   "execution_count": 7,
   "outputs": [
    {
     "name": "stdout",
     "output_type": "stream",
     "text": [
      "<0|0> = 1\n",
      "<0|1> = 0\n",
      "<1|0> = 0\n",
      "<1|1> = 1\n"
     ]
    }
   ],
   "source": [
    "def inner_product(state_1, state_2):\n",
    "    \"\"\"Compute the inner product between two states.\n",
    "\n",
    "    Args:\n",
    "        state_1 (array[complex]): A normalized quantum state vector\n",
    "        state_2 (array[complex]): A second normalized quantum state vector\n",
    "\n",
    "    Returns:\n",
    "        complex: The value of the inner product <state_1 | state_2>.\n",
    "    \"\"\"\n",
    "    inner_product = np.conjugate(state_1) * state_2\n",
    "\n",
    "    # COMPUTE AND RETURN THE INNER PRODUCT\n",
    "    return inner_product[0] + inner_product[1]\n",
    "    pass\n",
    "\n",
    "\n",
    "# Test your results with this code\n",
    "ket_0 = np.array([1, 0])\n",
    "ket_1 = np.array([0, 1])\n",
    "\n",
    "print(f\"<0|0> = {inner_product(ket_0, ket_0)}\")\n",
    "print(f\"<0|1> = {inner_product(ket_0, ket_1)}\")\n",
    "print(f\"<1|0> = {inner_product(ket_1, ket_0)}\")\n",
    "print(f\"<1|1> = {inner_product(ket_1, ket_1)}\")"
   ],
   "metadata": {
    "collapsed": false,
    "pycharm": {
     "name": "#%%\n"
    }
   }
  },
  {
   "cell_type": "markdown",
   "source": [
    "*Example:*\n",
    "Suppose we are given the inputs:\n",
    "\n",
    "``state_1 = np.array([0.8, 0.6])``\n",
    "``state_2 = np.array([1 / np.sqrt(2), 1j / np.sqrt(2)])``\n",
    "\n",
    "The function should compute and return the value of the inner product\n",
    "\n",
    "``0.56568542-0.42426407j``"
   ],
   "metadata": {
    "collapsed": false
   }
  },
  {
   "cell_type": "code",
   "execution_count": 9,
   "outputs": [
    {
     "data": {
      "text/plain": "(0.565685424949238+0.42426406871192845j)"
     },
     "execution_count": 9,
     "metadata": {},
     "output_type": "execute_result"
    }
   ],
   "source": [
    "state_1 = np.array([0.8, 0.6])\n",
    "state_2 = np.array([1 / np.sqrt(2), 1j / np.sqrt(2)])\n",
    "inner_product(state_1,state_2)"
   ],
   "metadata": {
    "collapsed": false,
    "pycharm": {
     "name": "#%%\n"
    }
   }
  },
  {
   "cell_type": "markdown",
   "source": [
    "**Codercise I.1.3**\n",
    "The function below takes a quantum state vector as input. Complete the function to simulate the outcomes of an arbitrary number of quantum measurements, i.e., return a list of samples **0** or **1** based on the probabilities given by the input state."
   ],
   "metadata": {
    "collapsed": false,
    "pycharm": {
     "name": "#%% md\n"
    }
   }
  },
  {
   "cell_type": "code",
   "execution_count": 10,
   "outputs": [],
   "source": [
    "def measure_state(state, num_meas):\n",
    "    \"\"\"Simulate a quantum measurement process.\n",
    "\n",
    "    Args:\n",
    "        state (array[complex]): A normalized qubit state vector.\n",
    "        num_meas (int): The number of measurements to take\n",
    "\n",
    "    Returns:\n",
    "        array[int]: A set of num_meas samples, 0 or 1, chosen according to the probability\n",
    "        distribution defined by the input state.\n",
    "    \"\"\"\n",
    "\n",
    "    prob_0 = state[0] * np.conjugate(state[0])\n",
    "    prob_1 = state[1] * np.conjugate(state[1])\n",
    "    # COMPUTE THE MEASUREMENT OUTCOME PROBABILITIES\n",
    "    meas_outcome = np.random.choice(2, num_meas, p = [prob_0.real, prob_1.real])\n",
    "    # RETURN A LIST OF SAMPLE MEASUREMENT OUTCOMES\n",
    "    return meas_outcome\n",
    "    pass"
   ],
   "metadata": {
    "collapsed": false,
    "pycharm": {
     "name": "#%%\n"
    }
   }
  },
  {
   "cell_type": "markdown",
   "source": [
    "Example: Suppose we are given the inputs:\n",
    "``state_1 = np.array([0.8, 0.6])``\n",
    "IF we measure q qubit in this state, we'll observe |0> 64% of the time (|0.8|^2 = 0.64) and |1| 36% of the time. Therefore, an example set of 10 measurement outcomes might be:\n",
    "``[0, 1, 1, 1, 0, 1, 0, 0, 0, 0,]``"
   ],
   "metadata": {
    "collapsed": false
   }
  },
  {
   "cell_type": "code",
   "execution_count": 11,
   "outputs": [
    {
     "data": {
      "text/plain": "array([1, 1, 0, 0, 0, 0, 0, 0, 0, 0])"
     },
     "execution_count": 11,
     "metadata": {},
     "output_type": "execute_result"
    }
   ],
   "source": [
    "state_1 = np.array([0.8, 0.6])\n",
    "measure_state(state_1, 10)"
   ],
   "metadata": {
    "collapsed": false,
    "pycharm": {
     "name": "#%%\n"
    }
   }
  },
  {
   "cell_type": "code",
   "execution_count": null,
   "outputs": [],
   "source": [],
   "metadata": {
    "collapsed": false,
    "pycharm": {
     "name": "#%%\n"
    }
   }
  }
 ],
 "metadata": {
  "kernelspec": {
   "display_name": "Python 3",
   "language": "python",
   "name": "python3"
  },
  "language_info": {
   "codemirror_mode": {
    "name": "ipython",
    "version": 2
   },
   "file_extension": ".py",
   "mimetype": "text/x-python",
   "name": "python",
   "nbconvert_exporter": "python",
   "pygments_lexer": "ipython2",
   "version": "2.7.6"
  }
 },
 "nbformat": 4,
 "nbformat_minor": 0
}